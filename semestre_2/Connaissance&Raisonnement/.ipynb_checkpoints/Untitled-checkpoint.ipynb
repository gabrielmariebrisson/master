{
 "cells": [
  {
   "cell_type": "code",
   "execution_count": 4,
   "id": "fee0cc69",
   "metadata": {},
   "outputs": [],
   "source": [
    "from pycsp3 import *"
   ]
  },
  {
   "cell_type": "code",
   "execution_count": 5,
   "id": "e59ed48f",
   "metadata": {},
   "outputs": [],
   "source": [
    "s = Var( range(10))\n",
    "e = Var( range(10))\n",
    "n = Var( range(10))\n",
    "d = Var( range(10))\n",
    "m = Var( range(10))\n",
    "o = Var( range(10))\n",
    "r = Var( range(10))\n",
    "y = Var( range(10))\n",
    "\n",
    "# send\n",
    "# more\n",
    "# money"
   ]
  },
  {
   "cell_type": "code",
   "execution_count": 6,
   "id": "95f98b4a",
   "metadata": {},
   "outputs": [],
   "source": [
    "c1 = Var( range(10))\n",
    "c2 = Var( range(10))\n",
    "c3 = Var( range(10))\n",
    "c4 = Var( range(10))"
   ]
  },
  {
   "cell_type": "code",
   "execution_count": 7,
   "id": "c1dca309",
   "metadata": {},
   "outputs": [
    {
     "data": {
      "text/plain": [
       "allDifferent(list:[s, e, n, d, m, o, r, y])\n",
       "intension(function:eq(add(y,mul(c1,10)),add(d,e)))\n",
       "intension(function:eq(add(e,mul(c2,10)),add(c1,n,r)))\n",
       "intension(function:eq(add(n,mul(c3,10)),add(c2,e,o)))\n",
       "intension(function:eq(add(o,mul(c4,10)),add(c3,s,m)))\n",
       "intension(function:eq(c4,m))\n",
       "intension(function:gt(s,0))\n",
       "intension(function:gt(m,0))"
      ]
     },
     "execution_count": 7,
     "metadata": {},
     "output_type": "execute_result"
    }
   ],
   "source": [
    "satisfy (\n",
    "    AllDifferent([s,e,n,d,m,o,r,y]),\n",
    "    y + c1 * 10 == d + e,\n",
    "    e + c2 * 10 == c1 + n + r,\n",
    "    n + c3 * 10 == c2 + e + o,\n",
    "    o + c4 * 10 == c3 + s + m,\n",
    "    c4 ==m,\n",
    "    s>0,\n",
    "    m>0,\n",
    "\n",
    ")"
   ]
  },
  {
   "cell_type": "code",
   "execution_count": 9,
   "id": "13cb7f83",
   "metadata": {},
   "outputs": [
    {
     "name": "stdout",
     "output_type": "stream",
     "text": [
      "9 5 6 7 1 0 8 2\n"
     ]
    }
   ],
   "source": [
    "if solve() is SAT:\n",
    "    print(value(s), value(e), value(n), value(d), value(m), value(o), value(r), value(y))"
   ]
  },
  {
   "cell_type": "code",
   "execution_count": null,
   "id": "4fbce32d",
   "metadata": {},
   "outputs": [],
   "source": []
  }
 ],
 "metadata": {
  "kernelspec": {
   "display_name": "Python 3 (ipykernel)",
   "language": "python",
   "name": "python3"
  },
  "language_info": {
   "codemirror_mode": {
    "name": "ipython",
    "version": 3
   },
   "file_extension": ".py",
   "mimetype": "text/x-python",
   "name": "python",
   "nbconvert_exporter": "python",
   "pygments_lexer": "ipython3",
   "version": "3.11.0"
  }
 },
 "nbformat": 4,
 "nbformat_minor": 5
}
