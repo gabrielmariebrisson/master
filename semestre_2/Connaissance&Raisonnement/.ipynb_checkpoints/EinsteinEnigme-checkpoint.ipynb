{
 "cells": [
  {
   "cell_type": "code",
   "execution_count": 1,
   "id": "fee0cc69",
   "metadata": {},
   "outputs": [],
   "source": [
    "from pycsp3 import *"
   ]
  },
  {
   "cell_type": "code",
   "execution_count": 2,
   "id": "e59ed48f",
   "metadata": {},
   "outputs": [],
   "source": [
    "#couleurs\n",
    "maison_rouge = Var(range(10))\n",
    "maison_blanche = Var(range(10))\n",
    "maison_bleue = Var(range(10))\n",
    "maison_verte = Var(range(10))\n",
    "maison_jaune = Var(range(10))\n",
    "\n",
    "#nationalite\n",
    "Britannique = Var(range(10))\n",
    "Suédois = Var(range(10))\n",
    "Danois = Var(range(10))\n",
    "Norvégien = Var(range(10))\n",
    "Allemand = Var(range(10))\n",
    "\n",
    "#boisson\n",
    "thé = Var(range(10))\n",
    "café = Var(range(10))\n",
    "lait = Var(range(10))\n",
    "bière = Var(range(10))\n",
    "eau = Var(range(10))\n",
    "\n",
    "#cigare\n",
    "Pall_Mall = Var(range(10))\n",
    "Dunhill = Var(range(10))\n",
    "Blend = Var(range(10))\n",
    "Bluemaster = Var(range(10))\n",
    "Prince = Var(range(10))\n",
    "\n",
    "#animal\n",
    "chiens = Var(range(10))\n",
    "oiseaux = Var(range(10))\n",
    "chats = Var(range(10))\n",
    "cheval = Var(range(10))\n",
    "poisson = Var(range(10))\n"
   ]
  },
  {
   "cell_type": "code",
   "execution_count": null,
   "id": "4b3aaa52",
   "metadata": {},
   "outputs": [],
   "source": [
    "problem (\n",
    "    \"\"\"\n",
    "    TODO\n",
    "    \"\"\"\n",
    "    AllDifferent([s,e,n,d,m,o,r,y]),\n",
    "    y + c1 * 10 == d + e,\n",
    "    e + c2 * 10 == c1 + n + r,\n",
    "    n + c3 * 10 == c2 + e + o,\n",
    "    o + c4 * 10 == c3 + s + m,\n",
    "    c4 ==m,\n",
    "    s>0,\n",
    "    m>0,\n",
    "\n",
    ")"
   ]
  },
  {
   "cell_type": "code",
   "execution_count": 3,
   "id": "c1dca309",
   "metadata": {},
   "outputs": [
    {
     "ename": "NameError",
     "evalue": "name 'problem' is not defined",
     "output_type": "error",
     "traceback": [
      "\u001b[0;31m---------------------------------------------------------------------------\u001b[0m",
      "\u001b[0;31mNameError\u001b[0m                                 Traceback (most recent call last)",
      "Cell \u001b[0;32mIn[3], line 2\u001b[0m\n\u001b[1;32m      1\u001b[0m \u001b[38;5;66;03m# Résolution du CSP\u001b[39;00m\n\u001b[0;32m----> 2\u001b[0m \u001b[38;5;28;01mif\u001b[39;00m solve(problem):\n\u001b[1;32m      3\u001b[0m     \u001b[38;5;66;03m# Affichage de la solution\u001b[39;00m\n\u001b[1;32m      4\u001b[0m     \u001b[38;5;28mprint\u001b[39m(\u001b[38;5;124m\"\u001b[39m\u001b[38;5;124mSolution trouvée:\u001b[39m\u001b[38;5;124m\"\u001b[39m)\n\u001b[1;32m      5\u001b[0m     \u001b[38;5;28;01mfor\u001b[39;00m i \u001b[38;5;129;01min\u001b[39;00m \u001b[38;5;28mrange\u001b[39m(\u001b[38;5;241m5\u001b[39m):\n",
      "\u001b[0;31mNameError\u001b[0m: name 'problem' is not defined"
     ]
    }
   ],
   "source": [
    "\n",
    "# Résolution du CSP\n",
    "if solve(problem):\n",
    "    # Affichage de la solution\n",
    "    print(\"Solution trouvée:\")\n",
    "    for i in range(5):\n",
    "        print(f\"Maison {i + 1}: {nationalite[i]} habite dans la maison {couleur[i]} et a un {animal[i]}. \"\n",
    "              f\"Il boit {boisson[i]} et fume des {cigare[i]}.\")\n",
    "else:\n",
    "    print(\"Aucune solution trouvée.\")"
   ]
  },
  {
   "cell_type": "code",
   "execution_count": null,
   "id": "13cb7f83",
   "metadata": {},
   "outputs": [],
   "source": [
    "if solve() is SAT:\n",
    "    print(value(s), value(e), value(n), value(d), value(m), value(o), value(r), value(y))"
   ]
  },
  {
   "cell_type": "code",
   "execution_count": null,
   "id": "4fbce32d",
   "metadata": {},
   "outputs": [],
   "source": []
  },
  {
   "cell_type": "code",
   "execution_count": null,
   "id": "ed4062b9",
   "metadata": {},
   "outputs": [],
   "source": []
  }
 ],
 "metadata": {
  "kernelspec": {
   "display_name": "Python 3 (ipykernel)",
   "language": "python",
   "name": "python3"
  },
  "language_info": {
   "codemirror_mode": {
    "name": "ipython",
    "version": 3
   },
   "file_extension": ".py",
   "mimetype": "text/x-python",
   "name": "python",
   "nbconvert_exporter": "python",
   "pygments_lexer": "ipython3",
   "version": "3.11.0"
  }
 },
 "nbformat": 4,
 "nbformat_minor": 5
}
