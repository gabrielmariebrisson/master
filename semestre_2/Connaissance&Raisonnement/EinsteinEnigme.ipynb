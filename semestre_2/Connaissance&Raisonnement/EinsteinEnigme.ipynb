{
 "cells": [
  {
   "cell_type": "code",
   "execution_count": 9,
   "id": "fee0cc69",
   "metadata": {},
   "outputs": [],
   "source": [
    "from pycsp3 import *"
   ]
  },
  {
   "cell_type": "code",
   "execution_count": 11,
   "id": "e59ed48f",
   "metadata": {},
   "outputs": [
    {
     "name": "stdout",
     "output_type": "stream",
     "text": [
      "\n",
      "\t\u001b[91mERROR: \u001b[0m The identifier maison_rouge is used twice. This is not possible\n",
      "\t\t(add option -ev to your command if you want to see the trace of the error)\n",
      "\n"
     ]
    },
    {
     "ename": "SystemExit",
     "evalue": "1",
     "output_type": "error",
     "traceback": [
      "An exception has occurred, use %tb to see the full traceback.\n",
      "\u001b[0;31mSystemExit\u001b[0m\u001b[0;31m:\u001b[0m 1\n"
     ]
    }
   ],
   "source": [
    "#couleurs\n",
    "maison_rouge = Var(range(10))\n",
    "maison_blanche = Var(range(10))\n",
    "maison_bleue = Var(range(10))\n",
    "maison_verte = Var(range(10))\n",
    "maison_jaune = Var(range(10))\n",
    "\n",
    "#nationalite\n",
    "Britannique = Var(range(10))\n",
    "Suédois = Var(range(10))\n",
    "Danois = Var(range(10))\n",
    "Norvégien = Var(range(10))\n",
    "Allemand = Var(range(10))\n",
    "\n",
    "#boisson\n",
    "thé = Var(range(10))\n",
    "café = Var(range(10))\n",
    "lait = Var(range(10))\n",
    "bière = Var(range(10))\n",
    "eau = Var(range(10))\n",
    "\n",
    "#cigare\n",
    "Pall_Mall = Var(range(10))\n",
    "Dunhill = Var(range(10))\n",
    "Blend = Var(range(10))\n",
    "Bluemaster = Var(range(10))\n",
    "Prince = Var(range(10))\n",
    "\n",
    "#animal\n",
    "chiens = Var(range(10))\n",
    "oiseaux = Var(range(10))\n",
    "chats = Var(range(10))\n",
    "cheval = Var(range(10))\n",
    "poisson = Var(range(10))\n"
   ]
  },
  {
   "cell_type": "code",
   "execution_count": 7,
   "id": "c1dca309",
   "metadata": {},
   "outputs": [
    {
     "data": {
      "text/plain": [
       "allDifferent(list:[s, e, n, d, m, o, r, y])\n",
       "intension(function:eq(add(y,mul(c1,10)),add(d,e)))\n",
       "intension(function:eq(add(e,mul(c2,10)),add(c1,n,r)))\n",
       "intension(function:eq(add(n,mul(c3,10)),add(c2,e,o)))\n",
       "intension(function:eq(add(o,mul(c4,10)),add(c3,s,m)))\n",
       "intension(function:eq(c4,m))\n",
       "intension(function:gt(s,0))\n",
       "intension(function:gt(m,0))"
      ]
     },
     "execution_count": 7,
     "metadata": {},
     "output_type": "execute_result"
    }
   ],
   "source": [
    "\n",
    "# Résolution du CSP\n",
    "if solve(problem):\n",
    "    # Affichage de la solution\n",
    "    print(\"Solution trouvée:\")\n",
    "    for i in range(5):\n",
    "        print(f\"Maison {i + 1}: {nationalite[i]} habite dans la maison {couleur[i]} et a un {animal[i]}. \"\n",
    "              f\"Il boit {boisson[i]} et fume des {cigare[i]}.\")\n",
    "else:\n",
    "    print(\"Aucune solution trouvée.\")"
   ]
  },
  {
   "cell_type": "code",
   "execution_count": 9,
   "id": "13cb7f83",
   "metadata": {},
   "outputs": [
    {
     "name": "stdout",
     "output_type": "stream",
     "text": [
      "9 5 6 7 1 0 8 2\n"
     ]
    }
   ],
   "source": [
    "if solve() is SAT:\n",
    "    print(value(s), value(e), value(n), value(d), value(m), value(o), value(r), value(y))"
   ]
  },
  {
   "cell_type": "code",
   "execution_count": null,
   "id": "4fbce32d",
   "metadata": {},
   "outputs": [],
   "source": []
  }
 ],
 "metadata": {
  "kernelspec": {
   "display_name": "Python 3 (ipykernel)",
   "language": "python",
   "name": "python3"
  },
  "language_info": {
   "codemirror_mode": {
    "name": "ipython",
    "version": 3
   },
   "file_extension": ".py",
   "mimetype": "text/x-python",
   "name": "python",
   "nbconvert_exporter": "python",
   "pygments_lexer": "ipython3",
   "version": "3.11.0"
  }
 },
 "nbformat": 4,
 "nbformat_minor": 5
}
