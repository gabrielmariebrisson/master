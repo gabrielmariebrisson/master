{
 "cells": [
  {
   "cell_type": "code",
   "execution_count": 29,
   "id": "fee0cc69",
   "metadata": {},
   "outputs": [
    {
     "ename": "ModuleNotFoundError",
     "evalue": "No module named 'constraint'",
     "output_type": "error",
     "traceback": [
      "\u001b[0;31m---------------------------------------------------------------------------\u001b[0m",
      "\u001b[0;31mModuleNotFoundError\u001b[0m                       Traceback (most recent call last)",
      "Cell \u001b[0;32mIn[29], line 2\u001b[0m\n\u001b[1;32m      1\u001b[0m \u001b[38;5;28;01mfrom\u001b[39;00m \u001b[38;5;21;01mpycsp3\u001b[39;00m \u001b[38;5;28;01mimport\u001b[39;00m \u001b[38;5;241m*\u001b[39m\n\u001b[0;32m----> 2\u001b[0m \u001b[38;5;28;01mfrom\u001b[39;00m \u001b[38;5;21;01mconstraint\u001b[39;00m \u001b[38;5;28;01mimport\u001b[39;00m Problem\n",
      "\u001b[0;31mModuleNotFoundError\u001b[0m: No module named 'constraint'"
     ]
    }
   ],
   "source": [
    "from pycsp3 import *\n",
    "from constraint import Problem"
   ]
  },
  {
   "cell_type": "code",
   "execution_count": 21,
   "id": "e59ed48f",
   "metadata": {},
   "outputs": [
    {
     "name": "stdout",
     "output_type": "stream",
     "text": [
      "\n",
      "\t\u001b[91mERROR: \u001b[0m The identifier norwegian is used twice. This is not possible\n",
      "\t\t(add option -ev to your command if you want to see the trace of the error)\n",
      "\n"
     ]
    },
    {
     "ename": "SystemExit",
     "evalue": "1",
     "output_type": "error",
     "traceback": [
      "An exception has occurred, use %tb to see the full traceback.\n",
      "\u001b[0;31mSystemExit\u001b[0m\u001b[0;31m:\u001b[0m 1\n"
     ]
    }
   ],
   "source": [
    "norwegian = Var(range(5))\n",
    "english = Var(range(5))\n",
    "italian = Var(range(5))\n",
    "japanese = Var(range(5))\n",
    "spaniard = Var(range(5))\n",
    "\n",
    "dog = Var(range(5))\n",
    "fox = Var(range(5))\n",
    "horse = Var(range(5))\n",
    "snails = Var(range(5))\n",
    "zebra = Var(range(5))\n",
    "\n",
    "tea = Var(range(5))\n",
    "coffee = Var(range(5))\n",
    "milk = Var(range(5))\n",
    "orange_juice = Var(range(5))\n",
    "water = Var(range(5))\n",
    "\n",
    "green = Var(range(5))\n",
    "red = Var(range(5))\n",
    "yellow = Var(range(5))\n",
    "blue = Var(range(5))\n",
    "white = Var(range(5))\n",
    "\n",
    "photographer = Var(range(5))\n",
    "painter = Var(range(5))\n",
    "physician = Var(range(5))\n",
    "diplomat = Var(range(5))\n",
    "violinist = Var(range(5))"
   ]
  },
  {
   "cell_type": "code",
   "execution_count": 22,
   "id": "f5a1243f",
   "metadata": {},
   "outputs": [
    {
     "data": {
      "text/plain": [
       "allDifferent(list:[Britannique, spaniard, italian, japanese, norwegian])\n",
       "allDifferent(list:[green, red, yellow, blue, white])\n",
       "allDifferent(list:[photographer, painter, physician, diplomat, violinist])\n",
       "allDifferent(list:[horse, dog, fox, snails, zebra])\n",
       "allDifferent(list:[tea, coffee, milk, orange_juice, water])\n",
       "intension(function:eq(Britannique,red))\n",
       "intension(function:eq(spaniard,dog))\n",
       "intension(function:eq(japanese,painter))\n",
       "intension(function:eq(italian,tea))\n",
       "intension(function:eq(Norvégien,1))\n",
       "intension(function:eq(green,add(white,1)))\n",
       "intension(function:eq(photographer,snails))\n",
       "intension(function:eq(diplomat,yellow))\n",
       "intension(function:eq(milk,2))\n",
       "intension(function:eq(green,coffee))\n",
       "intension(function:eq(dist(norwegian,blue),1))\n",
       "intension(function:eq(violinist,orange_juice))\n",
       "intension(function:eq(dist(fox,physician),1))\n",
       "intension(function:eq(dist(horse,diplomat),1))"
      ]
     },
     "execution_count": 22,
     "metadata": {},
     "output_type": "execute_result"
    }
   ],
   "source": [
    "satisfy(\n",
    "    AllDifferent(Britannique, spaniard, italian, japanese, norwegian),\n",
    "    AllDifferent(green, red, yellow, blue, white),\n",
    "    AllDifferent(photographer, painter, physician, diplomat, violinist),\n",
    "    AllDifferent(horse, dog, fox, snails, zebra),\n",
    "    AllDifferent(tea, coffee, milk, orange_juice, water),\n",
    "    Britannique == red,\n",
    "    spaniard == dog,\n",
    "    japanese == painter,\n",
    "    italian == tea,\n",
    "    Norvégien == 1,\n",
    "    green == white + 1,\n",
    "    photographer == snails,\n",
    "    diplomat == yellow,\n",
    "    milk == 2,\n",
    "    green == coffee,\n",
    "    abs(norwegian - blue) == 1,\n",
    "    violinist == orange_juice,\n",
    "    abs(fox - physician) == 1,\n",
    "    abs(horse - diplomat) == 1,\n",
    ")\n"
   ]
  },
  {
   "cell_type": "code",
   "execution_count": 28,
   "id": "c1dca309",
   "metadata": {},
   "outputs": [
    {
     "ename": "TypeError",
     "evalue": "cannot unpack non-iterable NoneType object",
     "output_type": "error",
     "traceback": [
      "\u001b[0;31m---------------------------------------------------------------------------\u001b[0m",
      "\u001b[0;31mTypeError\u001b[0m                                 Traceback (most recent call last)",
      "Cell \u001b[0;32mIn[28], line 1\u001b[0m\n\u001b[0;32m----> 1\u001b[0m \u001b[38;5;28;01mif\u001b[39;00m solve() \u001b[38;5;129;01mis\u001b[39;00m SAT:\n\u001b[1;32m      2\u001b[0m     \u001b[38;5;28mprint\u001b[39m(values(x))\n",
      "File \u001b[0;32m~/anaconda3/lib/python3.11/site-packages/pycsp3/__init__.py:198\u001b[0m, in \u001b[0;36msolve\u001b[0;34m(solver, options, filename, verbose, sols, extraction)\u001b[0m\n\u001b[1;32m    185\u001b[0m \u001b[38;5;250m\u001b[39m\u001b[38;5;124;03m\"\"\"\u001b[39;00m\n\u001b[1;32m    186\u001b[0m \u001b[38;5;124;03mSolves the current model (after compiling it) and returns the status of this operation.\u001b[39;00m\n\u001b[1;32m    187\u001b[0m \n\u001b[0;32m   (...)\u001b[0m\n\u001b[1;32m    195\u001b[0m \u001b[38;5;124;03m:return: the status of the solving operation\u001b[39;00m\n\u001b[1;32m    196\u001b[0m \u001b[38;5;124;03m\"\"\"\u001b[39;00m\n\u001b[1;32m    197\u001b[0m \u001b[38;5;28;01mglobal\u001b[39;00m _solver\n\u001b[0;32m--> 198\u001b[0m instance \u001b[38;5;241m=\u001b[39m \u001b[38;5;28mcompile\u001b[39m(filename, verbose\u001b[38;5;241m=\u001b[39mverbose)\n\u001b[1;32m    199\u001b[0m \u001b[38;5;28;01mif\u001b[39;00m instance \u001b[38;5;129;01mis\u001b[39;00m \u001b[38;5;28;01mNone\u001b[39;00m:\n\u001b[1;32m    200\u001b[0m     \u001b[38;5;28mprint\u001b[39m(\u001b[38;5;124m\"\u001b[39m\u001b[38;5;124mProblem when compiling\u001b[39m\u001b[38;5;124m\"\u001b[39m)\n",
      "File \u001b[0;32m~/anaconda3/lib/python3.11/site-packages/pycsp3/__init__.py:137\u001b[0m, in \u001b[0;36mcompile\u001b[0;34m(filename, verbose)\u001b[0m\n\u001b[1;32m    129\u001b[0m \u001b[38;5;250m\u001b[39m\u001b[38;5;124;03m\"\"\"\u001b[39;00m\n\u001b[1;32m    130\u001b[0m \u001b[38;5;124;03mCompiles the current model\u001b[39;00m\n\u001b[1;32m    131\u001b[0m \n\u001b[0;32m   (...)\u001b[0m\n\u001b[1;32m    134\u001b[0m \u001b[38;5;124;03m:return: a pair composed of a string (filename) and a Boolean (True if a COP, False otherwise)\u001b[39;00m\n\u001b[1;32m    135\u001b[0m \u001b[38;5;124;03m\"\"\"\u001b[39;00m\n\u001b[1;32m    136\u001b[0m \u001b[38;5;28;01mfrom\u001b[39;00m \u001b[38;5;21;01mpycsp3\u001b[39;00m\u001b[38;5;21;01m.\u001b[39;00m\u001b[38;5;21;01mcompiler\u001b[39;00m \u001b[38;5;28;01mimport\u001b[39;00m Compilation\n\u001b[0;32m--> 137\u001b[0m filename, cop \u001b[38;5;241m=\u001b[39m Compilation\u001b[38;5;241m.\u001b[39mcompile(filename, verbose\u001b[38;5;241m=\u001b[39mverbose)\n\u001b[1;32m    138\u001b[0m \u001b[38;5;28;01mreturn\u001b[39;00m filename, cop\n",
      "\u001b[0;31mTypeError\u001b[0m: cannot unpack non-iterable NoneType object"
     ]
    }
   ],
   "source": [
    "\n",
    "if solve() is SAT:\n",
    "    print(values(x))"
   ]
  },
  {
   "cell_type": "code",
   "execution_count": 24,
   "id": "13cb7f83",
   "metadata": {},
   "outputs": [
    {
     "ename": "TypeError",
     "evalue": "cannot unpack non-iterable NoneType object",
     "output_type": "error",
     "traceback": [
      "\u001b[0;31m---------------------------------------------------------------------------\u001b[0m",
      "\u001b[0;31mTypeError\u001b[0m                                 Traceback (most recent call last)",
      "Cell \u001b[0;32mIn[24], line 1\u001b[0m\n\u001b[0;32m----> 1\u001b[0m \u001b[38;5;28;01mif\u001b[39;00m solve() \u001b[38;5;129;01mis\u001b[39;00m SAT:\n\u001b[1;32m      2\u001b[0m     \u001b[38;5;28mprint\u001b[39m(value(s), value(e), value(n), value(d), value(m), value(o), value(r), value(y))\n",
      "File \u001b[0;32m~/anaconda3/lib/python3.11/site-packages/pycsp3/__init__.py:198\u001b[0m, in \u001b[0;36msolve\u001b[0;34m(solver, options, filename, verbose, sols, extraction)\u001b[0m\n\u001b[1;32m    185\u001b[0m \u001b[38;5;250m\u001b[39m\u001b[38;5;124;03m\"\"\"\u001b[39;00m\n\u001b[1;32m    186\u001b[0m \u001b[38;5;124;03mSolves the current model (after compiling it) and returns the status of this operation.\u001b[39;00m\n\u001b[1;32m    187\u001b[0m \n\u001b[0;32m   (...)\u001b[0m\n\u001b[1;32m    195\u001b[0m \u001b[38;5;124;03m:return: the status of the solving operation\u001b[39;00m\n\u001b[1;32m    196\u001b[0m \u001b[38;5;124;03m\"\"\"\u001b[39;00m\n\u001b[1;32m    197\u001b[0m \u001b[38;5;28;01mglobal\u001b[39;00m _solver\n\u001b[0;32m--> 198\u001b[0m instance \u001b[38;5;241m=\u001b[39m \u001b[38;5;28mcompile\u001b[39m(filename, verbose\u001b[38;5;241m=\u001b[39mverbose)\n\u001b[1;32m    199\u001b[0m \u001b[38;5;28;01mif\u001b[39;00m instance \u001b[38;5;129;01mis\u001b[39;00m \u001b[38;5;28;01mNone\u001b[39;00m:\n\u001b[1;32m    200\u001b[0m     \u001b[38;5;28mprint\u001b[39m(\u001b[38;5;124m\"\u001b[39m\u001b[38;5;124mProblem when compiling\u001b[39m\u001b[38;5;124m\"\u001b[39m)\n",
      "File \u001b[0;32m~/anaconda3/lib/python3.11/site-packages/pycsp3/__init__.py:137\u001b[0m, in \u001b[0;36mcompile\u001b[0;34m(filename, verbose)\u001b[0m\n\u001b[1;32m    129\u001b[0m \u001b[38;5;250m\u001b[39m\u001b[38;5;124;03m\"\"\"\u001b[39;00m\n\u001b[1;32m    130\u001b[0m \u001b[38;5;124;03mCompiles the current model\u001b[39;00m\n\u001b[1;32m    131\u001b[0m \n\u001b[0;32m   (...)\u001b[0m\n\u001b[1;32m    134\u001b[0m \u001b[38;5;124;03m:return: a pair composed of a string (filename) and a Boolean (True if a COP, False otherwise)\u001b[39;00m\n\u001b[1;32m    135\u001b[0m \u001b[38;5;124;03m\"\"\"\u001b[39;00m\n\u001b[1;32m    136\u001b[0m \u001b[38;5;28;01mfrom\u001b[39;00m \u001b[38;5;21;01mpycsp3\u001b[39;00m\u001b[38;5;21;01m.\u001b[39;00m\u001b[38;5;21;01mcompiler\u001b[39;00m \u001b[38;5;28;01mimport\u001b[39;00m Compilation\n\u001b[0;32m--> 137\u001b[0m filename, cop \u001b[38;5;241m=\u001b[39m Compilation\u001b[38;5;241m.\u001b[39mcompile(filename, verbose\u001b[38;5;241m=\u001b[39mverbose)\n\u001b[1;32m    138\u001b[0m \u001b[38;5;28;01mreturn\u001b[39;00m filename, cop\n",
      "\u001b[0;31mTypeError\u001b[0m: cannot unpack non-iterable NoneType object"
     ]
    }
   ],
   "source": [
    "# Résolution du CSP\n",
    "if solve(problem):\n",
    "    # Affichage de la solution\n",
    "    print(\"Solution trouvée:\")\n",
    "    for i in range(5):\n",
    "        print(f\"Maison {i + 1}: {nationalite[i]} habite dans la maison {couleur[i]} et a un {animal[i]}. \"\n",
    "              f\"Il boit {boisson[i]} et fume des {cigare[i]}.\")\n",
    "else:\n",
    "    print(\"Aucune solution trouvée.\")"
   ]
  },
  {
   "cell_type": "code",
   "execution_count": null,
   "id": "4fbce32d",
   "metadata": {},
   "outputs": [],
   "source": []
  },
  {
   "cell_type": "code",
   "execution_count": null,
   "id": "95d2b8cf",
   "metadata": {},
   "outputs": [],
   "source": []
  }
 ],
 "metadata": {
  "kernelspec": {
   "display_name": "Python 3 (ipykernel)",
   "language": "python",
   "name": "python3"
  },
  "language_info": {
   "codemirror_mode": {
    "name": "ipython",
    "version": 3
   },
   "file_extension": ".py",
   "mimetype": "text/x-python",
   "name": "python",
   "nbconvert_exporter": "python",
   "pygments_lexer": "ipython3",
   "version": "3.11.0"
  }
 },
 "nbformat": 4,
 "nbformat_minor": 5
}
