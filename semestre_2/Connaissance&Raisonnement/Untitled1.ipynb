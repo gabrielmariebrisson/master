{
 "cells": [
  {
   "cell_type": "code",
   "execution_count": 4,
   "id": "16a0e8c9",
   "metadata": {},
   "outputs": [],
   "source": [
    "from pycsp3 import *"
   ]
  },
  {
   "cell_type": "code",
   "execution_count": 6,
   "id": "41462401",
   "metadata": {},
   "outputs": [],
   "source": [
    "a = VarArray(size=[3,3], dom= range(10))"
   ]
  },
  {
   "cell_type": "code",
   "execution_count": 8,
   "id": "61575456",
   "metadata": {},
   "outputs": [
    {
     "data": {
      "text/plain": [
       "allDifferent(list:[a[0][0], a[0][1], a[0][2], a[1][0], a[1][1], a[1][2], a[2][0], a[2][1], a[2][2]])\n",
       "sum(list:[a[0][0], a[0][1], a[0][2]], condition:(eq,3))"
      ]
     },
     "execution_count": 8,
     "metadata": {},
     "output_type": "execute_result"
    }
   ],
   "source": [
    "satisfy( \n",
    "    AllDifferent(a),\n",
    "    Sum(a[0][i]for  i in range(3))==3\n",
    ")"
   ]
  },
  {
   "cell_type": "code",
   "execution_count": 11,
   "id": "0af1a5b7",
   "metadata": {},
   "outputs": [],
   "source": [
    "board = VarArray(size=[5,5], dom=range(1, 5+1))"
   ]
  },
  {
   "cell_type": "code",
   "execution_count": 13,
   "id": "6858b355",
   "metadata": {},
   "outputs": [
    {
     "ename": "NameError",
     "evalue": "name 'problem' is not defined",
     "output_type": "error",
     "traceback": [
      "\u001b[0;31m---------------------------------------------------------------------------\u001b[0m",
      "\u001b[0;31mNameError\u001b[0m                                 Traceback (most recent call last)",
      "Cell \u001b[0;32mIn[13], line 4\u001b[0m\n\u001b[1;32m      1\u001b[0m inequalities \u001b[38;5;241m=\u001b[39m [(\u001b[38;5;241m0\u001b[39m, \u001b[38;5;241m0\u001b[39m, \u001b[38;5;241m0\u001b[39m, \u001b[38;5;241m1\u001b[39m), (\u001b[38;5;241m1\u001b[39m, \u001b[38;5;241m2\u001b[39m, \u001b[38;5;241m1\u001b[39m, \u001b[38;5;241m1\u001b[39m), (\u001b[38;5;241m2\u001b[39m, \u001b[38;5;241m0\u001b[39m, \u001b[38;5;241m1\u001b[39m, \u001b[38;5;241m0\u001b[39m), (\u001b[38;5;241m3\u001b[39m, \u001b[38;5;241m1\u001b[39m, \u001b[38;5;241m3\u001b[39m, \u001b[38;5;241m2\u001b[39m), (\u001b[38;5;241m4\u001b[39m, \u001b[38;5;241m2\u001b[39m, \u001b[38;5;241m4\u001b[39m, \u001b[38;5;241m3\u001b[39m)]\n\u001b[1;32m      3\u001b[0m \u001b[38;5;28;01mfor\u001b[39;00m i \u001b[38;5;129;01min\u001b[39;00m \u001b[38;5;28mrange\u001b[39m(\u001b[38;5;241m5\u001b[39m):\n\u001b[0;32m----> 4\u001b[0m     problem\u001b[38;5;241m.\u001b[39madd(AllDifferent(board[i, :]))\n\u001b[1;32m      5\u001b[0m     problem\u001b[38;5;241m.\u001b[39madd(AllDifferent(board[:, i]))\n\u001b[1;32m      7\u001b[0m \u001b[38;5;28;01mfor\u001b[39;00m (x1, y1, x2, y2) \u001b[38;5;129;01min\u001b[39;00m inequalities:\n",
      "\u001b[0;31mNameError\u001b[0m: name 'problem' is not defined"
     ]
    }
   ],
   "source": [
    "inequalities = [(0, 0, 0, 1), (1, 2, 1, 1), (2, 0, 1, 0), (3, 1, 3, 2), (4, 2, 4, 3)]\n",
    "\n",
    "for i in range(5):\n",
    "    problem.add(AllDifferent(board[i, :]))\n",
    "    problem.add(AllDifferent(board[:, i]))\n",
    "\n",
    "for (x1, y1, x2, y2) in inequalities:\n",
    "    problem.add(board[x1, y1] < board[x2, y2])"
   ]
  },
  {
   "cell_type": "code",
   "execution_count": null,
   "id": "2413f95f",
   "metadata": {},
   "outputs": [],
   "source": [
    "solution = problem.solve()"
   ]
  }
 ],
 "metadata": {
  "kernelspec": {
   "display_name": "Python 3 (ipykernel)",
   "language": "python",
   "name": "python3"
  },
  "language_info": {
   "codemirror_mode": {
    "name": "ipython",
    "version": 3
   },
   "file_extension": ".py",
   "mimetype": "text/x-python",
   "name": "python",
   "nbconvert_exporter": "python",
   "pygments_lexer": "ipython3",
   "version": "3.11.0"
  }
 },
 "nbformat": 4,
 "nbformat_minor": 5
}
