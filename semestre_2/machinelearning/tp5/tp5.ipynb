{
 "cells": [
  {
   "cell_type": "markdown",
   "id": "a1bcef46",
   "metadata": {},
   "source": [
    "# 4TIN811U Machine Learning & Deep Learning\n",
    "# TP 5 - Exercices sur les premières semaines"
   ]
  },
  {
   "cell_type": "markdown",
   "id": "406d7498-400d-4366-8b00-9bd5c3e08990",
   "metadata": {},
   "source": [
    "## Manipulations de tableaux avec Numpy"
   ]
  },
  {
   "cell_type": "code",
   "execution_count": 1,
   "id": "2d0e0b3a-2529-45a8-8b7c-f285cbc591c4",
   "metadata": {},
   "outputs": [],
   "source": [
    "# %matplotlib widget\n",
    "import numpy as np"
   ]
  },
  {
   "cell_type": "markdown",
   "id": "03be04d7-a272-4a9e-873b-689eac1aacda",
   "metadata": {},
   "source": [
    "### Normes\n",
    "On définit les deux fonctions suivantes, destinées à prendre en entrée des vecteurs `x` et `y`."
   ]
  },
  {
   "cell_type": "code",
   "execution_count": 2,
   "id": "85f70cef-c802-451f-9159-e668db329bb9",
   "metadata": {},
   "outputs": [],
   "source": [
    "def f1(x, y):\n",
    "    return np.square(np.abs(np.subtract(x, y)))\n",
    "\n",
    "def f2(x, y):\n",
    "    return np.square(np.linalg.norm(np.subtract(x, y)))"
   ]
  },
  {
   "cell_type": "code",
   "execution_count": 3,
   "id": "94c020f9-1b90-40c4-94a1-67407e5dbd48",
   "metadata": {},
   "outputs": [
    {
     "name": "stdout",
     "output_type": "stream",
     "text": [
      "resultat de f1 : [9 9 9]\n",
      "resultat de f2 : 27.0\n"
     ]
    }
   ],
   "source": [
    "# Vos tests ici\n",
    "x = np.array([1,2,3])\n",
    "y = np.array([4,5,6])\n",
    "\n",
    "print (\"resultat de f1 :\", f1(x, y))\n",
    "print (\"resultat de f2 :\", f2(x, y))"
   ]
  },
  {
   "cell_type": "markdown",
   "id": "f7f2fb6c-a624-40dd-aaec-e937048d04be",
   "metadata": {},
   "source": [
    "### Question 1\n",
    "- Que calculent ces deux fonctions ? Expliquez la différence entre les deux.\n",
    "- Si `x` et `y` sont des vecteurs à $n$ éléments, quelle est la taille des vecteurs retournés ? Pourquoi ?\n",
    "- Qu'observez-vous quand `x` et `y` ont taille $1$ ?\n",
    "- Dans la fonction de poids $w^{(i)}$ de la régression locale, laquelle est à utiliser ?\n",
    "\n",
    "*Réponses :* \n",
    "\n",
    "f1 calcule le carré de la difference absolue de x, y.\n",
    "f2 calcule la norme du vecteur x - y.\n",
    "\n",
    "f1 aura une taille de n elemnts. \n",
    "f2 aura une taille de 1 elements.\n",
    "\n",
    "Si x et y possede un seul element, alors la norme sera faite sur un element ce qui sera equivalent a f1.\n",
    "\n",
    "Celle qui sera utiliser pourra etre f2 pour calculer la loss\n",
    "pour la formule wi on utilise f2 \n"
   ]
  },
  {
   "cell_type": "markdown",
   "id": "a61fcdbd-e413-4713-ba8e-1c7287a220a1",
   "metadata": {},
   "source": [
    "### Question 2\n",
    "Supposons maintenant que, pour un vecteur $x$, vous vouliez calculer $||x||^2$, où $||\\cdot||$ est la norme euclidienne. Comment le faire de façon efficace (avec ou sans `numpy`) ? Expliquez pourquoi `np.linalg.norm(x) ** 2` effectue des calculs inutiles.\n",
    "\n",
    "*Réponse :* \n",
    "Par ce qu'il calcule d'abord la norme est le met apres aux carré or, il aurait pu le mettre directement au carré car il y a qu'une dimension\n"
   ]
  },
  {
   "cell_type": "markdown",
   "id": "d12476a1-8c94-48d6-a72b-2b976347fcab",
   "metadata": {},
   "source": [
    "### Matrices\n",
    "On définit les trois fonctions suivantes, destinées à prendre en entrée une matrice `X` à deux dimensions."
   ]
  },
  {
   "cell_type": "code",
   "execution_count": 4,
   "id": "8bde3a0d-5e10-4b31-bbf8-e5e02b295c15",
   "metadata": {},
   "outputs": [],
   "source": [
    "def g1(X):\n",
    "    return np.linalg.inv(X)\n",
    "\n",
    "def g2(X):\n",
    "    return 1 / X\n",
    "\n",
    "def g3(X):\n",
    "    return np.power(X, -1)"
   ]
  },
  {
   "cell_type": "code",
   "execution_count": 5,
   "id": "74808567-9bb5-4612-8ea8-df4b161c3a90",
   "metadata": {},
   "outputs": [
    {
     "name": "stdout",
     "output_type": "stream",
     "text": [
      "[[5.  7.1 2.4]\n",
      " [4.4 6.4 8.4]\n",
      " [2.7 1.3 3.6]]\n",
      "resultat de g1 : [[ 0.14885777 -0.27560796  0.54384672]\n",
      " [ 0.08400884  0.14148858 -0.38614591]\n",
      " [-0.14197986  0.15561287  0.00933432]]\n",
      "resultat de g2 : [[0.2        0.14084507 0.41666667]\n",
      " [0.22727273 0.15625    0.11904762]\n",
      " [0.37037037 0.76923077 0.27777778]]\n",
      "resultat de g3 : [[0.2        0.14084507 0.41666667]\n",
      " [0.22727273 0.15625    0.11904762]\n",
      " [0.37037037 0.76923077 0.27777778]]\n"
     ]
    }
   ],
   "source": [
    "# Vos tests ici\n",
    "x = np.array([[5.0, 7.1, 2.4], [4.4, 6.4, 8.4], [2.7, 1.3, 3.6]])\n",
    "print (x)\n",
    "\n",
    "print(\"resultat de g1 :\", g1(x))\n",
    "print(\"resultat de g2 :\", g2(x))\n",
    "print(\"resultat de g3 :\", g3(x))"
   ]
  },
  {
   "cell_type": "markdown",
   "id": "576e7261-7114-419a-8674-d1e487559c95",
   "metadata": {},
   "source": [
    "### Question 3\n",
    "- Que calculent ces trois fonctions ? Expliquez leurs différences.\n",
    "- Dans la formule exacte pour la régression linéaire (qui s'écrit mathématiquement $(X^TX)^{-1}X^TY$), laquelle de ces formules allez-vous utiliser ? Pourquoi ?\n",
    "\n",
    "*Réponses :* \n",
    "\n",
    "g1 calcule la matrice inverse\n",
    "\n",
    "g2 et g3 divise mettent a la puisse -1 chaque element \n",
    "\n",
    "on utilise g1(X) car on veut calculer la matrice inverse, pour résoudre le systeme"
   ]
  },
  {
   "cell_type": "markdown",
   "id": "4d6a3e20-8054-4791-abb3-2f6c9363509e",
   "metadata": {},
   "source": [
    "On définit les trois fonctions suivantes, destinées à prendre en entrée des vecteurs `x` et `y`."
   ]
  },
  {
   "cell_type": "code",
   "execution_count": 6,
   "id": "3592f4f2-9de3-4405-8ca3-53afc9203049",
   "metadata": {},
   "outputs": [],
   "source": [
    "def h1(x, y):\n",
    "    return x.T @ y\n",
    "\n",
    "def h2(x, y):\n",
    "    x = x[:,None]\n",
    "    y = y[:,None]\n",
    "    return x.T @ y\n",
    "\n",
    "def h3(x, y):\n",
    "    x = x[:,None]\n",
    "    y = y[:,None]\n",
    "    return x @ y.T"
   ]
  },
  {
   "cell_type": "code",
   "execution_count": 7,
   "id": "3ca577ab-aa4f-4e9b-8d59-3128f165df2c",
   "metadata": {},
   "outputs": [
    {
     "name": "stdout",
     "output_type": "stream",
     "text": [
      "resultat de g1 : 32\n",
      "resultat de g2 : [[32]]\n",
      "resultat de g3 : [[ 4  5  6]\n",
      " [ 8 10 12]\n",
      " [12 15 18]]\n"
     ]
    }
   ],
   "source": [
    "# Vos tests ici\n",
    "x = np.array([1, 2, 3])\n",
    "y = np.array([4, 5, 6])\n",
    "\n",
    "print(\"resultat de g1 :\", h1(x, y))\n",
    "print(\"resultat de g2 :\", h2(x, y))\n",
    "print(\"resultat de g3 :\", h3(x, y))"
   ]
  },
  {
   "cell_type": "markdown",
   "id": "46a025d1-f692-4ddd-97c4-bca5ae32f4eb",
   "metadata": {},
   "source": [
    "### Question 4\n",
    "Que calculent ces trois fonctions ? Expliquez pourquoi elles donnent un résultat différent.\n",
    "\n",
    "*Réponses :* \n",
    "\n",
    "h1 calcule le produit de 2 matrice\n",
    "[:,None] permet de rajouter une dimension.\n",
    "Ainsi h2 fait le meme calcule que h1\n",
    "h3 fait donc la meme chose mais pour obtenir une matrice (3,3) au lieu de (1,1)"
   ]
  },
  {
   "cell_type": "markdown",
   "id": "d4db9fc0-8c0c-4601-82a4-257f59c8bc8b",
   "metadata": {},
   "source": [
    "### Question 5\n",
    "Dessinez un graphique en deux dimensions des points $x = (x_1, x_2)$ qui satisfont l'équation $\\theta^Tx = 3$, où $\\theta = (2, 3)$.\n",
    "À quel objet cette équation correspond ? Donnez une équation décrivant cet objet sous une forme plus standard.\n",
    "\n",
    "*Réponse :* "
   ]
  },
  {
   "cell_type": "code",
   "execution_count": 8,
   "id": "2078f454-8778-4f26-b3cb-8e2c0546163f",
   "metadata": {},
   "outputs": [
    {
     "ename": "NameError",
     "evalue": "name 'plt' is not defined",
     "output_type": "error",
     "traceback": [
      "\u001b[0;31m---------------------------------------------------------------------------\u001b[0m",
      "\u001b[0;31mNameError\u001b[0m                                 Traceback (most recent call last)",
      "Cell \u001b[0;32mIn[8], line 7\u001b[0m\n\u001b[1;32m      4\u001b[0m x1_values \u001b[38;5;241m=\u001b[39m np\u001b[38;5;241m.\u001b[39mlinspace(\u001b[38;5;241m-\u001b[39m\u001b[38;5;241m10\u001b[39m, \u001b[38;5;241m10\u001b[39m, \u001b[38;5;241m100\u001b[39m)\n\u001b[1;32m      6\u001b[0m x2_values \u001b[38;5;241m=\u001b[39m (result \u001b[38;5;241m-\u001b[39m theta[\u001b[38;5;241m0\u001b[39m] \u001b[38;5;241m*\u001b[39m x1_values) \u001b[38;5;241m/\u001b[39m theta[\u001b[38;5;241m1\u001b[39m]\n\u001b[0;32m----> 7\u001b[0m plt\u001b[38;5;241m.\u001b[39mfigure()\n\u001b[1;32m      9\u001b[0m plt\u001b[38;5;241m.\u001b[39mplot(x1_values, x2_values, label\u001b[38;5;241m=\u001b[39m\u001b[38;5;124mr\u001b[39m\u001b[38;5;124m'\u001b[39m\u001b[38;5;124m$\u001b[39m\u001b[38;5;124m\\\u001b[39m\u001b[38;5;124mtheta^T x = 3$\u001b[39m\u001b[38;5;124m'\u001b[39m)\n\u001b[1;32m     10\u001b[0m plt\u001b[38;5;241m.\u001b[39mgrid(\u001b[38;5;28;01mTrue\u001b[39;00m)\n",
      "\u001b[0;31mNameError\u001b[0m: name 'plt' is not defined"
     ]
    }
   ],
   "source": [
    "theta = np.array([2, 3])\n",
    "result = 3\n",
    "\n",
    "x1_values = np.linspace(-10, 10, 100)\n",
    "\n",
    "x2_values = (result - theta[0] * x1_values) / theta[1]\n",
    "plt.figure()\n",
    "\n",
    "plt.plot(x1_values, x2_values, label=r'$\\theta^T x = 3$')\n",
    "plt.grid(True)\n",
    "plt.legend()\n",
    "plt.show()"
   ]
  },
  {
   "cell_type": "markdown",
   "id": "b39a4663-ba0d-43f0-a7af-c5e78249ad93",
   "metadata": {},
   "source": [
    "## Méthode de Newton"
   ]
  },
  {
   "cell_type": "markdown",
   "id": "8dad57d1-0e69-4180-b270-bb6eb354537a",
   "metadata": {},
   "source": [
    "On considère la fonction $f\\colon \\mathbb{R}^2 \\to \\mathbb{R}$ telle que $$f(x, y) = (x^2 + y - 11)^2 + (x + y^2 - 7)^2.$$"
   ]
  },
  {
   "cell_type": "code",
   "execution_count": null,
   "id": "cb186aad-60f7-49e8-b2cd-7c6335fc5e45",
   "metadata": {},
   "outputs": [],
   "source": [
    "import matplotlib.pyplot as plt\n",
    "from matplotlib import cm\n",
    "\n",
    "def f(x, y):\n",
    "    return (x ** 2 + y - 11) ** 2 + (x + y ** 2 - 7) ** 2\n",
    "\n",
    "fig, ax = plt.subplots(subplot_kw={\"projection\": \"3d\"})\n",
    "\n",
    "X = np.arange(-5, 5, .1)\n",
    "Y = np.arange(-5, 5, .1)\n",
    "X, Y = np.meshgrid(X, Y)\n",
    "f_vect = np.vectorize(f)\n",
    "Z = f_vect(X, Y)\n",
    "\n",
    "surf = ax.plot_surface(X, Y, Z, cmap=cm.coolwarm, alpha=.7,\n",
    "                       linewidth=0, antialiased=False)\n",
    "fig.colorbar(surf, shrink=.5, aspect=5)\n",
    "plt.show()"
   ]
  },
  {
   "cell_type": "markdown",
   "id": "ef310a93-9a5b-4348-928b-0cbc5acd6d31",
   "metadata": {},
   "source": [
    "1. En utilisant la méthode de Newton à plusieurs dimensions, on souhaite trouver les minimums et maximums locaux de $f$. Commencez par calculer le gradient et la matrice hessienne de $f$, et implémentez la méthode de Newton.\n",
    "\n",
    "*Réponse :* "
   ]
  },
  {
   "cell_type": "code",
   "execution_count": null,
   "id": "c4cacfb9-b783-48e6-be16-def026427c9c",
   "metadata": {},
   "outputs": [],
   "source": [
    "def gradient_f(x, y):\n",
    "    pass\n",
    "\n",
    "def hessian_f(x, y):\n",
    "    pass\n",
    "\n",
    "def newton_multidim(f, df, theta, max_iter=1000, epsilon=1e-10):\n",
    "    \"\"\"Finds a root of multivariate function f given its gradient df and an initial guess theta.\n",
    "       Assumes that a value theta is a root if np.linalg.norm(f(theta)) < epsilon.\n",
    "       Raises an exception if no such value is found within max_iter iterations.\"\"\"\n",
    "    pass"
   ]
  },
  {
   "cell_type": "markdown",
   "id": "73b08def-f1df-45e8-a79b-df78dea4e554",
   "metadata": {},
   "source": [
    "2. Implémentez une façon de trouver plusieurs extremums en faisant démarrer la méthode de Newton de nombreux points de l'espace. Faites attention à ne pas inclure plusieurs fois les mêmes extremums avec des valeurs numériques légèrement différentes. Pour cela, implémentez la méthode `add_point_if_far` qui ajoute un point à une liste si et seulement si le point n'est à distance $< \\epsilon$ d'aucun autre point dans la liste.\n",
    "\n",
    "Note : il est difficile d'être sûr d'avoir trouvé exhaustivement tous les extremums avec des méthodes numériques ; cette fonction a au moins 9 points où le gradient s'annule, incluant au moins quatre minimums locaux et un minimum local."
   ]
  },
  {
   "cell_type": "code",
   "execution_count": null,
   "id": "bbb164e4-2a14-4610-8f5d-05489a678d7e",
   "metadata": {},
   "outputs": [],
   "source": [
    "def add_point_if_far(points, new_point, eps=1e-6):\n",
    "    \"\"\"Given a list `points` of points of the same dimension, adds the point `new_point` to the list\n",
    "       if the distance from new_point to any point of the list `points` is not smaller than `eps`.\"\"\"\n",
    "    pass\n",
    "\n",
    "# Find all (or at least a few) points where the gradient vanish.\n",
    "pass"
   ]
  },
  {
   "cell_type": "markdown",
   "id": "fcae92a6-b3ed-47f2-bac0-bc764425fac0",
   "metadata": {},
   "source": [
    "3. Comment vérifier rapidement la cohérence des points que vous avez obtenus ; correspondent-ils bien à des points où le gradient s'annule ? Vérifiez de deux manières :\n",
    "- en utilisant la fonction `gradient_f`,\n",
    "- en vérifiant la cohérence des résultats en ajoutant les points trouvés au graphique."
   ]
  },
  {
   "cell_type": "code",
   "execution_count": null,
   "id": "f70e9f71-8c33-41de-ae2d-17dc140821a6",
   "metadata": {},
   "outputs": [],
   "source": [
    "pass"
   ]
  },
  {
   "cell_type": "markdown",
   "id": "8eb9d703-8aed-4ca1-b76a-70a6445ac351",
   "metadata": {},
   "source": [
    "4. Tous les points trouvés sont-ils des extremums locaux ? Si non, quels autres points où le gradient s'annule la méthode de Newton peut-elle trouver ?\n",
    "\n",
    "*Réponse :* "
   ]
  },
  {
   "cell_type": "markdown",
   "id": "2a7c9721-bd1e-459a-9c75-d6356a0aa91b",
   "metadata": {},
   "source": [
    "## Régression locale avec descente de gradient"
   ]
  },
  {
   "cell_type": "markdown",
   "id": "6e031585-70ba-410f-a2ec-c6b91d8f3937",
   "metadata": {},
   "source": [
    "Nous allons ici retravailler la régression locale à une variable. L'énoncé sera le même qu'au TP2, mais on vous demande d'utiliser la descente de gradient plutôt que la méthode exacte pour trouver les valeurs optimales de $\\theta$.\n",
    "\n",
    "On considère un nouveau dataset, fourni dans `tp5.zip` sous le nom `tips.npy` (repris de [Kaggle](https://www.kaggle.com/code/yashsharmabharatpur/tips-collected-at-a-restaurant)). Celui-ci contient $244$ valeurs de pourboires donnés à des serveurs en fonction du prix de l'addition. Toutes les valeurs sont en $."
   ]
  },
  {
   "cell_type": "code",
   "execution_count": null,
   "id": "6541815a-dd8d-403d-8e43-9fe9bbe50669",
   "metadata": {},
   "outputs": [],
   "source": [
    "import numpy as np\n",
    "import matplotlib.pyplot as plt\n",
    "\n",
    "dataset = np.load(\"tips.npy\") # 244 données, deux dimensions : prix de l'addition, pourboire reçu\n",
    "print(np.shape(dataset))\n",
    "print(dataset[:10]) # On affiche les 10 premiers\n",
    "\n",
    "bills = dataset[:,0]\n",
    "tips = dataset[:,1]"
   ]
  },
  {
   "cell_type": "code",
   "execution_count": null,
   "id": "693a5e02-6d7b-430c-9ea5-25fd49eac814",
   "metadata": {},
   "outputs": [],
   "source": [
    "plt.figure()\n",
    "plt.plot(bills, tips, \"o\")\n",
    "plt.xlabel(\"Bills\")\n",
    "plt.ylabel(\"Tips\")\n",
    "plt.grid()\n",
    "plt.show()"
   ]
  },
  {
   "cell_type": "markdown",
   "id": "afef763b-1527-4f73-b50b-33113876249c",
   "metadata": {},
   "source": [
    "Réimplémentez et affichez les prédictions données par une **régression linéaire locale** en utilisant la descente de gradient :\n",
    "- implémentez la fonction de poids,\n",
    "- choisissez une valeur de bande passante adaptée aux données,\n",
    "- implémentez la fonction qui calcule les prédictions, en utilisant une descente de gradient,\n",
    "- affichez vos prédictions sur un graphique, en superposant la courbe aux données."
   ]
  },
  {
   "cell_type": "code",
   "execution_count": null,
   "id": "b1a11a2b-4bed-4dd7-a720-2de5b16adac1",
   "metadata": {},
   "outputs": [],
   "source": [
    "# Fonction de poids\n",
    "\n",
    "pass"
   ]
  },
  {
   "cell_type": "code",
   "execution_count": null,
   "id": "c1a4fd1f-5a28-441b-aae0-835096b20835",
   "metadata": {},
   "outputs": [],
   "source": [
    "# Graphique des poids\n",
    "\n",
    "pass"
   ]
  },
  {
   "cell_type": "code",
   "execution_count": null,
   "id": "d5a786f5-909d-45fc-bc2d-5a290c2b8146",
   "metadata": {},
   "outputs": [],
   "source": [
    "# Calcul des matrices X et Y\n",
    "\n",
    "pass"
   ]
  },
  {
   "cell_type": "code",
   "execution_count": null,
   "id": "73da0733-8838-4b85-89cc-55dc885b9727",
   "metadata": {},
   "outputs": [],
   "source": [
    "# Descente de gradient et fonction de prédiction.\n",
    "\n",
    "pass"
   ]
  },
  {
   "cell_type": "code",
   "execution_count": null,
   "id": "4bf7bd80-248c-4d55-846f-9af4e0fad9f1",
   "metadata": {},
   "outputs": [],
   "source": [
    "# Affichage des résultats en plus des données.\n",
    "\n",
    "pass"
   ]
  }
 ],
 "metadata": {
  "colab": {
   "provenance": []
  },
  "gpuClass": "standard",
  "kernelspec": {
   "display_name": "Python 3 (ipykernel)",
   "language": "python",
   "name": "python3"
  },
  "language_info": {
   "codemirror_mode": {
    "name": "ipython",
    "version": 3
   },
   "file_extension": ".py",
   "mimetype": "text/x-python",
   "name": "python",
   "nbconvert_exporter": "python",
   "pygments_lexer": "ipython3",
   "version": "3.11.0"
  },
  "papermill": {
   "default_parameters": {},
   "duration": 409.166196,
   "end_time": "2022-08-01T09:15:59.008964",
   "environment_variables": {},
   "exception": null,
   "input_path": "__notebook__.ipynb",
   "output_path": "__notebook__.ipynb",
   "parameters": {},
   "start_time": "2022-08-01T09:09:09.842768",
   "version": "2.3.4"
  }
 },
 "nbformat": 4,
 "nbformat_minor": 5
}
