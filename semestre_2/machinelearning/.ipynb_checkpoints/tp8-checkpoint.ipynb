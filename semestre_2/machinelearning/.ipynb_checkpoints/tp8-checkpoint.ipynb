{
 "cells": [
  {
   "cell_type": "markdown",
   "id": "3f55f8b6",
   "metadata": {},
   "source": [
    "# 4TIN811U Machine Learning & Deep Learning\",\n",
    "# TP 8 - SVM et hand-written digits"
   ]
  },
  {
   "cell_type": "markdown",
   "id": "b21b0349",
   "metadata": {},
   "source": [
    "L'objectif est de reconnaître des chiffres écrits à la main."
   ]
  },
  {
   "cell_type": "code",
   "execution_count": 3,
   "id": "eb04eca2",
   "metadata": {},
   "outputs": [
    {
     "name": "stderr",
     "output_type": "stream",
     "text": [
      "Matplotlib is building the font cache; this may take a moment.\n"
     ]
    },
    {
     "data": {
      "text/plain": [
       "(1797, 64)"
      ]
     },
     "execution_count": 3,
     "metadata": {},
     "output_type": "execute_result"
    }
   ],
   "source": [
    "import matplotlib.pyplot as plt\n",
    "from sklearn.datasets import load_digits\n",
    "from sklearn import datasets\n",
    "\n",
    "X_digits, y_digits = load_digits(return_X_y=True)\n",
    "X_digits.shape"
   ]
  },
  {
   "cell_type": "code",
   "execution_count": 4,
   "id": "a43e34d2",
   "metadata": {},
   "outputs": [
    {
     "data": {
      "text/plain": [
       "<Figure size 640x480 with 0 Axes>"
      ]
     },
     "metadata": {},
     "output_type": "display_data"
    },
    {
     "data": {
      "image/png": "[encoded data removed]",
      "text/plain": [
       "<Figure size 480x480 with 1 Axes>"
      ]
     },
     "metadata": {},
     "output_type": "display_data"
    }
   ],
   "source": [
    "plt.gray()\n",
    "plt.matshow(X_digits[0].reshape(8,8))\n",
    "plt.show()"
   ]
  },
  {
   "cell_type": "markdown",
   "id": "337ebda1",
   "metadata": {},
   "source": [
    "* Séparer les données en train / test\n",
    "* Entraîner un SVM pour la classification, et calculer ses statistiques\n",
    "* Essayer plusieurs noyaux pour le SVM, et comparer\n",
    "* A l'aide d'une technique de cross validation, choisir les paramètres pour le SVM\n",
    "* Entraîner d'autres algorithmes vus en cours pour la classification, quel est celui qui généralise le mieux ?"
   ]
  },
  {
   "cell_type": "code",
   "execution_count": 5,
   "id": "7c8756a8",
   "metadata": {},
   "outputs": [],
   "source": [
    "from sklearn.model_selection import train_test_split\n",
    "\n",
    "X_train, X_test, y_train, y_test = train_test_split(X_digits, y_digits, test_size=0.2)"
   ]
  },
  {
   "cell_type": "code",
   "execution_count": 8,
   "id": "1c838a82",
   "metadata": {},
   "outputs": [
    {
     "name": "stdout",
     "output_type": "stream",
     "text": [
      "Performance du SVM avec un noyau linéaire :\n",
      "              precision    recall  f1-score   support\n",
      "\n",
      "           0       1.00      1.00      1.00        42\n",
      "           1       0.97      1.00      0.98        32\n",
      "           2       0.97      1.00      0.99        39\n",
      "           3       1.00      0.98      0.99        41\n",
      "           4       1.00      1.00      1.00        28\n",
      "           5       1.00      0.97      0.98        31\n",
      "           6       1.00      1.00      1.00        38\n",
      "           7       1.00      1.00      1.00        26\n",
      "           8       0.97      0.95      0.96        37\n",
      "           9       0.98      1.00      0.99        46\n",
      "\n",
      "    accuracy                           0.99       360\n",
      "   macro avg       0.99      0.99      0.99       360\n",
      "weighted avg       0.99      0.99      0.99       360\n",
      "\n"
     ]
    }
   ],
   "source": [
    "from sklearn.svm import SVC\n",
    "from sklearn.metrics import classification_report\n",
    "\n",
    "svm_linear = SVC(kernel='linear')\n",
    "svm_linear.fit(X_train, y_train)\n",
    "\n",
    "# Prédire sur les données de test et évaluer les performances\n",
    "y_pred_linear = svm_linear.predict(X_test)\n",
    "print(\"Performance du SVM avec un noyau linéaire :\")\n",
    "print(classification_report(y_test, y_pred_linear))"
   ]
  },
  {
   "cell_type": "code",
   "execution_count": 9,
   "id": "ccc23cac",
   "metadata": {},
   "outputs": [
    {
     "name": "stdout",
     "output_type": "stream",
     "text": [
      "Performance du SVM avec un noyau linéaire :\n",
      "              precision    recall  f1-score   support\n",
      "\n",
      "           0       1.00      1.00      1.00        42\n",
      "           1       1.00      1.00      1.00        32\n",
      "           2       1.00      1.00      1.00        39\n",
      "           3       1.00      0.98      0.99        41\n",
      "           4       1.00      1.00      1.00        28\n",
      "           5       1.00      0.97      0.98        31\n",
      "           6       1.00      1.00      1.00        38\n",
      "           7       1.00      1.00      1.00        26\n",
      "           8       0.97      1.00      0.99        37\n",
      "           9       0.98      1.00      0.99        46\n",
      "\n",
      "    accuracy                           0.99       360\n",
      "   macro avg       1.00      0.99      0.99       360\n",
      "weighted avg       0.99      0.99      0.99       360\n",
      "\n"
     ]
    }
   ],
   "source": [
    "svm_linear = SVC(kernel='poly')\n",
    "svm_linear.fit(X_train, y_train)\n",
    "\n",
    "# Prédire sur les données de test et évaluer les performances\n",
    "y_pred_linear = svm_linear.predict(X_test)\n",
    "print(\"Performance du SVM avec un noyau linéaire :\")\n",
    "print(classification_report(y_test, y_pred_linear))"
   ]
  },
  {
   "cell_type": "code",
   "execution_count": 10,
   "id": "e455b514",
   "metadata": {},
   "outputs": [
    {
     "name": "stdout",
     "output_type": "stream",
     "text": [
      "Performance du SVM avec un noyau linéaire :\n",
      "              precision    recall  f1-score   support\n",
      "\n",
      "           0       0.97      0.93      0.95        42\n",
      "           1       0.81      0.81      0.81        32\n",
      "           2       1.00      0.97      0.99        39\n",
      "           3       1.00      0.90      0.95        41\n",
      "           4       0.83      0.89      0.86        28\n",
      "           5       1.00      0.97      0.98        31\n",
      "           6       0.97      0.95      0.96        38\n",
      "           7       0.81      1.00      0.90        26\n",
      "           8       0.79      0.89      0.84        37\n",
      "           9       0.95      0.87      0.91        46\n",
      "\n",
      "    accuracy                           0.92       360\n",
      "   macro avg       0.91      0.92      0.91       360\n",
      "weighted avg       0.92      0.92      0.92       360\n",
      "\n"
     ]
    }
   ],
   "source": [
    "svm_linear = SVC(kernel='sigmoid')\n",
    "svm_linear.fit(X_train, y_train)\n",
    "\n",
    "# Prédire sur les données de test et évaluer les performances\n",
    "y_pred_linear = svm_linear.predict(X_test)\n",
    "print(\"Performance du SVM avec un noyau linéaire :\")\n",
    "print(classification_report(y_test, y_pred_linear))"
   ]
  },
  {
   "cell_type": "code",
   "execution_count": 13,
   "id": "43fd4c66",
   "metadata": {
    "scrolled": true
   },
   "outputs": [
    {
     "name": "stdout",
     "output_type": "stream",
     "text": [
      "Meilleurs paramètres pour SVM: {'C': 10, 'gamma': 0.001}\n",
      "Performance du SVM avec les meilleurs paramètres :\n",
      "              precision    recall  f1-score   support\n",
      "\n",
      "           0       1.00      1.00      1.00        42\n",
      "           1       0.97      1.00      0.98        32\n",
      "           2       1.00      1.00      1.00        39\n",
      "           3       1.00      0.98      0.99        41\n",
      "           4       1.00      1.00      1.00        28\n",
      "           5       1.00      0.97      0.98        31\n",
      "           6       1.00      1.00      1.00        38\n",
      "           7       1.00      1.00      1.00        26\n",
      "           8       0.97      0.97      0.97        37\n",
      "           9       0.98      1.00      0.99        46\n",
      "\n",
      "    accuracy                           0.99       360\n",
      "   macro avg       0.99      0.99      0.99       360\n",
      "weighted avg       0.99      0.99      0.99       360\n",
      "\n"
     ]
    }
   ],
   "source": [
    "from sklearn.model_selection import GridSearchCV\n",
    "\n",
    "param_grid = {'C': [0.1, 1, 10, 100], 'gamma': [0.001, 0.01, 0.1, 1]}\n",
    "grid_search = GridSearchCV(SVC(), param_grid, cv=5)\n",
    "grid_search.fit(X_train, y_train)\n",
    "best_svm = grid_search.best_estimator_\n",
    "y_pred_best = best_svm.predict(X_test)\n",
    "print(\"Meilleurs paramètres pour SVM:\", grid_search.best_params_)\n",
    "print(\"Performance du SVM avec les meilleurs paramètres :\")\n",
    "print(classification_report(y_test, y_pred_best))"
   ]
  },
  {
   "cell_type": "code",
   "execution_count": 15,
   "id": "f847c1d7",
   "metadata": {},
   "outputs": [
    {
     "ename": "ModuleNotFoundError",
     "evalue": "No module named 'tensorflow'",
     "output_type": "error",
     "traceback": [
      "\u001b[0;31m---------------------------------------------------------------------------\u001b[0m",
      "\u001b[0;31mModuleNotFoundError\u001b[0m                       Traceback (most recent call last)",
      "Cell \u001b[0;32mIn [15], line 1\u001b[0m\n\u001b[0;32m----> 1\u001b[0m \u001b[38;5;28;01mimport\u001b[39;00m \u001b[38;5;21;01mtensorflow\u001b[39;00m \u001b[38;5;28;01mas\u001b[39;00m \u001b[38;5;21;01mtf\u001b[39;00m\n\u001b[1;32m      2\u001b[0m \u001b[38;5;28;01mfrom\u001b[39;00m \u001b[38;5;21;01mtensorflow\u001b[39;00m\u001b[38;5;21;01m.\u001b[39;00m\u001b[38;5;21;01mkeras\u001b[39;00m\u001b[38;5;21;01m.\u001b[39;00m\u001b[38;5;21;01mmodels\u001b[39;00m \u001b[38;5;28;01mimport\u001b[39;00m Sequential\n\u001b[1;32m      3\u001b[0m \u001b[38;5;28;01mfrom\u001b[39;00m \u001b[38;5;21;01mtensorflow\u001b[39;00m\u001b[38;5;21;01m.\u001b[39;00m\u001b[38;5;21;01mkeras\u001b[39;00m\u001b[38;5;21;01m.\u001b[39;00m\u001b[38;5;21;01mlayers\u001b[39;00m \u001b[38;5;28;01mimport\u001b[39;00m Conv2D, MaxPooling2D, Flatten, Dense\n",
      "\u001b[0;31mModuleNotFoundError\u001b[0m: No module named 'tensorflow'"
     ]
    }
   ],
   "source": [
    "import tensorflow as tf\n",
    "from tensorflow.keras.models import Sequential\n",
    "from tensorflow.keras.layers import Conv2D, MaxPooling2D, Flatten, Dense\n",
    "\n",
    "model = Sequential([\n",
    "    Conv2D(filters=16, kernel_size=(3, 3), activation='relu', input_shape=(28, 28, 1)),\n",
    "    MaxPooling2D(pool_size=(2, 2)),\n",
    "    Conv2D(filters=32, kernel_size=(3, 3), activation='relu'),\n",
    "    MaxPooling2D(pool_size=(2, 2)),\n",
    "    Flatten(),\n",
    "    Dense(256, activation='relu'),\n",
    "    Dense(10, activation='softmax')\n",
    "])\n",
    "\n",
    "model.compile(optimizer='adam',\n",
    "              loss='categorical_crossentropy',\n",
    "              metrics=['accuracy'])\n",
    "\n",
    "model.fit(x_train, y_train, epochs=5, batch_size=32, validation_data=(x_test, y_test))\n"
   ]
  },
  {
   "cell_type": "code",
   "execution_count": null,
   "id": "4c0bd915",
   "metadata": {},
   "outputs": [],
   "source": []
  }
 ],
 "metadata": {
  "kernelspec": {
   "display_name": "Python 3 (ipykernel)",
   "language": "python",
   "name": "python3"
  },
  "language_info": {
   "codemirror_mode": {
    "name": "ipython",
    "version": 3
   },
   "file_extension": ".py",
   "mimetype": "text/x-python",
   "name": "python",
   "nbconvert_exporter": "python",
   "pygments_lexer": "ipython3",
   "version": "3.11.2"
  }
 },
 "nbformat": 4,
 "nbformat_minor": 5
}
