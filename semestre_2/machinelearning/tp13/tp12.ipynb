{
 "cells": [
  {
   "cell_type": "markdown",
   "metadata": {},
   "source": [
    "# 4TIN811U Machine Learning & Deep Learning\n",
    "# TP 10 - Arbres de décision, de régression & random forests"
   ]
  },
  {
   "cell_type": "markdown",
   "metadata": {},
   "source": [
    "## 1. Pommes"
   ]
  },
  {
   "cell_type": "markdown",
   "metadata": {},
   "source": [
    "On reprend le dataset `tp12/dataset_tp9_apples.npy` utilisé dans le TP 9 (qualité des pommes).\n",
    "Lire la documentation de [`sklearn.ensemble.RandomForestClassifier`](https://scikit-learn.org/stable/modules/generated/sklearn.ensemble.RandomForestClassifier.html) en prêtant une attention particulière aux paramètres possibles (beaucoup de ces paramètres ont été discutés en cours)."
   ]
  },
  {
   "cell_type": "markdown",
   "metadata": {},
   "source": [
    "Séparez les données entre données d'entraînement et données de validation. Entraîner une random forest sur les données d'entraînement, et donnez son accuracy 1) sur les données d'entraînement et 2) données de validation. "
   ]
  },
  {
   "cell_type": "code",
   "execution_count": 24,
   "metadata": {},
   "outputs": [
    {
     "name": "stderr",
     "output_type": "stream",
     "text": [
      "/Users/gabrielmariebrisson/anaconda3/lib/python3.11/site-packages/sklearn/base.py:1151: DataConversionWarning: A column-vector y was passed when a 1d array was expected. Please change the shape of y to (n_samples,), for example using ravel().\n",
      "  return fit_method(estimator, *args, **kwargs)\n"
     ]
    },
    {
     "name": "stdout",
     "output_type": "stream",
     "text": [
      "Prédiction des données d'entrainement\n",
      "              precision    recall  f1-score   support\n",
      "\n",
      "         0.0       1.00      1.00      1.00      1579\n",
      "         1.0       1.00      1.00      1.00      1621\n",
      "\n",
      "    accuracy                           1.00      3200\n",
      "   macro avg       1.00      1.00      1.00      3200\n",
      "weighted avg       1.00      1.00      1.00      3200\n",
      "\n",
      "Prédiction des données de validation\n",
      "              precision    recall  f1-score   support\n",
      "\n",
      "         0.0       0.89      0.85      0.87       417\n",
      "         1.0       0.84      0.89      0.86       383\n",
      "\n",
      "    accuracy                           0.87       800\n",
      "   macro avg       0.87      0.87      0.87       800\n",
      "weighted avg       0.87      0.87      0.87       800\n",
      "\n"
     ]
    }
   ],
   "source": [
    "import numpy as np\n",
    "from sklearn.ensemble import RandomForestClassifier\n",
    "from sklearn.metrics import classification_report\n",
    "\n",
    "data = np.load(\"dataset_tp9_apples.npy\")\n",
    "np.random.shuffle(data)\n",
    "\n",
    "X_train, y_train = data[:int(len(data)*0.8), :-1], data[:int(len(data)*0.8), -1:]\n",
    "X_val, y_val = data[int(len(data)*0.8):, :-1], data[int(len(data)*0.8):, -1:]\n",
    "\n",
    "# Entraînement d'une forêt aléatoire\n",
    "forest_model = RandomForestClassifier(n_estimators=1000, random_state=42)\n",
    "forest_model.fit(X_train, y_train)\n",
    "\n",
    "# Prédiction sur l'ensemble de test\n",
    "print(\"Prédiction des données d'entrainement\")\n",
    "y_pred_forest = forest_model.predict(X_train)\n",
    "print(classification_report(y_train, y_pred_forest))\n",
    "\n",
    "print(\"Prédiction des données de validation\")\n",
    "y_pred_forest = forest_model.predict(X_val)\n",
    "print(classification_report(y_val, y_pred_forest))"
   ]
  },
  {
   "cell_type": "markdown",
   "metadata": {},
   "source": [
    "Faites varier le nombre d'arbres dans la forêt. Quelle influence observez-vous sur les résultats précédents ? À quoi celà est-il dû ?\n",
    "\n",
    "Je constate que plus il y a d'arbre, plus il sera précis, et il y aura moins d'overfeating, car il sera plus generaliste "
   ]
  },
  {
   "cell_type": "code",
   "execution_count": 25,
   "metadata": {},
   "outputs": [
    {
     "name": "stdout",
     "output_type": "stream",
     "text": [
      "Prédiction des données d'entrainement\n",
      "              precision    recall  f1-score   support\n",
      "\n",
      "         0.0       0.99      1.00      0.99      1579\n",
      "         1.0       1.00      0.99      0.99      1621\n",
      "\n",
      "    accuracy                           0.99      3200\n",
      "   macro avg       0.99      0.99      0.99      3200\n",
      "weighted avg       0.99      0.99      0.99      3200\n",
      "\n",
      "Prédiction des données de validation\n",
      "              precision    recall  f1-score   support\n",
      "\n",
      "         0.0       0.85      0.87      0.86       417\n",
      "         1.0       0.86      0.84      0.85       383\n",
      "\n",
      "    accuracy                           0.85       800\n",
      "   macro avg       0.86      0.85      0.85       800\n",
      "weighted avg       0.86      0.85      0.85       800\n",
      "\n"
     ]
    },
    {
     "name": "stderr",
     "output_type": "stream",
     "text": [
      "/Users/gabrielmariebrisson/anaconda3/lib/python3.11/site-packages/sklearn/base.py:1151: DataConversionWarning: A column-vector y was passed when a 1d array was expected. Please change the shape of y to (n_samples,), for example using ravel().\n",
      "  return fit_method(estimator, *args, **kwargs)\n"
     ]
    }
   ],
   "source": [
    "#Pour 10 n_estimators\n",
    "\n",
    "# Entraînement d'une forêt aléatoire\n",
    "forest_model = RandomForestClassifier(n_estimators=10, random_state=42)\n",
    "forest_model.fit(X_train, y_train)\n",
    "\n",
    "# Prédiction sur l'ensemble de test\n",
    "print(\"Prédiction des données d'entrainement\")\n",
    "y_pred_forest = forest_model.predict(X_train)\n",
    "print(classification_report(y_train, y_pred_forest))\n",
    "\n",
    "print(\"Prédiction des données de validation\")\n",
    "y_pred_forest = forest_model.predict(X_val)\n",
    "print(classification_report(y_val, y_pred_forest))"
   ]
  },
  {
   "cell_type": "code",
   "execution_count": 26,
   "metadata": {},
   "outputs": [
    {
     "name": "stdout",
     "output_type": "stream",
     "text": [
      "Prédiction des données d'entrainement\n",
      "              precision    recall  f1-score   support\n",
      "\n",
      "         0.0       0.93      0.91      0.92      1579\n",
      "         1.0       0.91      0.93      0.92      1621\n",
      "\n",
      "    accuracy                           0.92      3200\n",
      "   macro avg       0.92      0.92      0.92      3200\n",
      "weighted avg       0.92      0.92      0.92      3200\n",
      "\n",
      "Prédiction des données de validation\n",
      "              precision    recall  f1-score   support\n",
      "\n",
      "         0.0       0.80      0.78      0.79       417\n",
      "         1.0       0.77      0.79      0.78       383\n",
      "\n",
      "    accuracy                           0.78       800\n",
      "   macro avg       0.78      0.78      0.78       800\n",
      "weighted avg       0.78      0.78      0.78       800\n",
      "\n"
     ]
    },
    {
     "name": "stderr",
     "output_type": "stream",
     "text": [
      "/Users/gabrielmariebrisson/anaconda3/lib/python3.11/site-packages/sklearn/base.py:1151: DataConversionWarning: A column-vector y was passed when a 1d array was expected. Please change the shape of y to (n_samples,), for example using ravel().\n",
      "  return fit_method(estimator, *args, **kwargs)\n"
     ]
    }
   ],
   "source": [
    "#Pour 3 n_estimators\n",
    "\n",
    "# Entraînement d'une forêt aléatoire\n",
    "forest_model = RandomForestClassifier(n_estimators=1, random_state=42)\n",
    "forest_model.fit(X_train, y_train)\n",
    "\n",
    "# Prédiction sur l'ensemble de test\n",
    "print(\"Prédiction des données d'entrainement\")\n",
    "y_pred_forest = forest_model.predict(X_train)\n",
    "print(classification_report(y_train, y_pred_forest))\n",
    "\n",
    "print(\"Prédiction des données de validation\")\n",
    "y_pred_forest = forest_model.predict(X_val)\n",
    "print(classification_report(y_val, y_pred_forest))"
   ]
  },
  {
   "cell_type": "markdown",
   "metadata": {},
   "source": [
    "## 2. Vroum"
   ]
  },
  {
   "cell_type": "markdown",
   "metadata": {},
   "source": [
    "On considère le dataset `cars_multi.csv`, issues de https://github.com/RodolfoViana/exploratory-data-analysis-dataset-cars/tree/master. On n'utilisera pas les colonnes `ID` et `car_name`. On pourra aussi retirer les quelques lignes comportant des données manquantes. On souhaite prédire la donnée mpg (miles per galon : distance parcourue par quantité d'essence) selon les autres colonnes. Utilisez [https://scikit-learn.org/stable/modules/generated/sklearn.ensemble.RandomForestRegressor.html](sklearn.ensemble.RandomForestRegressor) pour votre régression.\n",
    "\n",
    "Affichez l'évolution de la variance (on fait plusieurs expériences : la variance est alors la moyenne des normes entre le vecteur prédit par chacune des expériences et la moyenne de ces expériences). Commentez."
   ]
  },
  {
   "cell_type": "code",
   "execution_count": 43,
   "metadata": {},
   "outputs": [],
   "source": [
    "import pandas as pd\n",
    "from sklearn.ensemble import RandomForestRegressor\n",
    "\n",
    "dataset = pd.read_csv(\"cars_multi.csv\").dropna()\n",
    "dataset = dataset.drop(['ID', 'car_name'], axis=1)\n",
    "dataset = dataset.sample(frac=1, random_state=42)\n",
    "\n",
    "dataset['horsepower'] = pd.to_numeric(dataset['horsepower'], errors='coerce')\n",
    "dataset = dataset.dropna()\n",
    "\n",
    "X_train, y_train = dataset.iloc[:int(len(dataset)*0.8), 1:], dataset.iloc[:int(len(dataset)*0.8), 0]\n",
    "X_val, y_val = dataset.iloc[int(len(dataset)*0.8):, 1:], dataset.iloc[int(len(dataset)*0.8):, 0]"
   ]
  },
  {
   "cell_type": "code",
   "execution_count": 69,
   "metadata": {},
   "outputs": [
    {
     "name": "stdout",
     "output_type": "stream",
     "text": [
      "0.7601503345531703\n"
     ]
    }
   ],
   "source": [
    "# Nombre d'expériences\n",
    "num_experiments = (50)\n",
    "predictions = np.zeros((len(X_val), num_experiments))\n",
    "\n",
    "# Entraîner et prédire avec plusieurs modèles\n",
    "for i in range(num_experiments):\n",
    "    forest_model = RandomForestRegressor(n_estimators=1000, random_state=i)\n",
    "    forest_model.fit(X_train, y_train)\n",
    "\n",
    "    y_pred = forest_model.predict(X_val)\n",
    "    predictions[:, i] = y_pred\n",
    "\n",
    "avg_y = np.mean(predictions, axis = 1)\n",
    "\n",
    "variance_tab = []\n",
    "for i in range(num_experiments):\n",
    "    variance_tab += [np.linalg.norm(avg_y - predictions[:,i])]\n",
    "    \n",
    "variance = sum(variance_tab) / len(variance_tab)\n",
    "print(variance)"
   ]
  },
  {
   "cell_type": "code",
   "execution_count": 70,
   "metadata": {},
   "outputs": [
    {
     "data": {
      "image/png": "[encoded data removed]",
      "text/plain": [
       "<Figure size 640x480 with 1 Axes>"
      ]
     },
     "metadata": {},
     "output_type": "display_data"
    }
   ],
   "source": [
    "plt.plot(variance_tab)\n",
    "plt.xlabel('Data Point')\n",
    "plt.ylabel('Variance')\n",
    "plt.title('Evolution de la variance')\n",
    "plt.show()"
   ]
  },
  {
   "cell_type": "markdown",
   "metadata": {},
   "source": [
    "## 3. Données manquantes (optionnel)\n",
    "\n",
    "Implémentez l'algorithme vu en cours pour estimer la valeur des données manquantes dans le dataset `cars_multi.csv`. On pourra utiliser https://stackoverflow.com/questions/18703136/proximity-matrix-in-sklearn-ensemble-randomforestclassifier pour savoir comment accéder aux nœuds prédits par un arbre d'une forêt, et ainsi calculer la matrice de proximité."
   ]
  },
  {
   "cell_type": "code",
   "execution_count": null,
   "metadata": {},
   "outputs": [],
   "source": [
    "\n"
   ]
  },
  {
   "cell_type": "code",
   "execution_count": null,
   "metadata": {},
   "outputs": [],
   "source": []
  }
 ],
 "metadata": {
  "kernelspec": {
   "display_name": "Python 3 (ipykernel)",
   "language": "python",
   "name": "python3"
  },
  "language_info": {
   "codemirror_mode": {
    "name": "ipython",
    "version": 3
   },
   "file_extension": ".py",
   "mimetype": "text/x-python",
   "name": "python",
   "nbconvert_exporter": "python",
   "pygments_lexer": "ipython3",
   "version": "3.11.0"
  }
 },
 "nbformat": 4,
 "nbformat_minor": 2
}
