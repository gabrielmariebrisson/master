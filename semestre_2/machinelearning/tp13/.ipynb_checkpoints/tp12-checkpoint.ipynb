{
 "cells": [
  {
   "cell_type": "markdown",
   "metadata": {},
   "source": [
    "# 4TIN811U Machine Learning & Deep Learning\n",
    "# TP 10 - Arbres de décision, de régression & random forests"
   ]
  },
  {
   "cell_type": "markdown",
   "metadata": {},
   "source": [
    "## 1. Pommes"
   ]
  },
  {
   "cell_type": "markdown",
   "metadata": {},
   "source": [
    "On reprend le dataset `tp12/dataset_tp9_apples.npy` utilisé dans le TP 9 (qualité des pommes).\n",
    "Lire la documentation de [`sklearn.ensemble.RandomForestClassifier`](https://scikit-learn.org/stable/modules/generated/sklearn.ensemble.RandomForestClassifier.html) en prêtant une attention particulière aux paramètres possibles (beaucoup de ces paramètres ont été discutés en cours)."
   ]
  },
  {
   "cell_type": "markdown",
   "metadata": {},
   "source": [
    "Séparez les données entre données d'entraînement et données de validation. Entraîner une random forest sur les données d'entraînement, et donnez son accuracy 1) sur les données d'entraînement et 2) données de validation. "
   ]
  },
  {
   "cell_type": "code",
   "execution_count": null,
   "metadata": {},
   "outputs": [],
   "source": []
  },
  {
   "cell_type": "markdown",
   "metadata": {},
   "source": [
    "Faites varier le nombre d'arbres dans la forêt. Quelle influence observez-vous sur les résultats précédents ? À quoi celà est-il dû ?"
   ]
  },
  {
   "cell_type": "code",
   "execution_count": null,
   "metadata": {},
   "outputs": [],
   "source": []
  },
  {
   "cell_type": "markdown",
   "metadata": {},
   "source": [
    "## 2. Vroum"
   ]
  },
  {
   "cell_type": "markdown",
   "metadata": {},
   "source": [
    "On considère le dataset `cars_multi.csv`, issues de https://github.com/RodolfoViana/exploratory-data-analysis-dataset-cars/tree/master. On n'utilisera pas les colonnes `ID` et `car_name`. On pourra aussi retirer les quelques lignes comportant des données manquantes. On souhaite prédire la donnée mpg (miles per galon : distance parcourue par quantité d'essence) selon les autres colonnes. Utilisez [https://scikit-learn.org/stable/modules/generated/sklearn.ensemble.RandomForestRegressor.html](sklearn.ensemble.RandomForestRegressor) pour votre régression.\n",
    "\n",
    "Affichez l'évolution de la variance (on fait plusieurs expériences : la variance est alors la moyenne des normes entre le vecteur prédit par chacune des expériences et la moyenne de ces expériences). Commentez."
   ]
  },
  {
   "cell_type": "code",
   "execution_count": null,
   "metadata": {},
   "outputs": [],
   "source": []
  },
  {
   "cell_type": "markdown",
   "metadata": {},
   "source": [
    "## 3. Données manquantes (optionnel)\n",
    "\n",
    "Implémentez l'algorithme vu en cours pour estimer la valeur des données manquantes dans le dataset `cars_multi.csv`. On pourra utiliser https://stackoverflow.com/questions/18703136/proximity-matrix-in-sklearn-ensemble-randomforestclassifier pour savoir comment accéder aux nœuds prédits par un arbre d'une forêt, et ainsi calculer la matrice de proximité."
   ]
  },
  {
   "cell_type": "code",
   "execution_count": null,
   "metadata": {},
   "outputs": [],
   "source": []
  }
 ],
 "metadata": {
  "kernelspec": {
   "display_name": "Python 3 (ipykernel)",
   "language": "python",
   "name": "python3"
  },
  "language_info": {
   "codemirror_mode": {
    "name": "ipython",
    "version": 3
   },
   "file_extension": ".py",
   "mimetype": "text/x-python",
   "name": "python",
   "nbconvert_exporter": "python",
   "pygments_lexer": "ipython3",
   "version": "3.11.0"
  }
 },
 "nbformat": 4,
 "nbformat_minor": 2
}
