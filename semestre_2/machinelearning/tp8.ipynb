{
 "cells": [
  {
   "cell_type": "markdown",
   "id": "3f55f8b6",
   "metadata": {},
   "source": [
    "# 4TIN811U Machine Learning & Deep Learning\",\n",
    "# TP 8 - SVM et hand-written digits"
   ]
  },
  {
   "cell_type": "markdown",
   "id": "b21b0349",
   "metadata": {},
   "source": [
    "L'objectif est de reconnaître des chiffres écrits à la main."
   ]
  },
  {
   "cell_type": "code",
   "execution_count": 1,
   "id": "eb04eca2",
   "metadata": {},
   "outputs": [
    {
     "data": {
      "text/plain": [
       "(1797, 64)"
      ]
     },
     "execution_count": 1,
     "metadata": {},
     "output_type": "execute_result"
    }
   ],
   "source": [
    "import matplotlib.pyplot as plt\n",
    "from sklearn.datasets import load_digits\n",
    "from sklearn import datasets\n",
    "\n",
    "X_digits, y_digits = load_digits(return_X_y=True)\n",
    "X_digits.shape"
   ]
  },
  {
   "cell_type": "code",
   "execution_count": 2,
   "id": "a43e34d2",
   "metadata": {},
   "outputs": [
    {
     "data": {
      "text/plain": [
       "<Figure size 640x480 with 0 Axes>"
      ]
     },
     "metadata": {},
     "output_type": "display_data"
    },
    {
     "data": {
      "image/png": "[encoded data removed]",
      "text/plain": [
       "<Figure size 480x480 with 1 Axes>"
      ]
     },
     "metadata": {},
     "output_type": "display_data"
    }
   ],
   "source": [
    "plt.gray()\n",
    "plt.matshow(X_digits[0].reshape(8,8))\n",
    "plt.show()"
   ]
  },
  {
   "cell_type": "markdown",
   "id": "337ebda1",
   "metadata": {},
   "source": [
    "* Séparer les données en train / test\n",
    "* Entraîner un SVM pour la classification, et calculer ses statistiques\n",
    "* Essayer plusieurs noyaux pour le SVM, et comparer\n",
    "* A l'aide d'une technique de cross validation, choisir les paramètres pour le SVM\n",
    "* Entraîner d'autres algorithmes vus en cours pour la classification, quel est celui qui généralise le mieux ?"
   ]
  },
  {
   "cell_type": "code",
   "execution_count": 3,
   "id": "7c8756a8",
   "metadata": {},
   "outputs": [],
   "source": [
    "from sklearn.model_selection import train_test_split\n",
    "\n",
    "X_train, X_test, y_train, y_test = train_test_split(X_digits, y_digits, test_size=0.2)"
   ]
  },
  {
   "cell_type": "code",
   "execution_count": 4,
   "id": "1c838a82",
   "metadata": {},
   "outputs": [
    {
     "name": "stdout",
     "output_type": "stream",
     "text": [
      "Performance du SVM avec un noyau linéaire :\n",
      "              precision    recall  f1-score   support\n",
      "\n",
      "           0       1.00      1.00      1.00        33\n",
      "           1       0.89      1.00      0.94        42\n",
      "           2       1.00      1.00      1.00        27\n",
      "           3       1.00      1.00      1.00        36\n",
      "           4       0.97      1.00      0.99        38\n",
      "           5       0.97      0.97      0.97        35\n",
      "           6       1.00      0.95      0.98        43\n",
      "           7       0.95      1.00      0.97        39\n",
      "           8       1.00      0.79      0.88        29\n",
      "           9       0.97      0.97      0.97        38\n",
      "\n",
      "    accuracy                           0.97       360\n",
      "   macro avg       0.98      0.97      0.97       360\n",
      "weighted avg       0.97      0.97      0.97       360\n",
      "\n"
     ]
    }
   ],
   "source": [
    "from sklearn.svm import SVC\n",
    "from sklearn.metrics import classification_report\n",
    "\n",
    "svm_linear = SVC(kernel='linear')\n",
    "svm_linear.fit(X_train, y_train)\n",
    "\n",
    "# Prédire sur les données de test et évaluer les performances\n",
    "y_pred_linear = svm_linear.predict(X_test)\n",
    "print(\"Performance du SVM avec un noyau linéaire :\")\n",
    "print(classification_report(y_test, y_pred_linear))"
   ]
  },
  {
   "cell_type": "code",
   "execution_count": 5,
   "id": "ccc23cac",
   "metadata": {},
   "outputs": [
    {
     "name": "stdout",
     "output_type": "stream",
     "text": [
      "Performance du SVM avec un noyau linéaire :\n",
      "              precision    recall  f1-score   support\n",
      "\n",
      "           0       1.00      1.00      1.00        33\n",
      "           1       0.95      1.00      0.98        42\n",
      "           2       1.00      1.00      1.00        27\n",
      "           3       1.00      1.00      1.00        36\n",
      "           4       1.00      1.00      1.00        38\n",
      "           5       0.95      1.00      0.97        35\n",
      "           6       1.00      0.95      0.98        43\n",
      "           7       1.00      1.00      1.00        39\n",
      "           8       1.00      0.97      0.98        29\n",
      "           9       1.00      0.97      0.99        38\n",
      "\n",
      "    accuracy                           0.99       360\n",
      "   macro avg       0.99      0.99      0.99       360\n",
      "weighted avg       0.99      0.99      0.99       360\n",
      "\n"
     ]
    }
   ],
   "source": [
    "svm_linear = SVC(kernel='poly')\n",
    "svm_linear.fit(X_train, y_train)\n",
    "\n",
    "# Prédire sur les données de test et évaluer les performances\n",
    "y_pred_linear = svm_linear.predict(X_test)\n",
    "print(\"Performance du SVM avec un noyau linéaire :\")\n",
    "print(classification_report(y_test, y_pred_linear))"
   ]
  },
  {
   "cell_type": "code",
   "execution_count": 6,
   "id": "e455b514",
   "metadata": {},
   "outputs": [
    {
     "name": "stdout",
     "output_type": "stream",
     "text": [
      "Performance du SVM avec un noyau linéaire :\n",
      "              precision    recall  f1-score   support\n",
      "\n",
      "           0       0.89      1.00      0.94        33\n",
      "           1       0.78      0.74      0.76        42\n",
      "           2       0.96      0.96      0.96        27\n",
      "           3       0.97      0.94      0.96        36\n",
      "           4       0.94      0.87      0.90        38\n",
      "           5       0.92      0.97      0.94        35\n",
      "           6       1.00      0.93      0.96        43\n",
      "           7       0.90      0.95      0.92        39\n",
      "           8       0.81      0.76      0.79        29\n",
      "           9       0.85      0.92      0.89        38\n",
      "\n",
      "    accuracy                           0.90       360\n",
      "   macro avg       0.90      0.90      0.90       360\n",
      "weighted avg       0.90      0.90      0.90       360\n",
      "\n"
     ]
    }
   ],
   "source": [
    "svm_linear = SVC(kernel='sigmoid')\n",
    "svm_linear.fit(X_train, y_train)\n",
    "\n",
    "# Prédire sur les données de test et évaluer les performances\n",
    "y_pred_linear = svm_linear.predict(X_test)\n",
    "print(\"Performance du SVM avec un noyau linéaire :\")\n",
    "print(classification_report(y_test, y_pred_linear))"
   ]
  },
  {
   "cell_type": "code",
   "execution_count": 7,
   "id": "43fd4c66",
   "metadata": {
    "scrolled": true
   },
   "outputs": [
    {
     "name": "stdout",
     "output_type": "stream",
     "text": [
      "Meilleurs paramètres pour SVM: {'C': 1, 'gamma': 0.001}\n",
      "Performance du SVM avec les meilleurs paramètres :\n",
      "              precision    recall  f1-score   support\n",
      "\n",
      "           0       1.00      1.00      1.00        33\n",
      "           1       0.95      1.00      0.98        42\n",
      "           2       1.00      1.00      1.00        27\n",
      "           3       1.00      1.00      1.00        36\n",
      "           4       1.00      1.00      1.00        38\n",
      "           5       0.97      1.00      0.99        35\n",
      "           6       1.00      0.95      0.98        43\n",
      "           7       1.00      1.00      1.00        39\n",
      "           8       0.97      0.97      0.97        29\n",
      "           9       1.00      0.97      0.99        38\n",
      "\n",
      "    accuracy                           0.99       360\n",
      "   macro avg       0.99      0.99      0.99       360\n",
      "weighted avg       0.99      0.99      0.99       360\n",
      "\n"
     ]
    }
   ],
   "source": [
    "from sklearn.model_selection import GridSearchCV\n",
    "\n",
    "param_grid = {'C': [0.1, 1, 10, 100], 'gamma': [0.001, 0.01, 0.1, 1]}\n",
    "grid_search = GridSearchCV(SVC(), param_grid, cv=5)\n",
    "grid_search.fit(X_train, y_train)\n",
    "best_svm = grid_search.best_estimator_\n",
    "y_pred_best = best_svm.predict(X_test)\n",
    "print(\"Meilleurs paramètres pour SVM:\", grid_search.best_params_)\n",
    "print(\"Performance du SVM avec les meilleurs paramètres :\")\n",
    "print(classification_report(y_test, y_pred_best))"
   ]
  },
  {
   "cell_type": "code",
   "execution_count": 8,
   "id": "f847c1d7",
   "metadata": {},
   "outputs": [],
   "source": [
    "import tensorflow as tf\n",
    "from tensorflow.keras.models import Sequential\n",
    "from tensorflow.keras.layers import Conv2D, MaxPooling2D, Flatten, Dense\n",
    "from tensorflow.keras.utils import to_categorical\n",
    "\n",
    "\n",
    "X_train = X_train.astype('float32') / 255.0\n",
    "X_test = X_test.astype('float32') / 255.0\n",
    "\n",
    "X_train_reshaped = X_train.reshape(-1, 8, 8)\n",
    "X_test_reshaped = X_test.reshape(-1, 8, 8)\n",
    "\n",
    "y_train = to_categorical(y_train, num_classes=10)\n",
    "y_test = to_categorical(y_test, num_classes=10)\n",
    "\n"
   ]
  },
  {
   "cell_type": "code",
   "execution_count": 9,
   "id": "4c0bd915",
   "metadata": {},
   "outputs": [],
   "source": [
    "model = Sequential([\n",
    "    Conv2D(filters=16, kernel_size=(3, 3), activation='relu', input_shape=(8, 8, 1)),\n",
    "    MaxPooling2D(pool_size=(2, 2), padding='same'),\n",
    "    Conv2D(filters=32, kernel_size=(3, 3), activation='relu'),\n",
    "    MaxPooling2D(pool_size=(2, 2), padding='same'),\n",
    "    Flatten(),\n",
    "    Dense(256, activation='relu'),\n",
    "    Dense(10, activation='softmax')\n",
    "])"
   ]
  },
  {
   "cell_type": "code",
   "execution_count": 10,
   "id": "1f737ef5",
   "metadata": {},
   "outputs": [],
   "source": [
    "class myCallback(tf.keras.callbacks.Callback):\n",
    "    def on_epoch_end(self, epoch, logs={}):\n",
    "        if logs.get('accuracy') is not None and logs.get('accuracy') >=1.000:\n",
    "            self.model.stop_training =  True\n",
    "\n",
    "callbacks = myCallback()"
   ]
  },
  {
   "cell_type": "code",
   "execution_count": 11,
   "id": "7a96c9d3",
   "metadata": {},
   "outputs": [
    {
     "name": "stdout",
     "output_type": "stream",
     "text": [
      "Epoch 1/100\n",
      " 1/45 [..............................] - ETA: 7s - loss: 2.3023 - accuracy: 0.0312"
     ]
    },
    {
     "name": "stderr",
     "output_type": "stream",
     "text": [
      "2024-03-21 11:37:35.275541: W tensorflow/tsl/platform/profile_utils/cpu_utils.cc:128] Failed to get CPU frequency: 0 Hz\n"
     ]
    },
    {
     "name": "stdout",
     "output_type": "stream",
     "text": [
      "45/45 [==============================] - 0s 3ms/step - loss: 2.2914 - accuracy: 0.2547 - val_loss: 2.2657 - val_accuracy: 0.3944\n",
      "Epoch 2/100\n",
      "45/45 [==============================] - 0s 1ms/step - loss: 2.1684 - accuracy: 0.4412 - val_loss: 1.9920 - val_accuracy: 0.5000\n",
      "Epoch 3/100\n",
      "45/45 [==============================] - 0s 1ms/step - loss: 1.6637 - accuracy: 0.6270 - val_loss: 1.3352 - val_accuracy: 0.6250\n",
      "Epoch 4/100\n",
      "45/45 [==============================] - 0s 1ms/step - loss: 1.1250 - accuracy: 0.7161 - val_loss: 0.9646 - val_accuracy: 0.7528\n",
      "Epoch 5/100\n",
      "45/45 [==============================] - 0s 1ms/step - loss: 0.8746 - accuracy: 0.7439 - val_loss: 0.7969 - val_accuracy: 0.7861\n",
      "Epoch 6/100\n",
      "45/45 [==============================] - 0s 1ms/step - loss: 0.7359 - accuracy: 0.7898 - val_loss: 0.7195 - val_accuracy: 0.8167\n",
      "Epoch 7/100\n",
      "45/45 [==============================] - 0s 1ms/step - loss: 0.6409 - accuracy: 0.8309 - val_loss: 0.6442 - val_accuracy: 0.8250\n",
      "Epoch 8/100\n",
      "45/45 [==============================] - 0s 1ms/step - loss: 0.5833 - accuracy: 0.8372 - val_loss: 0.5913 - val_accuracy: 0.8583\n",
      "Epoch 9/100\n",
      "45/45 [==============================] - 0s 1ms/step - loss: 0.5212 - accuracy: 0.8532 - val_loss: 0.5404 - val_accuracy: 0.8528\n",
      "Epoch 10/100\n",
      "45/45 [==============================] - 0s 1ms/step - loss: 0.4832 - accuracy: 0.8615 - val_loss: 0.5168 - val_accuracy: 0.8556\n",
      "Epoch 11/100\n",
      "45/45 [==============================] - 0s 1ms/step - loss: 0.4313 - accuracy: 0.8810 - val_loss: 0.4737 - val_accuracy: 0.8583\n",
      "Epoch 12/100\n",
      "45/45 [==============================] - 0s 1ms/step - loss: 0.3823 - accuracy: 0.9005 - val_loss: 0.4688 - val_accuracy: 0.8694\n",
      "Epoch 13/100\n",
      "45/45 [==============================] - 0s 1ms/step - loss: 0.3604 - accuracy: 0.9019 - val_loss: 0.4378 - val_accuracy: 0.9000\n",
      "Epoch 14/100\n",
      "45/45 [==============================] - 0s 1ms/step - loss: 0.3350 - accuracy: 0.9151 - val_loss: 0.3938 - val_accuracy: 0.8889\n",
      "Epoch 15/100\n",
      "45/45 [==============================] - 0s 1ms/step - loss: 0.3063 - accuracy: 0.9235 - val_loss: 0.3748 - val_accuracy: 0.9028\n",
      "Epoch 16/100\n",
      "45/45 [==============================] - 0s 1ms/step - loss: 0.2912 - accuracy: 0.9200 - val_loss: 0.3461 - val_accuracy: 0.9056\n",
      "Epoch 17/100\n",
      "45/45 [==============================] - 0s 1ms/step - loss: 0.2667 - accuracy: 0.9290 - val_loss: 0.3537 - val_accuracy: 0.9028\n",
      "Epoch 18/100\n",
      "45/45 [==============================] - 0s 1ms/step - loss: 0.2567 - accuracy: 0.9304 - val_loss: 0.3222 - val_accuracy: 0.9194\n",
      "Epoch 19/100\n",
      "45/45 [==============================] - 0s 1ms/step - loss: 0.2462 - accuracy: 0.9283 - val_loss: 0.3652 - val_accuracy: 0.8861\n",
      "Epoch 20/100\n",
      "45/45 [==============================] - 0s 1ms/step - loss: 0.2331 - accuracy: 0.9311 - val_loss: 0.3064 - val_accuracy: 0.9111\n",
      "Epoch 21/100\n",
      "45/45 [==============================] - 0s 1ms/step - loss: 0.2196 - accuracy: 0.9367 - val_loss: 0.3025 - val_accuracy: 0.9139\n",
      "Epoch 22/100\n",
      "45/45 [==============================] - 0s 1ms/step - loss: 0.2147 - accuracy: 0.9395 - val_loss: 0.2922 - val_accuracy: 0.9167\n",
      "Epoch 23/100\n",
      "45/45 [==============================] - 0s 1ms/step - loss: 0.2105 - accuracy: 0.9422 - val_loss: 0.2710 - val_accuracy: 0.9250\n",
      "Epoch 24/100\n",
      "45/45 [==============================] - 0s 1ms/step - loss: 0.2016 - accuracy: 0.9436 - val_loss: 0.2714 - val_accuracy: 0.9278\n",
      "Epoch 25/100\n",
      "45/45 [==============================] - 0s 1ms/step - loss: 0.1834 - accuracy: 0.9485 - val_loss: 0.2744 - val_accuracy: 0.9306\n",
      "Epoch 26/100\n",
      "45/45 [==============================] - 0s 1ms/step - loss: 0.1781 - accuracy: 0.9513 - val_loss: 0.2592 - val_accuracy: 0.9250\n",
      "Epoch 27/100\n",
      "45/45 [==============================] - 0s 1ms/step - loss: 0.1682 - accuracy: 0.9513 - val_loss: 0.2504 - val_accuracy: 0.9333\n",
      "Epoch 28/100\n",
      "45/45 [==============================] - 0s 1ms/step - loss: 0.1625 - accuracy: 0.9527 - val_loss: 0.2375 - val_accuracy: 0.9333\n",
      "Epoch 29/100\n",
      "45/45 [==============================] - 0s 1ms/step - loss: 0.1579 - accuracy: 0.9534 - val_loss: 0.2558 - val_accuracy: 0.9333\n",
      "Epoch 30/100\n",
      "45/45 [==============================] - 0s 1ms/step - loss: 0.1518 - accuracy: 0.9541 - val_loss: 0.2267 - val_accuracy: 0.9417\n",
      "Epoch 31/100\n",
      "45/45 [==============================] - 0s 1ms/step - loss: 0.1456 - accuracy: 0.9548 - val_loss: 0.2283 - val_accuracy: 0.9472\n",
      "Epoch 32/100\n",
      "45/45 [==============================] - 0s 1ms/step - loss: 0.1436 - accuracy: 0.9589 - val_loss: 0.2163 - val_accuracy: 0.9389\n",
      "Epoch 33/100\n",
      "45/45 [==============================] - 0s 1ms/step - loss: 0.1324 - accuracy: 0.9652 - val_loss: 0.2214 - val_accuracy: 0.9444\n",
      "Epoch 34/100\n",
      "45/45 [==============================] - 0s 1ms/step - loss: 0.1303 - accuracy: 0.9603 - val_loss: 0.2009 - val_accuracy: 0.9500\n",
      "Epoch 35/100\n",
      "45/45 [==============================] - 0s 1ms/step - loss: 0.1247 - accuracy: 0.9631 - val_loss: 0.2167 - val_accuracy: 0.9500\n",
      "Epoch 36/100\n",
      "45/45 [==============================] - 0s 1ms/step - loss: 0.1173 - accuracy: 0.9715 - val_loss: 0.2338 - val_accuracy: 0.9222\n",
      "Epoch 37/100\n",
      "45/45 [==============================] - 0s 1ms/step - loss: 0.1179 - accuracy: 0.9666 - val_loss: 0.1943 - val_accuracy: 0.9472\n",
      "Epoch 38/100\n",
      "45/45 [==============================] - 0s 1ms/step - loss: 0.1107 - accuracy: 0.9708 - val_loss: 0.1953 - val_accuracy: 0.9500\n",
      "Epoch 39/100\n",
      "45/45 [==============================] - 0s 1ms/step - loss: 0.1143 - accuracy: 0.9645 - val_loss: 0.1865 - val_accuracy: 0.9556\n",
      "Epoch 40/100\n",
      "45/45 [==============================] - 0s 1ms/step - loss: 0.1021 - accuracy: 0.9756 - val_loss: 0.1921 - val_accuracy: 0.9528\n",
      "Epoch 41/100\n",
      "45/45 [==============================] - 0s 1ms/step - loss: 0.1028 - accuracy: 0.9708 - val_loss: 0.1822 - val_accuracy: 0.9528\n",
      "Epoch 42/100\n",
      "45/45 [==============================] - 0s 1ms/step - loss: 0.1022 - accuracy: 0.9694 - val_loss: 0.1852 - val_accuracy: 0.9556\n",
      "Epoch 43/100\n",
      "45/45 [==============================] - 0s 1ms/step - loss: 0.0972 - accuracy: 0.9729 - val_loss: 0.1767 - val_accuracy: 0.9528\n",
      "Epoch 44/100\n",
      "45/45 [==============================] - 0s 1ms/step - loss: 0.0947 - accuracy: 0.9708 - val_loss: 0.1887 - val_accuracy: 0.9583\n",
      "Epoch 45/100\n",
      "45/45 [==============================] - 0s 1ms/step - loss: 0.0924 - accuracy: 0.9763 - val_loss: 0.1647 - val_accuracy: 0.9611\n",
      "Epoch 46/100\n",
      "45/45 [==============================] - 0s 1ms/step - loss: 0.0952 - accuracy: 0.9708 - val_loss: 0.1686 - val_accuracy: 0.9639\n",
      "Epoch 47/100\n",
      "45/45 [==============================] - 0s 1ms/step - loss: 0.0847 - accuracy: 0.9770 - val_loss: 0.1841 - val_accuracy: 0.9528\n",
      "Epoch 48/100\n",
      "45/45 [==============================] - 0s 1ms/step - loss: 0.0833 - accuracy: 0.9736 - val_loss: 0.1562 - val_accuracy: 0.9611\n",
      "Epoch 49/100\n",
      "45/45 [==============================] - 0s 1ms/step - loss: 0.0810 - accuracy: 0.9729 - val_loss: 0.1699 - val_accuracy: 0.9556\n",
      "Epoch 50/100\n",
      "45/45 [==============================] - 0s 1ms/step - loss: 0.0757 - accuracy: 0.9791 - val_loss: 0.1550 - val_accuracy: 0.9583\n",
      "Epoch 51/100\n",
      "45/45 [==============================] - 0s 1ms/step - loss: 0.0756 - accuracy: 0.9743 - val_loss: 0.1575 - val_accuracy: 0.9583\n",
      "Epoch 52/100\n",
      "45/45 [==============================] - 0s 1ms/step - loss: 0.0734 - accuracy: 0.9784 - val_loss: 0.1587 - val_accuracy: 0.9611\n",
      "Epoch 53/100\n",
      "45/45 [==============================] - 0s 1ms/step - loss: 0.0624 - accuracy: 0.9840 - val_loss: 0.1705 - val_accuracy: 0.9583\n",
      "Epoch 54/100\n",
      "45/45 [==============================] - 0s 1ms/step - loss: 0.0691 - accuracy: 0.9805 - val_loss: 0.1538 - val_accuracy: 0.9639\n",
      "Epoch 55/100\n",
      "45/45 [==============================] - 0s 1ms/step - loss: 0.0681 - accuracy: 0.9749 - val_loss: 0.1522 - val_accuracy: 0.9611\n",
      "Epoch 56/100\n",
      "45/45 [==============================] - 0s 1ms/step - loss: 0.0603 - accuracy: 0.9812 - val_loss: 0.1517 - val_accuracy: 0.9639\n",
      "Epoch 57/100\n",
      "45/45 [==============================] - 0s 1ms/step - loss: 0.0565 - accuracy: 0.9868 - val_loss: 0.1619 - val_accuracy: 0.9611\n",
      "Epoch 58/100\n",
      "45/45 [==============================] - 0s 1ms/step - loss: 0.0533 - accuracy: 0.9840 - val_loss: 0.1549 - val_accuracy: 0.9639\n"
     ]
    },
    {
     "name": "stdout",
     "output_type": "stream",
     "text": [
      "Epoch 59/100\n",
      "45/45 [==============================] - 0s 1ms/step - loss: 0.0517 - accuracy: 0.9889 - val_loss: 0.1452 - val_accuracy: 0.9611\n",
      "Epoch 60/100\n",
      "45/45 [==============================] - 0s 1ms/step - loss: 0.0536 - accuracy: 0.9861 - val_loss: 0.1522 - val_accuracy: 0.9583\n",
      "Epoch 61/100\n",
      "45/45 [==============================] - 0s 1ms/step - loss: 0.0490 - accuracy: 0.9889 - val_loss: 0.1499 - val_accuracy: 0.9611\n",
      "Epoch 62/100\n",
      "45/45 [==============================] - 0s 1ms/step - loss: 0.0464 - accuracy: 0.9875 - val_loss: 0.1473 - val_accuracy: 0.9611\n",
      "Epoch 63/100\n",
      "45/45 [==============================] - 0s 1ms/step - loss: 0.0467 - accuracy: 0.9903 - val_loss: 0.1480 - val_accuracy: 0.9639\n",
      "Epoch 64/100\n",
      "45/45 [==============================] - 0s 1ms/step - loss: 0.0476 - accuracy: 0.9861 - val_loss: 0.1494 - val_accuracy: 0.9583\n",
      "Epoch 65/100\n",
      "45/45 [==============================] - 0s 1ms/step - loss: 0.0476 - accuracy: 0.9889 - val_loss: 0.1381 - val_accuracy: 0.9611\n",
      "Epoch 66/100\n",
      "45/45 [==============================] - 0s 1ms/step - loss: 0.0422 - accuracy: 0.9875 - val_loss: 0.1575 - val_accuracy: 0.9556\n",
      "Epoch 67/100\n",
      "45/45 [==============================] - 0s 1ms/step - loss: 0.0433 - accuracy: 0.9896 - val_loss: 0.1455 - val_accuracy: 0.9611\n",
      "Epoch 68/100\n",
      "45/45 [==============================] - 0s 1ms/step - loss: 0.0376 - accuracy: 0.9896 - val_loss: 0.1759 - val_accuracy: 0.9556\n",
      "Epoch 69/100\n",
      "45/45 [==============================] - 0s 1ms/step - loss: 0.0363 - accuracy: 0.9923 - val_loss: 0.1498 - val_accuracy: 0.9611\n",
      "Epoch 70/100\n",
      "45/45 [==============================] - 0s 1ms/step - loss: 0.0384 - accuracy: 0.9910 - val_loss: 0.1415 - val_accuracy: 0.9639\n",
      "Epoch 71/100\n",
      "45/45 [==============================] - 0s 1ms/step - loss: 0.0391 - accuracy: 0.9882 - val_loss: 0.1368 - val_accuracy: 0.9639\n",
      "Epoch 72/100\n",
      "45/45 [==============================] - 0s 1ms/step - loss: 0.0331 - accuracy: 0.9951 - val_loss: 0.1350 - val_accuracy: 0.9639\n",
      "Epoch 73/100\n",
      "45/45 [==============================] - 0s 1ms/step - loss: 0.0302 - accuracy: 0.9944 - val_loss: 0.1381 - val_accuracy: 0.9667\n",
      "Epoch 74/100\n",
      "45/45 [==============================] - 0s 1ms/step - loss: 0.0312 - accuracy: 0.9916 - val_loss: 0.1463 - val_accuracy: 0.9611\n",
      "Epoch 75/100\n",
      "45/45 [==============================] - 0s 1ms/step - loss: 0.0290 - accuracy: 0.9923 - val_loss: 0.1420 - val_accuracy: 0.9639\n",
      "Epoch 76/100\n",
      "45/45 [==============================] - 0s 1ms/step - loss: 0.0275 - accuracy: 0.9930 - val_loss: 0.1450 - val_accuracy: 0.9639\n",
      "Epoch 77/100\n",
      "45/45 [==============================] - 0s 1ms/step - loss: 0.0269 - accuracy: 0.9951 - val_loss: 0.1409 - val_accuracy: 0.9667\n",
      "Epoch 78/100\n",
      "45/45 [==============================] - 0s 1ms/step - loss: 0.0244 - accuracy: 0.9951 - val_loss: 0.1386 - val_accuracy: 0.9639\n",
      "Epoch 79/100\n",
      "45/45 [==============================] - 0s 1ms/step - loss: 0.0221 - accuracy: 0.9965 - val_loss: 0.1341 - val_accuracy: 0.9722\n",
      "Epoch 80/100\n",
      "45/45 [==============================] - 0s 1ms/step - loss: 0.0250 - accuracy: 0.9951 - val_loss: 0.1434 - val_accuracy: 0.9639\n",
      "Epoch 81/100\n",
      "45/45 [==============================] - 0s 1ms/step - loss: 0.0252 - accuracy: 0.9958 - val_loss: 0.1426 - val_accuracy: 0.9750\n",
      "Epoch 82/100\n",
      "45/45 [==============================] - 0s 1ms/step - loss: 0.0222 - accuracy: 0.9951 - val_loss: 0.1518 - val_accuracy: 0.9611\n",
      "Epoch 83/100\n",
      "45/45 [==============================] - 0s 1ms/step - loss: 0.0214 - accuracy: 0.9944 - val_loss: 0.1334 - val_accuracy: 0.9750\n",
      "Epoch 84/100\n",
      "45/45 [==============================] - 0s 1ms/step - loss: 0.0206 - accuracy: 0.9979 - val_loss: 0.1318 - val_accuracy: 0.9722\n",
      "Epoch 85/100\n",
      "45/45 [==============================] - 0s 1ms/step - loss: 0.0229 - accuracy: 0.9965 - val_loss: 0.1334 - val_accuracy: 0.9722\n",
      "Epoch 86/100\n",
      "45/45 [==============================] - 0s 1ms/step - loss: 0.0198 - accuracy: 0.9944 - val_loss: 0.1364 - val_accuracy: 0.9750\n",
      "Epoch 87/100\n",
      "45/45 [==============================] - 0s 1ms/step - loss: 0.0200 - accuracy: 0.9951 - val_loss: 0.1356 - val_accuracy: 0.9750\n",
      "Epoch 88/100\n",
      "45/45 [==============================] - 0s 1ms/step - loss: 0.0204 - accuracy: 0.9951 - val_loss: 0.1219 - val_accuracy: 0.9694\n",
      "Epoch 89/100\n",
      "45/45 [==============================] - 0s 1ms/step - loss: 0.0200 - accuracy: 0.9958 - val_loss: 0.1559 - val_accuracy: 0.9667\n",
      "Epoch 90/100\n",
      "45/45 [==============================] - 0s 1ms/step - loss: 0.0149 - accuracy: 1.0000 - val_loss: 0.1206 - val_accuracy: 0.9694\n"
     ]
    },
    {
     "data": {
      "text/plain": [
       "<keras.callbacks.History at 0x167874710>"
      ]
     },
     "execution_count": 11,
     "metadata": {},
     "output_type": "execute_result"
    }
   ],
   "source": [
    "model.compile(optimizer='adam',\n",
    "              loss='categorical_crossentropy',\n",
    "              metrics=['accuracy'])\n",
    "\n",
    "model.fit(X_train_reshaped, y_train, epochs=100, batch_size=32, validation_data=(X_test_reshaped, y_test), callbacks=[callbacks])"
   ]
  },
  {
   "cell_type": "code",
   "execution_count": null,
   "id": "8bd940b9",
   "metadata": {},
   "outputs": [],
   "source": []
  }
 ],
 "metadata": {
  "kernelspec": {
   "display_name": "Python 3 (ipykernel)",
   "language": "python",
   "name": "python3"
  },
  "language_info": {
   "codemirror_mode": {
    "name": "ipython",
    "version": 3
   },
   "file_extension": ".py",
   "mimetype": "text/x-python",
   "name": "python",
   "nbconvert_exporter": "python",
   "pygments_lexer": "ipython3",
   "version": "3.11.0"
  }
 },
 "nbformat": 4,
 "nbformat_minor": 5
}
