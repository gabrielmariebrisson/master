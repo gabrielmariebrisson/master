{
 "cells": [
  {
   "cell_type": "markdown",
   "metadata": {
    "id": "3ZWytJuKCeR8"
   },
   "source": [
    "# Planning and PDDL\n",
    "\n",
    "This notebook examines the use of *planning* in artifical intelligence.  We will look at a classical planning algorithm called STRIPS (Standford Research Institute Problem Solver), which uses a language for defining plans called PDDL (Planning Domain Definition Language).  STRIPS, PDDL and classic planning are all defined in the Russell and Norvig textbook AI A Modern Approach, in chapter 11.  I also recommend this tutorial by Kory Becker: [Artificial Intelligence Planning with STRIPS, A Gentle Introduction](http://www.primaryobjects.com/2015/11/06/artificial-intelligence-planning-with-strips-a-gentle-introduction/).  She has an [online demo](https://stripsfiddle.herokuapp.com) that lets you upload your own PDDL-specified problems, and find solutions to them.  \n",
    "\n",
    "\n",
    "We will use this Python library:\n",
    "* [PDDL Parser](https://github.com/pucrs-automated-planning/pddl-parser)\n",
    "\n",
    "In PDDL, we can define **action schema** to represent actions.  Here is an example of an action schema for flying a plane from one location to another:\n",
    "```\n",
    "(:action fly\n",
    "     :parameters (?p - plane ?from - airport ?to - airport)\n",
    "     :precondition (and (plane ?p) (airport ?from) (airport ?to) (at ?p ?from))\n",
    "     :effect (and (at ?p ?to)) (not (at ?p ?from)))\n",
    ")\n",
    "```\n",
    "\n",
    "This defines an action called **fly**, which takes 3 arguments: a plane **p**, a starting airport **from** and a destination airport **to**.  In order for this action to be applied, several *preonditions* must be satisified:\n",
    "1. **p** must be a plane\n",
    "1. **from** must be be an airport\n",
    "1. **to** must be be an airport\n",
    "1. **p** must initially be located at **from**.\n",
    "\n",
    "\n",
    "\n",
    "Once the action is applied, then it has the *effect* of changing several states in the world.\n",
    "1. **p** is no longer located at **from**\n",
    "1. **p** is now located at **to**\n",
    "\n",
    "In general, a schema consists of:\n",
    "* an action name\n",
    "* a list of all the variables use in the schema\n",
    "* a precondition - a conjunction of literals (positive or negated atomic logical sentences)\n",
    "* an effect - a conjunction of literals\n",
    "\n",
    "_Note: The enforcement of argument types like `(plane ?p)` can be left out of the action schema if we specify types in the domain PDDL file._\n"
   ]
  },
  {
   "cell_type": "markdown",
   "metadata": {
    "id": "y85ljeryKBIL"
   },
   "source": [
    "\n",
    "## What to do\n",
    "\n",
    "In this exercise, you'll be writing PDDL for action castles, and then using the PDDL Parser and its planner to come up with solutions to different challenges in the game.\n",
    "\n",
    "To do this, you'll create pairs of files.  One file will represent the __domain__ and the other file will represent the __problem__.\n",
    "\n",
    "The domain file will specify the __types__ of things in your game, and a set of possible __actions__.\n",
    "\n",
    "The problem file will specify an instance of the game by giving its starting state.  For example, it will contain the list of how locations are connected, and where all of the objects are located at the start of the game.\n"
   ]
  },
  {
   "cell_type": "code",
   "execution_count": 1,
   "metadata": {
    "colab": {
     "base_uri": "https://localhost:8080/"
    },
    "id": "0GWwLynJNMwK",
    "outputId": "fa9ce2e3-ce97-4621-950e-746f2c8408ff"
   },
   "outputs": [
    {
     "name": "stdout",
     "output_type": "stream",
     "text": [
      "Clonage dans 'pddl-parser'...\n",
      "remote: Enumerating objects: 439, done.\u001b[K\n",
      "remote: Counting objects: 100% (197/197), done.\u001b[K\n",
      "remote: Compressing objects: 100% (38/38), done.\u001b[K\n",
      "remote: Total 439 (delta 174), reused 161 (delta 159), pack-reused 242 (from 1)\u001b[K\n",
      "Réception d'objets: 100% (439/439), 87.48 Kio | 1.12 Mio/s, fait.\n",
      "Résolution des deltas: 100% (258/258), fait.\n"
     ]
    }
   ],
   "source": [
    "# Install the PDDL parser\n",
    "!git clone https://github.com/pucrs-automated-planning/pddl-parser\n",
    "!cd pddl-parser"
   ]
  },
  {
   "cell_type": "code",
   "execution_count": 6,
   "metadata": {
    "colab": {
     "base_uri": "https://localhost:8080/"
    },
    "id": "fWBUrTknQo4F",
    "outputId": "c6578743-fe7a-42fa-8198-17a70921df9d"
   },
   "outputs": [],
   "source": [
    "# Mount your Google Drive so that you can save your PDDL files.\n",
    "#from google.colab import drive\n",
    "#drive.mount('/content/drive')\n",
    "import os\n",
    "path = os.getcwd()\n"
   ]
  },
  {
   "cell_type": "code",
   "execution_count": 7,
   "metadata": {
    "id": "0Uw0j_VG9W4T"
   },
   "outputs": [],
   "source": [
    "import os\n",
    "\n",
    "def write_to_file(string, path, filename):\n",
    "  \"\"\"This is a helper function to create a file from a string.\"\"\"\n",
    "  if not os.path.exists(path) and path != \"\":\n",
    "    os.makedirs(path)\n",
    "  with open(os.path.join(path, filename), \"w\") as f:\n",
    "      f.write(string)"
   ]
  },
  {
   "cell_type": "markdown",
   "metadata": {
    "id": "9f6Yb4vXLrb-"
   },
   "source": [
    "## Example Domain\n",
    "Here's a starting example of a PDDL for the Action Castle domain.  \n",
    "\n",
    "```\n",
    "(define (domain action-castle)\n",
    "   (:requirements :strips :typing)\n",
    "   (:types player location direction monster item)\n",
    "\n",
    "   (:action go\n",
    "      :parameters (?dir - direction ?p - player ?l1 - location ?l2 - location)\n",
    "      :precondition (and (at ?p ?l1) (connected ?l1 ?dir ?l2) (not (blocked ?l1 ?dir ?l2)))\n",
    "      :effect (and (at ?p ?l2) (not (at ?p ?l1)))\n",
    "   )\n",
    ")\n",
    "```\n",
    "This specifies 5 types of things that are in the game:\n",
    "* the player\n",
    "* locations\n",
    "* directions\n",
    "* monsters (like the troll, the guard and the ghost)\n",
    "* items\n",
    "\n",
    "We also define one action to get you started.  The action is `go`.  It takes in 4 arguments:\n",
    "* the direction to travel in\n",
    "* the player to move\n",
    "* the starting location\n",
    "* the destination location\n",
    "\n",
    "`Precondition` specifies what must be true in order to apply the `go` action, and `effect` specifies how the state of the world will change as a result of applying it.\n"
   ]
  },
  {
   "cell_type": "code",
   "execution_count": 8,
   "metadata": {
    "id": "vkCXN8SE7Rag"
   },
   "outputs": [],
   "source": [
    "domain_1 = \"\"\"\n",
    "(define (domain action-castle)\n",
    "   (:requirements :strips :typing)\n",
    "   (:types player location direction monster item)\n",
    "\n",
    "   (:action go\n",
    "      :parameters (?dir - direction ?p - player ?l1 - location ?l2 - location)\n",
    "      :precondition (and (at ?p ?l1) (connected ?l1 ?dir ?l2) (not (blocked ?l1 ?dir ?l2)))\n",
    "      :effect (and (at ?p ?l2) (not (at ?p ?l1)))\n",
    "   )\n",
    ")\n",
    "\"\"\"\n",
    "\n",
    "# Write the domain to a PDDL file\n",
    "domain_filename = \"domain.pddl\"\n",
    "write_to_file(domain_1, path, domain_filename)"
   ]
  },
  {
   "cell_type": "markdown",
   "metadata": {
    "id": "okJKJc7ENR5A"
   },
   "source": [
    "## Example Problem\n",
    "\n",
    "Here's an example of how to specify a problem called `navigate-to-location` in the `action-castle` domain.  We'll specify thee objects, which are instances of the types.  (We'll call our player the `npc` which stands for \"non-playable character\", to indicate that the AI is controling it, rather than us).  We'll also list out all of the locations and directions in the game.\n",
    "\n",
    "We can introduce predicates like\n",
    "```\n",
    "(connected cottage out gardenpath)\n",
    "```\n",
    "or\n",
    "```\n",
    "(at npc cottage)\n",
    "```\n",
    "that specify the starting conditions of the game.  These can be \"fluent\" meaning that they can change over the course of the game by application of the actions."
   ]
  },
  {
   "cell_type": "code",
   "execution_count": 9,
   "metadata": {
    "id": "P-Y8-IMM9YBL"
   },
   "outputs": [],
   "source": [
    "problem_1 = \"\"\"\n",
    "(define (problem navigate-to-location)\n",
    "   (:domain action-castle)\n",
    "\n",
    "   (:objects\n",
    "      npc - player\n",
    "      cottage gardenpath fishingpond gardenpath windingpath talltree drawbridge courtyard towerstairs tower dungeonstairs dungeon greatfeastinghall throneroom - location\n",
    "      in out north south east west up down - direction\n",
    "   )\n",
    "\n",
    "   (:init\n",
    "      (connected cottage out gardenpath)\n",
    "      (connected gardenpath in cottage)\n",
    "      (connected gardenpath south fishingpond)\n",
    "      (connected fishingpond north gardenpath)\n",
    "      (connected gardenpath north windingpath)\n",
    "      (connected windingpath south gardenpath)\n",
    "      (connected windingpath up talltree)\n",
    "      (connected talltree down windingpath)\n",
    "      (connected windingpath east drawbridge)\n",
    "      (connected drawbridge west windingpath)\n",
    "      (connected drawbridge east courtyard)\n",
    "      (connected courtyard west drawbridge)\n",
    "      (connected courtyard up towerstairs)\n",
    "      (connected towerstairs down courtyard)\n",
    "      (connected towerstairs up tower)\n",
    "      (connected tower down towerstairs)\n",
    "      (connected courtyard down dungeonstairs)\n",
    "      (connected dungeonstairs up courtyard)\n",
    "      (connected dungeonstairs down dungeon)\n",
    "      (connected dungeon up dungeonstairs)\n",
    "      (connected courtyard east greatfeastinghall)\n",
    "      (connected greatfeastinghall west courtyard)\n",
    "      (connected greatfeastinghall east throneroom)\n",
    "      (connected throneroom west greatfeastinghall)\n",
    "      (at npc cottage)\n",
    "   )\n",
    "\n",
    "   (:goal (and (at npc throneroom)))\n",
    ")\n",
    "\"\"\"\n",
    "\n",
    "# Write the problem to a PDDL file\n",
    "problem_filename = \"problem.pddl\"\n",
    "write_to_file(problem_1, path, problem_filename)"
   ]
  },
  {
   "cell_type": "markdown",
   "metadata": {
    "id": "RN1JK7GtPMsI"
   },
   "source": [
    "## Check that your files are correctly formatted\n",
    "\n",
    "You can check that your PDDL files are correctly formatted by running this command.  It will print out all of the parts of your PDDL files if they are correctly formatted, or it will thrown an Exception if you have a formatting error.\n",
    "\n",
    "_Note: The PDDL notation goes back to the LISP programming language, which was a popular language in the early days of AI, when STRIPS was being developed.  It takes some getting used to, but hopefully it won't be too difficult for you to understand the format._"
   ]
  },
  {
   "cell_type": "code",
   "execution_count": 17,
   "metadata": {
    "id": "uFZT0e6NDeBe"
   },
   "outputs": [
    {
     "name": "stdout",
     "output_type": "stream",
     "text": [
      "----------------------------\r\n",
      "['define',\r\n",
      " ['domain', 'action-castle'],\r\n",
      " [':requirements', ':strips', ':typing'],\r\n",
      " [':types', 'player', 'location', 'direction', 'monster', 'item'],\r\n",
      " [':action',\r\n",
      "  'go',\r\n",
      "  ':parameters',\r\n",
      "  ['?dir',\r\n",
      "   '-',\r\n",
      "   'direction',\r\n",
      "   '?p',\r\n",
      "   '-',\r\n",
      "   'player',\r\n",
      "   '?l1',\r\n",
      "   '-',\r\n",
      "   'location',\r\n",
      "   '?l2',\r\n",
      "   '-',\r\n",
      "   'location'],\r\n",
      "  ':precondition',\r\n",
      "  ['and',\r\n",
      "   ['at', '?p', '?l1'],\r\n",
      "   ['connected', '?l1', '?dir', '?l2'],\r\n",
      "   ['not', ['blocked', '?l1', '?dir', '?l2']]],\r\n",
      "  ':effect',\r\n",
      "  ['and', ['at', '?p', '?l2'], ['not', ['at', '?p', '?l1']]]]]\r\n",
      "----------------------------\r\n",
      "['define',\r\n",
      " ['problem', 'navigate-to-location'],\r\n",
      " [':domain', 'action-castle'],\r\n",
      " [':objects',\r\n",
      "  'npc',\r\n",
      "  '-',\r\n",
      "  'player',\r\n",
      "  'cottage',\r\n",
      "  'gardenpath',\r\n",
      "  'fishingpond',\r\n",
      "  'gardenpath',\r\n",
      "  'windingpath',\r\n",
      "  'talltree',\r\n",
      "  'drawbridge',\r\n",
      "  'courtyard',\r\n",
      "  'towerstairs',\r\n",
      "  'tower',\r\n",
      "  'dungeonstairs',\r\n",
      "  'dungeon',\r\n",
      "  'greatfeastinghall',\r\n",
      "  'throneroom',\r\n",
      "  '-',\r\n",
      "  'location',\r\n",
      "  'in',\r\n",
      "  'out',\r\n",
      "  'north',\r\n",
      "  'south',\r\n",
      "  'east',\r\n",
      "  'west',\r\n",
      "  'up',\r\n",
      "  'down',\r\n",
      "  '-',\r\n",
      "  'direction'],\r\n",
      " [':init',\r\n",
      "  ['connected', 'cottage', 'out', 'gardenpath'],\r\n",
      "  ['connected', 'gardenpath', 'in', 'cottage'],\r\n",
      "  ['connected', 'gardenpath', 'south', 'fishingpond'],\r\n",
      "  ['connected', 'fishingpond', 'north', 'gardenpath'],\r\n",
      "  ['connected', 'gardenpath', 'north', 'windingpath'],\r\n",
      "  ['connected', 'windingpath', 'south', 'gardenpath'],\r\n",
      "  ['connected', 'windingpath', 'up', 'talltree'],\r\n",
      "  ['connected', 'talltree', 'down', 'windingpath'],\r\n",
      "  ['connected', 'windingpath', 'east', 'drawbridge'],\r\n",
      "  ['connected', 'drawbridge', 'west', 'windingpath'],\r\n",
      "  ['connected', 'drawbridge', 'east', 'courtyard'],\r\n",
      "  ['connected', 'courtyard', 'west', 'drawbridge'],\r\n",
      "  ['connected', 'courtyard', 'up', 'towerstairs'],\r\n",
      "  ['connected', 'towerstairs', 'down', 'courtyard'],\r\n",
      "  ['connected', 'towerstairs', 'up', 'tower'],\r\n",
      "  ['connected', 'tower', 'down', 'towerstairs'],\r\n",
      "  ['connected', 'courtyard', 'down', 'dungeonstairs'],\r\n",
      "  ['connected', 'dungeonstairs', 'up', 'courtyard'],\r\n",
      "  ['connected', 'dungeonstairs', 'down', 'dungeon'],\r\n",
      "  ['connected', 'dungeon', 'up', 'dungeonstairs'],\r\n",
      "  ['connected', 'courtyard', 'east', 'greatfeastinghall'],\r\n",
      "  ['connected', 'greatfeastinghall', 'west', 'courtyard'],\r\n",
      "  ['connected', 'greatfeastinghall', 'east', 'throneroom'],\r\n",
      "  ['connected', 'throneroom', 'west', 'greatfeastinghall'],\r\n",
      "  ['at', 'npc', 'cottage']],\r\n",
      " [':goal', ['and', ['at', 'npc', 'throneroom']]]]\r\n",
      "----------------------------\r\n",
      "Domain name: action-castle\r\n",
      "action: go\r\n",
      "  parameters: [['?dir', 'direction'], ['?p', 'player'], ['?l1', 'location'], ['?l2', 'location']]\r\n",
      "  positive_preconditions: [['connected', '?l1', '?dir', '?l2'], ['at', '?p', '?l1']]\r\n",
      "  negative_preconditions: [['blocked', '?l1', '?dir', '?l2']]\r\n",
      "  add_effects: [['at', '?p', '?l2']]\r\n",
      "  del_effects: [['at', '?p', '?l1']]\r\n",
      "\r\n",
      "----------------------------\r\n",
      "Problem name: navigate-to-location\r\n",
      "Objects: {'player': ['npc'], 'location': ['cottage', 'gardenpath', 'fishingpond', 'gardenpath', 'windingpath', 'talltree', 'drawbridge', 'courtyard', 'towerstairs', 'tower', 'dungeonstairs', 'dungeon', 'greatfeastinghall', 'throneroom'], 'direction': ['in', 'out', 'north', 'south', 'east', 'west', 'up', 'down']}\r\n",
      "State: [['connected', 'windingpath', 'up', 'talltree'], ['connected', 'towerstairs', 'up', 'tower'], ['connected', 'drawbridge', 'east', 'courtyard'], ['connected', 'greatfeastinghall', 'east', 'throneroom'], ['connected', 'dungeonstairs', 'up', 'courtyard'], ['connected', 'courtyard', 'up', 'towerstairs'], ['connected', 'towerstairs', 'down', 'courtyard'], ['connected', 'talltree', 'down', 'windingpath'], ['connected', 'dungeonstairs', 'down', 'dungeon'], ['connected', 'windingpath', 'south', 'gardenpath'], ['connected', 'fishingpond', 'north', 'gardenpath'], ['at', 'npc', 'cottage'], ['connected', 'throneroom', 'west', 'greatfeastinghall'], ['connected', 'gardenpath', 'in', 'cottage'], ['connected', 'courtyard', 'east', 'greatfeastinghall'], ['connected', 'gardenpath', 'south', 'fishingpond'], ['connected', 'cottage', 'out', 'gardenpath'], ['connected', 'drawbridge', 'west', 'windingpath'], ['connected', 'gardenpath', 'north', 'windingpath'], ['connected', 'courtyard', 'down', 'dungeonstairs'], ['connected', 'tower', 'down', 'towerstairs'], ['connected', 'dungeon', 'up', 'dungeonstairs'], ['connected', 'greatfeastinghall', 'west', 'courtyard'], ['connected', 'courtyard', 'west', 'drawbridge'], ['connected', 'windingpath', 'east', 'drawbridge']]\r\n",
      "Positive goals: [['at', 'npc', 'throneroom']]\r\n",
      "Negative goals: []\r\n"
     ]
    }
   ],
   "source": [
    "!python -B pddl-parser/pddl_parser/PDDL.py '{path}/{domain_filename}' '{path}/{problem_filename}'"
   ]
  },
  {
   "cell_type": "markdown",
   "metadata": {
    "id": "N1cpK6SmRAgj"
   },
   "source": [
    "## Compute a plan\n",
    "\n",
    "You can use the planner in the PDDL Parser package to create a plan. The plan is a sequence of actions that will take you from the start state (specified in your problem.pddl file) to the goal (specified in the same file)."
   ]
  },
  {
   "cell_type": "code",
   "execution_count": 18,
   "metadata": {
    "colab": {
     "base_uri": "https://localhost:8080/"
    },
    "id": "Uoj6ArVtRADi",
    "outputId": "cae567e4-57b8-4416-8396-d06d5686216e"
   },
   "outputs": [
    {
     "name": "stdout",
     "output_type": "stream",
     "text": [
      "Time: 0.0070421695709228516s\r\n",
      "plan:\r\n",
      "go out npc cottage gardenpath\r\n",
      "go north npc gardenpath windingpath\r\n",
      "go east npc windingpath drawbridge\r\n",
      "go east npc drawbridge courtyard\r\n",
      "go east npc courtyard greatfeastinghall\r\n",
      "go east npc greatfeastinghall throneroom\r\n"
     ]
    }
   ],
   "source": [
    "!python -B pddl-parser/pddl_parser/planner.py '{path}/{domain_filename}' '{path}/{problem_filename}'"
   ]
  },
  {
   "cell_type": "markdown",
   "metadata": {
    "id": "3lL5SjQHIJdX"
   },
   "source": [
    "# TODO: Move Objects to Desired Location\n",
    "\n",
    "__Domain__:\n",
    "Add two new actions to our action-castle domain PDDL:\n",
    "* `get`\n",
    "* `drop`\n",
    "\n",
    "__Problem__:\n",
    "Create several items like the fishing pole, the rose, the crown, and put them in their starting locaiton in your problem PDDL.  Set the goal to be `(:goal (and (at crown throneroom)))`.\n",
    "\n",
    "Check to see if the NPC can move the crown to the throne room.\n",
    "\n"
   ]
  },
  {
   "cell_type": "code",
   "execution_count": 19,
   "metadata": {
    "id": "88NnT5OfU4vH"
   },
   "outputs": [],
   "source": [
    "domain_2 = \"\"\"\n",
    "(define (domain action-castle)\n",
    "   (:requirements :strips :typing)\n",
    "   (:types player location direction monster item)\n",
    "\n",
    "   (:action go\n",
    "      :parameters (?dir - direction ?p - player ?l1 - location ?l2 - location)\n",
    "      :precondition (and (at ?p ?l1) (connected ?l1 ?dir ?l2) (not (blocked ?l1 ?dir ?l2)))\n",
    "      :effect (and (at ?p ?l2) (not (at ?p ?l1)))\n",
    "   )\n",
    "\n",
    "   (:action get\n",
    "      :parameters (?p - player ?l - location ?i - item)\n",
    "      :precondition (and (at ?p ?l) (at ?p ?i))\n",
    "      :effect (and (holding ?p ?i))\n",
    "   )\n",
    "\n",
    "   (:action drop\n",
    "      :parameters (?p - player ? ?l - location ?i - item)\n",
    "      :precondition (and (at ?p ?l) (at ?p ?i))\n",
    "      :effect (and (holding ?p ?i))\n",
    "   )\n",
    ")\n",
    "\"\"\"\n",
    "\n",
    "# Write the domain to a PDDL file\n",
    "domain_filename = \"domain-2-move-objects.pddl\"\n",
    "write_to_file(domain_2, path, domain_filename)"
   ]
  },
  {
   "cell_type": "code",
   "execution_count": 20,
   "metadata": {
    "id": "54xQByEUVMQu"
   },
   "outputs": [],
   "source": [
    "problem_2 = \"\"\"\n",
    "(define (problem navigate-to-location)\n",
    "   (:domain action-castle)\n",
    "\n",
    "   (:objects\n",
    "      npc - player\n",
    "      cottage gardenpath fishingpond gardenpath windingpath talltree drawbridge courtyard towerstairs tower dungeonstairs dungeon greatfeastinghall throneroom - location\n",
    "      in out north south east west up down - direction\n",
    "      TODO - add the item names here\n",
    "   )\n",
    "\n",
    "   (:init\n",
    "      (connected cottage out gardenpath)\n",
    "      (connected gardenpath in cottage)\n",
    "      (connected gardenpath south fishingpond)\n",
    "      (connected fishingpond north gardenpath)\n",
    "      (connected gardenpath north windingpath)\n",
    "      (connected windingpath south gardenpath)\n",
    "      (connected windingpath up talltree)\n",
    "      (connected talltree down windingpath)\n",
    "      (connected windingpath east drawbridge)\n",
    "      (connected drawbridge west windingpath)\n",
    "      (connected drawbridge east courtyard)\n",
    "      (connected courtyard west drawbridge)\n",
    "      (connected courtyard up towerstairs)\n",
    "      (connected towerstairs down courtyard)\n",
    "      (connected towerstairs up tower)\n",
    "      (connected tower down towerstairs)\n",
    "      (connected courtyard down dungeonstairs)\n",
    "      (connected dungeonstairs up courtyard)\n",
    "      (connected dungeonstairs down dungeon)\n",
    "      (connected dungeon up dungeonstairs)\n",
    "      (connected courtyard east greatfeastinghall)\n",
    "      (connected greatfeastinghall west courtyard)\n",
    "      (connected greatfeastinghall east throneroom)\n",
    "      (connected throneroom west greatfeastinghall)\n",
    "      (at npc cottage)\n",
    "      TODO - add thestarting locations for items here\n",
    "   )\n",
    "\n",
    "\n",
    ")\n",
    "\"\"\"\n",
    "\n",
    "# Write the problem to a PDDL file\n",
    "problem_filename = \"problem-2-move-objects.pddl\"\n",
    "write_to_file(problem_2, path, problem_filename)"
   ]
  },
  {
   "cell_type": "markdown",
   "metadata": {
    "id": "mxnilTjLVvwq"
   },
   "source": [
    "### Check your file formats\n",
    "\n",
    "If you run this code without updating the domain and problem PDDL files, you'll get an error that says `AttributeError: 'str' object has no attribute 'pop'`.  That indicates that your PDDL format is incorrect.  "
   ]
  },
  {
   "cell_type": "code",
   "execution_count": 23,
   "metadata": {
    "id": "uZ3UUxkaVqSo"
   },
   "outputs": [
    {
     "name": "stdout",
     "output_type": "stream",
     "text": [
      "----------------------------\r\n",
      "['define',\r\n",
      " ['domain', 'action-castle'],\r\n",
      " [':requirements', ':strips', ':typing'],\r\n",
      " [':types', 'player', 'location', 'direction', 'monster', 'item'],\r\n",
      " [':action',\r\n",
      "  'go',\r\n",
      "  ':parameters',\r\n",
      "  ['?dir',\r\n",
      "   '-',\r\n",
      "   'direction',\r\n",
      "   '?p',\r\n",
      "   '-',\r\n",
      "   'player',\r\n",
      "   '?l1',\r\n",
      "   '-',\r\n",
      "   'location',\r\n",
      "   '?l2',\r\n",
      "   '-',\r\n",
      "   'location'],\r\n",
      "  ':precondition',\r\n",
      "  ['and',\r\n",
      "   ['at', '?p', '?l1'],\r\n",
      "   ['connected', '?l1', '?dir', '?l2'],\r\n",
      "   ['not', ['blocked', '?l1', '?dir', '?l2']]],\r\n",
      "  ':effect',\r\n",
      "  ['and', ['at', '?p', '?l2'], ['not', ['at', '?p', '?l1']]]],\r\n",
      " [':action',\r\n",
      "  'get',\r\n",
      "  ':parameters',\r\n",
      "  'todo',\r\n",
      "  ':precondition',\r\n",
      "  'todo',\r\n",
      "  ':effect',\r\n",
      "  'todo'],\r\n",
      " [':action',\r\n",
      "  'drop',\r\n",
      "  ':parameters',\r\n",
      "  'todo',\r\n",
      "  ':precondition',\r\n",
      "  'todo',\r\n",
      "  ':effect',\r\n",
      "  'todo']]\r\n",
      "----------------------------\r\n",
      "['define',\r\n",
      " ['problem', 'navigate-to-location'],\r\n",
      " [':domain', 'action-castle'],\r\n",
      " [':objects',\r\n",
      "  'npc',\r\n",
      "  '-',\r\n",
      "  'player',\r\n",
      "  'cottage',\r\n",
      "  'gardenpath',\r\n",
      "  'fishingpond',\r\n",
      "  'gardenpath',\r\n",
      "  'windingpath',\r\n",
      "  'talltree',\r\n",
      "  'drawbridge',\r\n",
      "  'courtyard',\r\n",
      "  'towerstairs',\r\n",
      "  'tower',\r\n",
      "  'dungeonstairs',\r\n",
      "  'dungeon',\r\n",
      "  'greatfeastinghall',\r\n",
      "  'throneroom',\r\n",
      "  '-',\r\n",
      "  'location',\r\n",
      "  'in',\r\n",
      "  'out',\r\n",
      "  'north',\r\n",
      "  'south',\r\n",
      "  'east',\r\n",
      "  'west',\r\n",
      "  'up',\r\n",
      "  'down',\r\n",
      "  '-',\r\n",
      "  'direction',\r\n",
      "  'todo',\r\n",
      "  '-',\r\n",
      "  'add',\r\n",
      "  'the',\r\n",
      "  'item',\r\n",
      "  'names',\r\n",
      "  'here'],\r\n",
      " [':init',\r\n",
      "  ['connected', 'cottage', 'out', 'gardenpath'],\r\n",
      "  ['connected', 'gardenpath', 'in', 'cottage'],\r\n",
      "  ['connected', 'gardenpath', 'south', 'fishingpond'],\r\n",
      "  ['connected', 'fishingpond', 'north', 'gardenpath'],\r\n",
      "  ['connected', 'gardenpath', 'north', 'windingpath'],\r\n",
      "  ['connected', 'windingpath', 'south', 'gardenpath'],\r\n",
      "  ['connected', 'windingpath', 'up', 'talltree'],\r\n",
      "  ['connected', 'talltree', 'down', 'windingpath'],\r\n",
      "  ['connected', 'windingpath', 'east', 'drawbridge'],\r\n",
      "  ['connected', 'drawbridge', 'west', 'windingpath'],\r\n",
      "  ['connected', 'drawbridge', 'east', 'courtyard'],\r\n",
      "  ['connected', 'courtyard', 'west', 'drawbridge'],\r\n",
      "  ['connected', 'courtyard', 'up', 'towerstairs'],\r\n",
      "  ['connected', 'towerstairs', 'down', 'courtyard'],\r\n",
      "  ['connected', 'towerstairs', 'up', 'tower'],\r\n",
      "  ['connected', 'tower', 'down', 'towerstairs'],\r\n",
      "  ['connected', 'courtyard', 'down', 'dungeonstairs'],\r\n",
      "  ['connected', 'dungeonstairs', 'up', 'courtyard'],\r\n",
      "  ['connected', 'dungeonstairs', 'down', 'dungeon'],\r\n",
      "  ['connected', 'dungeon', 'up', 'dungeonstairs'],\r\n",
      "  ['connected', 'courtyard', 'east', 'greatfeastinghall'],\r\n",
      "  ['connected', 'greatfeastinghall', 'west', 'courtyard'],\r\n",
      "  ['connected', 'greatfeastinghall', 'east', 'throneroom'],\r\n",
      "  ['connected', 'throneroom', 'west', 'greatfeastinghall'],\r\n",
      "  ['at', 'npc', 'cottage'],\r\n",
      "  'todo',\r\n",
      "  '-',\r\n",
      "  'add',\r\n",
      "  'thestarting',\r\n",
      "  'locations',\r\n",
      "  'for',\r\n",
      "  'items',\r\n",
      "  'here']]\r\n",
      "----------------------------\r\n",
      "Traceback (most recent call last):\r\n",
      "  File \"/autofs/unitytravail/travail/gmariebrisso/pddl-parser/pddl_parser/PDDL.py\", line 286, in <module>\r\n",
      "    parser.parse_domain(domain)\r\n",
      "  File \"/autofs/unitytravail/travail/gmariebrisso/pddl-parser/pddl_parser/PDDL.py\", line 87, in parse_domain\r\n",
      "    self.parse_action(group)\r\n",
      "  File \"/autofs/unitytravail/travail/gmariebrisso/pddl-parser/pddl_parser/PDDL.py\", line 185, in parse_action\r\n",
      "    t = p.pop(0)\r\n",
      "        ^^^^^\r\n",
      "AttributeError: 'str' object has no attribute 'pop'\r\n"
     ]
    }
   ],
   "source": [
    "!python -B pddl-parser/pddl_parser/PDDL.py '{path}/{domain_filename}' '{path}/{problem_filename}'"
   ]
  },
  {
   "cell_type": "markdown",
   "metadata": {
    "id": "GHuIhBO_Vy0P"
   },
   "source": [
    "### Compute a plan"
   ]
  },
  {
   "cell_type": "code",
   "execution_count": 24,
   "metadata": {
    "id": "XVqj3Us2V1TY"
   },
   "outputs": [
    {
     "name": "stdout",
     "output_type": "stream",
     "text": [
      "Traceback (most recent call last):\r\n",
      "  File \"/autofs/unitytravail/travail/gmariebrisso/pddl-parser/pddl_parser/planner.py\", line 91, in <module>\r\n",
      "    plan = planner.solve(domain, problem)\r\n",
      "           ^^^^^^^^^^^^^^^^^^^^^^^^^^^^^^\r\n",
      "  File \"/autofs/unitytravail/travail/gmariebrisso/pddl-parser/pddl_parser/planner.py\", line 31, in solve\r\n",
      "    parser.parse_domain(domain)\r\n",
      "  File \"/autofs/unitytravail/travail/gmariebrisso/pddl-parser/pddl_parser/PDDL.py\", line 87, in parse_domain\r\n",
      "    self.parse_action(group)\r\n",
      "  File \"/autofs/unitytravail/travail/gmariebrisso/pddl-parser/pddl_parser/PDDL.py\", line 185, in parse_action\r\n",
      "    t = p.pop(0)\r\n",
      "        ^^^^^\r\n",
      "AttributeError: 'str' object has no attribute 'pop'\r\n"
     ]
    }
   ],
   "source": [
    "!python -B pddl-parser/pddl_parser/planner.py '{path}/{domain_filename}' '{path}/{problem_filename}'"
   ]
  },
  {
   "cell_type": "markdown",
   "metadata": {
    "id": "fEa9q9t7IRil"
   },
   "source": [
    "# TODO: Go Fishing\n",
    "\n",
    "\n",
    "__Domain Updates__:\n",
    "Add a new action schema called `gofish` that requires the fishing pole to catch a fish at a location that has a pond.\n",
    "\n",
    "\n",
    "__Problem Updates__:\n",
    "Add a new predicate that indicates which locations where fishing can take place.  \n",
    "```\n",
    "(haslake fishingpond)\n",
    "```\n",
    "Set the goal to be `(:goal (and (inventory npc fish)))`.\n",
    "\n",
    "\n",
    "\n",
    "_Hints:\n",
    " It might be helpful to create new types in your domain and problem specification like: fishingpole, and food.  This might help avoid being able to catch a fish with a rose._"
   ]
  },
  {
   "cell_type": "code",
   "execution_count": null,
   "metadata": {
    "id": "wQSKePLHYd2Z"
   },
   "outputs": [],
   "source": [
    "domain_3 = \"\"\"\n",
    "TODO\n",
    "\"\"\"\n",
    "\n",
    "problem_3 = \"\"\"\n",
    "(define (problem go-fish)\n",
    "   (:domain action-castle)\n",
    "\n",
    "   (:objects\n",
    "TODO\n",
    "   )\n",
    "\n",
    "   (:init\n",
    "      (connected cottage out gardenpath)\n",
    "      (connected gardenpath in cottage)\n",
    "      (connected gardenpath south fishingpond)\n",
    "      (connected fishingpond north gardenpath)\n",
    "      (at npc cottage)\n",
    "      (at pole cottage)\n",
    "TODO\n",
    "   )\n",
    "\n",
    "   (:goal (and (inventory npc fish)))\n",
    "\"\"\"\n",
    "\n",
    "# Write the problem to a PDDL file\n",
    "problem_filename = \"problem-3-fishing.pddl\"\n",
    "write_to_file(problem_3, path, problem_filename)\n",
    "\n",
    "# Write the domain to a PDDL file\n",
    "domain_filename = \"domain-3-fishing.pddl\"\n",
    "write_to_file(domain_3, path, domain_filename)\n",
    "\n",
    "# Check your files are formatted correctly\n",
    "!python -B pddl-parser/PDDL.py '{path}/{domain_filename}' '{path}/{problem_filename}'\n",
    "\n",
    "# Compute a plan\n",
    "!python -B pddl-parser/planner.py '{path}/{domain_filename}' '{path}/{problem_filename}'"
   ]
  },
  {
   "cell_type": "markdown",
   "metadata": {
    "id": "60HnIczmIWbY"
   },
   "source": [
    "# TODO: Feed the Troll\n",
    "\n",
    "\n",
    "__Domain Updates__:\n",
    "Add a new action schema called `feed` that feeds food to a monster, and results in the monster no longer being hungry, and the food being gone.\n",
    "\n",
    "\n",
    "__Problem Updates__:\n",
    "Add a new predicate to the start state.\n",
    "```\n",
    "(hungry troll)\n",
    "```\n",
    "And a new goal:\n",
    "```\n",
    " (:goal (and (not (hungry troll))))\n",
    "```\n",
    "\n",
    "\n"
   ]
  },
  {
   "cell_type": "code",
   "execution_count": null,
   "metadata": {
    "id": "RlwaK2Egb7HF"
   },
   "outputs": [],
   "source": [
    "domain_4 = \"\"\"\n",
    "TODO\n",
    "\"\"\"\n",
    "\n",
    "problem_4 = \"\"\"\n",
    "(define (problem feed-troll)\n",
    "\n",
    "TODO\n",
    "\n",
    "   (:goal (and (not (hungry troll))))\n",
    "\"\"\"\n",
    "\n",
    "# Write the problem to a PDDL file\n",
    "problem_filename = \"problem-4-feed-the-troll.pddl\"\n",
    "write_to_file(problem_4, path, problem_filename)\n",
    "\n",
    "# Write the domain to a PDDL file\n",
    "domain_filename = \"domain-4-feed-the-troll.pddl\"\n",
    "write_to_file(domain_4, path, domain_filename)\n",
    "\n",
    "# Check your files are formatted correctly\n",
    "!python -B pddl-parser/PDDL.py '{path}/{domain_filename}' '{path}/{problem_filename}'\n",
    "\n",
    "# Compute a plan\n",
    "!python -B pddl-parser/planner.py '{path}/{domain_filename}' '{path}/{problem_filename}'"
   ]
  },
  {
   "cell_type": "markdown",
   "metadata": {
    "id": "D_NM85S1IaOh"
   },
   "source": [
    "# Optional: Unblock Troll\n",
    "\n",
    "Our PDDL naviation example left out blocked locations, which are an important part of the puzzle solving of text adventure games.\n",
    "\n",
    "You can you implement a block for the troll, which is resolved after the troll is fed?\n",
    "\n",
    "```\n",
    "(blocked drawbridge east courtyard)\n",
    "(:goal (and (at npc tower)))\n",
    "```\n"
   ]
  },
  {
   "cell_type": "code",
   "execution_count": null,
   "metadata": {
    "id": "UoR-XUycIFMO"
   },
   "outputs": [],
   "source": [
    "domain_5 = \"\"\"\n",
    "TODO\n",
    "\"\"\"\n",
    "\n",
    "problem_5 = \"\"\"\n",
    "(define (problem unblock-troll)\n",
    "\n",
    "TODO\n",
    "(blocked drawbridge east courtyard)\n",
    "\n",
    "   (:goal (and (at npc tower)))\n",
    "\"\"\"\n",
    "\n",
    "# Write the problem to a PDDL file\n",
    "problem_filename = \"problem-5-unblock-troll.pddl\"\n",
    "write_to_file(problem_5, path, problem_filename)\n",
    "\n",
    "# Write the domain to a PDDL file\n",
    "domain_filename = \"domain-5-unblock-troll.pddl\"\n",
    "write_to_file(domain_5, path, domain_filename)\n",
    "\n",
    "# Check your files are formatted correctly\n",
    "!python -B pddl-parser/PDDL.py '{path}/{domain_filename}' '{path}/{problem_filename}'\n",
    "\n",
    "# Compute a plan\n",
    "!python -B pddl-parser/planner.py '{path}/{domain_filename}' '{path}/{problem_filename}'"
   ]
  },
  {
   "cell_type": "markdown",
   "metadata": {
    "id": "Sc4QHl-rTUzn"
   },
   "source": [
    "# Optional: Unblock Guard\n",
    "\n",
    "You can you implement a block for the guard, which is resolved after the you hit the guard with the branch?\n",
    "\n",
    "```\n",
    "      (at branch talltree)\n",
    "      (weapon branch)\n",
    "      (at guard courtyard)\n",
    "      (blocked courtyard east greatfeastinghall)\n",
    "\n",
    "```\n"
   ]
  },
  {
   "cell_type": "code",
   "execution_count": null,
   "metadata": {
    "id": "gryKEnTqTT7n"
   },
   "outputs": [],
   "source": [
    "domain_6 = \"\"\"\n",
    "TODO\n",
    "\"\"\"\n",
    "\n",
    "problem_6 = \"\"\"\n",
    "(define (problem unblock-guard)\n",
    "\n",
    "TODO\n",
    "\n",
    "   (:goal (and (at npc tower)))\n",
    "\"\"\"\n",
    "\n",
    "# Write the problem to a PDDL file\n",
    "problem_filename = \"problem-6-unblock-guard.pddl\"\n",
    "write_to_file(problem_6, path, problem_filename)\n",
    "\n",
    "# Write the domain to a PDDL file\n",
    "domain_filename = \"domain-6-unblock-guard.pddl\"\n",
    "write_to_file(domain_6, path, domain_filename)\n",
    "\n",
    "# Check your files are formatted correctly\n",
    "!python -B pddl-parser/PDDL.py '{path}/{domain_filename}' '{path}/{problem_filename}'\n",
    "\n",
    "# Compute a plan\n",
    "!python -B pddl-parser/planner.py '{path}/{domain_filename}' '{path}/{problem_filename}'"
   ]
  },
  {
   "cell_type": "markdown",
   "metadata": {
    "id": "DkIM7xuBYr3N"
   },
   "source": [
    "# Optional: Give the Rose to the Princess\n",
    "\n",
    "The princess is locked in the tower.  Can you find the key and then bring her the rose?\n",
    "\n",
    "\n",
    "```\n",
    "      (at rose gardenpath)\n",
    "      (blocked towerstairs up tower)\n",
    "      (locked tower)\n",
    "      (at princess tower)\n",
    "\n",
    "   (:goal (and (inventory princess rose) (at npc tower)))\n",
    "```"
   ]
  },
  {
   "cell_type": "code",
   "execution_count": null,
   "metadata": {
    "colab": {
     "background_save": true
    },
    "id": "r6SzSIXBYxLg"
   },
   "outputs": [],
   "source": [
    "domain_7 = \"\"\"\n",
    "TODO\n",
    "\"\"\"\n",
    "\n",
    "problem_7 = \"\"\"\n",
    "(define (problem give-rose-to-princess)\n",
    "\n",
    "TODO\n",
    "\n",
    "   (:goal (and (inventory princess rose) (at npc tower)))\n",
    "\"\"\"\n",
    "\n",
    "# Write the problem to a PDDL file\n",
    "problem_filename = \"problem-7-give-rose-to-princess.pddl\"\n",
    "write_to_file(problem_7, path, problem_filename)\n",
    "\n",
    "# Write the domain to a PDDL file\n",
    "domain_filename = \"domain-7-give-rose-to-princess.pddl\"\n",
    "write_to_file(domain_7, path, domain_filename)\n",
    "\n",
    "# Check your files are formatted correctly\n",
    "!python -B pddl-parser/PDDL.py '{path}/{domain_filename}' '{path}/{problem_filename}'\n",
    "\n",
    "# Compute a plan\n",
    "!python -B pddl-parser/planner.py '{path}/{domain_filename}' '{path}/{problem_filename}'"
   ]
  },
  {
   "cell_type": "markdown",
   "metadata": {
    "id": "3K4cKlecJ4pt"
   },
   "source": [
    "# Optional: Get the Crown from the Ghost\n",
    "\n",
    "The crown is held by the ghost of the king.  In order to get the crown, you'll first need to descend the  stairs to the dungeon (which are too dark to see), then exorcize the ghost by reading the runes on the lit the candle.\n",
    "\n",
    "```\n",
    "      (at candle greatfeastinghall)\n",
    "      (iscandle candle)\n",
    "      (blocked dungeonstairs down dungeon)\n",
    "      (dark dungeon)\n",
    "      (at ghost dungeon)\n",
    "\n",
    "   (:goal (and (inventory princess crown)))\n",
    "```"
   ]
  },
  {
   "cell_type": "code",
   "execution_count": null,
   "metadata": {
    "id": "dMJIPOeHhY7q"
   },
   "outputs": [],
   "source": [
    "domain_8 = \"\"\"\n",
    "TODO\n",
    "\"\"\"\n",
    "\n",
    "problem_8 = \"\"\"\n",
    "(define (problem ghost)\n",
    "\n",
    "TODO\n",
    "\n",
    "   (:goal (and (inventory princess rose) (at npc tower)))\n",
    "\"\"\"\n",
    "\n",
    "# Write the problem to a PDDL file\n",
    "problem_filename = \"problem-8-ghost.pddl\"\n",
    "write_to_file(problem_8, path, problem_filename)\n",
    "\n",
    "# Write the domain to a PDDL file\n",
    "domain_filename = \"domain-8-ghost.pddl\"\n",
    "write_to_file(domain_8, path, domain_filename)\n",
    "\n",
    "# Check your files are formatted correctly\n",
    "!python -B pddl-parser/PDDL.py '{path}/{domain_filename}' '{path}/{problem_filename}'\n",
    "\n",
    "# Compute a plan\n",
    "!python -B pddl-parser/planner.py '{path}/{domain_filename}' '{path}/{problem_filename}'"
   ]
  },
  {
   "cell_type": "code",
   "execution_count": null,
   "metadata": {
    "id": "8WMuC3UnhySq"
   },
   "outputs": [],
   "source": [
    "# Optional: Win the Game\n",
    "\n",
    "Wear the crowd. Sit on the throne. Win the game.\n",
    "\n",
    "```\n",
    "   (:goal (and (word npc crown) (sittingon npc throne)))\n",
    "```"
   ]
  },
  {
   "cell_type": "code",
   "execution_count": null,
   "metadata": {
    "id": "UGQItEuViC7j"
   },
   "outputs": [],
   "source": [
    "domain_9 = \"\"\"\n",
    "TODO\n",
    "\"\"\"\n",
    "\n",
    "problem_9 = \"\"\"\n",
    "(define (problem sit-on-throne)\n",
    "\n",
    "TODO\n",
    "\n",
    "(:goal (and (word npc crown) (sittingon npc throne)))\n",
    "\"\"\"\n",
    "\n",
    "# Write the problem to a PDDL file\n",
    "problem_filename = \"problem-9-sit-on-throne.pddl\"\n",
    "write_to_file(problem_9, path, problem_filename)\n",
    "\n",
    "# Write the domain to a PDDL file\n",
    "domain_filename = \"domain-9-sit-on-throne.pddl\"\n",
    "write_to_file(domain_9, path, domain_filename)\n",
    "\n",
    "# Check your files are formatted correctly\n",
    "!python -B pddl-parser/PDDL.py '{path}/{domain_filename}' '{path}/{problem_filename}'\n",
    "\n",
    "# Compute a plan\n",
    "!python -B pddl-parser/planner.py '{path}/{domain_filename}' '{path}/{problem_filename}'"
   ]
  }
 ],
 "metadata": {
  "colab": {
   "name": "Planning.ipynb",
   "provenance": []
  },
  "kernelspec": {
   "display_name": "Python 3 (ipykernel)",
   "language": "python",
   "name": "python3"
  },
  "language_info": {
   "codemirror_mode": {
    "name": "ipython",
    "version": 3
   },
   "file_extension": ".py",
   "mimetype": "text/x-python",
   "name": "python",
   "nbconvert_exporter": "python",
   "pygments_lexer": "ipython3",
   "version": "3.11.8"
  }
 },
 "nbformat": 4,
 "nbformat_minor": 1
}
