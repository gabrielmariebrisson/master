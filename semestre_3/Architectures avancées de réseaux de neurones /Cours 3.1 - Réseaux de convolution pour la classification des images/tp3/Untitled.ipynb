{
 "cells": [
  {
   "cell_type": "code",
   "execution_count": 1,
   "id": "d1529c7c",
   "metadata": {},
   "outputs": [
    {
     "data": {
      "text/plain": [
       "\" TD3: Modèles classiques pré-entraîné pour la classification des images\\nObjectifs:\\n- Utiliser PyTorch et PyTorch Lightning pour le transfert learning + fine-tuning d'architectures de réseaux de neurones\\n\""
      ]
     },
     "execution_count": 1,
     "metadata": {},
     "output_type": "execute_result"
    }
   ],
   "source": [
    "\"\"\" TD3: Modèles classiques pré-entraîné pour la classification des images\n",
    "Objectifs:\n",
    "- Utiliser PyTorch et PyTorch Lightning pour le transfert learning + fine-tuning d'architectures de réseaux de neurones\n",
    "\"\"\""
   ]
  },
  {
   "cell_type": "code",
   "execution_count": 2,
   "id": "c785eb27",
   "metadata": {},
   "outputs": [],
   "source": [
    "# TODO - Step 1: Don't start from scratch\n",
    "#   - Start from TD2 project"
   ]
  },
  {
   "cell_type": "code",
   "execution_count": 3,
   "id": "84e92fed",
   "metadata": {},
   "outputs": [],
   "source": [
    "# TODO - Step 2: Update the base model\n",
    "#   - Replace re-implemented models by one of the `torchvision.models`\n",
    "#   - Load both the architecture and pre-trained weights\n",
    "#   - Remove the last fully connected layer and add one for Caltech101\n",
    "#   - Re-train et evaluate the new model\n"
   ]
  },
  {
   "cell_type": "code",
   "execution_count": 4,
   "id": "02f8110d",
   "metadata": {},
   "outputs": [],
   "source": [
    "# TODO - bonus steps:\n",
    "#   - modify the learning rate to have two different learning rates:\n",
    "#       - a smaller one for the pre-trained architecture\n",
    "#       - a higher one for the newly added layer\n",
    "#   - Try and compare different pre-trained architectures\n"
   ]
  },
  {
   "cell_type": "code",
   "execution_count": null,
   "id": "abf80839",
   "metadata": {},
   "outputs": [],
   "source": []
  }
 ],
 "metadata": {
  "kernelspec": {
   "display_name": "Python 3 (ipykernel)",
   "language": "python",
   "name": "python3"
  },
  "language_info": {
   "codemirror_mode": {
    "name": "ipython",
    "version": 3
   },
   "file_extension": ".py",
   "mimetype": "text/x-python",
   "name": "python",
   "nbconvert_exporter": "python",
   "pygments_lexer": "ipython3",
   "version": "3.11.8"
  }
 },
 "nbformat": 4,
 "nbformat_minor": 5
}
