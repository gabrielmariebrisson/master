{
 "cells": [
  {
   "cell_type": "markdown",
   "metadata": {},
   "source": [
    "# Analyse, classification et indexation des données: feuille 7\n",
    "### Réduction de dimension - Analyse en Composantes Principales (ACP)"
   ]
  },
  {
   "cell_type": "code",
   "execution_count": 1,
   "metadata": {},
   "outputs": [],
   "source": [
    "import warnings\n",
    "warnings.filterwarnings(\"ignore\")"
   ]
  },
  {
   "cell_type": "markdown",
   "metadata": {},
   "source": [
    "#### Avant de commencer\n",
    "\n",
    "Ecrire une fonction <code> droite2DVd(x, vd, point) </code> permettant de calculer les ordonnées des points <code>(x, ?)</code> de la droite de vecteur directeur <code>vd</code> passant par le point <code>point</code>. Le paramètre <code>x</code> est un vecteur numpy, <code>vd</code> est un tuple <code>(a,b)</code>, <code>point</code> est un tuple <code>(xp, yp)</code>.\n",
    "Testez votre fonction."
   ]
  },
  {
   "cell_type": "code",
   "execution_count": 2,
   "metadata": {},
   "outputs": [
    {
     "data": {
      "text/plain": [
       "[<matplotlib.lines.Line2D at 0x7fe0801d8890>]"
      ]
     },
     "execution_count": 2,
     "metadata": {},
     "output_type": "execute_result"
    },
    {
     "data": {
      "image/png": "[encoded data removed]",
      "text/plain": [
       "<Figure size 640x480 with 1 Axes>"
      ]
     },
     "metadata": {},
     "output_type": "display_data"
    }
   ],
   "source": [
    "### CORRECTION\n",
    "import numpy as np\n",
    "import matplotlib.pyplot as plt\n",
    "%matplotlib inline\n",
    "def droite2DVd(x, vd, point): \n",
    "    return vd[1] / vd[0] * (x - point[0]) + point[1]\n",
    "\n",
    "xd = np.array([0, 100])\n",
    "yd = droite2DVd(xd, vd=(1,2), point=(1,1))\n",
    "\n",
    "plt.plot(xd, yd)"
   ]
  },
  {
   "cell_type": "markdown",
   "metadata": {},
   "source": [
    "### Exercice 1.\n",
    "\n",
    "Dans cet exercice, on considère le même dataset que pour le TD précédent (feuille 6). Nous avons un descripteur de taille 2 : chaque poisson est décrit par sa longueur et sa brillance. L'objectif de l'exercice est de passer d'un descripteur de taille 2 à un descripteur de taille 1.\n",
    "\n",
    "Commencez par charger les données.\n"
   ]
  },
  {
   "cell_type": "code",
   "execution_count": 3,
   "metadata": {},
   "outputs": [
    {
     "data": {
      "text/html": [
       "<div>\n",
       "<style scoped>\n",
       "    .dataframe tbody tr th:only-of-type {\n",
       "        vertical-align: middle;\n",
       "    }\n",
       "\n",
       "    .dataframe tbody tr th {\n",
       "        vertical-align: top;\n",
       "    }\n",
       "\n",
       "    .dataframe thead th {\n",
       "        text-align: right;\n",
       "    }\n",
       "</style>\n",
       "<table border=\"1\" class=\"dataframe\">\n",
       "  <thead>\n",
       "    <tr style=\"text-align: right;\">\n",
       "      <th></th>\n",
       "      <th>lightness</th>\n",
       "      <th>width</th>\n",
       "      <th>species</th>\n",
       "    </tr>\n",
       "  </thead>\n",
       "  <tbody>\n",
       "    <tr>\n",
       "      <th>115</th>\n",
       "      <td>5.428143</td>\n",
       "      <td>7.463178</td>\n",
       "      <td>0</td>\n",
       "    </tr>\n",
       "    <tr>\n",
       "      <th>58</th>\n",
       "      <td>5.401217</td>\n",
       "      <td>7.100131</td>\n",
       "      <td>0</td>\n",
       "    </tr>\n",
       "    <tr>\n",
       "      <th>1443</th>\n",
       "      <td>11.801394</td>\n",
       "      <td>11.160195</td>\n",
       "      <td>1</td>\n",
       "    </tr>\n",
       "    <tr>\n",
       "      <th>254</th>\n",
       "      <td>4.213442</td>\n",
       "      <td>8.876803</td>\n",
       "      <td>0</td>\n",
       "    </tr>\n",
       "    <tr>\n",
       "      <th>612</th>\n",
       "      <td>4.564266</td>\n",
       "      <td>8.321181</td>\n",
       "      <td>0</td>\n",
       "    </tr>\n",
       "  </tbody>\n",
       "</table>\n",
       "</div>"
      ],
      "text/plain": [
       "      lightness      width  species\n",
       "115    5.428143   7.463178        0\n",
       "58     5.401217   7.100131        0\n",
       "1443  11.801394  11.160195        1\n",
       "254    4.213442   8.876803        0\n",
       "612    4.564266   8.321181        0"
      ]
     },
     "execution_count": 3,
     "metadata": {},
     "output_type": "execute_result"
    }
   ],
   "source": [
    "### CORRECTION\n",
    "import pandas as pa\n",
    "data = pa.read_csv('https://www.labri.fr/perso/zemmari/datasets/salmon_seabass.csv', delimiter=';', decimal='.')\n",
    "data = data.sample(frac=1)\n",
    "data.head()"
   ]
  },
  {
   "cell_type": "code",
   "execution_count": 4,
   "metadata": {},
   "outputs": [],
   "source": [
    "### CORRECTION\n",
    "X = data[['width', 'lightness']]\n",
    "y = data.species"
   ]
  },
  {
   "cell_type": "markdown",
   "metadata": {},
   "source": [
    "1- Ecrire   une   fonction  <code>calculACP(echantillon, d=1)</code> qui réalise l'ACP sur un ensemble d'exemples. Chaque ligne de <code>echantillon</code> (DataFrame) contient les descripteurs associés à un exemple. La fonction retourne les <code>d</code> vecteurs propres calculés de plus grandes valeurs propres. Ils seront triés en fonction de leur valeur propre, de la plus grande à la plus petite. Tester la fonction sur le dataset."
   ]
  },
  {
   "cell_type": "code",
   "execution_count": 5,
   "metadata": {},
   "outputs": [
    {
     "name": "stdout",
     "output_type": "stream",
     "text": [
      "Cov:                width  lightness\n",
      "width      1.000667   0.562161\n",
      "lightness  0.562161   1.000667\n",
      "                 width    lightness\n",
      "width      1500.000000   842.679077\n",
      "lightness   842.679077  1500.000000\n",
      "lambdas:  [ 657.32092306 2342.67907694]\n",
      "vp:  [[-0.70710678 -0.70710678]\n",
      " [ 0.70710678 -0.70710678]]\n",
      "[1 0]\n",
      "[[-0.70710678]\n",
      " [-0.70710678]]\n"
     ]
    }
   ],
   "source": [
    "### CORRECTION\n",
    "import numpy as np\n",
    "from numpy.linalg import eig \n",
    "def calculACP(echantillon, d=1):\n",
    "    # si on veut des données centrées réduites\n",
    "    echantillon = echantillon - np.mean(echantillon)\n",
    "    echantillon = echantillon / np.std(echantillon)\n",
    "    n = echantillon.shape[0]\n",
    "    print('Cov: ', echantillon.cov())\n",
    "    scatterM = (n-1) * echantillon.cov()\n",
    "    print(scatterM)\n",
    "    lambdas, vp = eig(scatterM)\n",
    "    print('lambdas: ', lambdas)\n",
    "    print('vp: ', vp)\n",
    "    sorted_index = np.argsort(lambdas)[::-1]\n",
    "    print(sorted_index)\n",
    "    sorted_lambdas = lambdas[sorted_index]\n",
    "    sorted_vp = vp[:,sorted_index]   \n",
    "    vp_subset = sorted_vp[:,0:d]\n",
    "    return vp_subset\n",
    "\n",
    "vp = calculACP(X)\n",
    "print(vp)"
   ]
  },
  {
   "cell_type": "markdown",
   "metadata": {},
   "source": [
    "2- Ecrire une fonction <code>projection (W, echantillon)</code>  qui prend une matrice de\n",
    "projection <code>W</code> et un échantillon et qui retourne la projection de cet\n",
    "ensemble. "
   ]
  },
  {
   "cell_type": "code",
   "execution_count": 6,
   "metadata": {},
   "outputs": [
    {
     "name": "stdout",
     "output_type": "stream",
     "text": [
      "Cov:                width  lightness\n",
      "width      1.000667   0.562161\n",
      "lightness  0.562161   1.000667\n",
      "                 width    lightness\n",
      "width      1500.000000   842.679077\n",
      "lightness   842.679077  1500.000000\n",
      "lambdas:  [ 657.32092306 2342.67907694]\n",
      "vp:  [[-0.70710678 -0.70710678]\n",
      " [ 0.70710678 -0.70710678]]\n",
      "[1 0]\n"
     ]
    }
   ],
   "source": [
    "### CORRECTION\n",
    "def projection(W, echantillon):\n",
    "    #return np.dot(W.transpose(), echantillon.transpose()).transpose()\n",
    "    return np.matmul(echantillon, W)\n",
    "\n",
    "W = calculACP(X)\n",
    "X_proj = projection(W, X)\n",
    "# print(X_proj)"
   ]
  },
  {
   "cell_type": "markdown",
   "metadata": {},
   "source": [
    "3- Visualiser le résultat de la réduction de dimension sur le dataset. Vous afficherez le nuage de points initial en 2D et la projection de ce nuage en 1D."
   ]
  },
  {
   "cell_type": "markdown",
   "metadata": {},
   "source": [
    "##### Avant la projection : "
   ]
  },
  {
   "cell_type": "code",
   "execution_count": 7,
   "metadata": {},
   "outputs": [
    {
     "data": {
      "text/plain": [
       "[<matplotlib.lines.Line2D at 0x7fe1702c0ad0>]"
      ]
     },
     "execution_count": 7,
     "metadata": {},
     "output_type": "execute_result"
    },
    {
     "data": {
      "image/png": "[encoded data removed]",
      "text/plain": [
       "<Figure size 640x480 with 1 Axes>"
      ]
     },
     "metadata": {},
     "output_type": "display_data"
    }
   ],
   "source": [
    "### CORRECTION\n",
    "X = X - np.mean(X)\n",
    "X = X / np.std(X)\n",
    "plt.scatter(X['width'], X['lightness'], c=data['species'])\n",
    "xmin = X['width'].min()\n",
    "xmax = X['width'].max()\n",
    "xd = np.array([xmin, xmax])\n",
    "yd = droite2DVd(xd, vd=W, point=(0,0))\n",
    "\n",
    "plt.plot(xd, yd, c='r')"
   ]
  },
  {
   "cell_type": "markdown",
   "metadata": {},
   "source": [
    "#### Après la projection :"
   ]
  },
  {
   "cell_type": "code",
   "execution_count": 8,
   "metadata": {},
   "outputs": [
    {
     "data": {
      "text/plain": [
       "<matplotlib.collections.PathCollection at 0x7fe0722c4790>"
      ]
     },
     "execution_count": 8,
     "metadata": {},
     "output_type": "execute_result"
    },
    {
     "data": {
      "image/png": "[encoded data removed]",
      "text/plain": [
       "<Figure size 640x480 with 1 Axes>"
      ]
     },
     "metadata": {},
     "output_type": "display_data"
    }
   ],
   "source": [
    "### CORRECTION\n",
    "plt.scatter(X_proj, np.zeros(X_proj.shape[0]), c=data['species'])"
   ]
  },
  {
   "cell_type": "markdown",
   "metadata": {},
   "source": [
    "4- En utilisant un classifieur bayésien MAP, comparez les résultats obtenus avec l'échantillon brut (descripteur de dimension 2) et les résultats obtenus avec l'échantillon projeté sur l’axe de plus grande valeur propre (descripteur de dimension 1). Comparez également les temps d'entraînement."
   ]
  },
  {
   "cell_type": "code",
   "execution_count": 9,
   "metadata": {},
   "outputs": [],
   "source": [
    "### CORRECTION\n",
    "#Sans réduction de dimension :\n",
    "data = pa.read_csv('https://www.labri.fr/perso/zemmari/datasets/salmon_seabass.csv', delimiter=';', decimal='.')\n",
    "data = data.sample(frac=1)\n",
    "X = data[['width', 'lightness']]\n",
    "y = data.species"
   ]
  },
  {
   "cell_type": "code",
   "execution_count": 10,
   "metadata": {},
   "outputs": [],
   "source": [
    "### CORRECTION\n",
    "from sklearn.model_selection import train_test_split\n",
    "X_train, X_test, y_train, y_test = train_test_split(X, y)"
   ]
  },
  {
   "cell_type": "code",
   "execution_count": 11,
   "metadata": {},
   "outputs": [
    {
     "name": "stdout",
     "output_type": "stream",
     "text": [
      "Sans réduction :\n",
      "2.83 ms ± 7 µs per loop (mean ± std. dev. of 7 runs, 100 loops each)\n",
      "accuracy:  0.968\n"
     ]
    }
   ],
   "source": [
    "### CORRECTION\n",
    "from sklearn.naive_bayes import GaussianNB\n",
    "from sklearn.metrics import accuracy_score\n",
    "\n",
    "nb = GaussianNB()\n",
    "print('Sans réduction :')\n",
    "%timeit nb.fit(X_train, y_train)\n",
    "y_pred = nb.predict(X_test)\n",
    "acc = accuracy_score(y_test, y_pred)\n",
    "print('accuracy: ',acc)"
   ]
  },
  {
   "cell_type": "code",
   "execution_count": 12,
   "metadata": {},
   "outputs": [
    {
     "name": "stdout",
     "output_type": "stream",
     "text": [
      "Cov:                width  lightness\n",
      "width      1.000890   0.563228\n",
      "lightness  0.563228   1.000890\n",
      "                 width    lightness\n",
      "width      1125.000000   633.068309\n",
      "lightness   633.068309  1125.000000\n",
      "lambdas:  [ 491.93169144 1758.06830856]\n",
      "vp:  [[-0.70710678 -0.70710678]\n",
      " [ 0.70710678 -0.70710678]]\n",
      "[1 0]\n",
      "Après réduction :\n",
      "2.36 ms ± 6.58 µs per loop (mean ± std. dev. of 7 runs, 100 loops each)\n",
      "accuracy:  0.936\n"
     ]
    }
   ],
   "source": [
    "### CORRECTION\n",
    "#Après réduction de dimension :\n",
    "\n",
    "W = calculACP(X_train)\n",
    "X_train_proj = projection(W, X_train)\n",
    "X_test_proj = projection(W, X_test)\n",
    "\n",
    "nb = GaussianNB()\n",
    "print('Après réduction :')\n",
    "%timeit nb.fit(X_train_proj, y_train)\n",
    "y_pred = nb.predict(X_test_proj)\n",
    "acc = accuracy_score(y_test, y_pred)\n",
    "print('accuracy: ',acc)"
   ]
  },
  {
   "cell_type": "markdown",
   "metadata": {},
   "source": [
    "5- Même question avec un $k$-nn."
   ]
  },
  {
   "cell_type": "code",
   "execution_count": 13,
   "metadata": {},
   "outputs": [],
   "source": [
    "### CORRECTION\n",
    "from sklearn.neighbors import KNeighborsClassifier\n",
    "knn = KNeighborsClassifier()"
   ]
  },
  {
   "cell_type": "code",
   "execution_count": 14,
   "metadata": {},
   "outputs": [
    {
     "name": "stdout",
     "output_type": "stream",
     "text": [
      "Sans réduction knn : \n",
      "2.65 ms ± 11.2 µs per loop (mean ± std. dev. of 7 runs, 100 loops each)\n",
      "accuracy:  0.9546666666666667\n"
     ]
    }
   ],
   "source": [
    "### CORRECTION\n",
    "#Sans réduction :\n",
    "print('Sans réduction knn : ')\n",
    "%timeit knn.fit(X_train, y_train)\n",
    "y_pred = knn.predict(X_test)\n",
    "acc = accuracy_score(y_test, y_pred)\n",
    "print('accuracy: ',acc)"
   ]
  },
  {
   "cell_type": "code",
   "execution_count": 15,
   "metadata": {},
   "outputs": [
    {
     "name": "stdout",
     "output_type": "stream",
     "text": [
      "Après réduction knn : \n",
      "2.25 ms ± 1.03 µs per loop (mean ± std. dev. of 7 runs, 100 loops each)\n",
      "accuracy:  0.928\n"
     ]
    }
   ],
   "source": [
    "### CORRECTION\n",
    "#Après réduction :\n",
    "print('Après réduction knn : ')\n",
    "%timeit knn.fit(X_train_proj, y_train)\n",
    "y_pred = knn.predict(X_test_proj)\n",
    "acc = accuracy_score(y_test, y_pred)\n",
    "print('accuracy: ',acc)"
   ]
  },
  {
   "cell_type": "markdown",
   "metadata": {},
   "source": [
    "### Exercice 2.\n",
    "\n",
    "Dans cet exercice, nous allons travailler avec un dataset contenant des données sur le cancer du sein. Le dataset \n",
    "peut être chargé par l'instruction <code> load_breast_cancer</code> de la bibliothèque <code>sklearn.datasets</code>.\n",
    "\n",
    "Commencer par charger les données, et les explorer.\n",
    "\n"
   ]
  },
  {
   "cell_type": "code",
   "execution_count": 16,
   "metadata": {},
   "outputs": [
    {
     "name": "stdout",
     "output_type": "stream",
     "text": [
      "dict_keys(['data', 'target', 'frame', 'target_names', 'DESCR', 'feature_names', 'filename', 'data_module'])\n"
     ]
    }
   ],
   "source": [
    "### CORRECTION\n",
    "from sklearn.datasets import load_breast_cancer\n",
    "data = load_breast_cancer()\n",
    "print(data.keys())"
   ]
  },
  {
   "cell_type": "code",
   "execution_count": 17,
   "metadata": {},
   "outputs": [
    {
     "name": "stdout",
     "output_type": "stream",
     "text": [
      "['mean radius' 'mean texture' 'mean perimeter' 'mean area'\n",
      " 'mean smoothness' 'mean compactness' 'mean concavity'\n",
      " 'mean concave points' 'mean symmetry' 'mean fractal dimension'\n",
      " 'radius error' 'texture error' 'perimeter error' 'area error'\n",
      " 'smoothness error' 'compactness error' 'concavity error'\n",
      " 'concave points error' 'symmetry error' 'fractal dimension error'\n",
      " 'worst radius' 'worst texture' 'worst perimeter' 'worst area'\n",
      " 'worst smoothness' 'worst compactness' 'worst concavity'\n",
      " 'worst concave points' 'worst symmetry' 'worst fractal dimension']\n"
     ]
    }
   ],
   "source": [
    "### CORRECTION\n",
    "print(data.feature_names)"
   ]
  },
  {
   "cell_type": "code",
   "execution_count": 18,
   "metadata": {},
   "outputs": [
    {
     "name": "stdout",
     "output_type": "stream",
     "text": [
      "(569, 30)\n"
     ]
    }
   ],
   "source": [
    "### CORRECTION\n",
    "print(data.data.shape)"
   ]
  },
  {
   "cell_type": "code",
   "execution_count": 19,
   "metadata": {},
   "outputs": [],
   "source": [
    "### CORRECTION\n",
    "X = data.data\n",
    "y = data.target"
   ]
  },
  {
   "cell_type": "markdown",
   "metadata": {},
   "source": [
    "1- Faites une ACP en utilisant le module <code>PCA</code> de la bibliothèque <code>sklearn.decomposition</code>.  \n",
    "\n",
    "Attention : pensez à centrer et réduire vos données."
   ]
  },
  {
   "cell_type": "code",
   "execution_count": 20,
   "metadata": {},
   "outputs": [],
   "source": [
    "### CORRECTION\n",
    "from sklearn.preprocessing import StandardScaler\n",
    "scaler = StandardScaler()\n",
    "z = scaler.fit_transform(X)"
   ]
  },
  {
   "cell_type": "code",
   "execution_count": 21,
   "metadata": {},
   "outputs": [],
   "source": [
    "### CORRECTION\n",
    "from sklearn.decomposition import PCA\n",
    "acp = PCA()"
   ]
  },
  {
   "cell_type": "code",
   "execution_count": 22,
   "metadata": {},
   "outputs": [
    {
     "name": "stdout",
     "output_type": "stream",
     "text": [
      "30\n",
      "[4.42720256e-01 1.89711820e-01 9.39316326e-02 6.60213492e-02\n",
      " 5.49576849e-02 4.02452204e-02 2.25073371e-02 1.58872380e-02\n",
      " 1.38964937e-02 1.16897819e-02 9.79718988e-03 8.70537901e-03\n",
      " 8.04524987e-03 5.23365745e-03 3.13783217e-03 2.66209337e-03\n",
      " 1.97996793e-03 1.75395945e-03 1.64925306e-03 1.03864675e-03\n",
      " 9.99096464e-04 9.14646751e-04 8.11361259e-04 6.01833567e-04\n",
      " 5.16042379e-04 2.72587995e-04 2.30015463e-04 5.29779290e-05\n",
      " 2.49601032e-05 4.43482743e-06]\n"
     ]
    }
   ],
   "source": [
    "### CORRECTION\n",
    "coord = acp.fit_transform(z)\n",
    "print(acp.n_components_)\n",
    "print(acp.explained_variance_ratio_)"
   ]
  },
  {
   "cell_type": "markdown",
   "metadata": {},
   "source": [
    "2- Affichez l'éboulie des valeurs propres et indiquer le nombre d'axes à retenir en utilisant le critère du coude. "
   ]
  },
  {
   "cell_type": "code",
   "execution_count": 23,
   "metadata": {},
   "outputs": [
    {
     "data": {
      "image/png": "[encoded data removed]",
      "text/plain": [
       "<Figure size 640x480 with 1 Axes>"
      ]
     },
     "metadata": {},
     "output_type": "display_data"
    }
   ],
   "source": [
    "### CORRECTION\n",
    "import numpy as np\n",
    "import matplotlib.pyplot as plt\n",
    "%matplotlib inline\n",
    "plt.grid()\n",
    "plt.plot(np.arange(1,acp.n_components_+1),acp.explained_variance_ratio_) \n",
    "plt.title(\"Scree plot\") \n",
    "plt.ylabel(\"Eigen values\") \n",
    "plt.xlabel(\"Factor number\") \n",
    "plt.show()"
   ]
  },
  {
   "cell_type": "code",
   "execution_count": 24,
   "metadata": {},
   "outputs": [
    {
     "name": "stdout",
     "output_type": "stream",
     "text": [
      "0.7263637090898809\n"
     ]
    }
   ],
   "source": [
    "### CORRECTION\n",
    "#On peut choisir de ne retenir que les trois premiers axes. Voire 4 si la variance totale augmente vraiment :\n",
    "p = 3\n",
    "acp = PCA(n_components=p)\n",
    "coord = acp.fit_transform(z)\n",
    "print(acp.explained_variance_ratio_.sum())"
   ]
  },
  {
   "cell_type": "code",
   "execution_count": 25,
   "metadata": {},
   "outputs": [
    {
     "name": "stdout",
     "output_type": "stream",
     "text": [
      "0.7923850582436454\n"
     ]
    }
   ],
   "source": [
    "### CORRECTION\n",
    "p = 4\n",
    "acp = PCA(n_components=p)\n",
    "coord = acp.fit_transform(z)\n",
    "print(acp.explained_variance_ratio_.sum())\n",
    "\n",
    "#Le gain en rajoutant une composante n'est pas très significatif."
   ]
  },
  {
   "cell_type": "markdown",
   "metadata": {},
   "source": [
    "3- Combien d'axes faut-il retenir pour garder au moins 80% de la variance ?"
   ]
  },
  {
   "cell_type": "code",
   "execution_count": 26,
   "metadata": {},
   "outputs": [
    {
     "name": "stdout",
     "output_type": "stream",
     "text": [
      "p =  6\n",
      "total explained variance ratio:  0.8473427431679852\n"
     ]
    }
   ],
   "source": [
    "### CORRECTION\n",
    "p = 1\n",
    "total_variance = 0\n",
    "while total_variance < .8 :\n",
    "    acp = PCA(n_components=p)\n",
    "    coord = acp.fit_transform(z)\n",
    "    total_variance = acp.explained_variance_ratio_.sum()\n",
    "    p += 1\n",
    "print('p = ', p)\n",
    "print('total explained variance ratio: ', total_variance)"
   ]
  },
  {
   "cell_type": "markdown",
   "metadata": {},
   "source": [
    "4- En ne gardant que 3 axes,  étudier l'impact de la réduction sur la qualité d'un classifieur de votre choix. "
   ]
  },
  {
   "cell_type": "code",
   "execution_count": 27,
   "metadata": {},
   "outputs": [
    {
     "name": "stdout",
     "output_type": "stream",
     "text": [
      "Sans réduction :\n",
      "1.64 ms ± 3.27 µs per loop (mean ± std. dev. of 7 runs, 1,000 loops each)\n",
      "(426, 30)\n",
      "accuracy:  0.958041958041958\n"
     ]
    }
   ],
   "source": [
    "### CORRECTION\n",
    "from sklearn.naive_bayes import GaussianNB\n",
    "from sklearn.metrics import accuracy_score\n",
    "from sklearn.model_selection import train_test_split\n",
    "\n",
    "nb = GaussianNB()\n",
    "print('Sans réduction :')\n",
    "X_train, X_test, y_train, y_test = train_test_split(X, y)\n",
    "%timeit nb.fit(X_train, y_train)\n",
    "print(X_train.shape)\n",
    "y_pred = nb.predict(X_test)\n",
    "acc = accuracy_score(y_test, y_pred)\n",
    "print('accuracy: ',acc)"
   ]
  },
  {
   "cell_type": "code",
   "execution_count": 28,
   "metadata": {},
   "outputs": [
    {
     "name": "stdout",
     "output_type": "stream",
     "text": [
      "Après réduction :\n",
      "(426, 3)\n",
      "1.28 ms ± 1.88 µs per loop (mean ± std. dev. of 7 runs, 1,000 loops each)\n",
      "accuracy:  0.916083916083916\n"
     ]
    }
   ],
   "source": [
    "### CORRECTION\n",
    "print('Après réduction :')\n",
    "\n",
    "nb = GaussianNB()\n",
    "\n",
    "scaler.fit(X_train)\n",
    "z = scaler.transform(X_train)\n",
    "p = 3\n",
    "acp = PCA(n_components=p)\n",
    "X_train_proj = acp.fit_transform(z)\n",
    "print(X_train_proj.shape) \n",
    "%timeit nb.fit(X_train_proj, y_train)\n",
    "\n",
    "z = scaler.transform(X_test)\n",
    "X_test_proj = acp.transform(z)\n",
    "y_pred = nb.predict(X_test_proj)\n",
    "acc = accuracy_score(y_test, y_pred)\n",
    "print('accuracy: ',acc)"
   ]
  },
  {
   "cell_type": "markdown",
   "metadata": {},
   "source": [
    "5- Commenter les résultats"
   ]
  },
  {
   "cell_type": "markdown",
   "metadata": {},
   "source": [
    "### CORRECTION\n",
    "On voit que le temps d'entraînement diminue et que l'accuracy est légèrement moins bonne."
   ]
  },
  {
   "cell_type": "code",
   "execution_count": null,
   "metadata": {},
   "outputs": [],
   "source": []
  }
 ],
 "metadata": {
  "kernelspec": {
   "display_name": "Python 3 (ipykernel)",
   "language": "python",
   "name": "python3"
  },
  "language_info": {
   "codemirror_mode": {
    "name": "ipython",
    "version": 3
   },
   "file_extension": ".py",
   "mimetype": "text/x-python",
   "name": "python",
   "nbconvert_exporter": "python",
   "pygments_lexer": "ipython3",
   "version": "3.11.2"
  }
 },
 "nbformat": 4,
 "nbformat_minor": 2
}
