{
 "cells": [
  {
   "cell_type": "markdown",
   "metadata": {},
   "source": [
    "# Analyse, classification et indexation des données: feuille 6\n",
    "### Classifieur bayésien"
   ]
  },
  {
   "cell_type": "markdown",
   "metadata": {},
   "source": [
    "Dans la première partie de ce TD on s’appuie sur l’exemple du cours qui consiste à séparer des poissons en deux classes : bars et saumons. La classification sera faite à partir d’une seule caractéristique (la longueur) dans un premier temps, puis à partir de deux caractéristiques (longueur et brillance). En d’autres termes, le descripteur sera d’abord de dimension 1 puis de dimension 2."
   ]
  },
  {
   "cell_type": "markdown",
   "metadata": {},
   "source": [
    "#### Données\n",
    "Dans cet exercice, nous allons travailler avec un fichier (<code>salmon_seabass.csv</code>) contenant des informations sur la longueur et la brillance de deux classes de poissons : les saumons et les bars.\n",
    "Le fichier est disponible à l'adresse : \n",
    "\n",
    "https://www.labri.fr/perso/zemmari/datasets/salmon_seabass.csv\n",
    "\n",
    "1- Chargez le fichier, et notez que la colonne <code>species</code> indique la catégorie du poisson : \n",
    "\n",
    "    - 0 : il s'agit d'un saumon \n",
    "    - 1 : il s'agit d'un bar\n"
   ]
  },
  {
   "cell_type": "code",
   "execution_count": 25,
   "metadata": {},
   "outputs": [],
   "source": [
    "import pandas as pa"
   ]
  },
  {
   "cell_type": "code",
   "execution_count": 33,
   "metadata": {},
   "outputs": [],
   "source": [
    "seabass = pa.read_csv('https://www.labri.fr/perso/zemmari/datasets/salmon_seabass.csv', delimiter=';', header=0)"
   ]
  },
  {
   "cell_type": "code",
   "execution_count": 49,
   "metadata": {},
   "outputs": [
    {
     "name": "stdout",
     "output_type": "stream",
     "text": [
      "   lightness     width  species\n",
      "0   9.710457  8.673699        0\n",
      "1   6.528089  7.330887        0\n",
      "2   1.770695  7.599677        0\n",
      "3   4.819293  7.328198        0\n",
      "4   6.769638  8.575629        0\n",
      "<class 'pandas.core.frame.DataFrame'>\n",
      "RangeIndex: 1500 entries, 0 to 1499\n",
      "Data columns (total 3 columns):\n",
      " #   Column     Non-Null Count  Dtype  \n",
      "---  ------     --------------  -----  \n",
      " 0   lightness  1500 non-null   float64\n",
      " 1   width      1500 non-null   float64\n",
      " 2   species    1500 non-null   int64  \n",
      "dtypes: float64(2), int64(1)\n",
      "memory usage: 35.3 KB\n",
      "None\n"
     ]
    }
   ],
   "source": [
    "print(seabass.head())\n",
    "print(seabass.info())"
   ]
  },
  {
   "cell_type": "markdown",
   "metadata": {},
   "source": [
    "2- Affichez le nombre de valeurs fournies pour chacune des deux classes. On les nommera <code>sizeVTSaumon</code>\n",
    "et <code>sizeVTBar</code>. "
   ]
  },
  {
   "cell_type": "code",
   "execution_count": 51,
   "metadata": {},
   "outputs": [
    {
     "name": "stdout",
     "output_type": "stream",
     "text": [
      "size of saumon : 1000\n",
      "size of bar : 500\n"
     ]
    }
   ],
   "source": [
    "sizeVTSaumon = (seabass['species'] == 0).sum()\n",
    "sizeVTBar = (seabass['species'] == 1).sum()\n",
    "\n",
    "print(\"size of saumon :\", sizeVTSaumon)\n",
    "print(\"size of bar :\", sizeVTBar)"
   ]
  },
  {
   "cell_type": "markdown",
   "metadata": {},
   "source": [
    "### Exercice 1. classifieur avec une seule dimension\n",
    "\n",
    "### 1.0 Préalable\n",
    "Dans un premier temps, nous allons considérer un seul descripteur : la longueur <code>width</code> des poissons. "
   ]
  },
  {
   "cell_type": "markdown",
   "metadata": {},
   "source": [
    "a- Mélanger les données."
   ]
  },
  {
   "cell_type": "code",
   "execution_count": 43,
   "metadata": {},
   "outputs": [
    {
     "name": "stdout",
     "output_type": "stream",
     "text": [
      "      lightness      width  species\n",
      "1338   7.297558  13.309070        1\n",
      "1038  10.462884  18.932520        1\n",
      "462    6.690536   7.556233        0\n",
      "624    7.665178  10.412443        0\n",
      "538    4.245410   9.146918        0\n",
      "...         ...        ...      ...\n",
      "450    5.483418   7.396482        0\n",
      "878    1.927274   6.155747        0\n",
      "893    4.723484   8.540314        0\n",
      "193    7.299750   6.503081        0\n",
      "1299  14.611562  10.255437        1\n",
      "\n",
      "[1500 rows x 3 columns]\n"
     ]
    }
   ],
   "source": [
    "\n",
    "seabass_shuffled = seabass.sample(frac=1, random_state=1500)\n",
    "print(seabass_shuffled)"
   ]
  },
  {
   "cell_type": "markdown",
   "metadata": {},
   "source": [
    "b- Créer deux variables $X$ et $y$ respectivement la longueur du poisson et son espèce"
   ]
  },
  {
   "cell_type": "code",
   "execution_count": 44,
   "metadata": {},
   "outputs": [],
   "source": [
    "import matplotlib.pyplot as plt\n",
    "%matplotlib inline\n",
    "X = seabass_shuffled['width']\n",
    "y = seabass_shuffled['species']\n"
   ]
  },
  {
   "cell_type": "code",
   "execution_count": 45,
   "metadata": {},
   "outputs": [
    {
     "data": {
      "image/png": "[encoded data removed]",
      "text/plain": [
       "<Figure size 640x480 with 1 Axes>"
      ]
     },
     "metadata": {},
     "output_type": "display_data"
    }
   ],
   "source": [
    "plt.scatter(X, y)\n",
    "plt.xlabel(\"Longueur du poisson\")\n",
    "plt.ylabel(\"Espèce (0: Saumon, 1: Bar)\")\n",
    "plt.title(\"Répartition de la longueur des poissons par espèce\")\n",
    "plt.show()"
   ]
  },
  {
   "cell_type": "markdown",
   "metadata": {},
   "source": [
    "c-  Découper les données en deux parties : 80% pour l'entrainement et 20% pour le test."
   ]
  },
  {
   "cell_type": "code",
   "execution_count": 46,
   "metadata": {},
   "outputs": [],
   "source": [
    "from sklearn.model_selection import train_test_split"
   ]
  },
  {
   "cell_type": "code",
   "execution_count": 54,
   "metadata": {},
   "outputs": [],
   "source": [
    "from sklearn.model_selection import train_test_split\n",
    "X_train, X_test, Y_train, Y_test = train_test_split(X, y, test_size=0.2)"
   ]
  },
  {
   "cell_type": "markdown",
   "metadata": {},
   "source": [
    "#### 1.1. Classifieur ML\n",
    "\n",
    "a- Calculer les estimateurs non biaisés de la moyenne et de l'écart type pour chacune des espèces de poisson. Attention, il faut travailler sur la portion d'entraînement du dataset.  \n"
   ]
  },
  {
   "cell_type": "code",
   "execution_count": 55,
   "metadata": {},
   "outputs": [],
   "source": [
    "import numpy as np"
   ]
  },
  {
   "cell_type": "code",
   "execution_count": 57,
   "metadata": {},
   "outputs": [
    {
     "name": "stdout",
     "output_type": "stream",
     "text": [
      "Moyenne de la longueur pour les saumons : 8.032716124621984\n",
      "Écart type de la longueur pour les saumons : 0.9912883295947374\n",
      "Moyenne de la longueur pour les bars : 12.113263087062432\n",
      "Écart type de la longueur pour les bars : 2.0880433114333496\n"
     ]
    }
   ],
   "source": [
    "train_saumon = X_train[Y_train == 0]\n",
    "train_bar = X_train[Y_train == 1]\n",
    "\n",
    "mean_saumon = train_saumon.mean()\n",
    "std_saumon = train_saumon.std()\n",
    "mean_bar = train_bar.mean()\n",
    "std_bar = train_bar.std()\n",
    "\n",
    "print(\"Moyenne de la longueur pour les saumons :\", mean_saumon)\n",
    "print(\"Écart type de la longueur pour les saumons :\", std_saumon)\n",
    "\n",
    "print(\"Moyenne de la longueur pour les bars :\", mean_bar)\n",
    "print(\"Écart type de la longueur pour les bars :\", std_bar)\n"
   ]
  },
  {
   "cell_type": "markdown",
   "metadata": {},
   "source": [
    "b- Dessiner les courbes des lois normales correspondant à la fonction de maximum de vraisemblance. Indiquer la frontière de décision. Quelle est l'espèce prédite d'un poisson de longueur 12 ?"
   ]
  },
  {
   "cell_type": "code",
   "execution_count": 60,
   "metadata": {},
   "outputs": [
    {
     "data": {
      "image/png": "[encoded data removed]",
      "text/plain": [
       "<Figure size 800x600 with 1 Axes>"
      ]
     },
     "metadata": {},
     "output_type": "display_data"
    }
   ],
   "source": [
    "from scipy.stats import norm\n",
    "\n",
    "x = np.linspace(0, 25, 1000)  # Plage de valeurs possibles de la longueur\n",
    "pdf_saumon = norm.pdf(x, loc=mean_saumon, scale=std_saumon)\n",
    "pdf_bar = norm.pdf(x, loc=mean_bar, scale=std_bar)\n",
    "\n",
    "plt.figure(figsize=(8, 6))\n",
    "plt.plot(x, pdf_saumon, label='Saumon')\n",
    "plt.plot(x, pdf_bar, label='Bar')\n",
    "plt.xlabel('Longueur')\n",
    "plt.ylabel('Densité de probabilité')\n",
    "plt.legend()\n",
    "\n",
    "decision_boundary = (mean_saumon + mean_bar) / 2\n",
    "plt.axvline(x=decision_boundary, color='r', linestyle='--', label='Frontière de décision')\n",
    "\n",
    "plt.legend()\n",
    "plt.title('Courbes de densité de probabilité et Frontière de décision')\n",
    "plt.show()"
   ]
  },
  {
   "cell_type": "markdown",
   "metadata": {},
   "source": [
    "L'espèce prédite d'un poisson de longueur 12 est un bar \n",
    "\n"
   ]
  },
  {
   "cell_type": "markdown",
   "metadata": {},
   "source": []
  },
  {
   "cell_type": "markdown",
   "metadata": {},
   "source": [
    "c- Evaluer la qualité du modèle entrainé."
   ]
  },
  {
   "cell_type": "code",
   "execution_count": 72,
   "metadata": {},
   "outputs": [],
   "source": [
    "from sklearn.metrics import confusion_matrix, accuracy_score\n",
    "\n",
    "test_predictions = []\n",
    "\n",
    "for length in X_train:\n",
    "    if mean_saumon < length < mean_bar:\n",
    "        test_predictions.append(1)\n",
    "    else:\n",
    "        test_predictions.append(0)"
   ]
  },
  {
   "cell_type": "code",
   "execution_count": 73,
   "metadata": {},
   "outputs": [
    {
     "name": "stdout",
     "output_type": "stream",
     "text": [
      "Matrice de confusion :\n",
      "[[402 404]\n",
      " [199 195]]\n",
      "Exactitude : 0.50\n"
     ]
    }
   ],
   "source": [
    "confusion = confusion_matrix(Y_train, test_predictions)\n",
    "print(\"Matrice de confusion :\")\n",
    "print(confusion)\n",
    "\n",
    "accuracy = accuracy_score(Y_train, test_predictions)\n",
    "print(\"Exactitude : {:.2f}\".format(accuracy))\n"
   ]
  },
  {
   "cell_type": "code",
   "execution_count": null,
   "metadata": {},
   "outputs": [],
   "source": []
  },
  {
   "cell_type": "markdown",
   "metadata": {},
   "source": [
    "#### 1.2. Classifieur MAP\n",
    "\n",
    "a- Ecrire une fonction <code>classify()</code> permettant également de classifier les poissons mais en utilisant cette fois un classifieur a posteriori."
   ]
  },
  {
   "cell_type": "code",
   "execution_count": null,
   "metadata": {},
   "outputs": [],
   "source": []
  },
  {
   "cell_type": "markdown",
   "metadata": {},
   "source": [
    "b- Evaluer ce classifieur "
   ]
  },
  {
   "cell_type": "code",
   "execution_count": null,
   "metadata": {},
   "outputs": [],
   "source": []
  },
  {
   "cell_type": "markdown",
   "metadata": {},
   "source": []
  },
  {
   "cell_type": "markdown",
   "metadata": {},
   "source": [
    "### Exercice 2. Classifieur avec deux descripteurs "
   ]
  },
  {
   "cell_type": "markdown",
   "metadata": {},
   "source": [
    "Dans cet exercice, nous allons considérer le dataset dans sa globalité. Nous allons donc baser notre classification sur les deux descripteurs <code>width</code> et <code>lightness</code>.\n",
    "\n",
    "Reprogrammer et tester les deux classifieurs vus dans l'exercice 1. Quel est l'impact du rajout du nouveau descripteur ?"
   ]
  },
  {
   "cell_type": "code",
   "execution_count": null,
   "metadata": {},
   "outputs": [],
   "source": []
  },
  {
   "cell_type": "code",
   "execution_count": null,
   "metadata": {},
   "outputs": [],
   "source": []
  },
  {
   "cell_type": "code",
   "execution_count": null,
   "metadata": {},
   "outputs": [],
   "source": []
  },
  {
   "cell_type": "code",
   "execution_count": null,
   "metadata": {},
   "outputs": [],
   "source": []
  },
  {
   "cell_type": "code",
   "execution_count": null,
   "metadata": {},
   "outputs": [],
   "source": []
  },
  {
   "cell_type": "code",
   "execution_count": null,
   "metadata": {},
   "outputs": [],
   "source": []
  },
  {
   "cell_type": "markdown",
   "metadata": {},
   "source": [
    "### Exercice 3. Bayes avec <code>sklearn</code>"
   ]
  },
  {
   "cell_type": "markdown",
   "metadata": {},
   "source": [
    "Comparer vos résultats avec ceux obtenus avec un classifieur de Bayes de la bibliothèque <code>sklearn</code>."
   ]
  },
  {
   "cell_type": "code",
   "execution_count": null,
   "metadata": {},
   "outputs": [],
   "source": []
  },
  {
   "cell_type": "code",
   "execution_count": null,
   "metadata": {},
   "outputs": [],
   "source": [
    "from sklearn.naive_bayes import GaussianNB"
   ]
  },
  {
   "cell_type": "code",
   "execution_count": null,
   "metadata": {},
   "outputs": [],
   "source": []
  },
  {
   "cell_type": "code",
   "execution_count": null,
   "metadata": {},
   "outputs": [],
   "source": []
  },
  {
   "cell_type": "code",
   "execution_count": null,
   "metadata": {},
   "outputs": [],
   "source": []
  }
 ],
 "metadata": {
  "kernelspec": {
   "display_name": "Python 3 (ipykernel)",
   "language": "python",
   "name": "python3"
  },
  "language_info": {
   "codemirror_mode": {
    "name": "ipython",
    "version": 3
   },
   "file_extension": ".py",
   "mimetype": "text/x-python",
   "name": "python",
   "nbconvert_exporter": "python",
   "pygments_lexer": "ipython3",
   "version": "3.11.2"
  },
  "vscode": {
   "interpreter": {
    "hash": "fd69f43f58546b570e94fd7eba7b65e6bcc7a5bbc4eab0408017d18902915d69"
   }
  }
 },
 "nbformat": 4,
 "nbformat_minor": 2
}
