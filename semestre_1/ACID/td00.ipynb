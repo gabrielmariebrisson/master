{
 "cells": [
  {
   "cell_type": "markdown",
   "metadata": {},
   "source": [
    "### Présentation\n",
    "\n",
    "L’objectif de ce premier TD est de rassembler des outils et bibliothèques <code>Python</code> nécessaires pour la suite. Vous travaillerez dans ce fichier td01.ipynb en ajoutant le code à écrire, ainsi que tous les commentaires qui vous permettront d'utiliser efficacement ces outils dans les TD suivants.\n",
    "\n",
    "Le code est écrit dans une suite de cellules. Pour ajouter une cellule utilisez l'item *Insérer* du menu.  \n",
    "\n",
    "Pour exécuter les instructions d'une cellule, il suffit de placer le curseur dans la cellule souhaitée et d'exécuter la cellule (en cliquant sur <code>Exécuter</code> ou avec <code>Ctrl + Return</code>). \n",
    "\n",
    "<em>Remarque :</em> le choix a été fait de travailler sur des <code>jupyter notebooks</code> mais vous pouvez tout à fait utiliser votre IDE préféré pour écrire/exécuter vos instructions et vos programmes <code>Python</code>."
   ]
  },
  {
   "cell_type": "markdown",
   "metadata": {},
   "source": [
    "#### Université de Bordeaux,  Master Mention Informatique\n",
    "\n",
    "# Analyse, classification et indexation des données: feuille 1\n",
    "### Rappels : Probabilités et statistiques, Algèbre linéaire avec Python"
   ]
  },
  {
   "cell_type": "markdown",
   "metadata": {},
   "source": [
    "# 1. Vecteurs et matrices\n",
    "\n",
    "Un élément unique, un vecteur ligne ou colonne sont des cas particuliers de matrice (tableau 2D).\n",
    "\n",
    "Une des bibliothèques de <code>Python</code> les plus utilisées en algèbre linéaire est la bibliothèque <code>numpy</code>. On commence par l'importer pour pouvoir l'utiliser pour la suite."
   ]
  },
  {
   "cell_type": "code",
   "execution_count": 1,
   "metadata": {},
   "outputs": [],
   "source": [
    "import numpy as np"
   ]
  },
  {
   "cell_type": "markdown",
   "metadata": {},
   "source": [
    "### Exercice 1.\n",
    "\n",
    "Création de tableaux, accès à un élément d'un tableau "
   ]
  },
  {
   "cell_type": "markdown",
   "metadata": {},
   "source": [
    "Création d'un vecteur ligne :"
   ]
  },
  {
   "cell_type": "code",
   "execution_count": 2,
   "metadata": {},
   "outputs": [
    {
     "data": {
      "text/plain": [
       "array([10, 20, 30, 40])"
      ]
     },
     "execution_count": 2,
     "metadata": {},
     "output_type": "execute_result"
    }
   ],
   "source": [
    "L1 = np.array([10, 20, 30, 40])\n",
    "L1"
   ]
  },
  {
   "cell_type": "markdown",
   "metadata": {},
   "source": [
    "Création d'un vecteur colonne :"
   ]
  },
  {
   "cell_type": "code",
   "execution_count": 3,
   "metadata": {},
   "outputs": [
    {
     "data": {
      "text/plain": [
       "array([[10],\n",
       "       [20],\n",
       "       [30],\n",
       "       [40]])"
      ]
     },
     "execution_count": 3,
     "metadata": {},
     "output_type": "execute_result"
    }
   ],
   "source": [
    "C1 = np.array([[10], [20], [30], [40]])\n",
    "C1"
   ]
  },
  {
   "cell_type": "markdown",
   "metadata": {},
   "source": [
    "<b>Question : </b> Comment obtenir <code>C1</code> à partir de <code>L1</code> ?"
   ]
  },
  {
   "cell_type": "code",
   "execution_count": 4,
   "metadata": {},
   "outputs": [
    {
     "data": {
      "text/plain": [
       "array([[10],\n",
       "       [20],\n",
       "       [30],\n",
       "       [40]])"
      ]
     },
     "execution_count": 4,
     "metadata": {},
     "output_type": "execute_result"
    }
   ],
   "source": [
    "C2 = L1.reshape((4, 1))\n",
    "C2"
   ]
  },
  {
   "cell_type": "markdown",
   "metadata": {},
   "source": [
    "Accès à un élément d'un tableau. Les indices commencent à <code>0</code>."
   ]
  },
  {
   "cell_type": "code",
   "execution_count": 5,
   "metadata": {},
   "outputs": [
    {
     "data": {
      "text/plain": [
       "30"
      ]
     },
     "execution_count": 5,
     "metadata": {},
     "output_type": "execute_result"
    }
   ],
   "source": [
    "L1[2]"
   ]
  },
  {
   "cell_type": "code",
   "execution_count": 6,
   "metadata": {},
   "outputs": [
    {
     "data": {
      "text/plain": [
       "array([30])"
      ]
     },
     "execution_count": 6,
     "metadata": {},
     "output_type": "execute_result"
    }
   ],
   "source": [
    "C1[2]"
   ]
  },
  {
   "cell_type": "code",
   "execution_count": 7,
   "metadata": {},
   "outputs": [
    {
     "data": {
      "text/plain": [
       "30"
      ]
     },
     "execution_count": 7,
     "metadata": {},
     "output_type": "execute_result"
    }
   ],
   "source": [
    "C1[2][0]"
   ]
  },
  {
   "cell_type": "markdown",
   "metadata": {},
   "source": [
    "Création d'une matrice :"
   ]
  },
  {
   "cell_type": "code",
   "execution_count": 8,
   "metadata": {},
   "outputs": [
    {
     "data": {
      "text/plain": [
       "array([[10, 20, 30],\n",
       "       [40, 50, 60],\n",
       "       [70, 80, 90]])"
      ]
     },
     "execution_count": 8,
     "metadata": {},
     "output_type": "execute_result"
    }
   ],
   "source": [
    "M1 = np.array([[10, 20, 30], [40, 50, 60], [70, 80, 90]])\n",
    "M1"
   ]
  },
  {
   "cell_type": "markdown",
   "metadata": {},
   "source": [
    "La matrice est <code>3 x 3</code> :"
   ]
  },
  {
   "cell_type": "code",
   "execution_count": 9,
   "metadata": {},
   "outputs": [
    {
     "data": {
      "text/plain": [
       "(3, 3)"
      ]
     },
     "execution_count": 9,
     "metadata": {},
     "output_type": "execute_result"
    }
   ],
   "source": [
    "M1.shape"
   ]
  },
  {
   "cell_type": "code",
   "execution_count": 10,
   "metadata": {},
   "outputs": [
    {
     "data": {
      "text/plain": [
       "4"
      ]
     },
     "execution_count": 10,
     "metadata": {},
     "output_type": "execute_result"
    }
   ],
   "source": [
    "np.size(L1)"
   ]
  },
  {
   "cell_type": "code",
   "execution_count": 11,
   "metadata": {},
   "outputs": [
    {
     "data": {
      "text/plain": [
       "4"
      ]
     },
     "execution_count": 11,
     "metadata": {},
     "output_type": "execute_result"
    }
   ],
   "source": [
    "np.size(C1)"
   ]
  },
  {
   "cell_type": "code",
   "execution_count": 12,
   "metadata": {},
   "outputs": [
    {
     "data": {
      "text/plain": [
       "9"
      ]
     },
     "execution_count": 12,
     "metadata": {},
     "output_type": "execute_result"
    }
   ],
   "source": [
    "np.size(M1)"
   ]
  },
  {
   "cell_type": "code",
   "execution_count": 13,
   "metadata": {},
   "outputs": [
    {
     "data": {
      "text/plain": [
       "3"
      ]
     },
     "execution_count": 13,
     "metadata": {},
     "output_type": "execute_result"
    }
   ],
   "source": [
    "np.size(M1[1])"
   ]
  },
  {
   "cell_type": "markdown",
   "metadata": {},
   "source": [
    " Accéder aux éléments d'un tableau 2D (indiceLigne, indiceColonne) :"
   ]
  },
  {
   "cell_type": "code",
   "execution_count": 14,
   "metadata": {},
   "outputs": [
    {
     "data": {
      "text/plain": [
       "array([[40]])"
      ]
     },
     "execution_count": 14,
     "metadata": {},
     "output_type": "execute_result"
    }
   ],
   "source": [
    "M1[1:2, 0:1]"
   ]
  },
  {
   "cell_type": "markdown",
   "metadata": {},
   "source": [
    "Taille d'une matrice, d'un vecteur, d'un tableau :"
   ]
  },
  {
   "cell_type": "code",
   "execution_count": 15,
   "metadata": {},
   "outputs": [
    {
     "data": {
      "text/plain": [
       "60"
      ]
     },
     "execution_count": 15,
     "metadata": {},
     "output_type": "execute_result"
    }
   ],
   "source": [
    "iL = 1\n",
    "iC = 2\n",
    "M1[iL, iC]"
   ]
  },
  {
   "cell_type": "markdown",
   "metadata": {},
   "source": [
    "Extraire une ligne, une colonne :"
   ]
  },
  {
   "cell_type": "code",
   "execution_count": 16,
   "metadata": {},
   "outputs": [
    {
     "name": "stdout",
     "output_type": "stream",
     "text": [
      "[40 50 60]\n",
      "[30 60 90]\n"
     ]
    }
   ],
   "source": [
    "print(M1[1, :])\n",
    "print(M1[:, 2])"
   ]
  },
  {
   "cell_type": "markdown",
   "metadata": {},
   "source": [
    "Extraire une sous-matrice :"
   ]
  },
  {
   "cell_type": "markdown",
   "metadata": {},
   "source": [
    "Fonctions prédéfinies de création de tableaux :"
   ]
  },
  {
   "cell_type": "code",
   "execution_count": 17,
   "metadata": {},
   "outputs": [
    {
     "data": {
      "text/plain": [
       "array([0., 0., 0.])"
      ]
     },
     "execution_count": 17,
     "metadata": {},
     "output_type": "execute_result"
    }
   ],
   "source": [
    "M2 = np.zeros(3) \n",
    "M2"
   ]
  },
  {
   "cell_type": "code",
   "execution_count": 18,
   "metadata": {},
   "outputs": [
    {
     "data": {
      "text/plain": [
       "array([[0., 0., 0.]])"
      ]
     },
     "execution_count": 18,
     "metadata": {},
     "output_type": "execute_result"
    }
   ],
   "source": [
    "M3 = np.zeros((1,3))\n",
    "M3"
   ]
  },
  {
   "cell_type": "code",
   "execution_count": 19,
   "metadata": {},
   "outputs": [
    {
     "data": {
      "text/plain": [
       "array([[0., 0., 0.],\n",
       "       [0., 0., 0.]])"
      ]
     },
     "execution_count": 19,
     "metadata": {},
     "output_type": "execute_result"
    }
   ],
   "source": [
    "M4 = np.zeros((2, 3))\n",
    "M4"
   ]
  },
  {
   "cell_type": "code",
   "execution_count": 20,
   "metadata": {},
   "outputs": [
    {
     "data": {
      "text/plain": [
       "array([[1., 1., 1., 1.],\n",
       "       [1., 1., 1., 1.]])"
      ]
     },
     "execution_count": 20,
     "metadata": {},
     "output_type": "execute_result"
    }
   ],
   "source": [
    "M5 = np.ones((2,4))\n",
    "M5"
   ]
  },
  {
   "cell_type": "code",
   "execution_count": 21,
   "metadata": {},
   "outputs": [
    {
     "data": {
      "text/plain": [
       "array([[1., 0., 0.],\n",
       "       [0., 1., 0.],\n",
       "       [0., 0., 1.]])"
      ]
     },
     "execution_count": 21,
     "metadata": {},
     "output_type": "execute_result"
    }
   ],
   "source": [
    "Id = np.eye(3) \n",
    "Id"
   ]
  },
  {
   "cell_type": "markdown",
   "metadata": {},
   "source": [
    "Créer un tableau à partir de ses lignes :"
   ]
  },
  {
   "cell_type": "code",
   "execution_count": 22,
   "metadata": {},
   "outputs": [
    {
     "data": {
      "text/plain": [
       "array([[ 5,  1,  3],\n",
       "       [10,  4,  2],\n",
       "       [ 3,  5,  0]])"
      ]
     },
     "execution_count": 22,
     "metadata": {},
     "output_type": "execute_result"
    }
   ],
   "source": [
    "L1 = np.array([5, 1, 3])\n",
    "L2 = np.array([10, 4, 2])\n",
    "L3 = np.array([3, 5, 0])\n",
    "M6 = np.concatenate(([L1], [L2], [L3]))\n",
    "M6"
   ]
  },
  {
   "cell_type": "markdown",
   "metadata": {},
   "source": [
    "Redimensionner une matrice :\n",
    "\n",
    "    - le nombre d'élements est le même avant et après\n",
    "    - le parcours ligne par ligne donne la même suite d'éléments"
   ]
  },
  {
   "cell_type": "code",
   "execution_count": 23,
   "metadata": {},
   "outputs": [
    {
     "data": {
      "text/plain": [
       "array([[ 5,  1,  3],\n",
       "       [10,  4,  2]])"
      ]
     },
     "execution_count": 23,
     "metadata": {},
     "output_type": "execute_result"
    }
   ],
   "source": [
    "L1 = np.array([5, 1, 3])\n",
    "L2 = np.array([10, 4, 2])\n",
    "M7 = np.concatenate(([L1], [L2]))\n",
    "M7"
   ]
  },
  {
   "cell_type": "code",
   "execution_count": 24,
   "metadata": {},
   "outputs": [
    {
     "data": {
      "text/plain": [
       "array([[ 5,  1],\n",
       "       [ 3, 10],\n",
       "       [ 4,  2]])"
      ]
     },
     "execution_count": 24,
     "metadata": {},
     "output_type": "execute_result"
    }
   ],
   "source": [
    "M8 = np.reshape(M7, (3, 2))\n",
    "M8"
   ]
  },
  {
   "cell_type": "markdown",
   "metadata": {},
   "source": [
    "##### Opérations sur les matrices "
   ]
  },
  {
   "cell_type": "markdown",
   "metadata": {},
   "source": [
    "Produit scalaire de deux vecteurs :"
   ]
  },
  {
   "cell_type": "code",
   "execution_count": 25,
   "metadata": {},
   "outputs": [
    {
     "data": {
      "text/plain": [
       "14"
      ]
     },
     "execution_count": 25,
     "metadata": {},
     "output_type": "execute_result"
    }
   ],
   "source": [
    "L1 = np.array([1, 2, 3])\n",
    "L2 = np.array([1, 2, 3])\n",
    "prod = np.dot(L1, L2)\n",
    "prod"
   ]
  },
  {
   "cell_type": "markdown",
   "metadata": {},
   "source": [
    "Soit <code>M</code> la matrice définie comme suit :"
   ]
  },
  {
   "cell_type": "code",
   "execution_count": 26,
   "metadata": {},
   "outputs": [
    {
     "data": {
      "text/plain": [
       "array([[ 0.  ,  1.25,  2.5 ,  3.75,  5.  ,  6.25,  7.5 ,  8.75, 10.  ],\n",
       "       [ 0.  ,  1.25,  2.5 ,  3.75,  5.  ,  6.25,  7.5 ,  8.75, 10.  ],\n",
       "       [ 0.  ,  1.25,  2.5 ,  3.75,  5.  ,  6.25,  7.5 ,  8.75, 10.  ]])"
      ]
     },
     "execution_count": 26,
     "metadata": {},
     "output_type": "execute_result"
    }
   ],
   "source": [
    "L = np.linspace(0, 10, 9)\n",
    "M = np.array([L, L, L])\n",
    "M"
   ]
  },
  {
   "cell_type": "markdown",
   "metadata": {},
   "source": [
    "Somme de deux matrices :"
   ]
  },
  {
   "cell_type": "code",
   "execution_count": 27,
   "metadata": {},
   "outputs": [
    {
     "data": {
      "text/plain": [
       "array([[ 0. ,  2.5,  5. ,  7.5, 10. , 12.5, 15. , 17.5, 20. ],\n",
       "       [ 0. ,  2.5,  5. ,  7.5, 10. , 12.5, 15. , 17.5, 20. ],\n",
       "       [ 0. ,  2.5,  5. ,  7.5, 10. , 12.5, 15. , 17.5, 20. ]])"
      ]
     },
     "execution_count": 27,
     "metadata": {},
     "output_type": "execute_result"
    }
   ],
   "source": [
    "M + M"
   ]
  },
  {
   "cell_type": "markdown",
   "metadata": {},
   "source": [
    "Produit élément par élément de deux matrices :"
   ]
  },
  {
   "cell_type": "code",
   "execution_count": 28,
   "metadata": {},
   "outputs": [
    {
     "data": {
      "text/plain": [
       "array([[  0.    ,   1.5625,   6.25  ,  14.0625,  25.    ,  39.0625,\n",
       "         56.25  ,  76.5625, 100.    ],\n",
       "       [  0.    ,   1.5625,   6.25  ,  14.0625,  25.    ,  39.0625,\n",
       "         56.25  ,  76.5625, 100.    ],\n",
       "       [  0.    ,   1.5625,   6.25  ,  14.0625,  25.    ,  39.0625,\n",
       "         56.25  ,  76.5625, 100.    ]])"
      ]
     },
     "execution_count": 28,
     "metadata": {},
     "output_type": "execute_result"
    }
   ],
   "source": [
    "M * M"
   ]
  },
  {
   "cell_type": "markdown",
   "metadata": {},
   "source": [
    "Produit de deux matrices (compatibles) :"
   ]
  },
  {
   "cell_type": "code",
   "execution_count": 30,
   "metadata": {},
   "outputs": [
    {
     "ename": "ValueError",
     "evalue": "matmul: Input operand 1 has a mismatch in its core dimension 0, with gufunc signature (n?,k),(k,m?)->(n?,m?) (size 3 is different from 9)",
     "output_type": "error",
     "traceback": [
      "\u001b[0;31m---------------------------------------------------------------------------\u001b[0m",
      "\u001b[0;31mValueError\u001b[0m                                Traceback (most recent call last)",
      "Input \u001b[0;32mIn [30]\u001b[0m, in \u001b[0;36m<cell line: 1>\u001b[0;34m()\u001b[0m\n\u001b[0;32m----> 1\u001b[0m \u001b[43mnp\u001b[49m\u001b[38;5;241;43m.\u001b[39;49m\u001b[43mmatmul\u001b[49m\u001b[43m(\u001b[49m\u001b[43mM\u001b[49m\u001b[43m,\u001b[49m\u001b[43m \u001b[49m\u001b[43mM\u001b[49m\u001b[43m)\u001b[49m\n",
      "\u001b[0;31mValueError\u001b[0m: matmul: Input operand 1 has a mismatch in its core dimension 0, with gufunc signature (n?,k),(k,m?)->(n?,m?) (size 3 is different from 9)"
     ]
    }
   ],
   "source": [
    "np.matmul(M, M) #erreur : pourquoi ? car c'est pas les memes tailles"
   ]
  },
  {
   "cell_type": "markdown",
   "metadata": {},
   "source": [
    "A présent, nous allons illustrer la puissance de le bibliothèque <code>numpy</code>. Pour cela nous allons d'abord définir notre propre fonction <code>prod_matrices</code> calculant le produit en utilisant des boucles imbriquées : "
   ]
  },
  {
   "cell_type": "code",
   "execution_count": 31,
   "metadata": {},
   "outputs": [
    {
     "data": {
      "text/plain": [
       "array([[318.75, 318.75, 318.75],\n",
       "       [318.75, 318.75, 318.75],\n",
       "       [318.75, 318.75, 318.75]])"
      ]
     },
     "execution_count": 31,
     "metadata": {},
     "output_type": "execute_result"
    }
   ],
   "source": [
    "np.matmul(M, M.T)"
   ]
  },
  {
   "cell_type": "code",
   "execution_count": 32,
   "metadata": {},
   "outputs": [],
   "source": [
    "def prod_matrices(M1, M2):\n",
    "    M = np.zeros((M1.shape[0], M2.shape[1]))\n",
    "    for i in range(M1.shape[0]):\n",
    "        for j in range(M2.shape[1]):\n",
    "            for k in range(M1.shape[1]):\n",
    "                M[i, j] += M1[i, k] * M2[k,j] \n",
    "    return M"
   ]
  },
  {
   "cell_type": "markdown",
   "metadata": {},
   "source": [
    "Test de la fonction :"
   ]
  },
  {
   "cell_type": "code",
   "execution_count": 33,
   "metadata": {},
   "outputs": [
    {
     "data": {
      "text/plain": [
       "array([[13.,  9.],\n",
       "       [57., 41.]])"
      ]
     },
     "execution_count": 33,
     "metadata": {},
     "output_type": "execute_result"
    }
   ],
   "source": [
    "M1 = np.array([[2, 1, 1], [4, 5, 7]])\n",
    "M2 = np.array([[3, 2], [2, 1], [5, 4]])\n",
    "prod_matrices(M1, M2)"
   ]
  },
  {
   "cell_type": "markdown",
   "metadata": {},
   "source": [
    "Avec un peu plus d'éléments :"
   ]
  },
  {
   "cell_type": "code",
   "execution_count": 34,
   "metadata": {},
   "outputs": [],
   "source": [
    "L = np.linspace(0, 1000, 1000)\n",
    "M = np.array([L, L, L])"
   ]
  },
  {
   "cell_type": "code",
   "execution_count": 35,
   "metadata": {},
   "outputs": [
    {
     "data": {
      "text/plain": [
       "array([[3.33500167e+08, 3.33500167e+08, 3.33500167e+08],\n",
       "       [3.33500167e+08, 3.33500167e+08, 3.33500167e+08],\n",
       "       [3.33500167e+08, 3.33500167e+08, 3.33500167e+08]])"
      ]
     },
     "execution_count": 35,
     "metadata": {},
     "output_type": "execute_result"
    }
   ],
   "source": [
    "P = prod_matrices(M, M.T)\n",
    "P"
   ]
  },
  {
   "cell_type": "markdown",
   "metadata": {},
   "source": [
    "La fonction <code>time</code> permet d'afficher des statistiques sur le temps d'exécution d'une instruction <code>Python</code>. Exécutez les instructions suivantes et observez les résultats :"
   ]
  },
  {
   "cell_type": "code",
   "execution_count": 36,
   "metadata": {},
   "outputs": [
    {
     "name": "stdout",
     "output_type": "stream",
     "text": [
      "CPU times: user 8.05 ms, sys: 271 µs, total: 8.32 ms\n",
      "Wall time: 8.21 ms\n"
     ]
    }
   ],
   "source": [
    "%time P = prod_matrices(M, M.T) "
   ]
  },
  {
   "cell_type": "code",
   "execution_count": 37,
   "metadata": {},
   "outputs": [
    {
     "name": "stdout",
     "output_type": "stream",
     "text": [
      "CPU times: user 61 µs, sys: 1 µs, total: 62 µs\n",
      "Wall time: 66 µs\n"
     ]
    }
   ],
   "source": [
    "%time P= np.matmul(M, M.T)"
   ]
  },
  {
   "cell_type": "markdown",
   "metadata": {},
   "source": [
    "La différence est encore plus flagrante si on utilise des matrices creuses : "
   ]
  },
  {
   "cell_type": "code",
   "execution_count": 38,
   "metadata": {},
   "outputs": [],
   "source": [
    "L1 = np.linspace(0, 1000, 1000)\n",
    "L2 = np.zeros(1000)\n",
    "M = np.array([L2, L2, L1])"
   ]
  },
  {
   "cell_type": "code",
   "execution_count": 39,
   "metadata": {},
   "outputs": [
    {
     "name": "stdout",
     "output_type": "stream",
     "text": [
      "CPU times: user 11.3 ms, sys: 521 µs, total: 11.8 ms\n",
      "Wall time: 11.6 ms\n"
     ]
    }
   ],
   "source": [
    "%time P = prod_matrices(M, M.T) "
   ]
  },
  {
   "cell_type": "code",
   "execution_count": 40,
   "metadata": {},
   "outputs": [
    {
     "name": "stdout",
     "output_type": "stream",
     "text": [
      "CPU times: user 69 µs, sys: 21 µs, total: 90 µs\n",
      "Wall time: 95.1 µs\n"
     ]
    }
   ],
   "source": [
    "%time P= np.matmul(M, M.T)"
   ]
  },
  {
   "cell_type": "markdown",
   "metadata": {},
   "source": [
    "### Exercice 2.\n",
    "\n",
    "Chercher des éléments dans un tableau"
   ]
  },
  {
   "cell_type": "markdown",
   "metadata": {},
   "source": [
    "1. A tester : "
   ]
  },
  {
   "cell_type": "code",
   "execution_count": 41,
   "metadata": {},
   "outputs": [],
   "source": [
    "from random import sample, choices"
   ]
  },
  {
   "cell_type": "code",
   "execution_count": 42,
   "metadata": {},
   "outputs": [
    {
     "data": {
      "text/plain": [
       "array([ 9,  3, 21, 12, 16,  9,  8, 12, 23,  4, 11, 14, 11, 19, 19, 14, 16,\n",
       "       17, 21,  9,  3,  3,  1, 13, 19, 13, 13, 15,  5, 13, 12,  9, 11, 16,\n",
       "       22,  4, 24,  9, 16,  7,  8, 10, 24,  3, 10,  9, 13,  4,  7, 23, 11,\n",
       "        8,  3, 22, 14, 17, 18,  7, 20,  8, 23,  2, 15, 21, 11, 15, 21,  2,\n",
       "       20,  2,  5, 13, 14, 20, 10,  6,  3, 19, 23, 12, 22, 14,  3, 24,  1,\n",
       "       13, 23, 23, 18,  3, 22, 14, 12,  8,  2,  5,  8, 17, 23, 16, 21,  2,\n",
       "       16, 22,  2, 15, 17, 13, 18, 24, 16, 19,  1, 15,  8,  5, 20, 17,  1,\n",
       "       24, 23,  7, 13,  1,  4,  7,  8,  4, 14,  1, 15, 23, 14, 10, 21, 18,\n",
       "       21, 12, 21,  3,  4,  3, 16,  3,  3, 24, 18,  2,  2, 24, 13,  2, 11,\n",
       "       24, 16,  1, 11, 22,  4, 13,  3,  6, 20, 21, 19, 22,  9, 17, 16,  9,\n",
       "       15, 22, 13, 16,  5, 20,  5,  8, 11,  8, 15, 17, 16,  7,  7,  1, 17,\n",
       "       12, 19,  8,  3,  3,  1, 20, 16,  2, 23,  4, 12,  3])"
      ]
     },
     "execution_count": 42,
     "metadata": {},
     "output_type": "execute_result"
    }
   ],
   "source": [
    "V1 = np.reshape(choices(range(1, 25), k=200), (200, ))\n",
    "V1"
   ]
  },
  {
   "cell_type": "code",
   "execution_count": 43,
   "metadata": {},
   "outputs": [
    {
     "data": {
      "text/plain": [
       "array([21, 23, 21, 22, 24, 24, 23, 22, 23, 21, 21, 23, 22, 24, 23, 23, 22,\n",
       "       23, 21, 22, 24, 24, 23, 23, 21, 21, 21, 24, 24, 24, 22, 21, 22, 22,\n",
       "       23])"
      ]
     },
     "execution_count": 43,
     "metadata": {},
     "output_type": "execute_result"
    }
   ],
   "source": [
    "V2 = V1[V1>20]\n",
    "V2"
   ]
  },
  {
   "cell_type": "markdown",
   "metadata": {},
   "source": [
    "2. Créer deux vecteurs ligne d’entiers <code>Va</code> et <code>Vb</code>, de même taille, contenant des valeurs entières aléatoires."
   ]
  },
  {
   "cell_type": "code",
   "execution_count": 44,
   "metadata": {},
   "outputs": [
    {
     "data": {
      "text/plain": [
       "array([ 2,  8,  6,  2,  1,  7, 10,  3, 11, 10,  8,  4, 10,  7,  5, 10,  8,\n",
       "        6,  6,  6])"
      ]
     },
     "execution_count": 44,
     "metadata": {},
     "output_type": "execute_result"
    }
   ],
   "source": [
    "Va= np.reshape(choices(range(1, 12), k=20), (20, ))\n",
    "Va"
   ]
  },
  {
   "cell_type": "code",
   "execution_count": 45,
   "metadata": {},
   "outputs": [
    {
     "data": {
      "text/plain": [
       "array([  2,  54,  14,  37,  94,  72,  57,   8,  70,  73,  93,  24,  92,\n",
       "        83,  62,  65,   7,  74, 100,  26])"
      ]
     },
     "execution_count": 45,
     "metadata": {},
     "output_type": "execute_result"
    }
   ],
   "source": [
    "Vb = np.reshape(choices(range(1, 125), k=20), (20, ))\n",
    "Vb"
   ]
  },
  {
   "cell_type": "markdown",
   "metadata": {},
   "source": [
    "3. Tester le code suivant. Que contient <code>V</code>?"
   ]
  },
  {
   "cell_type": "code",
   "execution_count": 46,
   "metadata": {},
   "outputs": [
    {
     "data": {
      "text/plain": [
       "array([  2,  54,  14,  37,  94,  72,  57,   8,  70,  73,  93,  24,  92,\n",
       "        83,  62,  65,   8,  74, 100,  26])"
      ]
     },
     "execution_count": 46,
     "metadata": {},
     "output_type": "execute_result"
    }
   ],
   "source": [
    "V = np.array([Va[i] if Va[i] > Vb[i] else Vb[i] for i in range(Va.shape[0])])\n",
    "V"
   ]
  },
  {
   "cell_type": "markdown",
   "metadata": {},
   "source": [
    "4. Quelle est la fonction de <code>numpy</code> qui permet d'obtenir le même résultat? Tester."
   ]
  },
  {
   "cell_type": "code",
   "execution_count": 47,
   "metadata": {},
   "outputs": [
    {
     "data": {
      "text/plain": [
       "array([  2,  54,  14,  37,  94,  72,  57,   8,  70,  73,  93,  24,  92,\n",
       "        83,  62,  65,   8,  74, 100,  26])"
      ]
     },
     "execution_count": 47,
     "metadata": {},
     "output_type": "execute_result"
    }
   ],
   "source": [
    "V=np.maximum(Va,Vb)\n",
    "V"
   ]
  },
  {
   "cell_type": "markdown",
   "metadata": {},
   "source": [
    "# 2. Probabilités et statistiques, lois usuelles\n",
    "\n",
    "Dans cette section, nous allons passer en revue quelques éléments de probabilités et statistiques. Nous allons essentiellement faire de l'inférence statistique et manipuler la loi normale."
   ]
  },
  {
   "cell_type": "markdown",
   "metadata": {},
   "source": [
    "#### Loi des grands nombres\n",
    "\n",
    "On lance un dé biasé. On obtient pile avec probabilité $p\\in[0, 1]$ et face avec probabilité $q = 1 - p$.\n",
    "\n",
    "Ecrire une fonction <code>lancer(n, p)</code> qui simule le lancer de ce dé <code>n</code> fois avec la probabilité <code>p</code> d'obtenir pile et qui retourne le nombre de fois où pile est obtenu.\n",
    "\n",
    "<em>Indication :</em> <code>uniform(0,1)</code> de la bibliothèque <code>random</code> retourne un nombre réel aléatoire tiré uniformément dans l'intervalle $[0, 1]$. "
   ]
  },
  {
   "cell_type": "code",
   "execution_count": 48,
   "metadata": {},
   "outputs": [
    {
     "name": "stdout",
     "output_type": "stream",
     "text": [
      "nombre de lancer : 4\n"
     ]
    }
   ],
   "source": [
    "import random as rd\n",
    "\n",
    "def lancer(n, p):\n",
    "    cpt=0\n",
    "    for i in range(n):\n",
    "        value= rd.uniform(0,1)\n",
    "        if(value<p):\n",
    "            cpt+=1\n",
    "            #print(\"pile\")\n",
    "        #elif(value==p):\n",
    "            #print(\"tranche\")\n",
    "        #else:\n",
    "            #print(\"face\" )\n",
    "    return cpt\n",
    "            \n",
    "print(\"nombre de lancer :\",lancer(10,0.3))"
   ]
  },
  {
   "cell_type": "markdown",
   "metadata": {},
   "source": [
    "Essayer avec différentes valeurs $p$ et des valeurs de $n$ croissantes. Qu'observez-vous ?"
   ]
  },
  {
   "cell_type": "markdown",
   "metadata": {},
   "source": [
    "Plus le nombre d essaie est grand plus la probabilité se rapproche du nombre"
   ]
  },
  {
   "cell_type": "markdown",
   "metadata": {},
   "source": [
    "#### Loi normale\n",
    "\n",
    "La loi normale est très utilisée en statistiques. Elle est, entre autre, la loi limite pour d'autres lois. \n",
    "\n",
    "Commençons par générer des nombres suivant une loi normale mais avec différentes valeurs pour les paramètres $\\mu$ et $\\sigma$.\n",
    "\n",
    "Exécutez la cellule suivante et observez le résultat : "
   ]
  },
  {
   "cell_type": "code",
   "execution_count": 49,
   "metadata": {},
   "outputs": [
    {
     "data": {
      "image/png": "[encoded data removed]",
      "text/plain": [
       "<Figure size 640x480 with 1 Axes>"
      ]
     },
     "metadata": {},
     "output_type": "display_data"
    }
   ],
   "source": [
    "from scipy.stats import norm\n",
    "import matplotlib.pyplot as plt\n",
    "%matplotlib inline\n",
    "\n",
    "mu = [0, 1, 2, 3]\n",
    "sigma = [1, 2, 3, 4]\n",
    "\n",
    "x_min = -16\n",
    "x_max = 16\n",
    "x_nb = 100\n",
    "\n",
    "x = np.linspace(x_min, x_max, x_nb)\n",
    "\n",
    "for i in range(len(mu)):\n",
    "    y = norm.pdf(x, mu[i], sigma[i])\n",
    "    plt.plot(x, y, label='mu='+str(mu[i])+', sigma='+str(sigma[i]))\n",
    "plt.legend(loc='upper right')\n",
    "plt.show()"
   ]
  },
  {
   "cell_type": "markdown",
   "metadata": {},
   "source": [
    "Commentez les courbes et observez l'impact des valeurs de $\\sigma$."
   ]
  },
  {
   "cell_type": "markdown",
   "metadata": {},
   "source": [
    "## Inférence des paramètres d'une loi normale\n",
    "\n",
    "On insère une bannière publicitaire dans une page web. On trace les connexions à cette page auprès de $50$ utilisateurs et ce pendant $1000$ jours. Pour chaque visite on note si l'utilisateur a cliqué sur la bannière ou non. \n",
    "\n",
    "Les chiffres des clics (par jour) sont donnés dans le fichier <code>baniere.csv</code> disponible à l'adresse https://www.labri.fr/perso/zemmari/datasets/baniere.csv."
   ]
  },
  {
   "cell_type": "markdown",
   "metadata": {},
   "source": [
    "1. Charger les données dans une variable de nom <code>data</code> en utilisant la fonction <code>read_csv</code> de la bibliothèque <code>pandas</code> (elle accepte les urls)."
   ]
  },
  {
   "cell_type": "code",
   "execution_count": 50,
   "metadata": {
    "scrolled": true
   },
   "outputs": [
    {
     "data": {
      "text/html": [
       "<div>\n",
       "<style scoped>\n",
       "    .dataframe tbody tr th:only-of-type {\n",
       "        vertical-align: middle;\n",
       "    }\n",
       "\n",
       "    .dataframe tbody tr th {\n",
       "        vertical-align: top;\n",
       "    }\n",
       "\n",
       "    .dataframe thead th {\n",
       "        text-align: right;\n",
       "    }\n",
       "</style>\n",
       "<table border=\"1\" class=\"dataframe\">\n",
       "  <thead>\n",
       "    <tr style=\"text-align: right;\">\n",
       "      <th></th>\n",
       "      <th>0</th>\n",
       "    </tr>\n",
       "  </thead>\n",
       "  <tbody>\n",
       "    <tr>\n",
       "      <th>0</th>\n",
       "      <td>14</td>\n",
       "    </tr>\n",
       "    <tr>\n",
       "      <th>1</th>\n",
       "      <td>17</td>\n",
       "    </tr>\n",
       "    <tr>\n",
       "      <th>2</th>\n",
       "      <td>8</td>\n",
       "    </tr>\n",
       "    <tr>\n",
       "      <th>3</th>\n",
       "      <td>20</td>\n",
       "    </tr>\n",
       "    <tr>\n",
       "      <th>4</th>\n",
       "      <td>19</td>\n",
       "    </tr>\n",
       "    <tr>\n",
       "      <th>...</th>\n",
       "      <td>...</td>\n",
       "    </tr>\n",
       "    <tr>\n",
       "      <th>995</th>\n",
       "      <td>13</td>\n",
       "    </tr>\n",
       "    <tr>\n",
       "      <th>996</th>\n",
       "      <td>13</td>\n",
       "    </tr>\n",
       "    <tr>\n",
       "      <th>997</th>\n",
       "      <td>11</td>\n",
       "    </tr>\n",
       "    <tr>\n",
       "      <th>998</th>\n",
       "      <td>18</td>\n",
       "    </tr>\n",
       "    <tr>\n",
       "      <th>999</th>\n",
       "      <td>15</td>\n",
       "    </tr>\n",
       "  </tbody>\n",
       "</table>\n",
       "<p>1000 rows × 1 columns</p>\n",
       "</div>"
      ],
      "text/plain": [
       "      0\n",
       "0    14\n",
       "1    17\n",
       "2     8\n",
       "3    20\n",
       "4    19\n",
       "..   ..\n",
       "995  13\n",
       "996  13\n",
       "997  11\n",
       "998  18\n",
       "999  15\n",
       "\n",
       "[1000 rows x 1 columns]"
      ]
     },
     "execution_count": 50,
     "metadata": {},
     "output_type": "execute_result"
    }
   ],
   "source": [
    "import pandas as pd\n",
    "data = pd.read_csv('https://www.labri.fr/perso/zemmari/datasets/baniere.csv',header=None)\n",
    "data"
   ]
  },
  {
   "cell_type": "markdown",
   "metadata": {},
   "source": [
    "2. Donner une estimation de la probabilité qu'un visiteur du site (choisi au hasard) clique sur la bannière. "
   ]
  },
  {
   "cell_type": "code",
   "execution_count": 51,
   "metadata": {},
   "outputs": [
    {
     "name": "stdout",
     "output_type": "stream",
     "text": [
      "probabilité=  0.30344\n"
     ]
    }
   ],
   "source": [
    "print(\"probabilité= \",data[0].sum()/(1000*50))\n",
    "\n",
    "    "
   ]
  },
  {
   "cell_type": "markdown",
   "metadata": {},
   "source": [
    "3. Le code suivant permet de tracer l'histogramme des données comme une courbe. Qu'observez-vous pour la forme de la courbe ? "
   ]
  },
  {
   "cell_type": "code",
   "execution_count": 52,
   "metadata": {},
   "outputs": [
    {
     "name": "stdout",
     "output_type": "stream",
     "text": [
      "[14, 17, 8, 20, 19, 9, 15, 16, 11, 18, 10, 13, 12, 21, 23, 24, 7, 22, 25, 6, 26, 5]\n",
      "[104, 100, 16, 34, 56, 22, 113, 120, 49, 99, 34, 105, 86, 26, 9, 3, 4, 14, 3, 1, 1, 1]\n"
     ]
    },
    {
     "data": {
      "text/plain": [
       "<matplotlib.collections.PathCollection at 0x1657315e0>"
      ]
     },
     "execution_count": 52,
     "metadata": {},
     "output_type": "execute_result"
    },
    {
     "data": {
      "image/png": "[encoded data removed]",
      "text/plain": [
       "<Figure size 640x480 with 1 Axes>"
      ]
     },
     "metadata": {},
     "output_type": "display_data"
    }
   ],
   "source": [
    "from collections import Counter\n",
    "\n",
    "compteur = Counter(list(data[0]))\n",
    "#print(compteur)\n",
    "\n",
    "x = list(compteur.keys())\n",
    "print(x)\n",
    "y = [compteur[x[i]] for i in range(len(x))  ]\n",
    "print(y)\n",
    "plt.scatter(x, y, c='red', marker='+')"
   ]
  },
  {
   "cell_type": "markdown",
   "metadata": {},
   "source": [
    "4. Calculez l'estimateur $\\hat\\mu$ de la moyenne et $\\hat\\sigma$ de la variance. \n",
    "\n",
    "<em>Indication :</em> des estimateurs non biaisés de la moyenne et de la variance d'une série $(x_i)_{1\\leq i\\leq n}$ sont donnés par :\n",
    "$$\n",
    "\\hat\\mu = \\frac 1 n \\sum_{i=1}^n x_i, \\,\\,\\,\\, \\hat\\sigma^2 = \\frac 1 {n} \\sum_{i=1}^n \\left(x_i - \\hat\\mu\\right)^2.\n",
    "$$\n",
    "On peut néanmoins utiliser directement les fonctions <code>average</code> et <code>std</code> de la bibliothèque <code>numpy</code>."
   ]
  },
  {
   "cell_type": "code",
   "execution_count": 53,
   "metadata": {},
   "outputs": [],
   "source": [
    "\n",
    "def moyenne():\n",
    "    sum_moy=0\n",
    "    for i in range(len(x)):\n",
    "        sum_moy+= x[i]\n",
    "    return sum_moy/(len(x))\n",
    "\n",
    "def variance(moyenne):\n",
    "    sum_var=0\n",
    "    for i in range(len(x)):\n",
    "        sum_var+=(x[i]-moyenne)*(x[i]-moyenne)\n",
    "    return sum_var/(len(x))\n",
    "estimateur_moy=moyenne()\n",
    "estimateur_var=variance(moyenne())"
   ]
  },
  {
   "cell_type": "markdown",
   "metadata": {},
   "source": [
    "5. Dessinez la courbe de la fonction de répartition de la loi normale de paramètres $\\hat\\mu$ et $\\hat\\sigma$ sur la même figure que celle de la question 4. Qu'observez vous ?"
   ]
  },
  {
   "cell_type": "code",
   "execution_count": null,
   "metadata": {},
   "outputs": [],
   "source": []
  },
  {
   "cell_type": "code",
   "execution_count": 56,
   "metadata": {},
   "outputs": [
    {
     "data": {
      "text/plain": [
       "[<matplotlib.lines.Line2D at 0x16579dfa0>]"
      ]
     },
     "execution_count": 56,
     "metadata": {},
     "output_type": "execute_result"
    },
    {
     "data": {
      "image/png": "[encoded data removed]",
      "text/plain": [
       "<Figure size 640x480 with 1 Axes>"
      ]
     },
     "metadata": {},
     "output_type": "display_data"
    }
   ],
   "source": [
    "plt.scatter(x, y, c='red', marker='+', label='Données observées')\n",
    "\n",
    "def loi_normal(list_x):\n",
    "    new_x=[]\n",
    "    for i in range (len(list_x)):\n",
    "        new_x+=[((list_x[i]-estimateur_moy)/(np.sqrt(estimateur_var)*0.15)+estimateur_moy, y[i])]\n",
    "    return new_x\n",
    "\n",
    "sorted_points = sorted(loi_normal(x), key=lambda point: (point[0], point[1]))\n",
    "sorted_x = [point[0] for point in sorted_points]\n",
    "sorted_y = [point[1] for point in sorted_points]\n",
    "#acc_fe=loi_normal(x)\n",
    "#plt.plot(acc_fe[0], acc_fe[1], marker='o', linestyle='-')\n",
    "\n",
    "new_x = norm.pdf(sorted_x, estimateur_moy, np.sqrt(estimateur_var)*0.55) # Calculez les valeurs y correspondantes\n",
    "\n",
    "scale_factor = 120 / max(new_x)\n",
    "new_x = [x * scale_factor for x in new_x]\n",
    "\n",
    "# Tracez la courbe gaussienne\n",
    "plt.plot(sorted_x, new_x)"
   ]
  },
  {
   "cell_type": "code",
   "execution_count": null,
   "metadata": {},
   "outputs": [],
   "source": []
  },
  {
   "cell_type": "code",
   "execution_count": null,
   "metadata": {},
   "outputs": [],
   "source": []
  }
 ],
 "metadata": {
  "kernelspec": {
   "display_name": "Python 3 (ipykernel)",
   "language": "python",
   "name": "python3"
  },
  "language_info": {
   "codemirror_mode": {
    "name": "ipython",
    "version": 3
   },
   "file_extension": ".py",
   "mimetype": "text/x-python",
   "name": "python",
   "nbconvert_exporter": "python",
   "pygments_lexer": "ipython3",
   "version": "3.9.13"
  }
 },
 "nbformat": 4,
 "nbformat_minor": 2
}
