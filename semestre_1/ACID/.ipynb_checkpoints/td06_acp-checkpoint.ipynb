{
 "cells": [
  {
   "cell_type": "markdown",
   "metadata": {},
   "source": [
    "# Analyse, classification et indexation des données: feuille 7\n",
    "### Réduction de dimension - Analyse en Composantes Principales (ACP)"
   ]
  },
  {
   "cell_type": "code",
   "execution_count": 58,
   "metadata": {},
   "outputs": [],
   "source": [
    "import warnings\n",
    "warnings.filterwarnings(\"ignore\")"
   ]
  },
  {
   "cell_type": "markdown",
   "metadata": {},
   "source": [
    "#### Avant de commencer\n",
    "\n",
    "Ecrire une fonction <code> droite2DVd(x, vd, point) </code> permettant de calculer les ordonnées des points <code>(x, ?)</code> de la droite de vecteur directeur <code>vd</code> passant par le point <code>point</code>. Le paramètre <code>x</code> est un vecteur numpy, <code>vd</code> est un tuple <code>(a,b)</code>, <code>point</code> est un tuple <code>(xp, yp)</code>.\n",
    "Testez votre fonction."
   ]
  },
  {
   "cell_type": "code",
   "execution_count": 59,
   "metadata": {},
   "outputs": [],
   "source": [
    "import numpy as np\n",
    "def droite2DVd(x, vd, point):\n",
    "    a = vd[1] / vd[0]\n",
    "    b = point[1] - a * point[0]\n",
    "    y = a * x + b\n",
    "    return y\n"
   ]
  },
  {
   "cell_type": "code",
   "execution_count": null,
   "metadata": {
    "scrolled": false
   },
   "outputs": [],
   "source": []
  },
  {
   "cell_type": "markdown",
   "metadata": {},
   "source": [
    "### Exercice 1.\n",
    "\n",
    "Dans cet exercice, on considère le même dataset que pour le TD précédent (feuille 6). Nous avons un descripteur de taille 2 : chaque poisson est décrit par sa longueur et sa brillance. L'objectif de l'exercice est de passer d'un descripteur de taille 2 à un descripteur de taille 1.\n",
    "\n",
    "Commencez par charger les données.\n"
   ]
  },
  {
   "cell_type": "code",
   "execution_count": 60,
   "metadata": {},
   "outputs": [],
   "source": [
    "import pandas as pa\n",
    "data = pa.read_csv('https://www.labri.fr/perso/zemmari/datasets/salmon_seabass.csv', delimiter=';', header=0)\n",
    "data = data.sample(frac=1)\n",
    "X=data[['width','lightness']]\n",
    "Y= data[['species']]"
   ]
  },
  {
   "cell_type": "code",
   "execution_count": 61,
   "metadata": {},
   "outputs": [
    {
     "name": "stdout",
     "output_type": "stream",
     "text": [
      "      lightness      width  species\n",
      "472    4.678024   8.340371        0\n",
      "977    6.636951   8.601069        0\n",
      "906    3.633295   7.874983        0\n",
      "1070  19.384220  12.937531        1\n",
      "598    5.378858   6.904585        0\n",
      "...         ...        ...      ...\n",
      "293    7.386710   8.809881        0\n",
      "878    1.927274   6.155747        0\n",
      "65     6.035641   8.194551        0\n",
      "1276  13.422553  11.653192        1\n",
      "477    6.270218   6.515314        0\n",
      "\n",
      "[1500 rows x 3 columns]\n",
      "          width  lightness\n",
      "472    8.340371   4.678024\n",
      "977    8.601069   6.636951\n",
      "906    7.874983   3.633295\n",
      "1070  12.937531  19.384220\n",
      "598    6.904585   5.378858\n",
      "...         ...        ...\n",
      "293    8.809881   7.386710\n",
      "878    6.155747   1.927274\n",
      "65     8.194551   6.035641\n",
      "1276  11.653192  13.422553\n",
      "477    6.515314   6.270218\n",
      "\n",
      "[1500 rows x 2 columns]\n",
      "      species\n",
      "472         0\n",
      "977         0\n",
      "906         0\n",
      "1070        1\n",
      "598         0\n",
      "...       ...\n",
      "293         0\n",
      "878         0\n",
      "65          0\n",
      "1276        1\n",
      "477         0\n",
      "\n",
      "[1500 rows x 1 columns]\n"
     ]
    }
   ],
   "source": [
    "print(data)\n",
    "print(X)\n",
    "print(Y)"
   ]
  },
  {
   "cell_type": "markdown",
   "metadata": {},
   "source": [
    "1- Ecrire   une   fonction  <code>calculACP(echantillon, d=1)</code> qui réalise l'ACP sur un ensemble d'exemples. Chaque ligne de <code>echantillon</code> (DataFrame) contient les descripteurs associés à un exemple. La fonction retourne les <code>d</code> vecteurs propres calculés de plus grandes valeurs propres. Ils seront triés en fonction de leur valeur propre, de la plus grande à la plus petite. Tester la fonction sur le dataset."
   ]
  },
  {
   "cell_type": "code",
   "execution_count": 62,
   "metadata": {},
   "outputs": [],
   "source": [
    "def calculACP(echantillon, d=1):\n",
    "    \"\"\"\n",
    "    Réalise l'Analyse en Composantes Principales (ACP) sur un ensemble d'exemples.\n",
    "\n",
    "    Args:\n",
    "        echantillon (DataFrame): Un DataFrame contenant les descripteurs associés à chaque exemple.\n",
    "        d (int): Le nombre de vecteurs propres à retourner. Par défaut, 1.\n",
    "\n",
    "    Returns:\n",
    "        DataFrame: Un DataFrame contenant les d vecteurs propres calculés (triés par valeur propre, de la plus grande à la plus petite).\n",
    "    \"\"\"\n",
    "    # Centrage des données\n",
    "    nu = echantillon.mean()\n",
    "    omega = echantillon.std()\n",
    "    D = (echantillon - nu) / omega\n",
    "\n",
    "    # Matrice de covariance\n",
    "    #S=(len(echantillon)-1).D.conv()\n",
    "    S = (D.T @ D) / (len(echantillon) - 1)\n",
    "\n",
    "    # Calcul des valeurs propres et vecteurs propres\n",
    "    lambda_, p = np.linalg.eig(S)\n",
    "\n",
    "    # Trier les vecteurs propres en fonction des valeurs propres\n",
    "    sorted_indices = np.argsort(lambda_)[::-1]\n",
    "    W = p[:, sorted_indices[:d]]\n",
    "    #W=p[np.argsort(lambda_)][::-1][:k].T\n",
    "\n",
    "    # Projection des données sur les d vecteurs propres\n",
    "    return D @ W\n"
   ]
  },
  {
   "cell_type": "code",
   "execution_count": null,
   "metadata": {},
   "outputs": [],
   "source": []
  },
  {
   "cell_type": "markdown",
   "metadata": {},
   "source": [
    "2- Ecrire une fonction <code>projection (W, echantillon)</code>  qui prend une matrice de\n",
    "projection <code>W</code> et un échantillon et qui retourne la projection de cet\n",
    "ensemble. "
   ]
  },
  {
   "cell_type": "code",
   "execution_count": 63,
   "metadata": {},
   "outputs": [],
   "source": [
    "def projection (W, echantillon):\n",
    "    resultats_projection = echantillon @ W\n",
    "    return resultats_projection"
   ]
  },
  {
   "cell_type": "markdown",
   "metadata": {},
   "source": [
    "3- Visualiser le résultat de la réduction de dimension sur le dataset. Vous afficherez le nuage de points initial en 2D et la projection de ce nuage en 1D."
   ]
  },
  {
   "cell_type": "markdown",
   "metadata": {},
   "source": [
    "##### Avant la projection : "
   ]
  },
  {
   "cell_type": "code",
   "execution_count": 64,
   "metadata": {},
   "outputs": [
    {
     "data": {
      "text/plain": [
       "Text(0, 0.5, 'Lightness')"
      ]
     },
     "execution_count": 64,
     "metadata": {},
     "output_type": "execute_result"
    },
    {
     "data": {
      "image/png": "[encoded data removed]",
      "text/plain": [
       "<Figure size 1000x500 with 1 Axes>"
      ]
     },
     "metadata": {},
     "output_type": "display_data"
    }
   ],
   "source": [
    "import matplotlib.pyplot as plt\n",
    "\n",
    "# Create a scatter plot for the original 2D data\n",
    "plt.figure(figsize=(10, 5))\n",
    "plt.subplot(121)  # First subplot for 2D data\n",
    "\n",
    "plt.scatter(X['width'], X['lightness'], c=Y['species'], cmap='viridis')\n",
    "plt.title('2D Data')\n",
    "plt.xlabel('Width')\n",
    "plt.ylabel('Lightness')"
   ]
  },
  {
   "cell_type": "markdown",
   "metadata": {},
   "source": [
    "#### Après la projection :"
   ]
  },
  {
   "cell_type": "code",
   "execution_count": 65,
   "metadata": {},
   "outputs": [
    {
     "data": {
      "image/png": "[encoded data removed]",
      "text/plain": [
       "<Figure size 640x480 with 1 Axes>"
      ]
     },
     "metadata": {},
     "output_type": "display_data"
    }
   ],
   "source": [
    "# Visualisation en 1D (projection)\n",
    "\n",
    "reduced_data = calculACP(X, d=1)\n",
    "plt.subplot(122)  # Second subplot for 1D projected data\n",
    "\n",
    "plt.scatter(reduced_data, np.zeros_like(reduced_data), c=Y['species'], cmap='viridis')\n",
    "plt.title('1D Projected Data')\n",
    "plt.xlabel('Projection onto 1D')\n",
    "plt.ylim(-0.5, 0.5)  # Set the y-axis range for 1D data\n",
    "\n",
    "plt.show()"
   ]
  },
  {
   "cell_type": "markdown",
   "metadata": {},
   "source": [
    "4- En utilisant un classifieur bayésien MAP, comparez les résultats obtenus avec l'échantillon brut (descripteur de dimension 2) et les résultats obtenus avec l'échantillon projeté sur l’axe de plus grande valeur propre (descripteur de dimension 1). Comparez également les temps d'entraînement."
   ]
  },
  {
   "cell_type": "code",
   "execution_count": 66,
   "metadata": {},
   "outputs": [],
   "source": [
    "from sklearn.model_selection import train_test_split\n",
    "from sklearn.naive_bayes import MultinomialNB\n",
    "from sklearn.metrics import accuracy_score, classification_report\n",
    "import time\n",
    "\n",
    "# Split the data into training and testing sets\n",
    "X_train, X_test, Y_train, Y_test = train_test_split(X, Y, test_size=0.2, random_state=42)\n"
   ]
  },
  {
   "cell_type": "code",
   "execution_count": 67,
   "metadata": {},
   "outputs": [],
   "source": [
    "# Train and evaluate the classifier on the raw 2D data\n",
    "start_time = time.time()\n",
    "classifier_raw = MultinomialNB()\n",
    "classifier_raw.fit(X_train, Y_train)\n",
    "training_time_raw = time.time() - start_time\n",
    "Y_pred_raw = classifier_raw.predict(X_test)\n",
    "accuracy_raw = accuracy_score(Y_test, Y_pred_raw)\n",
    "report_raw = classification_report(Y_test, Y_pred_raw)\n"
   ]
  },
  {
   "cell_type": "code",
   "execution_count": 70,
   "metadata": {},
   "outputs": [
    {
     "ename": "ValueError",
     "evalue": "Negative values in data passed to MultinomialNB (input X)",
     "output_type": "error",
     "traceback": [
      "\u001b[0;31m---------------------------------------------------------------------------\u001b[0m",
      "\u001b[0;31mValueError\u001b[0m                                Traceback (most recent call last)",
      "Cell \u001b[0;32mIn [70], line 4\u001b[0m\n\u001b[1;32m      2\u001b[0m start_time \u001b[38;5;241m=\u001b[39m time\u001b[38;5;241m.\u001b[39mtime()\n\u001b[1;32m      3\u001b[0m classifier_projected \u001b[38;5;241m=\u001b[39m MultinomialNB()\n\u001b[0;32m----> 4\u001b[0m \u001b[43mclassifier_projected\u001b[49m\u001b[38;5;241;43m.\u001b[39;49m\u001b[43mfit\u001b[49m\u001b[43m(\u001b[49m\u001b[43mreduced_data\u001b[49m\u001b[43m[\u001b[49m\u001b[43m:\u001b[49m\u001b[38;5;28;43mlen\u001b[39;49m\u001b[43m(\u001b[49m\u001b[43mX_train\u001b[49m\u001b[43m)\u001b[49m\u001b[43m]\u001b[49m\u001b[43m,\u001b[49m\u001b[43m \u001b[49m\u001b[43mY_train\u001b[49m\u001b[43m)\u001b[49m  \u001b[38;5;66;03m# Use the first len(X_train) samples from reduced_data\u001b[39;00m\n\u001b[1;32m      5\u001b[0m training_time_projected \u001b[38;5;241m=\u001b[39m time\u001b[38;5;241m.\u001b[39mtime() \u001b[38;5;241m-\u001b[39m start_time\n\u001b[1;32m      6\u001b[0m Y_pred_projected \u001b[38;5;241m=\u001b[39m classifier_projected\u001b[38;5;241m.\u001b[39mpredict(projection(reduced_data, X_test))\n",
      "File \u001b[0;32m/usr/lib/python3/dist-packages/sklearn/naive_bayes.py:776\u001b[0m, in \u001b[0;36m_BaseDiscreteNB.fit\u001b[0;34m(self, X, y, sample_weight)\u001b[0m\n\u001b[1;32m    774\u001b[0m n_classes \u001b[38;5;241m=\u001b[39m Y\u001b[38;5;241m.\u001b[39mshape[\u001b[38;5;241m1\u001b[39m]\n\u001b[1;32m    775\u001b[0m \u001b[38;5;28mself\u001b[39m\u001b[38;5;241m.\u001b[39m_init_counters(n_classes, n_features)\n\u001b[0;32m--> 776\u001b[0m \u001b[38;5;28;43mself\u001b[39;49m\u001b[38;5;241;43m.\u001b[39;49m\u001b[43m_count\u001b[49m\u001b[43m(\u001b[49m\u001b[43mX\u001b[49m\u001b[43m,\u001b[49m\u001b[43m \u001b[49m\u001b[43mY\u001b[49m\u001b[43m)\u001b[49m\n\u001b[1;32m    777\u001b[0m alpha \u001b[38;5;241m=\u001b[39m \u001b[38;5;28mself\u001b[39m\u001b[38;5;241m.\u001b[39m_check_alpha()\n\u001b[1;32m    778\u001b[0m \u001b[38;5;28mself\u001b[39m\u001b[38;5;241m.\u001b[39m_update_feature_log_prob(alpha)\n",
      "File \u001b[0;32m/usr/lib/python3/dist-packages/sklearn/naive_bayes.py:898\u001b[0m, in \u001b[0;36mMultinomialNB._count\u001b[0;34m(self, X, Y)\u001b[0m\n\u001b[1;32m    896\u001b[0m \u001b[38;5;28;01mdef\u001b[39;00m \u001b[38;5;21m_count\u001b[39m(\u001b[38;5;28mself\u001b[39m, X, Y):\n\u001b[1;32m    897\u001b[0m \u001b[38;5;250m    \u001b[39m\u001b[38;5;124;03m\"\"\"Count and smooth feature occurrences.\"\"\"\u001b[39;00m\n\u001b[0;32m--> 898\u001b[0m     \u001b[43mcheck_non_negative\u001b[49m\u001b[43m(\u001b[49m\u001b[43mX\u001b[49m\u001b[43m,\u001b[49m\u001b[43m \u001b[49m\u001b[38;5;124;43m\"\u001b[39;49m\u001b[38;5;124;43mMultinomialNB (input X)\u001b[39;49m\u001b[38;5;124;43m\"\u001b[39;49m\u001b[43m)\u001b[49m\n\u001b[1;32m    899\u001b[0m     \u001b[38;5;28mself\u001b[39m\u001b[38;5;241m.\u001b[39mfeature_count_ \u001b[38;5;241m+\u001b[39m\u001b[38;5;241m=\u001b[39m safe_sparse_dot(Y\u001b[38;5;241m.\u001b[39mT, X)\n\u001b[1;32m    900\u001b[0m     \u001b[38;5;28mself\u001b[39m\u001b[38;5;241m.\u001b[39mclass_count_ \u001b[38;5;241m+\u001b[39m\u001b[38;5;241m=\u001b[39m Y\u001b[38;5;241m.\u001b[39msum(axis\u001b[38;5;241m=\u001b[39m\u001b[38;5;241m0\u001b[39m)\n",
      "File \u001b[0;32m/usr/lib/python3/dist-packages/sklearn/utils/validation.py:1418\u001b[0m, in \u001b[0;36mcheck_non_negative\u001b[0;34m(X, whom)\u001b[0m\n\u001b[1;32m   1415\u001b[0m     X_min \u001b[38;5;241m=\u001b[39m xp\u001b[38;5;241m.\u001b[39mmin(X)\n\u001b[1;32m   1417\u001b[0m \u001b[38;5;28;01mif\u001b[39;00m X_min \u001b[38;5;241m<\u001b[39m \u001b[38;5;241m0\u001b[39m:\n\u001b[0;32m-> 1418\u001b[0m     \u001b[38;5;28;01mraise\u001b[39;00m \u001b[38;5;167;01mValueError\u001b[39;00m(\u001b[38;5;124m\"\u001b[39m\u001b[38;5;124mNegative values in data passed to \u001b[39m\u001b[38;5;132;01m%s\u001b[39;00m\u001b[38;5;124m\"\u001b[39m \u001b[38;5;241m%\u001b[39m whom)\n",
      "\u001b[0;31mValueError\u001b[0m: Negative values in data passed to MultinomialNB (input X)"
     ]
    }
   ],
   "source": [
    "\n",
    "# Train and evaluate the classifier on the 1D projected data\n",
    "start_time = time.time()\n",
    "classifier_projected = MultinomialNB()\n",
    "classifier_projected.fit(reduced_data, Y_train)\n",
    "training_time_projected = time.time() - start_time\n",
    "Y_pred_projected = classifier_projected.predict(projection(reduced_data, X_test))\n",
    "accuracy_projected = accuracy_score(Y_test, Y_pred_projected)\n",
    "report_projected = classification_report(Y_test, Y_pred_projected)"
   ]
  },
  {
   "cell_type": "code",
   "execution_count": 69,
   "metadata": {},
   "outputs": [
    {
     "name": "stdout",
     "output_type": "stream",
     "text": [
      "Classifier on raw 2D data:\n",
      "Training Time: 0.00919795036315918 seconds\n",
      "Accuracy: 0.7866666666666666\n",
      "              precision    recall  f1-score   support\n",
      "\n",
      "           0       0.76      0.98      0.86       195\n",
      "           1       0.94      0.42      0.58       105\n",
      "\n",
      "    accuracy                           0.79       300\n",
      "   macro avg       0.85      0.70      0.72       300\n",
      "weighted avg       0.82      0.79      0.76       300\n",
      "\n",
      "\n",
      "Classifier on 1D projected data:\n"
     ]
    },
    {
     "ename": "NameError",
     "evalue": "name 'training_time_projected' is not defined",
     "output_type": "error",
     "traceback": [
      "\u001b[0;31m---------------------------------------------------------------------------\u001b[0m",
      "\u001b[0;31mNameError\u001b[0m                                 Traceback (most recent call last)",
      "Cell \u001b[0;32mIn [69], line 8\u001b[0m\n\u001b[1;32m      5\u001b[0m \u001b[38;5;28mprint\u001b[39m(report_raw)\n\u001b[1;32m      7\u001b[0m \u001b[38;5;28mprint\u001b[39m(\u001b[38;5;124m\"\u001b[39m\u001b[38;5;130;01m\\n\u001b[39;00m\u001b[38;5;124mClassifier on 1D projected data:\u001b[39m\u001b[38;5;124m\"\u001b[39m)\n\u001b[0;32m----> 8\u001b[0m \u001b[38;5;28mprint\u001b[39m(\u001b[38;5;124mf\u001b[39m\u001b[38;5;124m\"\u001b[39m\u001b[38;5;124mTraining Time: \u001b[39m\u001b[38;5;132;01m{\u001b[39;00m\u001b[43mtraining_time_projected\u001b[49m\u001b[38;5;132;01m}\u001b[39;00m\u001b[38;5;124m seconds\u001b[39m\u001b[38;5;124m\"\u001b[39m)\n\u001b[1;32m      9\u001b[0m \u001b[38;5;28mprint\u001b[39m(\u001b[38;5;124mf\u001b[39m\u001b[38;5;124m\"\u001b[39m\u001b[38;5;124mAccuracy: \u001b[39m\u001b[38;5;132;01m{\u001b[39;00maccuracy_projected\u001b[38;5;132;01m}\u001b[39;00m\u001b[38;5;124m\"\u001b[39m)\n\u001b[1;32m     10\u001b[0m \u001b[38;5;28mprint\u001b[39m(report_projected)\n",
      "\u001b[0;31mNameError\u001b[0m: name 'training_time_projected' is not defined"
     ]
    }
   ],
   "source": [
    "\n",
    "# Compare results\n",
    "print(\"Classifier on raw 2D data:\")\n",
    "print(f\"Training Time: {training_time_raw} seconds\")\n",
    "print(f\"Accuracy: {accuracy_raw}\")\n",
    "print(report_raw)\n",
    "\n",
    "print(\"\\nClassifier on 1D projected data:\")\n",
    "print(f\"Training Time: {training_time_projected} seconds\")\n",
    "print(f\"Accuracy: {accuracy_projected}\")\n",
    "print(report_projected)\n"
   ]
  },
  {
   "cell_type": "markdown",
   "metadata": {},
   "source": [
    "5- Même question avec un $k$-nn."
   ]
  },
  {
   "cell_type": "code",
   "execution_count": null,
   "metadata": {},
   "outputs": [],
   "source": []
  },
  {
   "cell_type": "code",
   "execution_count": null,
   "metadata": {},
   "outputs": [],
   "source": []
  },
  {
   "cell_type": "code",
   "execution_count": null,
   "metadata": {},
   "outputs": [],
   "source": []
  },
  {
   "cell_type": "markdown",
   "metadata": {},
   "source": [
    "### Exercice 2.\n",
    "\n",
    "Dans cet exercice, nous allons travailler avec un dataset contenant des données sur le cancer du sein. Le dataset \n",
    "peut être chargé par l'instruction <code> load_breast_cancer</code> de la bibliothèque <code>sklearn.datasets</code>.\n",
    "\n",
    "Commencer par charger les données, et les explorer.\n",
    "\n"
   ]
  },
  {
   "cell_type": "code",
   "execution_count": null,
   "metadata": {},
   "outputs": [],
   "source": []
  },
  {
   "cell_type": "code",
   "execution_count": null,
   "metadata": {},
   "outputs": [],
   "source": []
  },
  {
   "cell_type": "code",
   "execution_count": null,
   "metadata": {},
   "outputs": [],
   "source": []
  },
  {
   "cell_type": "code",
   "execution_count": null,
   "metadata": {},
   "outputs": [],
   "source": []
  },
  {
   "cell_type": "markdown",
   "metadata": {},
   "source": [
    "1- Faites une ACP en utilisant le module <code>PCA</code> de la bibliothèque <code>sklearn.decomposition</code>.  \n",
    "\n",
    "Attention : pensez à centrer et réduire vos données."
   ]
  },
  {
   "cell_type": "code",
   "execution_count": null,
   "metadata": {},
   "outputs": [],
   "source": []
  },
  {
   "cell_type": "code",
   "execution_count": null,
   "metadata": {},
   "outputs": [],
   "source": []
  },
  {
   "cell_type": "code",
   "execution_count": null,
   "metadata": {},
   "outputs": [],
   "source": []
  },
  {
   "cell_type": "markdown",
   "metadata": {},
   "source": [
    "2- Affichez l'éboulie des valeurs propres et indiquer le nombre d'axes à retenir en utilisant le critère du coude. "
   ]
  },
  {
   "cell_type": "code",
   "execution_count": null,
   "metadata": {},
   "outputs": [],
   "source": []
  },
  {
   "cell_type": "code",
   "execution_count": null,
   "metadata": {},
   "outputs": [],
   "source": []
  },
  {
   "cell_type": "code",
   "execution_count": null,
   "metadata": {},
   "outputs": [],
   "source": []
  },
  {
   "cell_type": "markdown",
   "metadata": {},
   "source": [
    "3- Combien d'axes faut-il retenir pour garder au moins 80% de la variance ?"
   ]
  },
  {
   "cell_type": "code",
   "execution_count": null,
   "metadata": {},
   "outputs": [],
   "source": []
  },
  {
   "cell_type": "markdown",
   "metadata": {},
   "source": [
    "4- En ne gardant que 3 axes,  étudier l'impact de la réduction sur la qualité d'un classifieur de votre choix. "
   ]
  },
  {
   "cell_type": "code",
   "execution_count": null,
   "metadata": {},
   "outputs": [],
   "source": []
  },
  {
   "cell_type": "code",
   "execution_count": null,
   "metadata": {},
   "outputs": [],
   "source": []
  },
  {
   "cell_type": "markdown",
   "metadata": {},
   "source": [
    "5- Commenter les résultats"
   ]
  },
  {
   "cell_type": "markdown",
   "metadata": {},
   "source": []
  }
 ],
 "metadata": {
  "kernelspec": {
   "display_name": "Python 3 (ipykernel)",
   "language": "python",
   "name": "python3"
  },
  "language_info": {
   "codemirror_mode": {
    "name": "ipython",
    "version": 3
   },
   "file_extension": ".py",
   "mimetype": "text/x-python",
   "name": "python",
   "nbconvert_exporter": "python",
   "pygments_lexer": "ipython3",
   "version": "3.11.2"
  }
 },
 "nbformat": 4,
 "nbformat_minor": 2
}
