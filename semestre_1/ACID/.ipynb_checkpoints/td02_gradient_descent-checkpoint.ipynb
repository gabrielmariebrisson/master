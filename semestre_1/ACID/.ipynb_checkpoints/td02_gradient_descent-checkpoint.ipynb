{
 "cells": [
  {
   "cell_type": "markdown",
   "metadata": {},
   "source": [
    "#### Université de Bordeaux,  Master Mention Informatique,  2021-2022\n",
    "\n",
    "# Analyse, classification et indexation des données: feuille 3\n",
    "### Descente de gradient"
   ]
  },
  {
   "cell_type": "markdown",
   "metadata": {},
   "source": [
    "##### Avant de commencer :\n",
    "La méthode de la descente de gradient permet de trouver un minimum local d’une fonction de ${\\mathbb R}^n$ dans ${\\mathbb R}$ . L’objectif de ce TD est de comprendre cette méthode pour pouvoir l’utiliser par la suite dans différentes applications où on cherche à minimiser un critère.\n"
   ]
  },
  {
   "cell_type": "markdown",
   "metadata": {},
   "source": [
    "Comme précédemment nous utilisons entre autres <code>numpy</code> pour manipuler vecteurs et matrices."
   ]
  },
  {
   "cell_type": "code",
   "execution_count": 1,
   "metadata": {},
   "outputs": [],
   "source": [
    "import numpy as np"
   ]
  },
  {
   "cell_type": "markdown",
   "metadata": {},
   "source": [
    "### Exercice 1. Polynôme :  calcul et dérivée"
   ]
  },
  {
   "cell_type": "markdown",
   "metadata": {},
   "source": [
    "1. Ecrivez une fonction python <code>valeurPolynome (coeff, x)</code> qui calcule la valeur du polynôme défini par le vecteur de coefficients <code>coeff</code> pour la valeur <code>x</code>. Les coefficients sont rangés dans l'ordre des puissances croissantes. Par exemple le vecteur $[1, 2, 3]$ définit le polynôme $3x^2+2x+1$. <br>Utilisez pour cela la classe <code>Polynomial</code> du module <code>numpy.polynomial</code>."
   ]
  },
  {
   "cell_type": "code",
   "execution_count": 2,
   "metadata": {},
   "outputs": [],
   "source": [
    "def valeurPolynome (coeff, x):\n",
    "    polynome = np.polynomial.Polynomial(coeff)\n",
    "    return polynome(x)\n",
    "    #resultat=coeff[0]\n",
    "    #for i in range (1,len(coeff)):\n",
    "    #    resultat=resultat+coeff[i]*x**i\n",
    "    #return resultat"
   ]
  },
  {
   "cell_type": "markdown",
   "metadata": {},
   "source": [
    "2. Testez cette fonction pour différentes valeurs de <code>x</code> et pour un polynôme dont vous choisirez les coefficients. Remarquez que le paramètre <code>x</code> peut lui même être un vecteur ou une matrice."
   ]
  },
  {
   "cell_type": "code",
   "execution_count": 3,
   "metadata": {},
   "outputs": [
    {
     "name": "stdout",
     "output_type": "stream",
     "text": [
      "[ 0.    1.25  2.5   3.75  5.    6.25  7.5   8.75 10.  ]\n",
      "resultat polynome =  [  1.       8.1875  24.75    50.6875  86.     130.6875 184.75   248.1875\n",
      " 321.    ]\n"
     ]
    }
   ],
   "source": [
    "M= np.linspace(0, 10, 9)\n",
    "print(M)\n",
    "polynome=[1,2,3]\n",
    "print(\"resultat polynome = \",valeurPolynome(polynome,M))"
   ]
  },
  {
   "cell_type": "markdown",
   "metadata": {},
   "source": [
    "3. La dérivée d’un polynôme est elle même un polynôme. Toujours en utilisant la classe <code>Polynomial</code>, écrivez une fonction python <code>derivPoly(coeff)</code> qui retourne le tableau de coefficients représentant la dérivée du polynôme défini par <code>coeff</code>. Testez."
   ]
  },
  {
   "cell_type": "code",
   "execution_count": 4,
   "metadata": {},
   "outputs": [
    {
     "name": "stdout",
     "output_type": "stream",
     "text": [
      "resultat dérivé polynome =  [2. 6.]\n"
     ]
    }
   ],
   "source": [
    "def derivPoly(coeff):\n",
    "    polynome = np.polynomial.Polynomial(coeff)\n",
    "    derivative = polynome.deriv()\n",
    "    derivative_coeff = derivative.coef\n",
    "    return derivative_coeff\n",
    "\n",
    "print(\"resultat dérivé polynome = \",derivPoly(polynome))"
   ]
  },
  {
   "cell_type": "markdown",
   "metadata": {},
   "source": [
    "### Exercice 2. Descente de gradient pour trouver le minimum d’une parabole"
   ]
  },
  {
   "cell_type": "markdown",
   "metadata": {},
   "source": [
    "1. Exécutez le script python suivant : "
   ]
  },
  {
   "cell_type": "code",
   "execution_count": 11,
   "metadata": {},
   "outputs": [
    {
     "name": "stdout",
     "output_type": "stream",
     "text": [
      "Using matplotlib backend: TkAgg\n",
      "-0.3868562622766814\n"
     ]
    }
   ],
   "source": [
    "import numpy as np\n",
    "%matplotlib \n",
    "import matplotlib.pyplot as plt\n",
    "\n",
    "def parabole(x):\n",
    "    return x * x\n",
    "\n",
    "x = np.linspace(-300,300,600)\n",
    "y = [parabole(i) for i in x]\n",
    "\n",
    "epsilon = 0.1\n",
    "nu = 0.1\n",
    "\n",
    "plt.plot(x,y,'g')\n",
    "\n",
    "x0=250\n",
    "xcurrent = x0 - 2*x0\n",
    "xprec = x0\n",
    "\n",
    "plt.plot(x0,parabole(x0),'ok')\n",
    "\n",
    "\n",
    "while(abs(xprec - xcurrent) > epsilon):\n",
    "    xprec  = xcurrent\n",
    "    xcurrent = xprec - nu*2*xprec\n",
    "    plt.plot(xcurrent,parabole(xcurrent),'ob')\n",
    "    plt.pause(1)\n",
    "    \n",
    "plt.plot(xcurrent,parabole(xcurrent),'xr')\n",
    "print(xcurrent)"
   ]
  },
  {
   "cell_type": "markdown",
   "metadata": {},
   "source": [
    "2. Retrouvez dans le code les étapes de l’algorithme de descente du gradient en repérant bien l'utilisation de la dérivée.\n",
    "3. Testez en modifiant l’initialisation de la position du minimum.\n",
    "4. Comment peut-on obtenir une estimation plus précise de la position du minimum?\n",
    "5. Testez en modifiant la variable <code>nu</code> par une autre valeur constante inférieure à 1, par exemple <code> nu = 0.6</code>.\n",
    "Que se passe-t-il si la valeur de nu est fixée à 1 ? Est-ce spécifique à la fonction choisie ?\n",
    "6. Comparez la version suivante du script avec la précédente"
   ]
  },
  {
   "cell_type": "markdown",
   "metadata": {},
   "source": [
    "2. la dérivé est ici - nu*2*xprec\n",
    "3. epsilon est la précison de la derivé \n",
    "4. nu est le pas d'apprentissage, soit le pas de recherche du minimum ou la vitesse\n",
    "   on diminue epsilon pour aujouter de la précision\n",
    "5. si il est a 1, alors renvoie la valeurs d'en face. \n",
    "6. "
   ]
  },
  {
   "cell_type": "code",
   "execution_count": 37,
   "metadata": {},
   "outputs": [
    {
     "name": "stdout",
     "output_type": "stream",
     "text": [
      "Using matplotlib backend: TkAgg\n"
     ]
    },
    {
     "ename": "KeyboardInterrupt",
     "evalue": "",
     "output_type": "error",
     "traceback": [
      "\u001b[0;31m---------------------------------------------------------------------------\u001b[0m",
      "\u001b[0;31mKeyboardInterrupt\u001b[0m                         Traceback (most recent call last)",
      "Cell \u001b[0;32mIn [37], line 27\u001b[0m\n\u001b[1;32m     25\u001b[0m     xcurrent \u001b[38;5;241m=\u001b[39m xprec \u001b[38;5;241m-\u001b[39m nu\u001b[38;5;241m*\u001b[39mdf(xprec)\n\u001b[1;32m     26\u001b[0m     plt\u001b[38;5;241m.\u001b[39mplot(xcurrent,parabole(xcurrent),\u001b[38;5;124m'\u001b[39m\u001b[38;5;124mob\u001b[39m\u001b[38;5;124m'\u001b[39m)\n\u001b[0;32m---> 27\u001b[0m     \u001b[43mplt\u001b[49m\u001b[38;5;241;43m.\u001b[39;49m\u001b[43mpause\u001b[49m\u001b[43m(\u001b[49m\u001b[38;5;241;43m1\u001b[39;49m\u001b[43m)\u001b[49m\n\u001b[1;32m     28\u001b[0m plt\u001b[38;5;241m.\u001b[39mplot(xcurrent,parabole(xcurrent),\u001b[38;5;124m'\u001b[39m\u001b[38;5;124mxr\u001b[39m\u001b[38;5;124m'\u001b[39m)\n",
      "File \u001b[0;32m/usr/lib/python3/dist-packages/matplotlib/pyplot.py:557\u001b[0m, in \u001b[0;36mpause\u001b[0;34m(interval)\u001b[0m\n\u001b[1;32m    555\u001b[0m         canvas\u001b[38;5;241m.\u001b[39mdraw_idle()\n\u001b[1;32m    556\u001b[0m     show(block\u001b[38;5;241m=\u001b[39m\u001b[38;5;28;01mFalse\u001b[39;00m)\n\u001b[0;32m--> 557\u001b[0m     \u001b[43mcanvas\u001b[49m\u001b[38;5;241;43m.\u001b[39;49m\u001b[43mstart_event_loop\u001b[49m\u001b[43m(\u001b[49m\u001b[43minterval\u001b[49m\u001b[43m)\u001b[49m\n\u001b[1;32m    558\u001b[0m \u001b[38;5;28;01melse\u001b[39;00m:\n\u001b[1;32m    559\u001b[0m     time\u001b[38;5;241m.\u001b[39msleep(interval)\n",
      "File \u001b[0;32m/usr/lib/python3/dist-packages/matplotlib/backends/_backend_tk.py:397\u001b[0m, in \u001b[0;36mFigureCanvasTk.start_event_loop\u001b[0;34m(self, timeout)\u001b[0m\n\u001b[1;32m    394\u001b[0m     \u001b[38;5;28;01melse\u001b[39;00m:\n\u001b[1;32m    395\u001b[0m         \u001b[38;5;28mself\u001b[39m\u001b[38;5;241m.\u001b[39m_event_loop_id \u001b[38;5;241m=\u001b[39m \u001b[38;5;28mself\u001b[39m\u001b[38;5;241m.\u001b[39m_tkcanvas\u001b[38;5;241m.\u001b[39mafter_idle(\n\u001b[1;32m    396\u001b[0m             \u001b[38;5;28mself\u001b[39m\u001b[38;5;241m.\u001b[39mstop_event_loop)\n\u001b[0;32m--> 397\u001b[0m \u001b[38;5;28;43mself\u001b[39;49m\u001b[38;5;241;43m.\u001b[39;49m\u001b[43m_tkcanvas\u001b[49m\u001b[38;5;241;43m.\u001b[39;49m\u001b[43mmainloop\u001b[49m\u001b[43m(\u001b[49m\u001b[43m)\u001b[49m\n",
      "File \u001b[0;32m/usr/lib/python3.11/tkinter/__init__.py:1485\u001b[0m, in \u001b[0;36mMisc.mainloop\u001b[0;34m(self, n)\u001b[0m\n\u001b[1;32m   1483\u001b[0m \u001b[38;5;28;01mdef\u001b[39;00m \u001b[38;5;21mmainloop\u001b[39m(\u001b[38;5;28mself\u001b[39m, n\u001b[38;5;241m=\u001b[39m\u001b[38;5;241m0\u001b[39m):\n\u001b[1;32m   1484\u001b[0m \u001b[38;5;250m    \u001b[39m\u001b[38;5;124;03m\"\"\"Call the mainloop of Tk.\"\"\"\u001b[39;00m\n\u001b[0;32m-> 1485\u001b[0m     \u001b[38;5;28mself\u001b[39m\u001b[38;5;241m.\u001b[39mtk\u001b[38;5;241m.\u001b[39mmainloop(n)\n",
      "File \u001b[0;32m/usr/lib/python3.11/tkinter/__init__.py:1943\u001b[0m, in \u001b[0;36mCallWrapper.__call__\u001b[0;34m(self, *args)\u001b[0m\n\u001b[1;32m   1940\u001b[0m     \u001b[38;5;28mself\u001b[39m\u001b[38;5;241m.\u001b[39msubst \u001b[38;5;241m=\u001b[39m subst\n\u001b[1;32m   1941\u001b[0m     \u001b[38;5;28mself\u001b[39m\u001b[38;5;241m.\u001b[39mwidget \u001b[38;5;241m=\u001b[39m widget\n\u001b[0;32m-> 1943\u001b[0m \u001b[38;5;28;01mdef\u001b[39;00m \u001b[38;5;21m__call__\u001b[39m(\u001b[38;5;28mself\u001b[39m, \u001b[38;5;241m*\u001b[39margs):\n\u001b[1;32m   1944\u001b[0m \u001b[38;5;250m    \u001b[39m\u001b[38;5;124;03m\"\"\"Apply first function SUBST to arguments, than FUNC.\"\"\"\u001b[39;00m\n\u001b[1;32m   1945\u001b[0m     \u001b[38;5;28;01mtry\u001b[39;00m:\n",
      "\u001b[0;31mKeyboardInterrupt\u001b[0m: "
     ]
    }
   ],
   "source": [
    "import numpy as np\n",
    "%matplotlib\n",
    "import matplotlib.pyplot as plt\n",
    "\n",
    "def parabole(x):\n",
    "    return x * x\n",
    "\n",
    "x = np.linspace(-300,300,600)\n",
    "y = [parabole(i) for i in x]\n",
    "\n",
    "epsilon = 0.1\n",
    "attenuation = 3\n",
    "\n",
    "plt.plot(x,y,'g')\n",
    "\n",
    "x0=250\n",
    "xcurrent = x0 - 2*x0\n",
    "xprec = x0\n",
    "\n",
    "plt.plot(x0,parabole(x0),'ok')\n",
    "\n",
    "while(abs(xprec - xcurrent) > epsilon):\n",
    "    xprec  = xcurrent\n",
    "    nu = 1/np.log(attenuation)\n",
    "    attenuation = attenuation+1\n",
    "    xcurrent = xprec - nu*2*xprec\n",
    "    plt.plot(xcurrent,parabole(xcurrent),'ob')\n",
    "    plt.pause(0.1)\n",
    "plt.plot(xcurrent,parabole(xcurrent),'xr')\n"
   ]
  },
  {
   "cell_type": "markdown",
   "metadata": {},
   "source": [
    "7. Comment évolue la variable <code>nu</code> au fur et à mesure des itérations ? Quel est l'intérêt de procéder ainsi?\n"
   ]
  },
  {
   "cell_type": "markdown",
   "metadata": {},
   "source": [
    "nu s'adpate a la courbe de la dérivé"
   ]
  },
  {
   "cell_type": "markdown",
   "metadata": {},
   "source": [
    "### Exercice 3. Descente de gradient pour trouver le minimum d’un polynôme"
   ]
  },
  {
   "cell_type": "markdown",
   "metadata": {},
   "source": [
    "1. On choisit comme exemple le polynôme $30 − 61x + 41x^2 − 11x^3 + x^4$ . Ecrivez un script python\n",
    "qui affiche ce polynôme entre 0 et 6 et qui montre les étapes de la descente de gradient à partir de la valeur initiale 5."
   ]
  },
  {
   "cell_type": "code",
   "execution_count": null,
   "metadata": {},
   "outputs": [
    {
     "name": "stdout",
     "output_type": "stream",
     "text": [
      "Using matplotlib backend: TkAgg\n"
     ]
    },
    {
     "name": "stderr",
     "output_type": "stream",
     "text": [
      "Exception in Tkinter callback\n",
      "Traceback (most recent call last):\n",
      "  File \"/usr/lib/python3.11/tkinter/__init__.py\", line 1948, in __call__\n",
      "    return self.func(*args)\n",
      "           ^^^^^^^^^^^^^^^^\n",
      "  File \"/usr/lib/python3.11/tkinter/__init__.py\", line 861, in callit\n",
      "    func(*args)\n",
      "  File \"/usr/lib/python3/dist-packages/matplotlib/backends/_backend_tk.py\", line 251, in idle_draw\n",
      "    self.draw()\n",
      "  File \"/usr/lib/python3/dist-packages/matplotlib/backends/backend_tkagg.py\", line 10, in draw\n",
      "    super().draw()\n",
      "  File \"/usr/lib/python3/dist-packages/matplotlib/backends/backend_agg.py\", line 405, in draw\n",
      "    self.figure.draw(self.renderer)\n",
      "  File \"/usr/lib/python3/dist-packages/matplotlib/artist.py\", line 74, in draw_wrapper\n",
      "    result = draw(artist, renderer, *args, **kwargs)\n",
      "             ^^^^^^^^^^^^^^^^^^^^^^^^^^^^^^^^^^^^^^^\n",
      "  File \"/usr/lib/python3/dist-packages/matplotlib/artist.py\", line 51, in draw_wrapper\n",
      "    return draw(artist, renderer)\n",
      "           ^^^^^^^^^^^^^^^^^^^^^^\n",
      "  File \"/usr/lib/python3/dist-packages/matplotlib/figure.py\", line 3082, in draw\n",
      "    mimage._draw_list_compositing_images(\n",
      "  File \"/usr/lib/python3/dist-packages/matplotlib/image.py\", line 131, in _draw_list_compositing_images\n",
      "    a.draw(renderer)\n",
      "  File \"/usr/lib/python3/dist-packages/matplotlib/artist.py\", line 51, in draw_wrapper\n",
      "    return draw(artist, renderer)\n",
      "           ^^^^^^^^^^^^^^^^^^^^^^\n",
      "  File \"/usr/lib/python3/dist-packages/matplotlib/axes/_base.py\", line 3100, in draw\n",
      "    mimage._draw_list_compositing_images(\n",
      "  File \"/usr/lib/python3/dist-packages/matplotlib/image.py\", line 131, in _draw_list_compositing_images\n",
      "    a.draw(renderer)\n",
      "  File \"/usr/lib/python3/dist-packages/matplotlib/artist.py\", line 51, in draw_wrapper\n",
      "    return draw(artist, renderer)\n",
      "           ^^^^^^^^^^^^^^^^^^^^^^\n",
      "  File \"/usr/lib/python3/dist-packages/matplotlib/lines.py\", line 867, in draw\n",
      "    subsampled, affine.frozen(),\n",
      "                ^^^^^^^^^^^^^^^\n",
      "  File \"/usr/lib/python3/dist-packages/matplotlib/transforms.py\", line 1834, in frozen\n",
      "    return Affine2D(self.get_matrix().copy())\n",
      "                    ^^^^^^^^^^^^^^^^^^^^^^^^\n",
      "KeyboardInterrupt\n"
     ]
    }
   ],
   "source": [
    "import numpy as np\n",
    "%matplotlib\n",
    "import matplotlib.pyplot as plt\n",
    "\n",
    "def parabole(x):\n",
    "    return 30 - 61 * x + 41 * x**2 - 11 * x**3 + x**4\n",
    "\n",
    "def df(x):\n",
    "    return 61 * x + 82 * x- 33 * x**2 + 4*x**3\n",
    "\n",
    "x = np.linspace(0,6,600)\n",
    "y = [parabole(i) for i in x]\n",
    "\n",
    "epsilon = 0.1\n",
    "nu = 0.1\n",
    "\n",
    "plt.plot(x,y,'g')\n",
    "\n",
    "x0=5\n",
    "xcurrent = x0 - nu * (4 * x0**3 - 33 * x0**2 + 82 * x0 - 61)\n",
    "xprec = x0\n",
    "\n",
    "plt.plot(x, parabole(x), 'g', label='Polynôme')\n",
    "plt.plot(x0, parabole(x0), 'ok', label='Point de départ')\n",
    "plt.plot(xcurrent, parabole(xcurrent), 'ob', label='Point courant')\n",
    "\n",
    "\n",
    "while(abs(xprec - xcurrent) > epsilon):\n",
    "    x0 = xcurrent\n",
    "    xcurrent = x0 - nu * (4 * x0**3 - 33 * x0**2 + 82 * x0 - 61)\n",
    "    plt.plot(xcurrent, parabole(xcurrent), 'ob')\n",
    "    plt.pause(0.01)\n",
    "plt.plot(xcurrent, parabole(xcurrent), 'xr', label='Minimum trouvé')"
   ]
  },
  {
   "cell_type": "markdown",
   "metadata": {},
   "source": [
    "\n",
    "2. Changez la valeur initiale à 0.\n",
    "3. Faites varier les paramètres de la descente de gradient (taux d'apprentissage, test d’arrêt) et commentez le\n",
    "comportement de l’algorithme."
   ]
  },
  {
   "cell_type": "markdown",
   "metadata": {},
   "source": [
    "    Taux d'apprentissage (eta): Si vous augmentez eta, l'algorithme peut converger plus rapidement, mais il peut aussi devenir instable ou diverger. Si vous diminuez eta, l'algorithme peut converger plus lentement mais de manière plus stable. Il est important de choisir un eta approprié en fonction de la forme de la fonction que vous optimisez.\n",
    "\n",
    "    Critère d'arrêt (epsilon): En augmentant epsilon, vous permettez à l'algorithme de s'arrêter plus tôt, même s'il n'a pas encore atteint une convergence très précise. En diminuant epsilon, l'algorithme prendra plus de temps pour converger vers une solution plus précise.\n",
    "\n",
    "    Terme de momentum (gamma): Le terme de momentum permet d'accélérer la convergence et d'éviter de rester coincé dans des minima locaux, mais un gamma trop élevé peut rendre l'algorithme instable. Vous pouvez ajuster gamma en fonction de la régularité de votre fonction.\n",
    "    \n",
    "    la variable v représente la vitesse ou la vélocité de la mise à jour des paramètres. Plus précisément, v est utilisée pour accumuler l'influence des gradients précédents et pour accélérer ou ralentir le mouvement lors de la mise à jour des paramètres."
   ]
  },
  {
   "cell_type": "markdown",
   "metadata": {},
   "source": [
    "### Exercice 4. Descente de gradient pour trouver le minimum d’une surface"
   ]
  },
  {
   "cell_type": "markdown",
   "metadata": {},
   "source": [
    "1. On choisit comme exemple la fonction définie par $f(x,y) = (x−1)(x−2)+(y+3)(y+4)$. On visualise une partie de la surface correspondante avec le code ci-dessous. Quels sont les intervalles de variation de $x$ et $y$ dans ce code? Quelles sont les coordonnées du minimum ?"
   ]
  },
  {
   "cell_type": "code",
   "execution_count": 9,
   "metadata": {
    "scrolled": true
   },
   "outputs": [
    {
     "name": "stdout",
     "output_type": "stream",
     "text": [
      "Using matplotlib backend: TkAgg\n"
     ]
    }
   ],
   "source": [
    "import numpy as np\n",
    "%matplotlib\n",
    "import matplotlib.pyplot as plt\n",
    "\n",
    "from mpl_toolkits.mplot3d import Axes3D\n",
    "\n",
    "def f(x,y):\n",
    "    return (x - 1) * (x - 2) + (y + 3) * (y + 4)\n",
    "\n",
    "x = np.linspace(-8, 8, 160) \n",
    "y = np.linspace(-8, 8, 160)\n",
    "x, y = np.meshgrid(x, y)\n",
    "\n",
    "z = f(x, y)\n",
    "\n",
    "fig = plt.figure()\n",
    "ax = fig.add_subplot(111,projection='3d')\n",
    "\n",
    "ax.plot_surface(x, y, z) \n",
    "plt.show()\n"
   ]
  },
  {
   "cell_type": "markdown",
   "metadata": {},
   "source": [
    "2. Ecrivez une fonction python <code>animationDescenteSurface(pdep)</code> qui affiche cette surface et qui montre les étapes de la descente de gradient à partir du point initial <code>pdep</code> donné comme vecteur de deux coordonnées. Pour afficher un point 3D vous utiliserez la fonction <code>scatter</code> de <code>Axes3D</code>."
   ]
  },
  {
   "cell_type": "code",
   "execution_count": 2,
   "metadata": {},
   "outputs": [],
   "source": [
    "import numpy as np\n",
    "import matplotlib.pyplot as plt\n",
    "from mpl_toolkits.mplot3d import Axes3D\n",
    "\n",
    "# Fonction à optimiser\n",
    "def f(x, y):\n",
    "    return (x - 1) * (x - 2) + (y + 3) * (y + 4)\n",
    "\n",
    "# Gradient de la fonction\n",
    "def gradient(x, y):\n",
    "    df_dx = 2 * (x - 1) + 0\n",
    "    df_dy = 0 + 2 * (y + 3)\n",
    "    return np.array([df_dx, df_dy])\n",
    "\n",
    "# Descente de gradient\n",
    "def descente_gradient(pdep, taux_apprentissage, iterations):\n",
    "    trajectoire = [pdep]\n",
    "    for _ in range(iterations):\n",
    "        gradient_p = gradient(pdep[0], pdep[1])\n",
    "        pdep = pdep - taux_apprentissage * gradient_p\n",
    "        trajectoire.append(pdep)\n",
    "    return np.array(trajectoire)\n",
    "\n",
    "def animationDescenteSurface(pdep):\n",
    "    x = np.linspace(-8, 8, 160)\n",
    "    y = np.linspace(-8, 8, 160)\n",
    "    x, y = np.meshgrid(x, y)\n",
    "\n",
    "    z = f(x, y)\n",
    "\n",
    "    fig = plt.figure()\n",
    "    ax = fig.add_subplot(111, projection='3d')\n",
    "\n",
    "    # Affichage de la surface\n",
    "    ax.plot_surface(x, y, z, cmap='viridis')\n",
    "\n",
    "    # Descente de gradient\n",
    "    trajectoire = descente_gradient(pdep, taux_apprentissage=0.1, iterations=50)\n",
    "\n",
    "    # Affichage de la trajectoire\n",
    "    ax.scatter(trajectoire[:, 0], trajectoire[:, 1], f(trajectoire[:, 0], trajectoire[:, 1]), c='r', marker='o')\n",
    "\n",
    "    plt.show()\n",
    "\n",
    "# Point initial pour la descente de gradient\n",
    "point_initial = np.array([7.0, 7.0])\n",
    "\n",
    "# Appel de la fonction d'animation\n",
    "animationDescenteSurface(point_initial)\n",
    "\n",
    "    "
   ]
  },
  {
   "cell_type": "markdown",
   "metadata": {},
   "source": [
    "3. Testez avec comme point initial <code>pdep = (1, -5)</code> puis <code>(-1, -3)</code>, <code>(-1, -5)</code> et <code>(2, -4)</code>."
   ]
  },
  {
   "cell_type": "code",
   "execution_count": 9,
   "metadata": {},
   "outputs": [
    {
     "name": "stdout",
     "output_type": "stream",
     "text": [
      "Point initial: (1, -5)\n"
     ]
    }
   ],
   "source": [
    "\n",
    "pdep = np.array((1, -5))\n",
    "print(f\"Point initial: {(1, -5)}\")\n",
    "animationDescenteSurface((1, -5))\n"
   ]
  },
  {
   "cell_type": "code",
   "execution_count": null,
   "metadata": {},
   "outputs": [],
   "source": [
    "pdep = np.array((-1, -3))\n",
    "print(f\"Point initial: {(-1, -3)}\")\n",
    "animationDescenteSurface((-1, -3))\n"
   ]
  },
  {
   "cell_type": "code",
   "execution_count": null,
   "metadata": {},
   "outputs": [],
   "source": [
    "pdep = np.array((-1, -5))\n",
    "print(f\"Point initial: {(-1, -5)}\")\n",
    "animationDescenteSurface((-1, -5))\n"
   ]
  },
  {
   "cell_type": "code",
   "execution_count": null,
   "metadata": {},
   "outputs": [],
   "source": [
    "pdep = np.array((2, -4))\n",
    "print(f\"Point initial: {(2, -4)}\")\n",
    "animationDescenteSurface((2, -4))\n"
   ]
  },
  {
   "cell_type": "markdown",
   "metadata": {},
   "source": [
    "### Exercice 5. Application : régression linéaire\n",
    "\n",
    "On veut calculer la droite de régression linéaire correspondant à un nuage de\n",
    "points 2D $\\{(x_1, y_1), \\cdots , (x_m, y_m)\\}$, c'est-à-dire la droite $y = \\theta_1x + \\theta_0$ qui minimise le critère suivant : \n",
    "$$\n",
    "\\frac 1 m \\sum \\left( \\theta_0 + \\theta_1 x_i - y_i\\right)^2.\n",
    "$$\n",
    "\n",
    "Autrement dit, on cherche à minimiser la moyenne des distances verticales entre chaque point du nuage et la droite. <br>\n",
    "Utilisez une descente de gradient (en 2D) pour trouver les caractéristiques $\\theta_0$ et $\\theta_1$ de la droite de régression linéaire correspondant à un nuage de points. Pour générer un nuage de point, vous pouvez utiliser le code suivant :"
   ]
  },
  {
   "cell_type": "code",
   "execution_count": 4,
   "metadata": {},
   "outputs": [
    {
     "data": {
      "text/plain": [
       "[<matplotlib.lines.Line2D at 0x1179a5370>]"
      ]
     },
     "execution_count": 4,
     "metadata": {},
     "output_type": "execute_result"
    },
    {
     "data": {
      "image/png": "[encoded data removed]",
      "text/plain": [
       "<Figure size 640x480 with 1 Axes>"
      ]
     },
     "metadata": {},
     "output_type": "display_data"
    }
   ],
   "source": [
    "from random import random\n",
    "import matplotlib.pyplot as plt\n",
    "from mpl_toolkits.mplot3d import Axes3D\n",
    "import numpy as np\n",
    "\n",
    "m = 40\n",
    "sizeNoise = 10\n",
    "x = [random()*50 + 5 for i in range(m)]\n",
    "noise = [random() * sizeNoise for i in range(m)] # ou np.rand(m,1) * sizeNoise\n",
    "pente = 0.8\n",
    "b =  20\n",
    "y = [b + pente*x[i] + noise[i] for i in range(m)] \n",
    "\n",
    "plt.plot(x,y,'bx')"
   ]
  },
  {
   "cell_type": "code",
   "execution_count": 9,
   "metadata": {},
   "outputs": [
    {
     "name": "stdout",
     "output_type": "stream",
     "text": [
      "Iteration 1/20, Coût : 2219.3554513523627\n",
      "Iteration 2/20, Coût : 1511510.9958317957\n",
      "Iteration 3/20, Coût : 1078277105.6111083\n",
      "Iteration 4/20, Coût : 769268890098.9343\n",
      "Iteration 5/20, Coût : 548815027879122.6\n",
      "Iteration 6/20, Coût : 3.915379118293355e+17\n",
      "Iteration 7/20, Coût : 2.7933261410886307e+20\n",
      "Iteration 8/20, Coût : 1.992826414697269e+23\n",
      "Iteration 9/20, Coût : 1.4217305529412431e+26\n",
      "Iteration 10/20, Coût : 1.0142969554494156e+29\n",
      "Iteration 11/20, Coût : 7.236239748140744e+31\n",
      "Iteration 12/20, Coût : 5.162508416420404e+34\n",
      "Iteration 13/20, Coût : 3.6830583393065803e+37\n",
      "Iteration 14/20, Coût : 2.627582879591976e+40\n",
      "Iteration 15/20, Coût : 1.8745811640943856e+43\n",
      "Iteration 16/20, Coût : 1.3373715318632086e+46\n",
      "Iteration 17/20, Coût : 9.541131899200551e+48\n",
      "Iteration 18/20, Coût : 6.806874211769418e+51\n",
      "Iteration 19/20, Coût : 4.856188660250445e+54\n",
      "Iteration 20/20, Coût : 3.464522418112208e+57\n"
     ]
    },
    {
     "ename": "NameError",
     "evalue": "name 'X_regression' is not defined",
     "output_type": "error",
     "traceback": [
      "\u001b[0;31m---------------------------------------------------------------------------\u001b[0m",
      "\u001b[0;31mNameError\u001b[0m                                 Traceback (most recent call last)",
      "Cell \u001b[0;32mIn[9], line 42\u001b[0m\n\u001b[1;32m     40\u001b[0m \u001b[38;5;66;03m# Tracer l'évolution du coût au fil des itérations\u001b[39;00m\n\u001b[1;32m     41\u001b[0m plt\u001b[38;5;241m.\u001b[39mplot(X, Y, \u001b[38;5;124m'\u001b[39m\u001b[38;5;124mbx\u001b[39m\u001b[38;5;124m'\u001b[39m)\n\u001b[0;32m---> 42\u001b[0m plt\u001b[38;5;241m.\u001b[39mplot(\u001b[43mX_regression\u001b[49m, Y_regression, label\u001b[38;5;241m=\u001b[39m\u001b[38;5;124m'\u001b[39m\u001b[38;5;124mRégression linéaire\u001b[39m\u001b[38;5;124m'\u001b[39m, color\u001b[38;5;241m=\u001b[39m\u001b[38;5;124m'\u001b[39m\u001b[38;5;124mred\u001b[39m\u001b[38;5;124m'\u001b[39m)\n\u001b[1;32m     43\u001b[0m plt\u001b[38;5;241m.\u001b[39mplot(\u001b[38;5;28mrange\u001b[39m(num_iterations), cost_history)\n\u001b[1;32m     44\u001b[0m plt\u001b[38;5;241m.\u001b[39mxlabel(\u001b[38;5;124m'\u001b[39m\u001b[38;5;124mIteration\u001b[39m\u001b[38;5;124m'\u001b[39m)\n",
      "\u001b[0;31mNameError\u001b[0m: name 'X_regression' is not defined"
     ]
    },
    {
     "data": {
      "image/png": "[encoded data removed]",
      "text/plain": [
       "<Figure size 640x480 with 1 Axes>"
      ]
     },
     "metadata": {},
     "output_type": "display_data"
    }
   ],
   "source": [
    "# Définir la fonction de coût (MSE)\n",
    "def mean_squared_error(y_true, y_pred):\n",
    "    return ((y_true - y_pred) ** 2).mean()\n",
    "\n",
    "# Définir le taux d'apprentissage\n",
    "learning_rate = 0.01\n",
    "\n",
    "# Nombre d'itérations de la descente de gradient\n",
    "num_iterations = 20\n",
    "\n",
    "# Stockage de l'historique des coûts pour la visualisation\n",
    "cost_history = []\n",
    "\n",
    "pente = np.random.rand()  # Initialisation aléatoire\n",
    "b = np.random.rand()      # Initialisation aléatoire\n",
    "\n",
    "X = np.array(x)\n",
    "Y = np.array(y)\n",
    "\n",
    "# Descente de gradient\n",
    "for _ in range(num_iterations):\n",
    "    # Calculer les prédictions du modèle\n",
    "    y_pred = b + pente * X\n",
    "    \n",
    "    # Calculer les gradients par rapport à la pente et au biais\n",
    "    gradient_pente = -2/m * np.sum((Y - y_pred) * X)\n",
    "    gradient_b = -2/m * np.sum(Y - y_pred)\n",
    "    \n",
    "    # Mettre à jour les paramètres en utilisant le taux d'apprentissage\n",
    "    pente -= learning_rate * gradient_pente\n",
    "    b -= learning_rate * gradient_b\n",
    "    \n",
    "    # Calculer la valeur actuelle de la fonction de coût\n",
    "    cost = mean_squared_error(Y, y_pred)\n",
    "    cost_history.append(cost)\n",
    "    \n",
    "    # Afficher la valeur de la fonction de coût à chaque itération (pour surveillance)\n",
    "    print(f'Iteration {_+1}/{num_iterations}, Coût : {cost}')\n",
    "\n",
    "# Tracer l'évolution du coût au fil des itérations\n",
    "plt.plot(X, Y, 'bx')\n",
    "y_regression = b + pente * X\n",
    "plt.plot(X, y_regression, label='Régression linéaire', color='red')\n",
    "\n",
    "plt.xlabel('X')\n",
    "plt.ylabel('Y')\n",
    "plt.legend()\n",
    "plt.title('Régression linéaire')\n",
    "plt.show()\n",
    "# Afficher les paramètres appris\n",
    "print(f'Pente apprise : {pente}')\n",
    "print(f'Biais appris : {b}')"
   ]
  },
  {
   "cell_type": "code",
   "execution_count": 6,
   "metadata": {},
   "outputs": [
    {
     "ename": "NameError",
     "evalue": "name 'X' is not defined",
     "output_type": "error",
     "traceback": [
      "\u001b[0;31m---------------------------------------------------------------------------\u001b[0m",
      "\u001b[0;31mNameError\u001b[0m                                 Traceback (most recent call last)",
      "Cell \u001b[0;32mIn[6], line 2\u001b[0m\n\u001b[1;32m      1\u001b[0m \u001b[38;5;66;03m# Création des points de la droite de régression\u001b[39;00m\n\u001b[0;32m----> 2\u001b[0m X_regression \u001b[38;5;241m=\u001b[39m np\u001b[38;5;241m.\u001b[39mlinspace(\u001b[38;5;28mmin\u001b[39m(\u001b[43mX\u001b[49m), \u001b[38;5;28mmax\u001b[39m(X), \u001b[38;5;241m100\u001b[39m)\n\u001b[1;32m      3\u001b[0m Y_regression \u001b[38;5;241m=\u001b[39m theta1 \u001b[38;5;241m*\u001b[39m X_regression \u001b[38;5;241m+\u001b[39m theta0\n\u001b[1;32m      5\u001b[0m \u001b[38;5;66;03m# Tracé du nuage de points et de la droite de régression\u001b[39;00m\n",
      "\u001b[0;31mNameError\u001b[0m: name 'X' is not defined"
     ]
    }
   ],
   "source": [
    "# Création des points de la droite de régression\n",
    "X_regression = np.linspace(min(X), max(X), 100)\n",
    "Y_regression = theta1 * X_regression + theta0\n",
    "\n",
    "# Tracé du nuage de points et de la droite de régression\n",
    "plt.plot(X, Y, 'bx')\n",
    "plt.plot(X_regression, Y_regression, label='Régression linéaire', color='red')\n",
    "plt.xlabel('X')\n",
    "plt.ylabel('Y')\n",
    "plt.title('Régression Linéaire')\n",
    "plt.legend()\n",
    "plt.show()"
   ]
  },
  {
   "cell_type": "markdown",
   "metadata": {},
   "source": [
    "REGRESSION SANS GRADIENT"
   ]
  },
  {
   "cell_type": "code",
   "execution_count": 7,
   "metadata": {},
   "outputs": [
    {
     "name": "stdout",
     "output_type": "stream",
     "text": [
      "Équation de la droite de régression : Y = 0.83 * X + 24.10\n",
      "Prédiction pour X = 6: Y = 29.06\n"
     ]
    }
   ],
   "source": [
    "import numpy as np\n",
    "\n",
    "# Données d'exemple\n",
    "X = np.array(x)\n",
    "Y = np.array(y)\n",
    "\n",
    "# Calcul des moyennes de X et Y\n",
    "X_mean = np.mean(X)\n",
    "Y_mean = np.mean(Y)\n",
    "\n",
    "# Calcul des coefficients de la droite de régression\n",
    "numerator = np.sum((X - X_mean) * (Y - Y_mean))\n",
    "denominator = np.sum((X - X_mean)**2)\n",
    "theta1 = numerator / denominator\n",
    "theta0 = Y_mean - theta1 * X_mean\n",
    "\n",
    "# Équation de la droite de régression\n",
    "print(f\"Équation de la droite de régression : Y = {theta1:.2f} * X + {theta0:.2f}\")\n",
    "\n",
    "# Utilisation de la régression pour faire une prédiction\n",
    "X_new = 6\n",
    "Y_pred = theta1 * X_new + theta0\n",
    "print(f\"Prédiction pour X = {X_new}: Y = {Y_pred:.2f}\")"
   ]
  },
  {
   "cell_type": "code",
   "execution_count": 26,
   "metadata": {},
   "outputs": [],
   "source": [
    "# Création des points de la droite de régression\n",
    "X_regression = np.linspace(min(X), max(X), 100)\n",
    "Y_regression = theta1 * X_regression + theta0\n",
    "\n",
    "# Tracé du nuage de points et de la droite de régression\n",
    "plt.plot(X, Y, 'bx')\n",
    "plt.plot(X_regression, Y_regression, label='Régression linéaire', color='red')\n",
    "plt.xlabel('X')\n",
    "plt.ylabel('Y')\n",
    "plt.title('Régression Linéaire')\n",
    "plt.legend()\n",
    "plt.show()"
   ]
  },
  {
   "cell_type": "code",
   "execution_count": null,
   "metadata": {},
   "outputs": [],
   "source": []
  }
 ],
 "metadata": {
  "kernelspec": {
   "display_name": "Python 3 (ipykernel)",
   "language": "python",
   "name": "python3"
  },
  "language_info": {
   "codemirror_mode": {
    "name": "ipython",
    "version": 3
   },
   "file_extension": ".py",
   "mimetype": "text/x-python",
   "name": "python",
   "nbconvert_exporter": "python",
   "pygments_lexer": "ipython3",
   "version": "3.9.18"
  }
 },
 "nbformat": 4,
 "nbformat_minor": 2
}
