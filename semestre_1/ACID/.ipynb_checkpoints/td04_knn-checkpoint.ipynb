{
 "cells": [
  {
   "cell_type": "markdown",
   "metadata": {},
   "source": [
    "#### Université de Bordeaux,  Master Mention Informatique\n",
    "\n",
    "# Analyse, classification et indexation des données: feuille 5\n",
    "\n",
    "# Machine Learning\n",
    "\n",
    "#### k-Nearest Neighbors \n"
   ]
  },
  {
   "cell_type": "markdown",
   "metadata": {},
   "source": [
    "\n",
    "## Exercice 1.  k-Nearest Neighbors (from scratch)\n",
    "\n",
    "Dans ce premier exercice, nous allons coder un algorithme de classification : le $k$-nn."
   ]
  },
  {
   "cell_type": "markdown",
   "metadata": {},
   "source": [
    "On commence par importer les modules python :\n",
    "\n",
    "- numpy : pour des calculs (algèbre linéaire, etc)\n",
    "- pandas : pour la lecture des fichiers csv, etc "
   ]
  },
  {
   "cell_type": "code",
   "execution_count": 10,
   "metadata": {},
   "outputs": [],
   "source": [
    "import numpy as np\n",
    "import pandas as pa\n",
    "\n",
    "import warnings\n",
    "warnings.filterwarnings(\"ignore\")"
   ]
  },
  {
   "cell_type": "markdown",
   "metadata": {},
   "source": [
    "#### Etape 1 : Distance euclidienne"
   ]
  },
  {
   "cell_type": "markdown",
   "metadata": {},
   "source": [
    "1. Ecrire une fonction pour calculer la distance euclidienne entre deux points (représentés par des np.array). Attention, le tableau donné comme deuxième paramètre de la fonction contient, en dernière position, la classe de l'élément qu'il représente. Cette information n'est pas utilisée pour le calcul de distance."
   ]
  },
  {
   "cell_type": "code",
   "execution_count": 11,
   "metadata": {},
   "outputs": [],
   "source": [
    "def euclidean(point1, point2):\n",
    "    # Determine the number of features to consider based on the minimum length\n",
    "    num_features = min(len(point1), len(point2))\n",
    "    \n",
    "    # Exclure la dernière colonne (classe) pour le calcul de la distance\n",
    "    features1 = point1[:num_features]\n",
    "    features2 = point2[:num_features]\n",
    "    \n",
    "    # Calcul de la distance euclidienne\n",
    "    squared_diff = np.sum((features1 - features2) ** 2)\n",
    "    distance = np.sqrt(squared_diff)\n",
    "    \n",
    "    return distance\n"
   ]
  },
  {
   "cell_type": "markdown",
   "metadata": {},
   "source": [
    "Tester votre fonction. Les instructions suivantes devront produire le résultat ci-dessous."
   ]
  },
  {
   "cell_type": "code",
   "execution_count": 12,
   "metadata": {},
   "outputs": [
    {
     "name": "stdout",
     "output_type": "stream",
     "text": [
      "0.0\n",
      "1.7320508075688772\n"
     ]
    }
   ],
   "source": [
    "u = np.array([1, 2, 3])\n",
    "v = np.array([1, 2, 3, 1])\n",
    "w = np.array([2, 3, 4, 0])\n",
    "print(euclidean(u, v)) # 0.0\n",
    "print(euclidean(u, w)) # 1.7320508075688772"
   ]
  },
  {
   "cell_type": "markdown",
   "metadata": {},
   "source": [
    "2. Ecrire une fonction pour calculer les distances d'un point à tous les autres points d'un dataset (matrice numpy - voir exemple)"
   ]
  },
  {
   "cell_type": "code",
   "execution_count": 13,
   "metadata": {},
   "outputs": [],
   "source": [
    "def distances(point, dataset):\n",
    "    # Determine the number of features based on the minimum length\n",
    "    num_features = min(len(point), dataset.shape[1] - 1)\n",
    "    \n",
    "    # Exclude the last column (class) for distance calculation\n",
    "    features = point[:num_features]\n",
    "    \n",
    "    # Calculate distances to all other points in the dataset\n",
    "    distances = np.zeros(dataset.shape[0])\n",
    "    \n",
    "    for i in range(dataset.shape[0]):\n",
    "        other_point = dataset[i, :num_features]\n",
    "        squared_diff = np.sum((features - other_point) ** 2)\n",
    "        distance = np.sqrt(squared_diff)\n",
    "        distances[i] = distance\n",
    "    \n",
    "    return distances"
   ]
  },
  {
   "cell_type": "markdown",
   "metadata": {},
   "source": [
    "Tester votre fonction. Les instructions suivantes devront produire le résultat ci-dessous."
   ]
  },
  {
   "cell_type": "code",
   "execution_count": 14,
   "metadata": {},
   "outputs": [
    {
     "name": "stdout",
     "output_type": "stream",
     "text": [
      "[0.         5.19615242 1.73205081 3.46410162]\n"
     ]
    }
   ],
   "source": [
    "u = np.array([1, 2, 3])\n",
    "dataset = np.array([[1, 2, 3, 0],\n",
    "                    [4, 5, 6, 0],\n",
    "                    [2, 3, 4, 1],\n",
    "                    [3, 4, 5, 1]])\n",
    "dist = distances(u, dataset)\n",
    "print(dist) # [0.0, 5.196152422706632, 1.7320508075688772, 3.4641016151377544]"
   ]
  },
  {
   "cell_type": "markdown",
   "metadata": {},
   "source": [
    "#### Etape 2 : Récupérer la liste des $k$ voisins les plus proches"
   ]
  },
  {
   "cell_type": "markdown",
   "metadata": {},
   "source": [
    "1. Ecrire une fonction <code>voisins</code> permettant de récupérer dans un dataset la liste des $k$-voisins les plus proches d'un point donné."
   ]
  },
  {
   "cell_type": "code",
   "execution_count": 17,
   "metadata": {},
   "outputs": [],
   "source": [
    "def voisins(point, dataset, k):\n",
    "    distances = [euclidean(point, data_point) for data_point in dataset]\n",
    "    sorted_indices = np.argsort(distances)\n",
    "    k_indices = sorted_indices[:k]\n",
    "    k_voisins = [dataset[i] for i in k_indices]\n",
    "    \n",
    "    return k_voisins"
   ]
  },
  {
   "cell_type": "markdown",
   "metadata": {},
   "source": [
    "Tester votre fonction. Les instructions suivantes devront produire le résultat ci-dessous. "
   ]
  },
  {
   "cell_type": "code",
   "execution_count": 18,
   "metadata": {},
   "outputs": [
    {
     "name": "stdout",
     "output_type": "stream",
     "text": [
      "[array([1, 2, 3, 0]), array([2, 3, 4, 1])]\n"
     ]
    }
   ],
   "source": [
    "u = np.array([1, 2, 3])\n",
    "dataset = np.array([[1, 2, 3, 0],\n",
    "                    [4, 5, 6, 0],\n",
    "                    [2, 3, 4, 1],\n",
    "                    [3, 4, 5, 1]])\n",
    "\n",
    "print(voisins(u, dataset, 2)) # [array([1, 2, 3, 0]), array([2, 3, 4, 1])]"
   ]
  },
  {
   "cell_type": "markdown",
   "metadata": {},
   "source": [
    "#### Etape 3 : Faire des prédictions"
   ]
  },
  {
   "cell_type": "markdown",
   "metadata": {},
   "source": [
    "1. Ecrire une fonction <code>classifier()</code> retournant la classe d'un élément $u$."
   ]
  },
  {
   "cell_type": "code",
   "execution_count": 19,
   "metadata": {},
   "outputs": [],
   "source": [
    "def classifier(u, dataset, k):\n",
    "    k_nearest = voisins(u, dataset, k)\n",
    "    class_labels = [point[-1] for point in k_nearest]\n",
    "    class_counts = {}\n",
    "    for label in class_labels:\n",
    "        if label in class_counts:\n",
    "            class_counts[label] += 1\n",
    "        else:\n",
    "            class_counts[label] = 1\n",
    "    predicted_class = max(class_counts, key=class_counts.get)\n",
    "    return predicted_class"
   ]
  },
  {
   "cell_type": "markdown",
   "metadata": {},
   "source": [
    "Tester votre fonction. Les instructions suivantes devront produire le résultat ci-dessous. "
   ]
  },
  {
   "cell_type": "code",
   "execution_count": 20,
   "metadata": {},
   "outputs": [
    {
     "name": "stdout",
     "output_type": "stream",
     "text": [
      "1\n"
     ]
    }
   ],
   "source": [
    "u = np.array([4, 5, 6])\n",
    "dataset = np.array([[1, 2, 3, 0],\n",
    "                   [2, 3, 4, 1],\n",
    "                   [3, 4, 5, 0],\n",
    "                   [4, 5, 6, 1],\n",
    "                   [1, 2, 3, 0]])\n",
    "\n",
    "print(classifier(u, dataset, 3)) # 1"
   ]
  },
  {
   "cell_type": "markdown",
   "metadata": {},
   "source": [
    "### Exercice 2. Application"
   ]
  },
  {
   "cell_type": "markdown",
   "metadata": {},
   "source": [
    "Dans cet exercice, nous allons appliquer l'algorithme écrit ci-dessus pour classifier des iris.\n",
    "Pour cela, nous commençons par charger le dataset : "
   ]
  },
  {
   "cell_type": "code",
   "execution_count": 21,
   "metadata": {},
   "outputs": [
    {
     "name": "stdout",
     "output_type": "stream",
     "text": [
      ".. _iris_dataset:\n",
      "\n",
      "Iris plants dataset\n",
      "--------------------\n",
      "\n",
      "**Data Set Characteristics:**\n",
      "\n",
      "    :Number of Instances: 150 (50 in each of three classes)\n",
      "    :Number of Attributes: 4 numeric, predictive attributes and the class\n",
      "    :Attribute Information:\n",
      "        - sepal length in cm\n",
      "        - sepal width in cm\n",
      "        - petal length in cm\n",
      "        - petal width in cm\n",
      "        - class:\n",
      "                - Iris-Setosa\n",
      "                - Iris-Versicolour\n",
      "                - Iris-Virginica\n",
      "                \n",
      "    :Summary Statistics:\n",
      "\n",
      "    ============== ==== ==== ======= ===== ====================\n",
      "                    Min  Max   Mean    SD   Class Correlation\n",
      "    ============== ==== ==== ======= ===== ====================\n",
      "    sepal length:   4.3  7.9   5.84   0.83    0.7826\n",
      "    sepal width:    2.0  4.4   3.05   0.43   -0.4194\n",
      "    petal length:   1.0  6.9   3.76   1.76    0.9490  (high!)\n",
      "    petal width:    0.1  2.5   1.20   0.76    0.9565  (high!)\n",
      "    ============== ==== ==== ======= ===== ====================\n",
      "\n",
      "    :Missing Attribute Values: None\n",
      "    :Class Distribution: 33.3% for each of 3 classes.\n",
      "    :Creator: R.A. Fisher\n",
      "    :Donor: Michael Marshall (MARSHALL%PLU@io.arc.nasa.gov)\n",
      "    :Date: July, 1988\n",
      "\n",
      "The famous Iris database, first used by Sir R.A. Fisher. The dataset is taken\n",
      "from Fisher's paper. Note that it's the same as in R, but not as in the UCI\n",
      "Machine Learning Repository, which has two wrong data points.\n",
      "\n",
      "This is perhaps the best known database to be found in the\n",
      "pattern recognition literature.  Fisher's paper is a classic in the field and\n",
      "is referenced frequently to this day.  (See Duda & Hart, for example.)  The\n",
      "data set contains 3 classes of 50 instances each, where each class refers to a\n",
      "type of iris plant.  One class is linearly separable from the other 2; the\n",
      "latter are NOT linearly separable from each other.\n",
      "\n",
      ".. topic:: References\n",
      "\n",
      "   - Fisher, R.A. \"The use of multiple measurements in taxonomic problems\"\n",
      "     Annual Eugenics, 7, Part II, 179-188 (1936); also in \"Contributions to\n",
      "     Mathematical Statistics\" (John Wiley, NY, 1950).\n",
      "   - Duda, R.O., & Hart, P.E. (1973) Pattern Classification and Scene Analysis.\n",
      "     (Q327.D83) John Wiley & Sons.  ISBN 0-471-22361-1.  See page 218.\n",
      "   - Dasarathy, B.V. (1980) \"Nosing Around the Neighborhood: A New System\n",
      "     Structure and Classification Rule for Recognition in Partially Exposed\n",
      "     Environments\".  IEEE Transactions on Pattern Analysis and Machine\n",
      "     Intelligence, Vol. PAMI-2, No. 1, 67-71.\n",
      "   - Gates, G.W. (1972) \"The Reduced Nearest Neighbor Rule\".  IEEE Transactions\n",
      "     on Information Theory, May 1972, 431-433.\n",
      "   - See also: 1988 MLC Proceedings, 54-64.  Cheeseman et al\"s AUTOCLASS II\n",
      "     conceptual clustering system finds 3 classes in the data.\n",
      "   - Many, many more ...\n"
     ]
    }
   ],
   "source": [
    "from sklearn.datasets import load_iris\n",
    "iris = load_iris()\n",
    "print(iris.DESCR)"
   ]
  },
  {
   "cell_type": "markdown",
   "metadata": {},
   "source": [
    "Comme indiqué dans sa description, le dataset contient, pour chaque iris, la longueur et la largeur de sa sépale et la longueur et la largeur de sa pétale. Les iris sont ensuite classifiés soit en Iris-Setosa (0), soit en Iris-Versicolour (1) ou encore en Iris-Virginica (2) :\n",
    "                "
   ]
  },
  {
   "cell_type": "markdown",
   "metadata": {},
   "source": [
    "<b>Indication :</b> le dataset <code>iris</code> est composé de deux parties : \n",
    " - <code>iris.data</code> décrit les caractéristiques (features)\n",
    " - <code>iris.target</code> contient les classes"
   ]
  },
  {
   "cell_type": "code",
   "execution_count": 22,
   "metadata": {},
   "outputs": [
    {
     "name": "stdout",
     "output_type": "stream",
     "text": [
      "[0 0 0 0 0 0 0 0 0 0 0 0 0 0 0 0 0 0 0 0 0 0 0 0 0 0 0 0 0 0 0 0 0 0 0 0 0\n",
      " 0 0 0 0 0 0 0 0 0 0 0 0 0 1 1 1 1 1 1 1 1 1 1 1 1 1 1 1 1 1 1 1 1 1 1 1 1\n",
      " 1 1 1 1 1 1 1 1 1 1 1 1 1 1 1 1 1 1 1 1 1 1 1 1 1 1 2 2 2 2 2 2 2 2 2 2 2\n",
      " 2 2 2 2 2 2 2 2 2 2 2 2 2 2 2 2 2 2 2 2 2 2 2 2 2 2 2 2 2 2 2 2 2 2 2 2 2\n",
      " 2 2]\n"
     ]
    }
   ],
   "source": [
    "print(iris.target)"
   ]
  },
  {
   "cell_type": "code",
   "execution_count": 23,
   "metadata": {},
   "outputs": [
    {
     "name": "stdout",
     "output_type": "stream",
     "text": [
      "(150, 4)\n"
     ]
    }
   ],
   "source": [
    "print(iris.data.shape)"
   ]
  },
  {
   "cell_type": "code",
   "execution_count": 24,
   "metadata": {},
   "outputs": [
    {
     "name": "stdout",
     "output_type": "stream",
     "text": [
      "(150,)\n"
     ]
    }
   ],
   "source": [
    "print(iris.target.shape)"
   ]
  },
  {
   "cell_type": "markdown",
   "metadata": {},
   "source": [
    "Pour des raisons pédagogiques, et pour se focaliser sur l'algorithme, nous avons choisi de l'implémenter pour faire de la classification binaire (c'est ce que réalisent les étapes de l'exercice 1). "
   ]
  },
  {
   "cell_type": "markdown",
   "metadata": {},
   "source": [
    "1. Ecrire l'instruction permettant de transformer le problème en un problème de classification binaire :  tous les Iris-Virginica (2) seront classés en Iris-Versicolour (1)."
   ]
  },
  {
   "cell_type": "code",
   "execution_count": 25,
   "metadata": {},
   "outputs": [],
   "source": [
    "from sklearn.datasets import load_iris\n",
    "\n",
    "iris = load_iris()\n",
    "iris.target[iris.target == 2] = 1  "
   ]
  },
  {
   "cell_type": "code",
   "execution_count": 26,
   "metadata": {},
   "outputs": [
    {
     "name": "stdout",
     "output_type": "stream",
     "text": [
      "[0 0 0 0 0 0 0 0 0 0 0 0 0 0 0 0 0 0 0 0 0 0 0 0 0 0 0 0 0 0 0 0 0 0 0 0 0\n",
      " 0 0 0 0 0 0 0 0 0 0 0 0 0 1 1 1 1 1 1 1 1 1 1 1 1 1 1 1 1 1 1 1 1 1 1 1 1\n",
      " 1 1 1 1 1 1 1 1 1 1 1 1 1 1 1 1 1 1 1 1 1 1 1 1 1 1 1 1 1 1 1 1 1 1 1 1 1\n",
      " 1 1 1 1 1 1 1 1 1 1 1 1 1 1 1 1 1 1 1 1 1 1 1 1 1 1 1 1 1 1 1 1 1 1 1 1 1\n",
      " 1 1]\n"
     ]
    }
   ],
   "source": [
    "print(iris.target)"
   ]
  },
  {
   "cell_type": "markdown",
   "metadata": {},
   "source": [
    "2. Afin d'utiliser l'algorithme que vous avez implémenté dans l'exercice 1, créer un tableau <code>dataset</code> dont le contenu sera des iris avec leur classes. Pour pouvoir visualiser le dataset, nous n'allons garder que les deux premières colonnes."
   ]
  },
  {
   "cell_type": "code",
   "execution_count": 27,
   "metadata": {},
   "outputs": [],
   "source": [
    "sepal_features = iris.data[:, :2]\n",
    "dataset = np.column_stack((sepal_features, iris.target))"
   ]
  },
  {
   "cell_type": "markdown",
   "metadata": {},
   "source": [
    "3. Visualiser le dataset"
   ]
  },
  {
   "cell_type": "code",
   "execution_count": 28,
   "metadata": {},
   "outputs": [
    {
     "name": "stdout",
     "output_type": "stream",
     "text": [
      "[[5.1 3.5 0. ]\n",
      " [4.9 3.  0. ]\n",
      " [4.7 3.2 0. ]\n",
      " [4.6 3.1 0. ]\n",
      " [5.  3.6 0. ]\n",
      " [5.4 3.9 0. ]\n",
      " [4.6 3.4 0. ]\n",
      " [5.  3.4 0. ]\n",
      " [4.4 2.9 0. ]\n",
      " [4.9 3.1 0. ]\n",
      " [5.4 3.7 0. ]\n",
      " [4.8 3.4 0. ]\n",
      " [4.8 3.  0. ]\n",
      " [4.3 3.  0. ]\n",
      " [5.8 4.  0. ]\n",
      " [5.7 4.4 0. ]\n",
      " [5.4 3.9 0. ]\n",
      " [5.1 3.5 0. ]\n",
      " [5.7 3.8 0. ]\n",
      " [5.1 3.8 0. ]\n",
      " [5.4 3.4 0. ]\n",
      " [5.1 3.7 0. ]\n",
      " [4.6 3.6 0. ]\n",
      " [5.1 3.3 0. ]\n",
      " [4.8 3.4 0. ]\n",
      " [5.  3.  0. ]\n",
      " [5.  3.4 0. ]\n",
      " [5.2 3.5 0. ]\n",
      " [5.2 3.4 0. ]\n",
      " [4.7 3.2 0. ]\n",
      " [4.8 3.1 0. ]\n",
      " [5.4 3.4 0. ]\n",
      " [5.2 4.1 0. ]\n",
      " [5.5 4.2 0. ]\n",
      " [4.9 3.1 0. ]\n",
      " [5.  3.2 0. ]\n",
      " [5.5 3.5 0. ]\n",
      " [4.9 3.6 0. ]\n",
      " [4.4 3.  0. ]\n",
      " [5.1 3.4 0. ]\n",
      " [5.  3.5 0. ]\n",
      " [4.5 2.3 0. ]\n",
      " [4.4 3.2 0. ]\n",
      " [5.  3.5 0. ]\n",
      " [5.1 3.8 0. ]\n",
      " [4.8 3.  0. ]\n",
      " [5.1 3.8 0. ]\n",
      " [4.6 3.2 0. ]\n",
      " [5.3 3.7 0. ]\n",
      " [5.  3.3 0. ]\n",
      " [7.  3.2 1. ]\n",
      " [6.4 3.2 1. ]\n",
      " [6.9 3.1 1. ]\n",
      " [5.5 2.3 1. ]\n",
      " [6.5 2.8 1. ]\n",
      " [5.7 2.8 1. ]\n",
      " [6.3 3.3 1. ]\n",
      " [4.9 2.4 1. ]\n",
      " [6.6 2.9 1. ]\n",
      " [5.2 2.7 1. ]\n",
      " [5.  2.  1. ]\n",
      " [5.9 3.  1. ]\n",
      " [6.  2.2 1. ]\n",
      " [6.1 2.9 1. ]\n",
      " [5.6 2.9 1. ]\n",
      " [6.7 3.1 1. ]\n",
      " [5.6 3.  1. ]\n",
      " [5.8 2.7 1. ]\n",
      " [6.2 2.2 1. ]\n",
      " [5.6 2.5 1. ]\n",
      " [5.9 3.2 1. ]\n",
      " [6.1 2.8 1. ]\n",
      " [6.3 2.5 1. ]\n",
      " [6.1 2.8 1. ]\n",
      " [6.4 2.9 1. ]\n",
      " [6.6 3.  1. ]\n",
      " [6.8 2.8 1. ]\n",
      " [6.7 3.  1. ]\n",
      " [6.  2.9 1. ]\n",
      " [5.7 2.6 1. ]\n",
      " [5.5 2.4 1. ]\n",
      " [5.5 2.4 1. ]\n",
      " [5.8 2.7 1. ]\n",
      " [6.  2.7 1. ]\n",
      " [5.4 3.  1. ]\n",
      " [6.  3.4 1. ]\n",
      " [6.7 3.1 1. ]\n",
      " [6.3 2.3 1. ]\n",
      " [5.6 3.  1. ]\n",
      " [5.5 2.5 1. ]\n",
      " [5.5 2.6 1. ]\n",
      " [6.1 3.  1. ]\n",
      " [5.8 2.6 1. ]\n",
      " [5.  2.3 1. ]\n",
      " [5.6 2.7 1. ]\n",
      " [5.7 3.  1. ]\n",
      " [5.7 2.9 1. ]\n",
      " [6.2 2.9 1. ]\n",
      " [5.1 2.5 1. ]\n",
      " [5.7 2.8 1. ]\n",
      " [6.3 3.3 1. ]\n",
      " [5.8 2.7 1. ]\n",
      " [7.1 3.  1. ]\n",
      " [6.3 2.9 1. ]\n",
      " [6.5 3.  1. ]\n",
      " [7.6 3.  1. ]\n",
      " [4.9 2.5 1. ]\n",
      " [7.3 2.9 1. ]\n",
      " [6.7 2.5 1. ]\n",
      " [7.2 3.6 1. ]\n",
      " [6.5 3.2 1. ]\n",
      " [6.4 2.7 1. ]\n",
      " [6.8 3.  1. ]\n",
      " [5.7 2.5 1. ]\n",
      " [5.8 2.8 1. ]\n",
      " [6.4 3.2 1. ]\n",
      " [6.5 3.  1. ]\n",
      " [7.7 3.8 1. ]\n",
      " [7.7 2.6 1. ]\n",
      " [6.  2.2 1. ]\n",
      " [6.9 3.2 1. ]\n",
      " [5.6 2.8 1. ]\n",
      " [7.7 2.8 1. ]\n",
      " [6.3 2.7 1. ]\n",
      " [6.7 3.3 1. ]\n",
      " [7.2 3.2 1. ]\n",
      " [6.2 2.8 1. ]\n",
      " [6.1 3.  1. ]\n",
      " [6.4 2.8 1. ]\n",
      " [7.2 3.  1. ]\n",
      " [7.4 2.8 1. ]\n",
      " [7.9 3.8 1. ]\n",
      " [6.4 2.8 1. ]\n",
      " [6.3 2.8 1. ]\n",
      " [6.1 2.6 1. ]\n",
      " [7.7 3.  1. ]\n",
      " [6.3 3.4 1. ]\n",
      " [6.4 3.1 1. ]\n",
      " [6.  3.  1. ]\n",
      " [6.9 3.1 1. ]\n",
      " [6.7 3.1 1. ]\n",
      " [6.9 3.1 1. ]\n",
      " [5.8 2.7 1. ]\n",
      " [6.8 3.2 1. ]\n",
      " [6.7 3.3 1. ]\n",
      " [6.7 3.  1. ]\n",
      " [6.3 2.5 1. ]\n",
      " [6.5 3.  1. ]\n",
      " [6.2 3.4 1. ]\n",
      " [5.9 3.  1. ]]\n"
     ]
    }
   ],
   "source": [
    "print(dataset)"
   ]
  },
  {
   "cell_type": "markdown",
   "metadata": {},
   "source": [
    "4. Soit le vecteur $u(6.5, 2.5)$, utilisez votre algorithme avec $k=3$ pour classer $u$."
   ]
  },
  {
   "cell_type": "code",
   "execution_count": 29,
   "metadata": {},
   "outputs": [
    {
     "name": "stdout",
     "output_type": "stream",
     "text": [
      "Classe prédite pour u: 1.0\n"
     ]
    }
   ],
   "source": [
    "u = np.array([6.5, 2.5])\n",
    "\n",
    "predicted_class = classifier(u, dataset, 3)\n",
    "\n",
    "print(\"Classe prédite pour u:\", predicted_class)\n",
    "\n",
    "setosa = dataset[dataset[:, 2] == 0]\n",
    "versicolour = dataset[dataset[:, 2] == 1]\n"
   ]
  },
  {
   "cell_type": "markdown",
   "metadata": {},
   "source": [
    "5. Afficher le nouveau point sur le graphique et vérifier visuellement votre résultat."
   ]
  },
  {
   "cell_type": "code",
   "execution_count": 30,
   "metadata": {},
   "outputs": [
    {
     "name": "stderr",
     "output_type": "stream",
     "text": [
      "Matplotlib is building the font cache; this may take a moment.\n"
     ]
    },
    {
     "data": {
      "image/png": "[encoded data removed]",
      "text/plain": [
       "<Figure size 640x480 with 1 Axes>"
      ]
     },
     "metadata": {},
     "output_type": "display_data"
    }
   ],
   "source": [
    "import matplotlib.pyplot as plt\n",
    "\n",
    "plt.scatter(setosa[:, 0], setosa[:, 1], label='Iris-Setosa', marker='o')\n",
    "plt.scatter(versicolour[:, 0], versicolour[:, 1], label='Iris-Versicolour', marker='x')\n",
    "plt.scatter(u[0], u[1], label='Point u', marker='s', c='red')\n",
    "\n",
    "plt.xlabel('Longueur de la sépale')\n",
    "plt.ylabel('Largeur de la sépale')\n",
    "plt.legend(loc='best')\n",
    "plt.title('Classification avec k-NN (k=3)')\n",
    "plt.show()"
   ]
  },
  {
   "cell_type": "markdown",
   "metadata": {},
   "source": [
    "### Exercice 3 : $k$-nn avec <code>sklearn</code>"
   ]
  },
  {
   "cell_type": "markdown",
   "metadata": {},
   "source": [
    "1. Charger les données, puis afficher les informations pour vérifier si le dataset ne contient pas de données manquantes."
   ]
  },
  {
   "cell_type": "markdown",
   "metadata": {},
   "source": [
    "Dans cet exercice, nous allons utiliser le classifieur $k$−nn pour apprendre à reconnaître des fruits. Pour cela, nous allons utiliser le dataset fruits disponible au format csv à l’adresse :\n",
    "               \n",
    "               https://www.labri.fr/~zemmari/datasets/"
   ]
  },
  {
   "cell_type": "code",
   "execution_count": 97,
   "metadata": {},
   "outputs": [],
   "source": [
    "import pandas as pd\n",
    "fruits_df = pd.read_csv(\"https://www.labri.fr/~zemmari/datasets/fruits.csv\", delimiter='\\t', skipinitialspace=True)\n"
   ]
  },
  {
   "cell_type": "code",
   "execution_count": 98,
   "metadata": {},
   "outputs": [
    {
     "name": "stdout",
     "output_type": "stream",
     "text": [
      "   fruit_label fruit_name fruit_subtype  mass  width  height  color_score\n",
      "0            1      apple  granny_smith   192    8.4     7.3         0.55\n",
      "1            1      apple  granny_smith   180    8.0     6.8         0.59\n",
      "2            1      apple  granny_smith   176    7.4     7.2         0.60\n",
      "3            2   mandarin      mandarin    86    6.2     4.7         0.80\n",
      "4            2   mandarin      mandarin    84    6.0     4.6         0.79\n",
      "<class 'pandas.core.frame.DataFrame'>\n",
      "RangeIndex: 59 entries, 0 to 58\n",
      "Data columns (total 7 columns):\n",
      " #   Column         Non-Null Count  Dtype  \n",
      "---  ------         --------------  -----  \n",
      " 0   fruit_label    59 non-null     int64  \n",
      " 1   fruit_name     59 non-null     object \n",
      " 2   fruit_subtype  59 non-null     object \n",
      " 3   mass           59 non-null     int64  \n",
      " 4   width          59 non-null     float64\n",
      " 5   height         59 non-null     float64\n",
      " 6   color_score    59 non-null     float64\n",
      "dtypes: float64(3), int64(2), object(2)\n",
      "memory usage: 3.4+ KB\n",
      "None\n"
     ]
    }
   ],
   "source": [
    "print(fruits_df.head())\n",
    "print(fruits_df.info())"
   ]
  },
  {
   "cell_type": "markdown",
   "metadata": {},
   "source": [
    "2. Afficher un graphique pour visualiser les tailles (height) en fonction des largeurs (width), sans tenir compte des classes des points dans un premier temps."
   ]
  },
  {
   "cell_type": "code",
   "execution_count": 33,
   "metadata": {},
   "outputs": [
    {
     "data": {
      "image/png": "[encoded data removed]",
      "text/plain": [
       "<Figure size 640x480 with 1 Axes>"
      ]
     },
     "metadata": {},
     "output_type": "display_data"
    }
   ],
   "source": [
    "plt.scatter(fruits_df['width'], fruits_df['height'])\n",
    "plt.xlabel('Largeur (width)')\n",
    "plt.ylabel('Hauteur (height)')\n",
    "plt.title('Visualisation des tailles en fonction des largeurs')\n",
    "plt.show()"
   ]
  },
  {
   "cell_type": "markdown",
   "metadata": {},
   "source": [
    "3. Modifier votre graphique pour qu’il affiche les points avec des couleurs différentes en fonction du\n",
    "nom (<code>fruit_name</code>) du fruit. Vérifier que les classes sont assez équilibrées."
   ]
  },
  {
   "cell_type": "code",
   "execution_count": 34,
   "metadata": {},
   "outputs": [],
   "source": [
    "fruits_df.columns = ['fruit_label', 'fruit_name', 'fruit_subtype', 'mass', 'width', 'height', 'color_score']\n",
    "\n",
    "fruit_colors = {\n",
    "    'apple': 'green',\n",
    "    'mandarin': 'red',\n",
    "    'orange': 'orange',\n",
    "    'lemon': 'yellow',\n",
    "}\n",
    "fruits_df['fruit_color'] = fruits_df['fruit_name'].map(fruit_colors)"
   ]
  },
  {
   "cell_type": "code",
   "execution_count": 77,
   "metadata": {},
   "outputs": [
    {
     "data": {
      "image/png": "[encoded data removed]",
      "text/plain": [
       "<Figure size 640x480 with 1 Axes>"
      ]
     },
     "metadata": {},
     "output_type": "display_data"
    }
   ],
   "source": [
    "plt.scatter(fruits_df['width'], fruits_df['height'], c=fruits_df['fruit_color'])\n",
    "plt.xlabel('Largeur (width)')\n",
    "plt.ylabel('Hauteur (height)')\n",
    "plt.title('Visualisation des tailles en fonction des largeurs par couleur de fruit')\n",
    "plt.show()"
   ]
  },
  {
   "cell_type": "code",
   "execution_count": 78,
   "metadata": {},
   "outputs": [
    {
     "name": "stdout",
     "output_type": "stream",
     "text": [
      "Nombre d'occurrences de chaque fruit :\n",
      "apple       19\n",
      "orange      19\n",
      "lemon       16\n",
      "mandarin     5\n",
      "Name: fruit_name, dtype: int64\n"
     ]
    }
   ],
   "source": [
    "fruit_counts = fruits_df['fruit_name'].value_counts()\n",
    "print(\"Nombre d'occurrences de chaque fruit :\")\n",
    "print(fruit_counts)"
   ]
  },
  {
   "cell_type": "markdown",
   "metadata": {},
   "source": [
    "4. Définir X les données composées de la taille, la longueur et la masse des fruits, et Y les noms des\n",
    "fruits."
   ]
  },
  {
   "cell_type": "code",
   "execution_count": 79,
   "metadata": {},
   "outputs": [
    {
     "name": "stdout",
     "output_type": "stream",
     "text": [
      "[[ 1.59869024 -0.29139659  0.52944179]\n",
      " [ 1.10485399 -0.66192242  0.30946246]\n",
      " [ 0.36409961 -0.36550175  0.23613601]\n",
      " [-1.11740915 -2.21813091 -1.41370901]\n",
      " [-1.36432727 -2.29223608 -1.45037224]\n",
      " [-1.6112454  -2.51455158 -1.52369868]\n",
      " [-1.48778634 -2.51455158 -1.52369868]\n",
      " [-1.6112454  -2.73686708 -1.59702513]\n",
      " [-0.00627758  0.07912925  0.27279923]\n",
      " [ 0.36409961 -0.51371209  0.16280957]\n",
      " [-0.25319571 -0.29139659  0.0528199 ]\n",
      " [-0.00627758 -0.06908109  0.16280957]\n",
      " [-0.12973664 -0.43960692 -0.16715944]\n",
      " [ 0.24064055  0.00502408  0.01615667]\n",
      " [ 0.61101774 -0.29139659 -0.20382266]\n",
      " [ 0.7344768  -0.43960692 -0.13049622]\n",
      " [ 0.61101774 -0.14318625 -0.13049622]\n",
      " [ 0.48755867 -0.06908109  0.08948312]\n",
      " [ 0.48755867 -0.43960692 -0.02050655]\n",
      " [ 0.36409961 -0.36550175 -0.02050655]\n",
      " [ 0.48755867 -0.14318625 -0.05716977]\n",
      " [ 0.36409961 -0.21729142 -0.13049622]\n",
      " [ 0.24064055 -0.43960692 -0.423802  ]\n",
      " [ 0.61101774  0.15323441  0.12614634]\n",
      " [ 2.33944462  1.26481191  3.2791835 ]\n",
      " [ 2.58636275  1.11660158  3.53582606]\n",
      " [ 3.080199    1.11660158  3.64581573]\n",
      " [ 0.48755867  1.11660158  0.74942113]\n",
      " [-0.50011383 -0.43960692 -0.423802  ]\n",
      " [-0.12973664 -0.21729142 -0.05716977]\n",
      " [-0.00627758 -0.14318625 -0.09383299]\n",
      " [ 0.85793586  0.22733958  0.8594108 ]\n",
      " [ 0.11718148 -0.51371209  0.01615667]\n",
      " [ 0.48755867  0.30144474  0.49277857]\n",
      " [ 0.61101774  0.07912925 -0.38713878]\n",
      " [-0.00627758  0.15323441 -0.24048588]\n",
      " [-0.00627758 -0.06908109 -0.05716977]\n",
      " [ 0.24064055 -0.29139659 -0.16715944]\n",
      " [ 0.11718148  0.07912925 -0.09383299]\n",
      " [-0.37665477 -0.21729142 -0.35047555]\n",
      " [-0.00627758 -0.14318625 -0.16715944]\n",
      " [ 0.61101774  0.37554991  0.30946246]\n",
      " [ 0.11718148 -0.36550175 -0.16715944]\n",
      " [ 0.11718148  1.93175841  0.56610502]\n",
      " [ 0.24064055  2.07996874  0.67609468]\n",
      " [ 0.11718148  1.11660158  0.41945212]\n",
      " [ 0.24064055  1.85765324  0.96940047]\n",
      " [ 0.24064055  1.48712741  0.60276824]\n",
      " [ 0.24064055  1.78354807  0.19947279]\n",
      " [-1.6112454   0.74607574 -0.57045489]\n",
      " [-1.36432727  0.37554991 -0.60711811]\n",
      " [-1.36432727 -0.14318625 -0.86376067]\n",
      " [-1.48778634  0.22733958 -0.82709745]\n",
      " [-1.36432727  0.52376024 -0.79043423]\n",
      " [-1.24086821  0.59786541 -0.86376067]\n",
      " [-0.99395009  0.00502408 -0.86376067]\n",
      " [-1.48778634  0.30144474 -0.86376067]\n",
      " [-0.74703196  0.59786541 -0.20382266]\n",
      " [-1.24086821  0.30144474 -0.82709745]]\n"
     ]
    }
   ],
   "source": [
    "from sklearn.preprocessing import StandardScaler\n",
    "import numpy as np\n",
    "X_not_normalized = fruits_df[['width', 'height', 'mass']]\n",
    "scaler = StandardScaler()\n",
    "scaler.fit(X_not_normalized)\n",
    "X = scaler.transform(X_not_normalized)\n",
    "Y = fruits_df['fruit_name']\n",
    "print(X)"
   ]
  },
  {
   "cell_type": "markdown",
   "metadata": {},
   "source": [
    "5. Découper les données en deux parties : une pour l’entraînement et une pour le test."
   ]
  },
  {
   "cell_type": "code",
   "execution_count": 80,
   "metadata": {},
   "outputs": [
    {
     "name": "stdout",
     "output_type": "stream",
     "text": [
      "Taille de l'ensemble d'entraînement :  (47, 3) (47,)\n",
      "Taille de l'ensemble de test :  (12, 3) (12,)\n"
     ]
    }
   ],
   "source": [
    "from sklearn.model_selection import train_test_split\n",
    "X_train, X_test, Y_train, Y_test = train_test_split(X, Y, test_size=0.2, random_state=42)\n",
    "\n",
    "print(\"Taille de l'ensemble d'entraînement : \", X_train.shape, Y_train.shape)\n",
    "print(\"Taille de l'ensemble de test : \", X_test.shape, Y_test.shape)\n"
   ]
  },
  {
   "cell_type": "markdown",
   "metadata": {},
   "source": [
    "6. Entraîner un classifieur $k$−nn à reconnaître les fruits. "
   ]
  },
  {
   "cell_type": "code",
   "execution_count": 81,
   "metadata": {},
   "outputs": [
    {
     "data": {
      "text/html": [
       "<style>#sk-container-id-7 {color: black;background-color: white;}#sk-container-id-7 pre{padding: 0;}#sk-container-id-7 div.sk-toggleable {background-color: white;}#sk-container-id-7 label.sk-toggleable__label {cursor: pointer;display: block;width: 100%;margin-bottom: 0;padding: 0.3em;box-sizing: border-box;text-align: center;}#sk-container-id-7 label.sk-toggleable__label-arrow:before {content: \"▸\";float: left;margin-right: 0.25em;color: #696969;}#sk-container-id-7 label.sk-toggleable__label-arrow:hover:before {color: black;}#sk-container-id-7 div.sk-estimator:hover label.sk-toggleable__label-arrow:before {color: black;}#sk-container-id-7 div.sk-toggleable__content {max-height: 0;max-width: 0;overflow: hidden;text-align: left;background-color: #f0f8ff;}#sk-container-id-7 div.sk-toggleable__content pre {margin: 0.2em;color: black;border-radius: 0.25em;background-color: #f0f8ff;}#sk-container-id-7 input.sk-toggleable__control:checked~div.sk-toggleable__content {max-height: 200px;max-width: 100%;overflow: auto;}#sk-container-id-7 input.sk-toggleable__control:checked~label.sk-toggleable__label-arrow:before {content: \"▾\";}#sk-container-id-7 div.sk-estimator input.sk-toggleable__control:checked~label.sk-toggleable__label {background-color: #d4ebff;}#sk-container-id-7 div.sk-label input.sk-toggleable__control:checked~label.sk-toggleable__label {background-color: #d4ebff;}#sk-container-id-7 input.sk-hidden--visually {border: 0;clip: rect(1px 1px 1px 1px);clip: rect(1px, 1px, 1px, 1px);height: 1px;margin: -1px;overflow: hidden;padding: 0;position: absolute;width: 1px;}#sk-container-id-7 div.sk-estimator {font-family: monospace;background-color: #f0f8ff;border: 1px dotted black;border-radius: 0.25em;box-sizing: border-box;margin-bottom: 0.5em;}#sk-container-id-7 div.sk-estimator:hover {background-color: #d4ebff;}#sk-container-id-7 div.sk-parallel-item::after {content: \"\";width: 100%;border-bottom: 1px solid gray;flex-grow: 1;}#sk-container-id-7 div.sk-label:hover label.sk-toggleable__label {background-color: #d4ebff;}#sk-container-id-7 div.sk-serial::before {content: \"\";position: absolute;border-left: 1px solid gray;box-sizing: border-box;top: 0;bottom: 0;left: 50%;z-index: 0;}#sk-container-id-7 div.sk-serial {display: flex;flex-direction: column;align-items: center;background-color: white;padding-right: 0.2em;padding-left: 0.2em;position: relative;}#sk-container-id-7 div.sk-item {position: relative;z-index: 1;}#sk-container-id-7 div.sk-parallel {display: flex;align-items: stretch;justify-content: center;background-color: white;position: relative;}#sk-container-id-7 div.sk-item::before, #sk-container-id-7 div.sk-parallel-item::before {content: \"\";position: absolute;border-left: 1px solid gray;box-sizing: border-box;top: 0;bottom: 0;left: 50%;z-index: -1;}#sk-container-id-7 div.sk-parallel-item {display: flex;flex-direction: column;z-index: 1;position: relative;background-color: white;}#sk-container-id-7 div.sk-parallel-item:first-child::after {align-self: flex-end;width: 50%;}#sk-container-id-7 div.sk-parallel-item:last-child::after {align-self: flex-start;width: 50%;}#sk-container-id-7 div.sk-parallel-item:only-child::after {width: 0;}#sk-container-id-7 div.sk-dashed-wrapped {border: 1px dashed gray;margin: 0 0.4em 0.5em 0.4em;box-sizing: border-box;padding-bottom: 0.4em;background-color: white;}#sk-container-id-7 div.sk-label label {font-family: monospace;font-weight: bold;display: inline-block;line-height: 1.2em;}#sk-container-id-7 div.sk-label-container {text-align: center;}#sk-container-id-7 div.sk-container {/* jupyter's `normalize.less` sets `[hidden] { display: none; }` but bootstrap.min.css set `[hidden] { display: none !important; }` so we also need the `!important` here to be able to override the default hidden behavior on the sphinx rendered scikit-learn.org. See: https://github.com/scikit-learn/scikit-learn/issues/21755 */display: inline-block !important;position: relative;}#sk-container-id-7 div.sk-text-repr-fallback {display: none;}</style><div id=\"sk-container-id-7\" class=\"sk-top-container\"><div class=\"sk-text-repr-fallback\"><pre>KNeighborsClassifier()</pre><b>In a Jupyter environment, please rerun this cell to show the HTML representation or trust the notebook. <br />On GitHub, the HTML representation is unable to render, please try loading this page with nbviewer.org.</b></div><div class=\"sk-container\" hidden><div class=\"sk-item\"><div class=\"sk-estimator sk-toggleable\"><input class=\"sk-toggleable__control sk-hidden--visually\" id=\"sk-estimator-id-7\" type=\"checkbox\" checked><label for=\"sk-estimator-id-7\" class=\"sk-toggleable__label sk-toggleable__label-arrow\">KNeighborsClassifier</label><div class=\"sk-toggleable__content\"><pre>KNeighborsClassifier()</pre></div></div></div></div></div>"
      ],
      "text/plain": [
       "KNeighborsClassifier()"
      ]
     },
     "execution_count": 81,
     "metadata": {},
     "output_type": "execute_result"
    }
   ],
   "source": [
    "from sklearn.neighbors import KNeighborsClassifier\n",
    "\n",
    "knn_classifier = KNeighborsClassifier(n_neighbors=5)\n",
    "\n",
    "knn_classifier.fit(X_train, Y_train)\n"
   ]
  },
  {
   "cell_type": "markdown",
   "metadata": {},
   "source": [
    "7. Quelle est la valeur par défaut de $k$ ?"
   ]
  },
  {
   "cell_type": "markdown",
   "metadata": {},
   "source": [
    "par default ca sera 5, soit le nombre de voisins"
   ]
  },
  {
   "cell_type": "markdown",
   "metadata": {},
   "source": [
    "8. Utiliser votre jeu de test pour mesurer les performances de votre classifieur (matrice de confusion, accuracy, ...). "
   ]
  },
  {
   "cell_type": "code",
   "execution_count": 82,
   "metadata": {},
   "outputs": [
    {
     "name": "stdout",
     "output_type": "stream",
     "text": [
      "Matrice de confusion :\n",
      "[[2 0 0 1]\n",
      " [0 4 0 1]\n",
      " [0 0 2 0]\n",
      " [1 0 0 1]]\n",
      "Exactitude : 0.75\n",
      "Précision : 0.81\n",
      "Rappel : 0.75\n",
      "Score F1 : 0.77\n"
     ]
    }
   ],
   "source": [
    "from sklearn.metrics import confusion_matrix, accuracy_score, precision_score, recall_score, f1_score\n",
    "\n",
    "Y_pred = knn_classifier.predict(X_test)\n",
    "\n",
    "confusion = confusion_matrix(Y_test, Y_pred)\n",
    "print(\"Matrice de confusion :\")\n",
    "print(confusion)\n",
    "\n",
    "\n",
    "accuracy = accuracy_score(Y_test, Y_pred)\n",
    "print(\"Exactitude : {:.2f}\".format(accuracy))\n",
    "\n",
    "precision = precision_score(Y_test, Y_pred, average='weighted')\n",
    "print(\"Précision : {:.2f}\".format(precision))\n",
    "\n",
    "\n",
    "recall = recall_score(Y_test, Y_pred, average='weighted')\n",
    "print(\"Rappel : {:.2f}\".format(recall))\n",
    "\n",
    "\n",
    "f1 = f1_score(Y_test, Y_pred, average='weighted')\n",
    "print(\"Score F1 : {:.2f}\".format(f1))\n"
   ]
  },
  {
   "cell_type": "markdown",
   "metadata": {},
   "source": [
    "value non normalisé\n",
    "\n",
    "\n",
    "Matrice de confusion :\n",
    "[[1 1 0 1]\n",
    " [1 2 0 2]\n",
    " [0 0 2 0]\n",
    " [0 0 0 2]]\n",
    "Exactitude : 0.58\n",
    "Précision : 0.64\n",
    "Rappel : 0.58\n",
    "Score F1 : 0.57"
   ]
  },
  {
   "cell_type": "markdown",
   "metadata": {},
   "source": [
    "Value_normalisé par ligne, normalisé les vecteurs:\n",
    "    \n",
    "Matrice de confusion :\n",
    "[[2 0 0 1]\n",
    " [0 5 0 0]\n",
    " [0 0 2 0]\n",
    " [0 0 0 2]]\n",
    "Exactitude : 0.92\n",
    "Précision : 0.94\n",
    "Rappel : 0.92\n",
    "Score F1 : 0.92"
   ]
  },
  {
   "cell_type": "markdown",
   "metadata": {},
   "source": [
    "7. Quelle est la nature du fruit dont la masse, la largeur et la taille sont données respectivement par 100, 6.3 et 8? "
   ]
  },
  {
   "cell_type": "code",
   "execution_count": 83,
   "metadata": {},
   "outputs": [
    {
     "name": "stdout",
     "output_type": "stream",
     "text": [
      "['orange']\n"
     ]
    }
   ],
   "source": [
    "\n",
    "nouveau_fruit = np.array([[6.3, 8, 100]])\n",
    "\n",
    "prediction = knn_classifier.predict(nouveau_fruit)\n",
    "\n",
    "print(prediction)\n"
   ]
  },
  {
   "cell_type": "markdown",
   "metadata": {},
   "source": [
    "Before normalisation 'lemon'"
   ]
  },
  {
   "cell_type": "markdown",
   "metadata": {},
   "source": [
    "8. Trouver une \"bonne\" valeur pour k."
   ]
  },
  {
   "cell_type": "code",
   "execution_count": 84,
   "metadata": {},
   "outputs": [],
   "source": [
    "def best_model_search(X_train, X_test, y_train, y_test, n=10, patience=3):\n",
    "    k = 1\n",
    "    best_acc = 0\n",
    "    best_model = None\n",
    "    p = patience\n",
    "    while k <n and p >0 :\n",
    "        knn = KNeighborsClassifier(n_neighbors=k, metric='euclidean')\n",
    "        knn.fit(X_train, y_train)\n",
    "        y_pred = knn.predict(X_test)\n",
    "        cm = confusion_matrix(y_test, y_pred)\n",
    "        acc = np.sum(np.diag(cm))/np.sum(cm)\n",
    "        print('k: ',k, '{:.2%}'.format(acc))\n",
    "        if acc > best_acc:\n",
    "            best_acc = acc\n",
    "            best_model = knn\n",
    "            p = patience + 1\n",
    "        p = p -1\n",
    "        k = k+1\n",
    "    return best_model,k, best_acc"
   ]
  },
  {
   "cell_type": "code",
   "execution_count": 88,
   "metadata": {},
   "outputs": [
    {
     "name": "stdout",
     "output_type": "stream",
     "text": [
      "k:  1 66.67%\n",
      "k:  2 83.33%\n",
      "k:  3 75.00%\n",
      "k:  4 83.33%\n",
      "k:  5 75.00%\n",
      "Meilleur modèle trouvé avec k = 6\n",
      "Exactitude du meilleur modèle: 83.33%\n"
     ]
    }
   ],
   "source": [
    "best_model, best_k, best_accuracy = best_model_search(X_train, X_test, Y_train, Y_test, n=20, patience=3)\n",
    "\n",
    "print(\"Meilleur modèle trouvé avec k =\", best_k)\n",
    "print(\"Exactitude du meilleur modèle:\", '{:.2%}'.format(best_accuracy))\n"
   ]
  },
  {
   "cell_type": "code",
   "execution_count": 92,
   "metadata": {},
   "outputs": [
    {
     "name": "stdout",
     "output_type": "stream",
     "text": [
      "['orange']\n"
     ]
    }
   ],
   "source": [
    "knn_classifier = KNeighborsClassifier(n_neighbors=2)\n",
    "\n",
    "knn_classifier.fit(X_train, Y_train)\n",
    "\n",
    "nouveau_fruit = np.array([[6.3, 8, 100]])\n",
    "\n",
    "prediction = knn_classifier.predict(nouveau_fruit)\n",
    "\n",
    "print(prediction)\n"
   ]
  },
  {
   "cell_type": "code",
   "execution_count": null,
   "metadata": {},
   "outputs": [],
   "source": []
  },
  {
   "cell_type": "code",
   "execution_count": null,
   "metadata": {},
   "outputs": [],
   "source": []
  }
 ],
 "metadata": {
  "kernelspec": {
   "display_name": "Python 3 (ipykernel)",
   "language": "python",
   "name": "python3"
  },
  "language_info": {
   "codemirror_mode": {
    "name": "ipython",
    "version": 3
   },
   "file_extension": ".py",
   "mimetype": "text/x-python",
   "name": "python",
   "nbconvert_exporter": "python",
   "pygments_lexer": "ipython3",
   "version": "3.11.2"
  },
  "vscode": {
   "interpreter": {
    "hash": "f7a33a7ac36940c3c09ff8c429e181801b22494f43ccd4b6b774aaa82a723805"
   }
  }
 },
 "nbformat": 4,
 "nbformat_minor": 2
}
