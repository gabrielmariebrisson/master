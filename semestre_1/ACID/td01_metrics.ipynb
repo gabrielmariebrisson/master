{
    "cells": [
        {
            "cell_type": "markdown",
            "id": "eda022d9-b5f3-42cf-84de-9543ba21c25f",
            "metadata": {},
            "source": [
                "#### Universit\u00e9 de Bordeaux,  Master Mention Informatique\n",
                "\n",
                "# Analyse, classification et indexation des donn\u00e9es: feuille 2\n",
                "### Introduction : m\u00e9triques d'\u00e9valuation"
            ]
        },
        {
            "cell_type": "markdown",
            "id": "4fb5eda1-7056-4ae3-b27c-3fb5aec67bba",
            "metadata": {},
            "source": [
                "### Pr\u00e9sentation\n",
                "\n",
                "L'objectif de ce TD est de comprendre les m\u00e9triques d'\u00e9valuation des mod\u00e8les de machine learning. "
            ]
        },
        {
            "cell_type": "markdown",
            "id": "373820f8-2064-4d75-81cc-5c31fda8e339",
            "metadata": {},
            "source": [
                "### Exercice 1.\n",
                "On dispose d'un corpus de donn\u00e9es $D = (x_i, y_i)_{1\\leq i \\leq n}$. On partitionne alors $D$ en deux ensembles :\n",
                "$$\n",
                "D = Train \\cup Test\n",
                "$$\n",
                "Le sous ensemble $Train$ est alors utilis\u00e9 pour entrainer un mod\u00e8le $M$ alors que $Test$ est lui utilis\u00e9 pour tester $M$\n",
                "\n",
                "1. Rappeler la d\u00e9finition de la matrice de confusion \n",
                "2. On se limite au cas d'une classification binaire. Donner, en fonction du contenu de la matrice de confusion les expressions de l'$accuracy$, la $precision$, le $recall$ et le $F_1 score$.\n"
            ]
        },
        {
            "cell_type": "markdown",
            "id": "98e11df6-ac02-4a5d-8155-ce2dee2ddfc3",
            "metadata": {},
            "source": [
                "### Exercice 2.\n",
                "\n",
                "On dispose de donn\u00e9es (images IRM) relatives \u00e0 des personnes atteintes (ou pas) de cancer. On entra\u00eene alors un mod\u00e8le pour d\u00e9tecter d'\u00e9ventuelles cellules cancereuses sur les images. Celles-ci sont alors classifi\u00e9es $1$ pour les images positives (patient atteint de cancer) et $0$ pour les images n\u00e9gatives.\n",
                "\n",
                "On a ensuite test\u00e9 le mod\u00e8le sur des donn\u00e9es d'autres patients pour lesquels le diagnostic est connu. Le r\u00e9sultat peut \u00eatre r\u00e9cup\u00e9r\u00e9 \u00e0 l'adresse \n",
                "\n",
                "<code>https://www.labri.fr/perso/zemmari/datasets/y_test_pred.csv</code>"
            ]
        },
        {
            "cell_type": "markdown",
            "id": "f6454ce9-8f4f-4ac9-946d-2edb06d3436a",
            "metadata": {},
            "source": [
                "#### Question 1.\n",
                "\n",
                "Ecrire le code n\u00e9cessaire pour charger le contenu du fichier dans un <code>DataFrame y</code>. On peut r\u00e9cup\u00e9rer les premi\u00e8res lignes de <code> y </code> avec <code>y.head()</code>"
            ]
        },
        {
            "cell_type": "code",
            "execution_count": null,
            "id": "7a7b7bd9-d5b8-48f5-bf5f-c3b6b1720161",
            "metadata": {},
            "outputs": [],
            "source": []
        },
        {
            "cell_type": "markdown",
            "id": "fd037cdf",
            "metadata": {},
            "source": [
                "Tester le code suivant pour apprendre comment acc\u00e9der \u00e0 une colonne d'un DataFrame et la transformer en numpy array."
            ]
        },
        {
            "cell_type": "code",
            "execution_count": null,
            "id": "afd2772e",
            "metadata": {},
            "outputs": [],
            "source": [
                "y_vt = y[\"vt\"]\n",
                "y_vt"
            ]
        },
        {
            "cell_type": "code",
            "execution_count": null,
            "id": "ed5be039",
            "metadata": {},
            "outputs": [],
            "source": [
                "import numpy as np\n",
                "np.array(y_vt)"
            ]
        },
        {
            "cell_type": "markdown",
            "id": "f7c8c4f6-9a1e-443d-b9e8-33b1afc77529",
            "metadata": {},
            "source": [
                "#### Question 2.\n",
                "Ecrire une fonction <code>compute_confusion_matrix(y_vt, y_vp)</code> permettant de calculer la matrice de confusion entre la v\u00e9rit\u00e9 terrain <code>y_vt</code> et les pr\u00e9dictions <code>y_vp</code> (donn\u00e9es dans le format pandas). La matrice de confusion calcul\u00e9e sera un numpy array 2x2.\n",
                "\n",
                "*Indication :*  la fonction <code>logical_and(exp1, exp2)</code> du package <code>numpy</code> retourne <code>1</code> si les deux expressions sont vraies.\n"
            ]
        },
        {
            "cell_type": "code",
            "execution_count": null,
            "id": "b63f6265-dc0f-4e13-94df-b6bc63b19b5d",
            "metadata": {},
            "outputs": [],
            "source": []
        },
        {
            "cell_type": "markdown",
            "id": "bf429ccb-19fe-4e9f-b720-f4bd91d5b4e9",
            "metadata": {},
            "source": [
                "Calculer la matrice de confusions des donn\u00e9es ci-dessus"
            ]
        },
        {
            "cell_type": "code",
            "execution_count": null,
            "id": "b35f4331-6835-4508-b96b-a4ef5455fb03",
            "metadata": {},
            "outputs": [],
            "source": []
        },
        {
            "cell_type": "markdown",
            "id": "6c54ba4d-0f83-4e7e-beb1-f7c466ce5a1b",
            "metadata": {},
            "source": [
                "#### Question 3.\n",
                "Ecrire une fonction <code>compute_metrics(confusion_matrix)</code> permettant de calculer $accuracy$, la $precision$, le $recall$ et le $F_1 score$ \u00e0 partir de la matrice de confusion donn\u00e9e sous la forme d'un numpy array 2x2."
            ]
        },
        {
            "cell_type": "code",
            "execution_count": null,
            "id": "88ea4284-9e47-4b77-a26a-42811a1fb14b",
            "metadata": {},
            "outputs": [],
            "source": []
        },
        {
            "cell_type": "markdown",
            "id": "f43c15a7-091a-4998-bdc6-f12e39479969",
            "metadata": {},
            "source": [
                "Utiliser la fonction pour \u00e9valuer le mod\u00e8le. Qu'en pensez-vous ? Donner une interpr\u00e9tation de chacune des m\u00e9triques."
            ]
        },
        {
            "cell_type": "code",
            "execution_count": null,
            "id": "48e976e4-44de-4249-9308-365c886dec25",
            "metadata": {},
            "outputs": [],
            "source": []
        }
    ],
    "metadata": {
        "kernelspec": {
            "display_name": "Python 3 (ipykernel)",
            "language": "python",
            "name": "python3"
        },
        "language_info": {
            "codemirror_mode": {
                "name": "ipython",
                "version": 3
            },
            "file_extension": ".py",
            "mimetype": "text/x-python",
            "name": "python",
            "nbconvert_exporter": "python",
            "pygments_lexer": "ipython3",
            "version": "3.11.4"
        }
    },
    "nbformat": 4,
    "nbformat_minor": 5
}
