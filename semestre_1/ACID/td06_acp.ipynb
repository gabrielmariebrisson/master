{
 "cells": [
  {
   "cell_type": "markdown",
   "metadata": {},
   "source": [
    "# Analyse, classification et indexation des données: feuille 7\n",
    "### Réduction de dimension - Analyse en Composantes Principales (ACP)"
   ]
  },
  {
   "cell_type": "code",
   "execution_count": 61,
   "metadata": {},
   "outputs": [],
   "source": [
    "import warnings\n",
    "warnings.filterwarnings(\"ignore\")"
   ]
  },
  {
   "cell_type": "markdown",
   "metadata": {},
   "source": [
    "#### Avant de commencer\n",
    "\n",
    "Ecrire une fonction <code> droite2DVd(x, vd, point) </code> permettant de calculer les ordonnées des points <code>(x, ?)</code> de la droite de vecteur directeur <code>vd</code> passant par le point <code>point</code>. Le paramètre <code>x</code> est un vecteur numpy, <code>vd</code> est un tuple <code>(a,b)</code>, <code>point</code> est un tuple <code>(xp, yp)</code>.\n",
    "Testez votre fonction."
   ]
  },
  {
   "cell_type": "code",
   "execution_count": 62,
   "metadata": {},
   "outputs": [],
   "source": [
    "import numpy as np\n",
    "def droite2DVd(x, vd, point):\n",
    "    a = vd[1] / vd[0]\n",
    "    b = point[1] - a * point[0]\n",
    "    y = a * x + b\n",
    "    return y\n"
   ]
  },
  {
   "cell_type": "code",
   "execution_count": null,
   "metadata": {
    "scrolled": false
   },
   "outputs": [],
   "source": []
  },
  {
   "cell_type": "markdown",
   "metadata": {},
   "source": [
    "### Exercice 1.\n",
    "\n",
    "Dans cet exercice, on considère le même dataset que pour le TD précédent (feuille 6). Nous avons un descripteur de taille 2 : chaque poisson est décrit par sa longueur et sa brillance. L'objectif de l'exercice est de passer d'un descripteur de taille 2 à un descripteur de taille 1.\n",
    "\n",
    "Commencez par charger les données.\n"
   ]
  },
  {
   "cell_type": "code",
   "execution_count": 63,
   "metadata": {},
   "outputs": [],
   "source": [
    "import pandas as pa\n",
    "data = pa.read_csv('https://www.labri.fr/perso/zemmari/datasets/salmon_seabass.csv', delimiter=';', header=0)\n",
    "data = data.sample(frac=1)\n",
    "X=data[['width','lightness']]\n",
    "Y= data[['species']]"
   ]
  },
  {
   "cell_type": "code",
   "execution_count": 64,
   "metadata": {},
   "outputs": [
    {
     "name": "stdout",
     "output_type": "stream",
     "text": [
      "      lightness      width  species\n",
      "1394   7.656156  11.714139        1\n",
      "158    1.979941   8.395316        0\n",
      "1400  11.275839  10.361385        1\n",
      "1218  12.286673  11.772691        1\n",
      "139    6.685679   8.112440        0\n",
      "...         ...        ...      ...\n",
      "102    8.051423   9.314155        0\n",
      "1072   6.239862   8.566086        1\n",
      "1118   7.316997  14.042753        1\n",
      "1275  15.028337  12.380119        1\n",
      "357    3.531162   8.494233        0\n",
      "\n",
      "[1500 rows x 3 columns]\n",
      "          width  lightness\n",
      "1394  11.714139   7.656156\n",
      "158    8.395316   1.979941\n",
      "1400  10.361385  11.275839\n",
      "1218  11.772691  12.286673\n",
      "139    8.112440   6.685679\n",
      "...         ...        ...\n",
      "102    9.314155   8.051423\n",
      "1072   8.566086   6.239862\n",
      "1118  14.042753   7.316997\n",
      "1275  12.380119  15.028337\n",
      "357    8.494233   3.531162\n",
      "\n",
      "[1500 rows x 2 columns]\n",
      "      species\n",
      "1394        1\n",
      "158         0\n",
      "1400        1\n",
      "1218        1\n",
      "139         0\n",
      "...       ...\n",
      "102         0\n",
      "1072        1\n",
      "1118        1\n",
      "1275        1\n",
      "357         0\n",
      "\n",
      "[1500 rows x 1 columns]\n"
     ]
    }
   ],
   "source": [
    "print(data)\n",
    "print(X)\n",
    "print(Y)"
   ]
  },
  {
   "cell_type": "markdown",
   "metadata": {},
   "source": [
    "1- Ecrire   une   fonction  <code>calculACP(echantillon, d=1)</code> qui réalise l'ACP sur un ensemble d'exemples. Chaque ligne de <code>echantillon</code> (DataFrame) contient les descripteurs associés à un exemple. La fonction retourne les <code>d</code> vecteurs propres calculés de plus grandes valeurs propres. Ils seront triés en fonction de leur valeur propre, de la plus grande à la plus petite. Tester la fonction sur le dataset."
   ]
  },
  {
   "cell_type": "code",
   "execution_count": 65,
   "metadata": {},
   "outputs": [],
   "source": [
    "def calculACP(echantillon, d=1):\n",
    "    \"\"\"\n",
    "    Réalise l'Analyse en Composantes Principales (ACP) sur un ensemble d'exemples.\n",
    "\n",
    "    Args:\n",
    "        echantillon (DataFrame): Un DataFrame contenant les descripteurs associés à chaque exemple.\n",
    "        d (int): Le nombre de vecteurs propres à retourner. Par défaut, 1.\n",
    "\n",
    "    Returns:\n",
    "        DataFrame: Un DataFrame contenant les d vecteurs propres calculés (triés par valeur propre, de la plus grande à la plus petite).\n",
    "    \"\"\"\n",
    "    # Centrage des données\n",
    "    nu = echantillon.mean()\n",
    "    omega = echantillon.std()\n",
    "    D = (echantillon - nu) / omega\n",
    "\n",
    "    # Matrice de covariance\n",
    "    #S=(len(echantillon)-1).D.conv()\n",
    "    S = (D.T @ D) / (len(echantillon) - 1)\n",
    "\n",
    "    # Calcul des valeurs propres et vecteurs propres\n",
    "    lambda_, p = np.linalg.eig(S)\n",
    "\n",
    "    # Trier les vecteurs propres en fonction des valeurs propres\n",
    "    sorted_indices = np.argsort(lambda_)[::-1]\n",
    "    W = p[:, sorted_indices[:d]]\n",
    "    #W=p[np.argsort(lambda_)][::-1][:k].T\n",
    "\n",
    "    # Projection des données sur les d vecteurs propres\n",
    "    return D @ W\n"
   ]
  },
  {
   "cell_type": "code",
   "execution_count": null,
   "metadata": {},
   "outputs": [],
   "source": []
  },
  {
   "cell_type": "markdown",
   "metadata": {},
   "source": [
    "2- Ecrire une fonction <code>projection (W, echantillon)</code>  qui prend une matrice de\n",
    "projection <code>W</code> et un échantillon et qui retourne la projection de cet\n",
    "ensemble. "
   ]
  },
  {
   "cell_type": "code",
   "execution_count": 140,
   "metadata": {},
   "outputs": [],
   "source": [
    "def projection (W, echantillon):\n",
    "    resultats_projection = echantillon @ W\n",
    "    return resultats_projection"
   ]
  },
  {
   "cell_type": "markdown",
   "metadata": {},
   "source": [
    "3- Visualiser le résultat de la réduction de dimension sur le dataset. Vous afficherez le nuage de points initial en 2D et la projection de ce nuage en 1D."
   ]
  },
  {
   "cell_type": "markdown",
   "metadata": {},
   "source": [
    "##### Avant la projection : "
   ]
  },
  {
   "cell_type": "code",
   "execution_count": 141,
   "metadata": {},
   "outputs": [],
   "source": [
    "from sklearn.model_selection import train_test_split\n",
    "from sklearn.naive_bayes import GaussianNB\n",
    "from sklearn.metrics import accuracy_score, classification_report\n",
    "import time\n",
    "\n",
    "# Split the data into training and testing sets\n",
    "X_train, X_test, Y_train, Y_test = train_test_split(X, Y, test_size=0.2, random_state=42)"
   ]
  },
  {
   "cell_type": "code",
   "execution_count": 142,
   "metadata": {},
   "outputs": [
    {
     "data": {
      "text/plain": [
       "Text(0, 0.5, 'Lightness')"
      ]
     },
     "execution_count": 142,
     "metadata": {},
     "output_type": "execute_result"
    },
    {
     "data": {
      "image/png": "[encoded data removed]",
      "text/plain": [
       "<Figure size 1000x500 with 1 Axes>"
      ]
     },
     "metadata": {},
     "output_type": "display_data"
    }
   ],
   "source": [
    "import matplotlib.pyplot as plt\n",
    "\n",
    "# Create a scatter plot for the original 2D data\n",
    "plt.figure(figsize=(10, 5))\n",
    "plt.subplot(121)  # First subplot for 2D data\n",
    "\n",
    "plt.scatter(X_train['width'], X_train['lightness'], c=Y_train['species'], cmap='viridis')\n",
    "plt.title('2D Data')\n",
    "plt.xlabel('Width')\n",
    "plt.ylabel('Lightness')"
   ]
  },
  {
   "cell_type": "markdown",
   "metadata": {},
   "source": [
    "#### Après la projection :"
   ]
  },
  {
   "cell_type": "code",
   "execution_count": 143,
   "metadata": {},
   "outputs": [
    {
     "data": {
      "image/png": "[encoded data removed]",
      "text/plain": [
       "<Figure size 640x480 with 1 Axes>"
      ]
     },
     "metadata": {},
     "output_type": "display_data"
    }
   ],
   "source": [
    "# Visualisation en 1D (projection)\n",
    "\n",
    "reduced_data = calculACP(X_train, d=1)\n",
    "plt.subplot(122)  # Second subplot for 1D projected data\n",
    "\n",
    "plt.scatter(reduced_data, np.zeros_like(reduced_data), c=Y_train['species'], cmap='viridis')\n",
    "plt.title('1D Projected Data')\n",
    "plt.xlabel('Projection onto 1D')\n",
    "plt.ylim(-0.5, 0.5)  # Set the y-axis range for 1D data\n",
    "\n",
    "plt.show()"
   ]
  },
  {
   "cell_type": "code",
   "execution_count": 144,
   "metadata": {},
   "outputs": [
    {
     "name": "stdout",
     "output_type": "stream",
     "text": [
      "             0\n",
      "700  -0.630652\n",
      "1142 -0.289757\n",
      "903  -1.148199\n",
      "669  -0.554012\n",
      "1019  0.212200\n",
      "...        ...\n",
      "1367  0.776632\n",
      "664   0.277462\n",
      "234  -0.652624\n",
      "624   0.453732\n",
      "827  -0.929838\n",
      "\n",
      "[1200 rows x 1 columns]\n"
     ]
    }
   ],
   "source": [
    "print(reduced_data)"
   ]
  },
  {
   "cell_type": "markdown",
   "metadata": {},
   "source": [
    "4- En utilisant un classifieur bayésien MAP, comparez les résultats obtenus avec l'échantillon brut (descripteur de dimension 2) et les résultats obtenus avec l'échantillon projeté sur l’axe de plus grande valeur propre (descripteur de dimension 1). Comparez également les temps d'entraînement."
   ]
  },
  {
   "cell_type": "code",
   "execution_count": 148,
   "metadata": {},
   "outputs": [],
   "source": [
    "# Train and evaluate the classifier on the raw 2D data\n",
    "start_time = time.time()\n",
    "classifier_raw = GaussianNB()\n",
    "classifier_raw.fit(X_train, Y_train)\n",
    "training_time_raw = time.time() - start_time\n",
    "Y_pred_raw = classifier_raw.predict(X_test)\n",
    "accuracy_raw = accuracy_score(Y_test, Y_pred_raw)\n",
    "report_raw = classification_report(Y_test, Y_pred_raw)\n"
   ]
  },
  {
   "cell_type": "code",
   "execution_count": 149,
   "metadata": {
    "scrolled": true
   },
   "outputs": [],
   "source": [
    "# Train and evaluate the classifier on the 1D projected data\n",
    "\n",
    "start_time = time.time()\n",
    "classifier_raw = GaussianNB()\n",
    "pca = PCA(n_components=1)\n",
    "components_train = pca.fit_transform(X_train)\n",
    "classifier_raw.fit(components_train, Y_train)\n",
    "#classifier_raw.fit(reduced_data, Y_train)\n",
    "training_time_projected = time.time() - start_time\n",
    "\n",
    "#components_test = calculACP(X_test, d=1)\n",
    "components_test = pca.transform(X_test)\n",
    "Y_pred_projected = classifier_raw.predict(components_test)\n",
    "accuracy_projected = accuracy_score(Y_test, Y_pred_projected)\n",
    "report_projected = classification_report(Y_test, Y_pred_projected)"
   ]
  },
  {
   "cell_type": "code",
   "execution_count": 151,
   "metadata": {},
   "outputs": [
    {
     "name": "stdout",
     "output_type": "stream",
     "text": [
      "Classifier on raw 2D data:\n",
      "Training Time: 0.009437084197998047 seconds\n",
      "Accuracy: 0.97\n",
      "              precision    recall  f1-score   support\n",
      "\n",
      "           0       0.96      0.99      0.98       191\n",
      "           1       0.99      0.93      0.96       109\n",
      "\n",
      "    accuracy                           0.97       300\n",
      "   macro avg       0.97      0.96      0.97       300\n",
      "weighted avg       0.97      0.97      0.97       300\n",
      "\n",
      "\n",
      "Classifier on 1D projected data:\n",
      "Training Time: 0.013973474502563477 seconds\n",
      "Accuracy: 0.9233333333333333\n",
      "              precision    recall  f1-score   support\n",
      "\n",
      "           0       0.92      0.97      0.94       191\n",
      "           1       0.94      0.84      0.89       109\n",
      "\n",
      "    accuracy                           0.92       300\n",
      "   macro avg       0.93      0.91      0.92       300\n",
      "weighted avg       0.92      0.92      0.92       300\n",
      "\n"
     ]
    }
   ],
   "source": [
    "\n",
    "# Compare results\n",
    "print(\"Classifier on raw 2D data:\")\n",
    "print(f\"Training Time: {training_time_raw} seconds\")\n",
    "print(f\"Accuracy: {accuracy_raw}\")\n",
    "print(report_raw)\n",
    "\n",
    "print(\"\\nClassifier on 1D projected data:\")\n",
    "print(f\"Training Time: {training_time_projected} seconds\")\n",
    "print(f\"Accuracy: {accuracy_projected}\")\n",
    "print(report_projected)\n"
   ]
  },
  {
   "cell_type": "markdown",
   "metadata": {},
   "source": [
    "5- Même question avec un $k$-nn."
   ]
  },
  {
   "cell_type": "code",
   "execution_count": 152,
   "metadata": {},
   "outputs": [],
   "source": [
    "from sklearn.neighbors import KNeighborsClassifier\n",
    "from sklearn.metrics import accuracy_score, classification_report\n",
    "import time\n",
    "from sklearn.decomposition import PCA\n",
    "\n",
    "# Assuming X_train, Y_train, X_test, Y_test are defined\n",
    "\n",
    "# Fit PCA on the training data\n",
    "pca = PCA(n_components=1)\n",
    "components_train = pca.fit_transform(X_train)\n",
    "\n",
    "# Train k-NN classifier\n",
    "start_time = time.time()\n",
    "knn_classifier = KNeighborsClassifier(n_neighbors=3)  # You can adjust the number of neighbors (n_neighbors) as needed\n",
    "knn_classifier.fit(components_train, Y_train)\n",
    "training_time_knn = time.time() - start_time\n",
    "\n",
    "# Transform testing data using the same PCA model\n",
    "components_test = pca.transform(X_test)\n",
    "\n",
    "# Predict using k-NN\n",
    "Y_pred_knn = knn_classifier.predict(components_test)\n",
    "\n",
    "# Evaluate performance\n",
    "accuracy_knn = accuracy_score(Y_test, Y_pred_knn)\n",
    "report_knn = classification_report(Y_test, Y_pred_knn)"
   ]
  },
  {
   "cell_type": "code",
   "execution_count": 153,
   "metadata": {},
   "outputs": [
    {
     "name": "stdout",
     "output_type": "stream",
     "text": [
      "\n",
      "Classifier on k-nn data:\n",
      "Training Time: 0.004705667495727539 seconds\n",
      "Accuracy: 0.9066666666666666\n",
      "              precision    recall  f1-score   support\n",
      "\n",
      "           0       0.92      0.93      0.93       191\n",
      "           1       0.88      0.86      0.87       109\n",
      "\n",
      "    accuracy                           0.91       300\n",
      "   macro avg       0.90      0.90      0.90       300\n",
      "weighted avg       0.91      0.91      0.91       300\n",
      "\n"
     ]
    }
   ],
   "source": [
    "print(\"\\nClassifier on k-nn data:\")\n",
    "print(f\"Training Time: {training_time_knn} seconds\")\n",
    "print(f\"Accuracy: {accuracy_knn}\")\n",
    "print(report_knn)"
   ]
  },
  {
   "cell_type": "code",
   "execution_count": null,
   "metadata": {},
   "outputs": [],
   "source": []
  },
  {
   "cell_type": "markdown",
   "metadata": {},
   "source": [
    "### Exercice 2.\n",
    "\n",
    "Dans cet exercice, nous allons travailler avec un dataset contenant des données sur le cancer du sein. Le dataset \n",
    "peut être chargé par l'instruction <code> load_breast_cancer</code> de la bibliothèque <code>sklearn.datasets</code>.\n",
    "\n",
    "Commencer par charger les données, et les explorer.\n",
    "\n"
   ]
  },
  {
   "cell_type": "code",
   "execution_count": null,
   "metadata": {},
   "outputs": [],
   "source": []
  },
  {
   "cell_type": "code",
   "execution_count": null,
   "metadata": {},
   "outputs": [],
   "source": []
  },
  {
   "cell_type": "code",
   "execution_count": null,
   "metadata": {},
   "outputs": [],
   "source": []
  },
  {
   "cell_type": "code",
   "execution_count": null,
   "metadata": {},
   "outputs": [],
   "source": []
  },
  {
   "cell_type": "markdown",
   "metadata": {},
   "source": [
    "1- Faites une ACP en utilisant le module <code>PCA</code> de la bibliothèque <code>sklearn.decomposition</code>.  \n",
    "\n",
    "Attention : pensez à centrer et réduire vos données."
   ]
  },
  {
   "cell_type": "code",
   "execution_count": null,
   "metadata": {},
   "outputs": [],
   "source": []
  },
  {
   "cell_type": "code",
   "execution_count": null,
   "metadata": {},
   "outputs": [],
   "source": []
  },
  {
   "cell_type": "code",
   "execution_count": null,
   "metadata": {},
   "outputs": [],
   "source": []
  },
  {
   "cell_type": "markdown",
   "metadata": {},
   "source": [
    "2- Affichez l'éboulie des valeurs propres et indiquer le nombre d'axes à retenir en utilisant le critère du coude. "
   ]
  },
  {
   "cell_type": "code",
   "execution_count": null,
   "metadata": {},
   "outputs": [],
   "source": []
  },
  {
   "cell_type": "code",
   "execution_count": null,
   "metadata": {},
   "outputs": [],
   "source": []
  },
  {
   "cell_type": "code",
   "execution_count": null,
   "metadata": {},
   "outputs": [],
   "source": []
  },
  {
   "cell_type": "markdown",
   "metadata": {},
   "source": [
    "3- Combien d'axes faut-il retenir pour garder au moins 80% de la variance ?"
   ]
  },
  {
   "cell_type": "code",
   "execution_count": null,
   "metadata": {},
   "outputs": [],
   "source": []
  },
  {
   "cell_type": "markdown",
   "metadata": {},
   "source": [
    "4- En ne gardant que 3 axes,  étudier l'impact de la réduction sur la qualité d'un classifieur de votre choix. "
   ]
  },
  {
   "cell_type": "code",
   "execution_count": null,
   "metadata": {},
   "outputs": [],
   "source": []
  },
  {
   "cell_type": "code",
   "execution_count": null,
   "metadata": {},
   "outputs": [],
   "source": []
  },
  {
   "cell_type": "markdown",
   "metadata": {},
   "source": [
    "5- Commenter les résultats"
   ]
  },
  {
   "cell_type": "markdown",
   "metadata": {},
   "source": []
  }
 ],
 "metadata": {
  "kernelspec": {
   "display_name": "Python 3 (ipykernel)",
   "language": "python",
   "name": "python3"
  },
  "language_info": {
   "codemirror_mode": {
    "name": "ipython",
    "version": 3
   },
   "file_extension": ".py",
   "mimetype": "text/x-python",
   "name": "python",
   "nbconvert_exporter": "python",
   "pygments_lexer": "ipython3",
   "version": "3.11.8"
  }
 },
 "nbformat": 4,
 "nbformat_minor": 2
}
