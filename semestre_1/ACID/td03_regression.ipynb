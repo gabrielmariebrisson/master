{
 "cells": [
  {
   "cell_type": "markdown",
   "metadata": {},
   "source": [
    "#### Université de Bordeaux,  Master Mention Informatique\n",
    "\n",
    "# Analyse, classification et indexation des données: feuille 4\n",
    "### Régression linéaire simple et multiple"
   ]
  },
  {
   "cell_type": "markdown",
   "metadata": {},
   "source": [
    "##### Avant de commencer :\n",
    "\n",
    "Le régression linéaire est l'une des méthodes statistiques les plus utilisées en sciences de données. Elle est utilisée pour <em>prédire</em> les valeurs d'une variable <em>dépendante</em> continue en fonction d'une ou plusieurs variables <em>indépendantes</em>.\n"
   ]
  },
  {
   "cell_type": "code",
   "execution_count": 1,
   "metadata": {},
   "outputs": [],
   "source": [
    "import pandas as pa"
   ]
  },
  {
   "cell_type": "markdown",
   "metadata": {},
   "source": [
    "### Exercice 1. Régression linéaire simple.\n",
    "\n",
    "La gérante d’un commerce veut évaluer l’impact des frais déboursés en publicité par mois (représentés par une variable $X$ exprimée en milliers d’euros) sur le chiffre d’affaires mensuel (représenté par une variable $Y$ exprimée en milliers d’euros). On aimerait évaluer dans quelle mesure une modification du budget publicitaire mensuel affecterait le chiffre d’affaires mensuel. On a donc recueilli sur une période de 10 mois les données du tableau ci-dessous.\n",
    "\n",
    "<table>\n",
    "<tr><td>Chiffre d'affaires</td> <td>220</td> <td>280</td> <td>250</td> <td>170</td> <td>150</td> <td>340</td> <td>310</td> <td>210</td> <td>180</td> <td>190</td></tr>\n",
    "<tr><td>Frais publicitaires</td> <td>2.6</td> <td>2.6</td> <td>2.4</td> <td>1.5</td> <td>0.9</td> <td>3.0</td> <td>2.7</td> <td>2.3</td> <td>1.7</td> <td>1.9</td></tr>\n",
    "\n",
    "</table>    "
   ]
  },
  {
   "cell_type": "markdown",
   "metadata": {},
   "source": [
    "1. Créer un <code>DataFrame</code> contenant les données du tableau ci-dessus."
   ]
  },
  {
   "cell_type": "code",
   "execution_count": 2,
   "metadata": {},
   "outputs": [
    {
     "ename": "SyntaxError",
     "evalue": "cannot assign to literal here. Maybe you meant '==' instead of '='? (2042752650.py, line 4)",
     "output_type": "error",
     "traceback": [
      "\u001b[0;36m  Cell \u001b[0;32mIn[2], line 4\u001b[0;36m\u001b[0m\n\u001b[0;31m    'Chiffre d\\'affaires'= [220, 280, 250, 170, 150, 340, 310, 210, 180, 190],\u001b[0m\n\u001b[0m    ^\u001b[0m\n\u001b[0;31mSyntaxError\u001b[0m\u001b[0;31m:\u001b[0m cannot assign to literal here. Maybe you meant '==' instead of '='?\n"
     ]
    }
   ],
   "source": [
    "import pandas as pd\n",
    "\n",
    "data = {\n",
    "    'Chiffre d\\'affaires'= [220, 280, 250, 170, 150, 340, 310, 210, 180, 190],\n",
    "    'Frais publicitaires': [2.6, 2.6, 2.4, 1.5, 0.9, 3.0, 2.7, 2.3, 1.7, 1.9]\n",
    "}\n",
    "\n",
    "df = pd.DataFrame(data)\n",
    "\n",
    "print(df)"
   ]
  },
  {
   "cell_type": "markdown",
   "metadata": {},
   "source": [
    "2. Tracer le nuage de points et estimer le coefficient de corrélation linéaire."
   ]
  },
  {
   "cell_type": "code",
   "execution_count": 3,
   "metadata": {},
   "outputs": [
    {
     "ename": "NameError",
     "evalue": "name 'df' is not defined",
     "output_type": "error",
     "traceback": [
      "\u001b[0;31m---------------------------------------------------------------------------\u001b[0m",
      "\u001b[0;31mNameError\u001b[0m                                 Traceback (most recent call last)",
      "Cell \u001b[0;32mIn[3], line 2\u001b[0m\n\u001b[1;32m      1\u001b[0m \u001b[38;5;28;01mimport\u001b[39;00m \u001b[38;5;21;01mmatplotlib\u001b[39;00m\u001b[38;5;21;01m.\u001b[39;00m\u001b[38;5;21;01mpyplot\u001b[39;00m \u001b[38;5;28;01mas\u001b[39;00m \u001b[38;5;21;01mplt\u001b[39;00m\n\u001b[0;32m----> 2\u001b[0m plt\u001b[38;5;241m.\u001b[39mplot(df[\u001b[38;5;124m'\u001b[39m\u001b[38;5;124mFrais publicitaires\u001b[39m\u001b[38;5;124m'\u001b[39m], df[\u001b[38;5;124m'\u001b[39m\u001b[38;5;124mChiffre d\u001b[39m\u001b[38;5;130;01m\\'\u001b[39;00m\u001b[38;5;124maffaires\u001b[39m\u001b[38;5;124m'\u001b[39m] ,\u001b[38;5;124m'\u001b[39m\u001b[38;5;124mbx\u001b[39m\u001b[38;5;124m'\u001b[39m)\n\u001b[1;32m      3\u001b[0m plt\u001b[38;5;241m.\u001b[39mylabel(\u001b[38;5;124m'\u001b[39m\u001b[38;5;124mChiffre d\u001b[39m\u001b[38;5;130;01m\\'\u001b[39;00m\u001b[38;5;124maffaires\u001b[39m\u001b[38;5;124m'\u001b[39m)\n\u001b[1;32m      4\u001b[0m plt\u001b[38;5;241m.\u001b[39mxlabel(\u001b[38;5;124m'\u001b[39m\u001b[38;5;124mFrais publicitaires\u001b[39m\u001b[38;5;124m'\u001b[39m)\n",
      "\u001b[0;31mNameError\u001b[0m: name 'df' is not defined"
     ]
    }
   ],
   "source": [
    "import matplotlib.pyplot as plt\n",
    "plt.plot(df['Frais publicitaires'], df['Chiffre d\\'affaires'] ,'bx')\n",
    "plt.ylabel('Chiffre d\\'affaires')\n",
    "plt.xlabel('Frais publicitaires')\n",
    "plt.show()"
   ]
  },
  {
   "cell_type": "code",
   "execution_count": null,
   "metadata": {},
   "outputs": [],
   "source": [
    "import scipy.stats\n",
    "\n",
    "result = scipy.stats.linregress(df['Frais publicitaires'], df['Chiffre d\\'affaires'])\n",
    "print(df['Frais publicitaires'].corr( df['Chiffre d\\'affaires']))\n",
    "\n",
    "print(result.slope)\n",
    "print(result.intercept)\n",
    "print(result.rvalue)\n",
    "print(result.pvalue)\n",
    "print(result.stderr)"
   ]
  },
  {
   "cell_type": "markdown",
   "metadata": {},
   "source": [
    "3. Etablir la droite de régression correspondant à ce problème et tracer cette droite. Vous pouvez utiliser l'instruction <code>linregress</code> du module <code>stats</code>"
   ]
  },
  {
   "cell_type": "code",
   "execution_count": null,
   "metadata": {},
   "outputs": [],
   "source": [
    "import matplotlib.pyplot as plt\n",
    "plt.plot(df['Frais publicitaires'], df['Chiffre d\\'affaires'] ,'bx')\n",
    "plt.ylabel('Chiffre d\\'affaires')\n",
    "plt.xlabel('Frais publicitaires')\n",
    "regression_line = result.slope * df['Frais publicitaires'] + result.intercept\n",
    "plt.plot(df['Frais publicitaires'], regression_line, color='red', label='Régression linéaire')\n",
    "plt.show()"
   ]
  },
  {
   "cell_type": "code",
   "execution_count": null,
   "metadata": {},
   "outputs": [],
   "source": []
  },
  {
   "cell_type": "markdown",
   "metadata": {},
   "source": [
    "4. Tester la significativité de la régression au risque 5%."
   ]
  },
  {
   "cell_type": "markdown",
   "metadata": {},
   "source": []
  },
  {
   "cell_type": "code",
   "execution_count": 4,
   "metadata": {},
   "outputs": [
    {
     "ename": "NameError",
     "evalue": "name 'result' is not defined",
     "output_type": "error",
     "traceback": [
      "\u001b[0;31m---------------------------------------------------------------------------\u001b[0m",
      "\u001b[0;31mNameError\u001b[0m                                 Traceback (most recent call last)",
      "Cell \u001b[0;32mIn[4], line 1\u001b[0m\n\u001b[0;32m----> 1\u001b[0m \u001b[38;5;28;01mif\u001b[39;00m result\u001b[38;5;241m.\u001b[39mpvalue \u001b[38;5;241m<\u001b[39m \u001b[38;5;241m0.05\u001b[39m:\n\u001b[1;32m      2\u001b[0m     \u001b[38;5;28mprint\u001b[39m(\u001b[38;5;124m\"\u001b[39m\u001b[38;5;124mLa régression est significative au risque de 5\u001b[39m\u001b[38;5;124m%\u001b[39m\u001b[38;5;124m.\u001b[39m\u001b[38;5;124m\"\u001b[39m)\n\u001b[1;32m      3\u001b[0m \u001b[38;5;28;01melse\u001b[39;00m:\n",
      "\u001b[0;31mNameError\u001b[0m: name 'result' is not defined"
     ]
    }
   ],
   "source": [
    "if result.pvalue < 0.05:\n",
    "    print(\"La régression est significative au risque de 5%.\")\n",
    "else:\n",
    "    print(\"La régression n'est pas significative au risque de 5%.\")\n"
   ]
  },
  {
   "cell_type": "code",
   "execution_count": null,
   "metadata": {},
   "outputs": [],
   "source": []
  },
  {
   "cell_type": "markdown",
   "metadata": {},
   "source": []
  },
  {
   "cell_type": "markdown",
   "metadata": {},
   "source": [
    "5. Calculer le coefficient de détermination."
   ]
  },
  {
   "cell_type": "code",
   "execution_count": 5,
   "metadata": {},
   "outputs": [
    {
     "ename": "NameError",
     "evalue": "name 'result' is not defined",
     "output_type": "error",
     "traceback": [
      "\u001b[0;31m---------------------------------------------------------------------------\u001b[0m",
      "\u001b[0;31mNameError\u001b[0m                                 Traceback (most recent call last)",
      "Cell \u001b[0;32mIn[5], line 1\u001b[0m\n\u001b[0;32m----> 1\u001b[0m \u001b[38;5;28mprint\u001b[39m(\u001b[38;5;124m\"\u001b[39m\u001b[38;5;124m indice de la qualité de la prédiction de la régression linéaire est : (1 etant faible):\u001b[39m\u001b[38;5;124m\"\u001b[39m,result\u001b[38;5;241m.\u001b[39mrvalue\u001b[38;5;241m*\u001b[39m\u001b[38;5;241m*\u001b[39m\u001b[38;5;241m2\u001b[39m)\n",
      "\u001b[0;31mNameError\u001b[0m: name 'result' is not defined"
     ]
    }
   ],
   "source": [
    "print(\" indice de la qualité de la prédiction de la régression linéaire est : (1 etant faible):\",result.rvalue**2)"
   ]
  },
  {
   "cell_type": "markdown",
   "metadata": {},
   "source": []
  },
  {
   "cell_type": "markdown",
   "metadata": {},
   "source": [
    "6. Quel serait le chiffre d’affaires mensuel prédit par le modèle pour un budget publicitaire mensuel de 400 euros ? de 4000 euros ?"
   ]
  },
  {
   "cell_type": "code",
   "execution_count": 6,
   "metadata": {},
   "outputs": [
    {
     "ename": "NameError",
     "evalue": "name 'result' is not defined",
     "output_type": "error",
     "traceback": [
      "\u001b[0;31m---------------------------------------------------------------------------\u001b[0m",
      "\u001b[0;31mNameError\u001b[0m                                 Traceback (most recent call last)",
      "Cell \u001b[0;32mIn[6], line 1\u001b[0m\n\u001b[0;32m----> 1\u001b[0m chiffre_affaires_predit_1 \u001b[38;5;241m=\u001b[39m result\u001b[38;5;241m.\u001b[39mslope \u001b[38;5;241m*\u001b[39m \u001b[38;5;241m0.400\u001b[39m \u001b[38;5;241m+\u001b[39m result\u001b[38;5;241m.\u001b[39mintercept\n\u001b[1;32m      3\u001b[0m \u001b[38;5;66;03m# Prédiction du chiffre d'affaires pour le deuxième budget\u001b[39;00m\n\u001b[1;32m      4\u001b[0m chiffre_affaires_predit_2 \u001b[38;5;241m=\u001b[39m result\u001b[38;5;241m.\u001b[39mslope \u001b[38;5;241m*\u001b[39m \u001b[38;5;241m4\u001b[39m \u001b[38;5;241m+\u001b[39m result\u001b[38;5;241m.\u001b[39mintercept\n",
      "\u001b[0;31mNameError\u001b[0m: name 'result' is not defined"
     ]
    }
   ],
   "source": [
    "chiffre_affaires_predit_1 = result.slope * 0.400 + result.intercept\n",
    "\n",
    "# Prédiction du chiffre d'affaires pour le deuxième budget\n",
    "chiffre_affaires_predit_2 = result.slope * 4 + result.intercept\n",
    "\n",
    "# Affichage des prédictions\n",
    "print(\"Chiffre d'affaires prévu pour un budget de 400 euros:\", chiffre_affaires_predit_1)\n",
    "print(\"Chiffre d'affaires prévu pour un budget de 4000 euros:\", chiffre_affaires_predit_2)\n"
   ]
  },
  {
   "cell_type": "markdown",
   "metadata": {},
   "source": [
    "### Exercice 2. Régression linéaire multiple\n",
    "\n",
    "Nous voulons savoir quels sont les facteurs importants qui influencent la valeur d’une propriété. L'objectif est de construire un modèle qui nous aidera à évaluer cette valeur selon ces facteurs. Pour ce faire, nous utilisons la valeur totale pour un échantillon de 79 propriétés dans une région donnée. Voir le fichier <code>proprietes.csv</code> disponible à l’adresse :\n",
    "\n",
    "http://www.labri.fr/~zemmari/ia_data/datasets/proprietes.csv\n",
    "\n",
    "Le fichier contient les variables suivantes correspondant chacune à un facteur : \n",
    "- Valeur Totale : valeur globale de la propriété\n",
    "- Valeur Terrain : valeur du terrain sur lequel est bâtie la maison\n",
    "- Acre : Superficie en acres\n",
    "- Pieds2 : Superficie en pieds2\n",
    "- Extérieur : Etat extérieur\n",
    "- Chauffage : Type du chauffage utilisé\n",
    "- Pièces : Nombre de pièces dans la maison\n",
    "- Chambres : Nombre de chambres dans la maison\n",
    "- SbainsC : Nombre de salles de bain complètes\n",
    "- Sbains : Nombre de salles de bain non complètes\n",
    "- Foyers : Nombre de foyers\n",
    "- Garage : Indique si la propriété contient un garage ou non.\n",
    "\n",
    "Après avoir chargé les données dans un DataFrame vous pouvez visualiser les premières entrées avec la fonction head et inspecter globalement les données avec la fonction info. Y a-t-il des données manquantes?"
   ]
  },
  {
   "cell_type": "code",
   "execution_count": 7,
   "metadata": {},
   "outputs": [
    {
     "ename": "NameError",
     "evalue": "name 'pd' is not defined",
     "output_type": "error",
     "traceback": [
      "\u001b[0;31m---------------------------------------------------------------------------\u001b[0m",
      "\u001b[0;31mNameError\u001b[0m                                 Traceback (most recent call last)",
      "Cell \u001b[0;32mIn[7], line 1\u001b[0m\n\u001b[0;32m----> 1\u001b[0m df \u001b[38;5;241m=\u001b[39m pd\u001b[38;5;241m.\u001b[39mread_csv(\u001b[38;5;124m\"\u001b[39m\u001b[38;5;124mhttp://www.labri.fr/~zemmari/datasets/proprietes.csv\u001b[39m\u001b[38;5;124m\"\u001b[39m, sep\u001b[38;5;241m=\u001b[39m\u001b[38;5;124m'\u001b[39m\u001b[38;5;124m;\u001b[39m\u001b[38;5;124m'\u001b[39m)\n\u001b[1;32m      3\u001b[0m \u001b[38;5;28mprint\u001b[39m(df\u001b[38;5;241m.\u001b[39mhead())\n\u001b[1;32m      4\u001b[0m \u001b[38;5;28mprint\u001b[39m(df\u001b[38;5;241m.\u001b[39minfo())\n",
      "\u001b[0;31mNameError\u001b[0m: name 'pd' is not defined"
     ]
    }
   ],
   "source": [
    "df = pd.read_csv(\"http://www.labri.fr/~zemmari/datasets/proprietes.csv\", sep=';')\n",
    "\n",
    "print(df.head())\n",
    "print(df.info())\n",
    "\n"
   ]
  },
  {
   "cell_type": "code",
   "execution_count": null,
   "metadata": {},
   "outputs": [],
   "source": []
  },
  {
   "cell_type": "markdown",
   "metadata": {},
   "source": [
    "1. Y a-t-il un lien entre la valeur totale et les différents facteurs ?"
   ]
  },
  {
   "cell_type": "code",
   "execution_count": 8,
   "metadata": {},
   "outputs": [
    {
     "ename": "NameError",
     "evalue": "name 'df' is not defined",
     "output_type": "error",
     "traceback": [
      "\u001b[0;31m---------------------------------------------------------------------------\u001b[0m",
      "\u001b[0;31mNameError\u001b[0m                                 Traceback (most recent call last)",
      "Cell \u001b[0;32mIn[8], line 1\u001b[0m\n\u001b[0;32m----> 1\u001b[0m \u001b[38;5;28;01mfor\u001b[39;00m column \u001b[38;5;129;01min\u001b[39;00m df\u001b[38;5;241m.\u001b[39mcolumns:\n\u001b[1;32m      2\u001b[0m     \u001b[38;5;28;01mif\u001b[39;00m column \u001b[38;5;241m!=\u001b[39m \u001b[38;5;124m'\u001b[39m\u001b[38;5;124mValeur Totale\u001b[39m\u001b[38;5;124m'\u001b[39m:\n\u001b[1;32m      3\u001b[0m         df[column] \u001b[38;5;241m=\u001b[39m pd\u001b[38;5;241m.\u001b[39mto_numeric(df[column], errors\u001b[38;5;241m=\u001b[39m\u001b[38;5;124m'\u001b[39m\u001b[38;5;124mcoerce\u001b[39m\u001b[38;5;124m'\u001b[39m)\n",
      "\u001b[0;31mNameError\u001b[0m: name 'df' is not defined"
     ]
    }
   ],
   "source": [
    "for column in df.columns:\n",
    "    if column != 'Valeur Totale':\n",
    "        df[column] = pd.to_numeric(df[column], errors='coerce')\n",
    "        \n",
    "        df = df.dropna(subset=[column])\n",
    "        if len(df[column]) >= 2:\n",
    "            result = scipy.stats.pearsonr(df['Valeur Totale'], df[column])\n",
    "\n",
    "            print(f\"Corrélation entre Valeur Totale et {column}: {result.statistic}\")\n",
    "            print(f\"Valeur p (p-value) pour {column}: {result.pvalue}\")\n",
    "            \n",
    "            print(result.pvalue)\n",
    "            if result.pvalue  < 0.05:\n",
    "                print(f\"Il existe un lien significatif entre la Valeur Totale et {column}.\\n\")\n",
    "            else:\n",
    "                print(f\"Il n'y a pas de lien significatif entre la Valeur Totale et {column}.\\n\")\n",
    "        else:\n",
    "            print(f\"La colonne {column} n'a pas suffisamment de données pour calculer une corrélation.\\n\")"
   ]
  },
  {
   "cell_type": "markdown",
   "metadata": {},
   "source": []
  },
  {
   "cell_type": "markdown",
   "metadata": {},
   "source": [
    "2. Afficher les valeurs des différentes statistiques desciptives."
   ]
  },
  {
   "cell_type": "code",
   "execution_count": 68,
   "metadata": {},
   "outputs": [
    {
     "name": "stdout",
     "output_type": "stream",
     "text": [
      "count        79.000000\n",
      "mean     187253.405063\n",
      "std       84401.421337\n",
      "min       74365.000000\n",
      "25%      123089.000000\n",
      "50%      156761.000000\n",
      "75%      235277.500000\n",
      "max      453744.000000\n",
      "Name: Valeur Totale, dtype: float64\n"
     ]
    }
   ],
   "source": [
    "print(df['Valeur Totale'].describe())\n"
   ]
  },
  {
   "cell_type": "markdown",
   "metadata": {},
   "source": [
    "3. Faites les différentes régressions linéaires simples possibles, et choisissez la (ou les) plus pertinente(s)."
   ]
  },
  {
   "cell_type": "code",
   "execution_count": 84,
   "metadata": {},
   "outputs": [
    {
     "name": "stdout",
     "output_type": "stream",
     "text": [
      "Corrélation entre Valeur Totale et Valeur Terrain: 0.6637115265551455\n",
      "Valeur p (p-value) pour Valeur Terrain: 6.636865062557978e-20\n",
      "La régression est significative au risque de 5% entre la Valeur Totale et Valeur Terrain.\n",
      "\n"
     ]
    },
    {
     "data": {
      "image/png": "[encoded data removed]",
      "text/plain": [
       "<Figure size 640x480 with 1 Axes>"
      ]
     },
     "metadata": {},
     "output_type": "display_data"
    },
    {
     "name": "stdout",
     "output_type": "stream",
     "text": [
      "Corrélation entre Valeur Totale et Acre: 1.0\n",
      "Valeur p (p-value) pour Acre: 0.0\n",
      "La régression est significative au risque de 5% entre la Valeur Totale et Acre.\n",
      "\n"
     ]
    },
    {
     "data": {
      "image/png": "[encoded data removed]",
      "text/plain": [
       "<Figure size 640x480 with 1 Axes>"
      ]
     },
     "metadata": {},
     "output_type": "display_data"
    },
    {
     "name": "stdout",
     "output_type": "stream",
     "text": [
      "Corrélation entre Valeur Totale et Pied2: 1.0\n",
      "Valeur p (p-value) pour Pied2: 0.0\n",
      "La régression est significative au risque de 5% entre la Valeur Totale et Pied2.\n",
      "\n"
     ]
    },
    {
     "data": {
      "image/png": "[encoded data removed]",
      "text/plain": [
       "<Figure size 640x480 with 1 Axes>"
      ]
     },
     "metadata": {},
     "output_type": "display_data"
    },
    {
     "name": "stdout",
     "output_type": "stream",
     "text": [
      "La colonne Extérieur n'a pas suffisamment de données pour calculer une corrélation.\n",
      "\n",
      "La colonne Chauffage n'a pas suffisamment de données pour calculer une corrélation.\n",
      "\n",
      "La colonne Pièces n'a pas suffisamment de données pour calculer une corrélation.\n",
      "\n",
      "La colonne Chambre n'a pas suffisamment de données pour calculer une corrélation.\n",
      "\n",
      "La colonne SbainsC n'a pas suffisamment de données pour calculer une corrélation.\n",
      "\n",
      "La colonne Sbains n'a pas suffisamment de données pour calculer une corrélation.\n",
      "\n",
      "La colonne Foyers n'a pas suffisamment de données pour calculer une corrélation.\n",
      "\n",
      "La colonne Garage n'a pas suffisamment de données pour calculer une corrélation.\n",
      "\n"
     ]
    }
   ],
   "source": [
    "import matplotlib.pyplot as plt\n",
    "\n",
    "for column in df.columns:\n",
    "    if column != 'Valeur Totale':\n",
    "        df[column] = pd.to_numeric(df[column], errors='coerce')\n",
    "        \n",
    "        df = df.dropna(subset=[column])\n",
    "        if len(df[column]) >= 2:\n",
    "            result = scipy.stats.linregress(df['Valeur Totale'], df[column])\n",
    "            \n",
    "            print(f\"Corrélation entre Valeur Totale et {column}: {result.rvalue**2}\")\n",
    "            print(f\"Valeur p (p-value) pour {column}: {result.pvalue}\")\n",
    "\n",
    "            if result.pvalue < 0.05:\n",
    "                print(f\"La régression est significative au risque de 5% entre la Valeur Totale et {column}.\\n\")\n",
    "                plt.plot(df['Valeur Totale'],  df[column] ,'bx')\n",
    "                plt.ylabel('Valeur Totale')\n",
    "                plt.xlabel(column)\n",
    "                regression_line = result.slope * df[column] + result.intercept\n",
    "                plt.plot(df[column], regression_line, color='red', label='Régression linéaire')\n",
    "                plt.show()\n",
    "                \n",
    "            else:\n",
    "                print(f\"La régression est significative au risque de 5% entre la Valeur Totale et {column}.\\n\")\n",
    "        else:\n",
    "            print(f\"La colonne {column} n'a pas suffisamment de données pour calculer une corrélation.\\n\")\n",
    "\n"
   ]
  },
  {
   "cell_type": "code",
   "execution_count": null,
   "metadata": {},
   "outputs": [],
   "source": []
  },
  {
   "cell_type": "markdown",
   "metadata": {},
   "source": []
  },
  {
   "cell_type": "markdown",
   "metadata": {},
   "source": [
    "4. Faites la régression multiple de la Valeur totale en fonction des autres facteurs (quand c’est possible). Analysez les résultats obtenus.  Appuyez vous sur l'exemple vu en cours pour la méthode à suivre et l'utilisation de bibliothèques."
   ]
  },
  {
   "cell_type": "code",
   "execution_count": null,
   "metadata": {},
   "outputs": [],
   "source": []
  },
  {
   "cell_type": "code",
   "execution_count": null,
   "metadata": {},
   "outputs": [],
   "source": []
  },
  {
   "cell_type": "code",
   "execution_count": null,
   "metadata": {},
   "outputs": [],
   "source": []
  },
  {
   "cell_type": "code",
   "execution_count": null,
   "metadata": {},
   "outputs": [],
   "source": []
  },
  {
   "cell_type": "markdown",
   "metadata": {},
   "source": []
  },
  {
   "cell_type": "code",
   "execution_count": null,
   "metadata": {},
   "outputs": [],
   "source": []
  },
  {
   "cell_type": "code",
   "execution_count": null,
   "metadata": {},
   "outputs": [],
   "source": []
  },
  {
   "cell_type": "markdown",
   "metadata": {},
   "source": []
  }
 ],
 "metadata": {
  "kernelspec": {
   "display_name": "Python 3 (ipykernel)",
   "language": "python",
   "name": "python3"
  },
  "language_info": {
   "codemirror_mode": {
    "name": "ipython",
    "version": 3
   },
   "file_extension": ".py",
   "mimetype": "text/x-python",
   "name": "python",
   "nbconvert_exporter": "python",
   "pygments_lexer": "ipython3",
   "version": "3.11.8"
  }
 },
 "nbformat": 4,
 "nbformat_minor": 2
}
