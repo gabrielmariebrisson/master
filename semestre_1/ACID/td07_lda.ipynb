{
 "cells": [
  {
   "cell_type": "markdown",
   "metadata": {},
   "source": [
    "# Analyse, classification et indexation des données: feuille 8\n",
    "### Réduction de dimension - Analyse linéaire discriminante (LDA)"
   ]
  },
  {
   "cell_type": "markdown",
   "metadata": {},
   "source": [
    "#### Avant de commencer\n",
    "\n",
    "Dans cet exercice, on s'intéresse à l'application de l'analyse linéaire discriminante (LDA) à un corpus de données. Le but est de réduire la dimension tout en conservant une séparation entre les classes. \n",
    "\n",
    "<i>Questions préliminaires : </i> \n",
    "\n",
    "1. Quelle est la différence entre une ACP et une LDA ?\n",
    "\n",
    "2. Quelle est la fonction objective que l'on cherche à minimiser quand on fait une LDA ?"
   ]
  },
  {
   "cell_type": "markdown",
   "metadata": {},
   "source": [
    "    Objectif :\n",
    "        ACP (Analyse en Composantes Principales) : L'objectif principal de l'ACP est de maximiser la variance des données projetées sur les nouvelles dimensions. Elle ne prend pas en compte les étiquettes de classe.\n",
    "        LDA (Analyse Linéaire Discriminante) : L'objectif de la LDA est de maximiser la séparation entre les classes. Elle prend en compte les étiquettes de classe et cherche à minimiser la dispersion intra-classe tout en maximisant la dispersion inter-classe.\n",
    "\n",
    "    Utilisation :\n",
    "        ACP : Utilisée principalement pour la réduction de dimension sans tenir compte des étiquettes de classe. Elle est utile pour explorer la structure interne des données.\n",
    "        LDA : Utilisée dans le contexte de la classification supervisée. Elle est conçue pour maximiser la séparation entre les classes, ce qui en fait une méthode plus adaptée lorsque les étiquettes de classe sont disponibles.\n",
    "        \n",
    "   Fonction objective minimisée dans la LDA :\n",
    "\n",
    "La fonction objectif que l'on cherche à minimiser dans l'Analyse Linéaire Discriminante (LDA) est la \"fonction de coût de Fisher\" ou \"criterion de Fisher\". Elle est également appelée le critère de Rayleigh. La fonction de coût de Fisher est définie comme le rapport de la variance entre les classes à la variance intra-classe.\n",
    "\n",
    "Pour une transformation linéaire y=WTxy = W^T xy=WTx, où yyy est la sortie transformée, WWW est la matrice de transformation, et xxx est l'entrée, la fonction de coût de Fisher J(W)J(W)J(W) est donnée par :\n",
    "\n",
    "J(W)=Var(entre les classes)Var(intra-classe)J(W) = \\frac{{\\text{Var}(\\text{entre les classes})}}{{\\text{Var}(\\text{intra-classe})}}J(W)=Var(intra-classe)Var(entre les classes)​\n",
    "\n",
    "L'objectif est de maximiser cette fonction, ce qui revient à maximiser la séparation entre les classes.    "
   ]
  },
  {
   "cell_type": "markdown",
   "metadata": {},
   "source": [
    "## Exercice 1.\n",
    "\n",
    "Dans cet exercice, on considère le corpus sur la classification des vins. Ce corpus fait partie de l'ensemble des <code>datasets</code> du module <code>sklearn.datasets</code>. Il peut être chargé en invoquant la méthode <code>load_wine()</code>.\n"
   ]
  },
  {
   "cell_type": "markdown",
   "metadata": {},
   "source": [
    "### Préparation des données \n",
    "\n",
    "1. Chargez le corpus, explorez-le. "
   ]
  },
  {
   "cell_type": "code",
   "execution_count": 2,
   "metadata": {},
   "outputs": [],
   "source": [
    "import pandas as pd\n",
    "from sklearn.datasets import load_wine\n",
    "\n",
    "# Charger le corpus sur la classification des vins\n",
    "wine_data = load_wine()"
   ]
  },
  {
   "cell_type": "markdown",
   "metadata": {},
   "source": [
    "2. Créez un <code>DataFrame data</code>  contenant les variables indépendantes et mettez les classes dans une variable dépendante $target$. Quelle est la taille du corpus ? Combien de variables comporte-t-il ?"
   ]
  },
  {
   "cell_type": "code",
   "execution_count": 3,
   "metadata": {},
   "outputs": [],
   "source": [
    "# Créer un DataFrame pour les variables indépendantes\n",
    "data = pd.DataFrame(data=wine_data.data, columns=wine_data.feature_names)"
   ]
  },
  {
   "cell_type": "code",
   "execution_count": 4,
   "metadata": {},
   "outputs": [
    {
     "name": "stdout",
     "output_type": "stream",
     "text": [
      "   alcohol  malic_acid   ash  alcalinity_of_ash  magnesium  total_phenols  \\\n",
      "0    14.23        1.71  2.43               15.6      127.0           2.80   \n",
      "1    13.20        1.78  2.14               11.2      100.0           2.65   \n",
      "2    13.16        2.36  2.67               18.6      101.0           2.80   \n",
      "3    14.37        1.95  2.50               16.8      113.0           3.85   \n",
      "4    13.24        2.59  2.87               21.0      118.0           2.80   \n",
      "\n",
      "   flavanoids  nonflavanoid_phenols  proanthocyanins  color_intensity   hue  \\\n",
      "0        3.06                  0.28             2.29             5.64  1.04   \n",
      "1        2.76                  0.26             1.28             4.38  1.05   \n",
      "2        3.24                  0.30             2.81             5.68  1.03   \n",
      "3        3.49                  0.24             2.18             7.80  0.86   \n",
      "4        2.69                  0.39             1.82             4.32  1.04   \n",
      "\n",
      "   od280/od315_of_diluted_wines  proline  target  \n",
      "0                          3.92   1065.0       0  \n",
      "1                          3.40   1050.0       0  \n",
      "2                          3.17   1185.0       0  \n",
      "3                          3.45   1480.0       0  \n",
      "4                          2.93    735.0       0  \n",
      "Taille du corpus : 178 lignes\n",
      "Nombre de variables : 13\n"
     ]
    }
   ],
   "source": [
    "# Ajouter la variable dépendante (target) au DataFrame\n",
    "data['target'] = wine_data.target\n",
    "\n",
    "# Afficher les premières lignes du DataFrame pour explorer les données\n",
    "print(data.head())\n",
    "\n",
    "# Obtenir la taille du corpus\n",
    "taille_corpus = data.shape[0]\n",
    "print(f\"Taille du corpus : {taille_corpus} lignes\")\n",
    "\n",
    "# Obtenir le nombre de variables dans le corpus\n",
    "nombre_variables = data.shape[1] - 1  # Soustraire 1 pour la variable dépendante\n",
    "print(f\"Nombre de variables : {nombre_variables}\")\n"
   ]
  },
  {
   "cell_type": "markdown",
   "metadata": {},
   "source": [
    "3. En utilisant la fonction <code>concat</code>, constituez un seul corpus <code>dataset</code> contenant et <code>data</code> et <code>target</code>. Faites un mélange des données "
   ]
  },
  {
   "cell_type": "code",
   "execution_count": 5,
   "metadata": {},
   "outputs": [],
   "source": [
    "from sklearn.utils import shuffle\n",
    "\n",
    "# Concaténer data et target en un seul DataFrame\n",
    "dataset = pd.concat([data.iloc[:, :-1], data['target']], axis=1)\n",
    "\n",
    "# Mélanger les données\n",
    "dataset_shuffled = shuffle(dataset, random_state=42)"
   ]
  },
  {
   "cell_type": "code",
   "execution_count": 6,
   "metadata": {},
   "outputs": [
    {
     "name": "stdout",
     "output_type": "stream",
     "text": [
      "     alcohol  malic_acid   ash  alcalinity_of_ash  magnesium  total_phenols  \\\n",
      "19     13.64        3.10  2.56               15.2      116.0           2.70   \n",
      "45     14.21        4.04  2.44               18.9      111.0           2.85   \n",
      "140    12.93        2.81  2.70               21.0       96.0           1.54   \n",
      "30     13.73        1.50  2.70               22.5      101.0           3.00   \n",
      "67     12.37        1.17  1.92               19.6       78.0           2.11   \n",
      "\n",
      "     flavanoids  nonflavanoid_phenols  proanthocyanins  color_intensity   hue  \\\n",
      "19         3.03                  0.17             1.66             5.10  0.96   \n",
      "45         2.65                  0.30             1.25             5.24  0.87   \n",
      "140        0.50                  0.53             0.75             4.60  0.77   \n",
      "30         3.25                  0.29             2.38             5.70  1.19   \n",
      "67         2.00                  0.27             1.04             4.68  1.12   \n",
      "\n",
      "     od280/od315_of_diluted_wines  proline  target  \n",
      "19                           3.36    845.0       0  \n",
      "45                           3.33   1080.0       0  \n",
      "140                          2.31    600.0       2  \n",
      "30                           2.71   1285.0       0  \n",
      "67                           3.48    510.0       1  \n"
     ]
    }
   ],
   "source": [
    "# Afficher les premières lignes du nouveau DataFrame pour vérifier le mélange\n",
    "print(dataset_shuffled.head())"
   ]
  },
  {
   "cell_type": "markdown",
   "metadata": {},
   "source": [
    "#### LDA \"à la main\"\n",
    "\n",
    "Dans un premier temps, nous allons appliquer la méthode d'analyse linéaire discriminante juste sur deux classes. Nous allons donc d'abord ne garder que les vins des classes 1 et 2. Nous allons également ne conserver que deux descripteurs <code>alcohol</code> et <code>color_intensity</code>."
   ]
  },
  {
   "cell_type": "markdown",
   "metadata": {},
   "source": [
    "1. Ecrivez les instructions permettant de faire ce filtrage"
   ]
  },
  {
   "cell_type": "code",
   "execution_count": 15,
   "metadata": {},
   "outputs": [
    {
     "name": "stdout",
     "output_type": "stream",
     "text": [
      "    alcohol  color_intensity  target\n",
      "59    12.37             1.95       1\n",
      "60    12.33             3.27       1\n",
      "61    12.64             5.75       1\n",
      "62    13.67             3.80       1\n",
      "63    12.37             4.45       1\n"
     ]
    }
   ],
   "source": [
    "# Filtrer les données pour ne garder que les classes 1 et 2\n",
    "classes_1_2 = data[data['target'].isin([1, 2])]\n",
    "\n",
    "# Ne conserver que les descripteurs 'alcohol' et 'color_intensity'\n",
    "selected_features = ['alcohol', 'color_intensity', 'target']\n",
    "filtered_data = classes_1_2[selected_features]\n",
    "\n",
    "# Afficher les premières lignes du nouveau DataFrame\n",
    "print(filtered_data.head())\n"
   ]
  },
  {
   "cell_type": "markdown",
   "metadata": {},
   "source": [
    "2. Quelles sont les étapes (théoriques) pour réaliser une LDA ?"
   ]
  },
  {
   "cell_type": "markdown",
   "metadata": {},
   "source": [
    "    Collecte des données : Rassemblez un ensemble de données étiqueté où les classes des échantillons sont connues.\n",
    "\n",
    "    Calcul des moyennes de classe : Pour chaque classe, calculez la moyenne des valeurs de chaque descripteur. Ces moyennes serviront de points de référence pour chaque classe.\n",
    "\n",
    "    Calcul des matrices de dispersion intra-classe et inter-classe :\n",
    "\n",
    "        Matrice de dispersion intra-classe (Within-Class Scatter Matrix) : Calculez la matrice de dispersion intra-classe, qui mesure la dispersion des données à l'intérieur de chaque classe.\n",
    "        SW=∑i=1c∑j=1ni(xij−μi)(xij−μi)TS_W = \\sum_{i=1}^{c} \\sum_{j=1}^{n_i} (x_{ij} - \\mu_i)(x_{ij} - \\mu_i)^TSW​=∑i=1c​∑j=1ni​​(xij​−μi​)(xij​−μi​)T\n",
    "        où ccc est le nombre de classes, nin_ini​ est le nombre d'échantillons dans la classe iii, xijx_{ij}xij​ est l'échantillon jjj de la classe iii, et μi\\mu_iμi​ est la moyenne des échantillons de la classe iii.\n",
    "\n",
    "        Matrice de dispersion inter-classe (Between-Class Scatter Matrix) : Calculez la matrice de dispersion inter-classe, qui mesure la dispersion entre les moyennes de classe.\n",
    "        SB=∑i=1cni(μi−μ)(μi−μ)TS_B = \\sum_{i=1}^{c} n_i (\\mu_i - \\mu)(\\mu_i - \\mu)^TSB​=∑i=1c​ni​(μi​−μ)(μi​−μ)T\n",
    "        où μ\\muμ est la moyenne globale des données.\n",
    "\n",
    "    Calcul des valeurs propres et vecteurs propres : Calculez les valeurs propres et vecteurs propres de la matrice inverse de SWS_WSW​ multipliée par SBS_BSB​, représenté par SW−1SBS_W^{-1}S_BSW−1​SB​. Les vecteurs propres correspondant aux plus grandes valeurs propres sont les vecteurs discriminants linéaires.\n",
    "\n",
    "    Sélection des composantes discriminantes : Sélectionnez les kkk premiers vecteurs propres correspondant aux kkk plus grandes valeurs propres pour former la matrice de transformation WWW, où kkk est le nombre de dimensions souhaité pour le nouvel espace.\n",
    "\n",
    "    Projection des données : Projetez les données originales dans le nouvel espace formé par la matrice WWW. Les données projetées peuvent être utilisées pour la classification ou la visualisation."
   ]
  },
  {
   "cell_type": "markdown",
   "metadata": {},
   "source": []
  },
  {
   "cell_type": "markdown",
   "metadata": {},
   "source": [
    "3. Application numérique : appliquer les étapes de la questions précédente pour réaliser une LDA. Quel est le vecteur directeur du meilleur axe de projection selon la méthode LDA ?"
   ]
  },
  {
   "cell_type": "code",
   "execution_count": 25,
   "metadata": {},
   "outputs": [
    {
     "name": "stdout",
     "output_type": "stream",
     "text": [
      "Vecteur directeur du meilleur axe de projection (coefficients) : [[ 1.14554695]\n",
      " [ 0.68971954]\n",
      " [-0.33535873]\n",
      " [-0.08718228]\n",
      " [ 0.24905979]\n",
      " [ 0.87454112]\n",
      " [ 0.19527056]\n",
      " [-0.37982527]\n",
      " [ 0.16658297]\n",
      " [ 0.2832544 ]\n",
      " [ 0.8928828 ]\n",
      " [ 0.78612821]\n",
      " [-0.01978202]\n",
      " [ 0.01316355]\n",
      " [ 0.37198813]\n",
      " [ 0.87327494]\n",
      " [ 0.79308753]\n",
      " [-0.09377325]\n",
      " [ 1.12664149]\n",
      " [ 0.6431022 ]\n",
      " [ 0.77869622]\n",
      " [ 1.11035949]\n",
      " [ 0.29300615]\n",
      " [ 1.18290233]\n",
      " [-0.17425113]\n",
      " [ 0.98320354]\n",
      " [ 0.77390484]\n",
      " [ 1.058218  ]\n",
      " [ 1.22778081]\n",
      " [ 1.16044129]\n",
      " [ 1.34785597]\n",
      " [ 1.11118336]\n",
      " [ 0.71590514]\n",
      " [ 0.61095014]\n",
      " [ 1.10886359]\n",
      " [ 1.00783251]\n",
      " [ 0.86866577]\n",
      " [ 1.19356907]\n",
      " [ 0.83991744]\n",
      " [ 0.23113005]\n",
      " [ 1.05507436]\n",
      " [ 0.78844798]\n",
      " [ 0.86552213]\n",
      " [ 0.85387967]\n",
      " [ 1.34697136]\n",
      " [ 0.72922571]\n",
      " [ 0.85470354]\n",
      " [ 0.67813782]\n",
      " [ 0.50816307]\n",
      " [ 0.94229258]\n",
      " [ 1.22736888]\n",
      " [ 1.20341194]\n",
      " [ 1.06192543]\n",
      " [ 0.74929301]\n",
      " [ 1.16076212]\n",
      " [ 0.93188593]\n",
      " [ 1.75032322]\n",
      " [ 1.38641679]\n",
      " [ 1.08420425]\n",
      " [ 0.45040633]\n",
      " [ 1.54784522]\n",
      " [ 1.08228319]\n",
      " [ 0.04797335]\n",
      " [ 1.07703236]\n",
      " [ 0.61465757]\n",
      " [ 1.0597139 ]\n",
      " [ 0.98646866]\n",
      " [ 0.40566646]\n",
      " [ 1.02303054]\n",
      " [ 1.08458582]\n",
      " [ 1.05698219]\n",
      " [ 0.15997486]\n",
      " [-0.31495737]\n",
      " [-0.39187966]\n",
      " [-0.09268929]\n",
      " [-0.1708474 ]\n",
      " [-0.80194398]\n",
      " [ 0.51677013]\n",
      " [-0.01823861]\n",
      " [-0.68968238]\n",
      " [-0.12531403]\n",
      " [-0.04997874]\n",
      " [-0.59689002]\n",
      " [-0.21871767]\n",
      " [-0.28044193]\n",
      " [-1.04670347]\n",
      " [ 0.06445079]\n",
      " [-0.57360511]\n",
      " [-1.11741636]\n",
      " [-1.59060973]\n",
      " [-1.83692585]\n",
      " [-1.73398693]\n",
      " [-2.21195456]\n",
      " [-1.02529602]\n",
      " [-2.30424387]\n",
      " [-0.97248251]\n",
      " [-1.33844862]\n",
      " [-2.02991219]\n",
      " [-0.87969015]\n",
      " [-3.67967828]\n",
      " [-2.85480185]\n",
      " [-0.89406432]\n",
      " [-0.84181849]\n",
      " [-0.36636609]\n",
      " [-0.3069616 ]\n",
      " [-2.20803455]\n",
      " [-1.1246965 ]\n",
      " [-2.45796699]\n",
      " [-2.03145169]\n",
      " [-1.79053824]\n",
      " [-1.65433293]\n",
      " [-0.05301413]\n",
      " [-1.88045992]\n",
      " [-2.4174851 ]\n",
      " [-1.50322005]\n",
      " [-1.2240191 ]\n",
      " [-2.20701132]\n",
      " [-1.84048143]\n",
      " [-2.22504931]]\n"
     ]
    }
   ],
   "source": [
    "import numpy as np\n",
    "from sklearn.discriminant_analysis import LinearDiscriminantAnalysis\n",
    "from sklearn.model_selection import train_test_split\n",
    "from sklearn.preprocessing import StandardScaler\n",
    "\n",
    "# Utiliser le même DataFrame pour les features et la target\n",
    "X = filtered_data[['alcohol', 'color_intensity']]\n",
    "y = filtered_data['target']\n",
    "\n",
    "# Standardiser les features (centrer et réduire)\n",
    "scaler = StandardScaler()\n",
    "X_scaled = scaler.fit_transform(X)\n",
    "\n",
    "# Diviser les données en ensembles d'entraînement et de test\n",
    "X_train, X_test, y_train, y_test = train_test_split(X_scaled, y, test_size=0.2, random_state=42)\n",
    "\n",
    "# Appliquer la LDA\n",
    "\n",
    "import numpy as np\n",
    "\n",
    "def lda(X, y, num_components):\n",
    "    # Step 1: Calculate class means\n",
    "    class_means = []\n",
    "    for c in np.unique(y):\n",
    "        class_means.append(np.mean(X[y == c], axis=0))\n",
    "    \n",
    "    # Step 2: Calculate within-class scatter matrix (SW)\n",
    "    num_features = X.shape[1]\n",
    "    SW = np.zeros((num_features, num_features))\n",
    "    for c, mean_vec in zip(np.unique(y), class_means):\n",
    "        class_scatter = np.zeros((num_features, num_features))\n",
    "        for row in X[y == c]:\n",
    "            row, mean_vec = row.reshape(num_features, 1), mean_vec.reshape(num_features, 1)\n",
    "            class_scatter += (row - mean_vec).dot((row - mean_vec).T)\n",
    "        SW += class_scatter\n",
    "    \n",
    "    # Step 3: Calculate between-class scatter matrix (SB)\n",
    "    overall_mean = np.mean(X, axis=0)\n",
    "    SB = np.zeros((num_features, num_features))\n",
    "    for c, mean_vec in zip(np.unique(y), class_means):\n",
    "        n = len(X[y == c])\n",
    "        mean_vec = mean_vec.reshape(num_features, 1)\n",
    "        overall_mean = overall_mean.reshape(num_features, 1)\n",
    "        SB += n * (mean_vec - overall_mean).dot((mean_vec - overall_mean).T)\n",
    "    \n",
    "    # Step 4: Calculate eigenvalues and eigenvectors of SW^-1 * SB\n",
    "    eigvals, eigvecs = np.linalg.eig(np.linalg.inv(SW).dot(SB))\n",
    "    \n",
    "    # Step 5: Select the top k eigenvectors\n",
    "    indices = np.argsort(eigvals)[::-1]\n",
    "    top_k_eigvecs = eigvecs[:, indices[:num_components]]\n",
    "    \n",
    "    # Step 6: Project the data onto the new subspace\n",
    "    X_lda = X.dot(top_k_eigvecs)\n",
    "    \n",
    "    return X_lda\n",
    "\n",
    "# Example usage:\n",
    "# Assuming X is your feature matrix and y is your target vector\n",
    "# num_components is the desired number of dimensions for the new space\n",
    "X_lda_result = lda(X_scaled, y, num_components=1)\n",
    "\n",
    "print(\"Vecteur directeur du meilleur axe de projection (coefficients) :\", X_lda_result)\n"
   ]
  },
  {
   "cell_type": "markdown",
   "metadata": {},
   "source": [
    "3. Visualiser le résultat. Donnez les deux graphiques, avant et après la projection."
   ]
  },
  {
   "cell_type": "code",
   "execution_count": 26,
   "metadata": {},
   "outputs": [],
   "source": [
    "import matplotlib.pyplot as plt"
   ]
  },
  {
   "cell_type": "markdown",
   "metadata": {},
   "source": [
    "##### Avant la projection : "
   ]
  },
  {
   "cell_type": "code",
   "execution_count": 27,
   "metadata": {},
   "outputs": [
    {
     "data": {
      "image/png": "[encoded data removed]",
      "text/plain": [
       "<Figure size 1200x600 with 1 Axes>"
      ]
     },
     "metadata": {},
     "output_type": "display_data"
    }
   ],
   "source": [
    "# Plot before projection\n",
    "plt.figure(figsize=(12, 6))\n",
    "plt.subplot(1, 2, 1)\n",
    "plt.scatter(X_scaled[:, 0], X_scaled[:, 1], c=y, cmap='viridis', edgecolors='k', s=50)\n",
    "plt.title('Before Projection')\n",
    "plt.xlabel('Alcohol (Standardized)')\n",
    "plt.ylabel('Color Intensity (Standardized)')\n",
    "plt.show()"
   ]
  },
  {
   "cell_type": "markdown",
   "metadata": {},
   "source": [
    "#### Après la projection :"
   ]
  },
  {
   "cell_type": "code",
   "execution_count": 31,
   "metadata": {},
   "outputs": [
    {
     "data": {
      "image/png": "[encoded data removed]",
      "text/plain": [
       "<Figure size 800x600 with 1 Axes>"
      ]
     },
     "metadata": {},
     "output_type": "display_data"
    }
   ],
   "source": [
    "# Plot after manual LDA projection\n",
    "plt.figure(figsize=(8, 6))\n",
    "plt.scatter(X_lda_result, np.zeros_like(X_lda_result), c=y, cmap='viridis', edgecolors='k', s=50)\n",
    "plt.title('LDA Projection Result')\n",
    "plt.xlabel('Linear Discriminant 1')\n",
    "plt.yticks([])\n",
    "\n",
    "plt.show()"
   ]
  },
  {
   "cell_type": "markdown",
   "metadata": {},
   "source": [
    "### LDA avec <code>sklearn</code>\n",
    "\n",
    "Réalisez une LDA en utilisant la bibliothèque <code>sklearn.discriminant_analysis</code>. Comparez le résultat avec  la projection que vous avez obtenu dans la section précédente. "
   ]
  },
  {
   "cell_type": "code",
   "execution_count": 32,
   "metadata": {},
   "outputs": [
    {
     "name": "stdout",
     "output_type": "stream",
     "text": [
      "Vecteur directeur du meilleur axe de projection (coefficients) : [[1.14951868 3.08265476]]\n",
      "Vecteur directeur du meilleur axe de projection avec sklearn (coefficients) : [[1.14951868 3.08265476]]\n"
     ]
    },
    {
     "data": {
      "text/plain": [
       "<Figure size 1200x600 with 0 Axes>"
      ]
     },
     "metadata": {},
     "output_type": "display_data"
    }
   ],
   "source": [
    "# Standardize the features\n",
    "scaler = StandardScaler()\n",
    "X_scaled = scaler.fit_transform(X)\n",
    "\n",
    "# Split the data into training and testing sets\n",
    "X_train, X_test, y_train, y_test = train_test_split(X_scaled, y, test_size=0.2, random_state=42)\n",
    "\n",
    "# Apply LDA using sklearn\n",
    "lda_sklearn = LinearDiscriminantAnalysis(n_components=1)\n",
    "X_lda_sklearn = lda_sklearn.fit_transform(X_train, y_train)\n",
    "\n",
    "# Compare the projection vectors obtained previously and with sklearn\n",
    "print(\"Vecteur directeur du meilleur axe de projection (coefficients) :\", best_projection_axis)\n",
    "print(\"Vecteur directeur du meilleur axe de projection avec sklearn (coefficients) :\", lda_sklearn.coef_)\n",
    "\n",
    "# Visualize the results\n",
    "plt.figure(figsize=(12, 6))\n",
    "plt.show()"
   ]
  },
  {
   "cell_type": "code",
   "execution_count": 34,
   "metadata": {},
   "outputs": [
    {
     "data": {
      "image/png": "[encoded data removed]",
      "text/plain": [
       "<Figure size 800x600 with 1 Axes>"
      ]
     },
     "metadata": {},
     "output_type": "display_data"
    }
   ],
   "source": [
    "# Plot after manual LDA projection\n",
    "plt.figure(figsize=(8, 6))\n",
    "plt.scatter(X_lda_result, np.zeros_like(X_lda_result), c=y, cmap='viridis', edgecolors='k', s=50)\n",
    "plt.title('LDA Projection Result')\n",
    "plt.xlabel('Linear Discriminant 1')\n",
    "plt.yticks([])\n",
    "\n",
    "plt.show()"
   ]
  },
  {
   "cell_type": "code",
   "execution_count": 35,
   "metadata": {},
   "outputs": [
    {
     "data": {
      "image/png": "[encoded data removed]",
      "text/plain": [
       "<Figure size 640x480 with 1 Axes>"
      ]
     },
     "metadata": {},
     "output_type": "display_data"
    }
   ],
   "source": [
    "# Plot after sklearn LDA\n",
    "X_lda_sklearn_test = lda_sklearn.transform(X_test)\n",
    "plt.subplot(1, 3, 2)\n",
    "plt.scatter(X_lda_sklearn_test, np.zeros_like(X_lda_sklearn_test), c=y_test, cmap='viridis', edgecolors='k', s=50)\n",
    "plt.title('sklearn LDA Projection')\n",
    "plt.xlabel('Linear Discriminant 1')\n",
    "plt.yticks([])\n",
    "plt.show()"
   ]
  },
  {
   "cell_type": "code",
   "execution_count": null,
   "metadata": {},
   "outputs": [],
   "source": []
  },
  {
   "cell_type": "markdown",
   "metadata": {},
   "source": [
    "### LDA sur tout le corpus \n",
    "\n",
    "Nous allons à présent appliquer la LDA sur tout le corpus. L'objectif est d'observer l'impact de la projection à la fois sur l'efficacité (<code>accuracy</code>) de la classification et sur le temps d'apprentissage. "
   ]
  },
  {
   "cell_type": "markdown",
   "metadata": {},
   "source": [
    "1. Rechargez les données et faites votre LDA."
   ]
  },
  {
   "cell_type": "code",
   "execution_count": 71,
   "metadata": {},
   "outputs": [],
   "source": [
    "import time\n",
    "from sklearn.discriminant_analysis import LinearDiscriminantAnalysis\n",
    "from sklearn.model_selection import train_test_split\n",
    "from sklearn.preprocessing import StandardScaler\n",
    "from sklearn.metrics import accuracy_score\n",
    "\n",
    "import pandas as pd\n",
    "from sklearn.datasets import load_wine\n",
    "\n",
    "# Charger le corpus sur la classification des vins\n",
    "wine_data = load_wine()\n",
    "\n",
    "# Créer un DataFrame pour les variables indépendantes\n",
    "data = pd.DataFrame(data=wine_data.data, columns=wine_data.feature_names)\n",
    "\n",
    "# Ajouter la variable dépendante (target) au DataFrame\n",
    "data['target'] = wine_data.target\n",
    "\n",
    "# Concaténer data et target en un seul DataFrame\n",
    "dataset = pd.concat([data.iloc[:, :-1], data['target']], axis=1)\n",
    "\n",
    "# Mélanger les données\n",
    "dataset_shuffled = shuffle(dataset, random_state=42)\n",
    "\n",
    "# Assurez-vous que le DataFrame complet est utilisé ici\n",
    "X = data.drop('target', axis=1)  # Features\n",
    "y = data['target']  # Target\n",
    "\n",
    "# Diviser les données en ensembles d'entraînement et de test\n",
    "X_train, X_test, y_train, y_test = train_test_split(X, y, test_size=0.2, random_state=42)\n",
    "\n",
    "\n",
    "# Standardiser les features (centrer et réduire)\n",
    "scaler = StandardScaler()\n",
    "X_train_scaled = scaler.fit_transform(X_train)\n",
    "X_test_scaled = scaler.transform(X_test)"
   ]
  },
  {
   "cell_type": "code",
   "execution_count": 72,
   "metadata": {},
   "outputs": [
    {
     "name": "stdout",
     "output_type": "stream",
     "text": [
      "Time taken for LDA training: 0.004656076431274414 seconds\n"
     ]
    }
   ],
   "source": [
    "# Appliquer LDA\n",
    "lda = LinearDiscriminantAnalysis(n_components=None)  # None signifie conserver tous les composants\n",
    "X_lda_train = lda.fit_transform(X_train_scaled, y_train)\n",
    "X_lda_test = lda.transform(X_test_scaled)\n",
    "\n",
    "# Time taken for LDA training\n",
    "print(f\"Time taken for LDA training: {end_time - start_time} seconds\")"
   ]
  },
  {
   "cell_type": "code",
   "execution_count": null,
   "metadata": {},
   "outputs": [],
   "source": []
  },
  {
   "cell_type": "code",
   "execution_count": null,
   "metadata": {},
   "outputs": [],
   "source": []
  },
  {
   "cell_type": "code",
   "execution_count": null,
   "metadata": {},
   "outputs": [],
   "source": []
  },
  {
   "cell_type": "markdown",
   "metadata": {},
   "source": [
    "2. Quel est le ratio de la variance expliqué par les axes obtenus ?"
   ]
  },
  {
   "cell_type": "code",
   "execution_count": 76,
   "metadata": {},
   "outputs": [
    {
     "name": "stdout",
     "output_type": "stream",
     "text": [
      "Explained Variance Ratio for Linear Discriminant 1: 0.7143\n",
      "Explained Variance Ratio for Linear Discriminant 2: 0.2857\n"
     ]
    }
   ],
   "source": [
    "for i, ratio in enumerate(lda.explained_variance_ratio_):\n",
    "    print(f\"Explained Variance Ratio for Linear Discriminant {i + 1}: {ratio:.4f}\")\n"
   ]
  },
  {
   "cell_type": "markdown",
   "metadata": {},
   "source": [
    "3. Visualiser le résultat. "
   ]
  },
  {
   "cell_type": "code",
   "execution_count": 74,
   "metadata": {},
   "outputs": [
    {
     "data": {
      "image/png": "[encoded data removed]",
      "text/plain": [
       "<Figure size 800x600 with 1 Axes>"
      ]
     },
     "metadata": {},
     "output_type": "display_data"
    }
   ],
   "source": [
    "# Tracer le ratio de la variance expliquée\n",
    "plt.figure(figsize=(8, 6))\n",
    "plt.bar(range(1, len(explained_variance_ratio) + 1), explained_variance_ratio, alpha=0.7, align='center')\n",
    "plt.xlabel('Linear Discriminant Axis')\n",
    "plt.ylabel('Explained Variance Ratio')\n",
    "plt.title('Explained Variance Ratio for Each Linear Discriminant Axis')\n",
    "plt.show()"
   ]
  },
  {
   "cell_type": "markdown",
   "metadata": {},
   "source": [
    "### Classification avant/après réduction"
   ]
  },
  {
   "cell_type": "markdown",
   "metadata": {},
   "source": [
    "1. En utilisant un classifieur bayésien MAP, comparez les résultats obtenus avec les échantillons bruts et les résultats obtenus avec les échantillons projetés sur les axes fournis par la LDA. Comparez également les temps d'entraînement."
   ]
  },
  {
   "cell_type": "code",
   "execution_count": 79,
   "metadata": {},
   "outputs": [],
   "source": [
    "from sklearn.naive_bayes import GaussianNB\n",
    "# Entraîner un classifieur bayésien MAP sur les données originales\n",
    "clf_original = GaussianNB()\n",
    "start_time = time.time()\n",
    "clf_original.fit(X_train, y_train)\n",
    "end_time = time.time()\n",
    "y_pred_original = clf_original.predict(X_test)\n",
    "accuracy_original = accuracy_score(y_test, y_pred_original)\n",
    "time_original = end_time - start_time"
   ]
  },
  {
   "cell_type": "code",
   "execution_count": 80,
   "metadata": {},
   "outputs": [],
   "source": [
    "# Entraîner un classifieur bayésien MAP sur les données projetées par LDA\n",
    "clf_lda = GaussianNB()\n",
    "start_time = time.time()\n",
    "clf_lda.fit(X_lda_train, y_train)\n",
    "end_time = time.time()\n",
    "X_lda_test = lda.transform(X_test_scaled)\n",
    "y_pred_lda = clf_lda.predict(X_lda_test)\n",
    "accuracy_lda = accuracy_score(y_test, y_pred_lda)\n",
    "time_lda = end_time - start_time"
   ]
  },
  {
   "cell_type": "code",
   "execution_count": 81,
   "metadata": {},
   "outputs": [
    {
     "name": "stdout",
     "output_type": "stream",
     "text": [
      "Results with original data:\n",
      "Accuracy: 1.0\n",
      "Training Time: 0.004357337951660156 seconds\n",
      "\n"
     ]
    }
   ],
   "source": [
    "print(\"Results with original data:\")\n",
    "print(f\"Accuracy: {accuracy_original}\")\n",
    "print(f\"Training Time: {time_original} seconds\\n\")"
   ]
  },
  {
   "cell_type": "code",
   "execution_count": 83,
   "metadata": {},
   "outputs": [
    {
     "name": "stdout",
     "output_type": "stream",
     "text": [
      "Results with LDA-transformed data:\n",
      "Accuracy: 1.0\n",
      "Training Time: 0.003456592559814453 seconds\n"
     ]
    }
   ],
   "source": [
    "print(\"Results with LDA-transformed data:\")\n",
    "print(f\"Accuracy: {accuracy_lda}\")\n",
    "print(f\"Training Time: {time_lda} seconds\")"
   ]
  },
  {
   "cell_type": "markdown",
   "metadata": {},
   "source": [
    "2. Même question avec un $k$-nn."
   ]
  },
  {
   "cell_type": "code",
   "execution_count": 84,
   "metadata": {},
   "outputs": [],
   "source": [
    "from sklearn.neighbors import KNeighborsClassifier"
   ]
  },
  {
   "cell_type": "code",
   "execution_count": 85,
   "metadata": {},
   "outputs": [
    {
     "name": "stdout",
     "output_type": "stream",
     "text": [
      "Results with original data:\n",
      "Accuracy: 0.7222222222222222\n",
      "Training Time: 0.006851911544799805 seconds\n",
      "\n"
     ]
    }
   ],
   "source": [
    "# Entraîner un classifieur k-NN sur les données originales\n",
    "knn_original = KNeighborsClassifier()\n",
    "start_time = time.time()\n",
    "knn_original.fit(X_train, y_train)\n",
    "end_time = time.time()\n",
    "y_pred_original = knn_original.predict(X_test)\n",
    "accuracy_original = accuracy_score(y_test, y_pred_original)\n",
    "time_original = end_time - start_time\n",
    "\n",
    "print(\"Results with original data:\")\n",
    "print(f\"Accuracy: {accuracy_original}\")\n",
    "print(f\"Training Time: {time_original} seconds\\n\")"
   ]
  },
  {
   "cell_type": "code",
   "execution_count": 86,
   "metadata": {},
   "outputs": [
    {
     "name": "stdout",
     "output_type": "stream",
     "text": [
      "Results with LDA-transformed data:\n",
      "Accuracy: 1.0\n",
      "Training Time: 0.0031554698944091797 seconds\n"
     ]
    }
   ],
   "source": [
    "# Entraîner un classifieur k-NN sur les données projetées par LDA\n",
    "knn_lda = KNeighborsClassifier()\n",
    "start_time = time.time()\n",
    "knn_lda.fit(X_lda_train, y_train)\n",
    "end_time = time.time()\n",
    "X_lda_test = lda.transform(X_test_scaled)\n",
    "y_pred_lda = knn_lda.predict(X_lda_test)\n",
    "accuracy_lda = accuracy_score(y_test, y_pred_lda)\n",
    "time_lda = end_time - start_time\n",
    "\n",
    "print(\"Results with LDA-transformed data:\")\n",
    "print(f\"Accuracy: {accuracy_lda}\")\n",
    "print(f\"Training Time: {time_lda} seconds\")"
   ]
  },
  {
   "cell_type": "markdown",
   "metadata": {},
   "source": [
    "### Exercice 2.\n",
    "\n",
    "Dans cet exercice, nous allons travailler avec le même corpus que le précédent TD : les données sur le cancer du sein. Le corpus peut être chargé par l'instruction <code> load_breast_cancer</code> de la bibliothèque <code>sklearn.datasets</code>.\n",
    "\n",
    "\n"
   ]
  },
  {
   "cell_type": "markdown",
   "metadata": {},
   "source": [
    "Comparer les effets de l'ACP et de la LDA sur la classification de ce corpus."
   ]
  },
  {
   "cell_type": "code",
   "execution_count": null,
   "metadata": {},
   "outputs": [],
   "source": []
  },
  {
   "cell_type": "markdown",
   "metadata": {},
   "source": [
    "1. Faites une ACP en utilisant le module <code>PCA</code> de la bibliothèque <code>sklearn.decomposition</code>.  \n",
    "\n",
    "Attention : pensez à centrer et réduire vos données."
   ]
  },
  {
   "cell_type": "code",
   "execution_count": null,
   "metadata": {},
   "outputs": [],
   "source": []
  },
  {
   "cell_type": "code",
   "execution_count": null,
   "metadata": {},
   "outputs": [],
   "source": []
  },
  {
   "cell_type": "code",
   "execution_count": null,
   "metadata": {},
   "outputs": [],
   "source": []
  },
  {
   "cell_type": "markdown",
   "metadata": {},
   "source": [
    "2. Affichez l'éboulie des valeurs propres et indiquer le nombre d'axes à retenir en utilisant le critère du coude. "
   ]
  },
  {
   "cell_type": "code",
   "execution_count": null,
   "metadata": {},
   "outputs": [],
   "source": []
  },
  {
   "cell_type": "code",
   "execution_count": null,
   "metadata": {},
   "outputs": [],
   "source": []
  },
  {
   "cell_type": "markdown",
   "metadata": {},
   "source": [
    "3. Voyons ce qu'est l'impact de l'ACP"
   ]
  },
  {
   "cell_type": "code",
   "execution_count": null,
   "metadata": {},
   "outputs": [],
   "source": []
  },
  {
   "cell_type": "code",
   "execution_count": null,
   "metadata": {},
   "outputs": [],
   "source": []
  },
  {
   "cell_type": "markdown",
   "metadata": {},
   "source": [
    "4. puis celui de la LDA"
   ]
  },
  {
   "cell_type": "code",
   "execution_count": null,
   "metadata": {},
   "outputs": [],
   "source": []
  }
 ],
 "metadata": {
  "kernelspec": {
   "display_name": "Python 3 (ipykernel)",
   "language": "python",
   "name": "python3"
  },
  "language_info": {
   "codemirror_mode": {
    "name": "ipython",
    "version": 3
   },
   "file_extension": ".py",
   "mimetype": "text/x-python",
   "name": "python",
   "nbconvert_exporter": "python",
   "pygments_lexer": "ipython3",
   "version": "3.11.2"
  }
 },
 "nbformat": 4,
 "nbformat_minor": 2
}
