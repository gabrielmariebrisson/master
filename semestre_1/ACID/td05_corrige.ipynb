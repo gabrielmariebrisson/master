{
 "cells": [
  {
   "cell_type": "markdown",
   "metadata": {},
   "source": [
    "# Analyse, classification et indexation des données: feuille 6\n",
    "### Classifieur bayésien"
   ]
  },
  {
   "cell_type": "markdown",
   "metadata": {},
   "source": [
    "Dans la première partie de ce TD on s’appuie sur l’exemple du cours qui consiste à séparer des poissons en deux classes : bars et saumons. La classification sera faite à partir d’une seule caractéristique (la longueur) dans un premier temps, puis à partir de deux caractéristiques (longueur et brillance). En d’autres termes, le descripteur sera d’abord de dimension 1 puis de dimension 2."
   ]
  },
  {
   "cell_type": "markdown",
   "metadata": {},
   "source": [
    "#### Données\n",
    "Dans cet exercice, nous allons travailler avec un fichier (<code>salmon_seabass.csv</code>) contenant des informations sur la longueur et la brillance de deux classes de poissons : les saumons et les bars.\n",
    "Le fichier est disponible à l'adresse : \n",
    "\n",
    "https://www.labri.fr/perso/zemmari/datasets/salmon_seabass.csv\n",
    "\n",
    "1- Chargez le fichier, et notez que la colonne <code>species</code> indique la catégorie du poisson : \n",
    "\n",
    "    - 0 : il s'agit d'un saumon \n",
    "    - 1 : il s'agit d'un bar\n"
   ]
  },
  {
   "cell_type": "code",
   "execution_count": null,
   "metadata": {},
   "outputs": [],
   "source": [
    "import pandas as pa"
   ]
  },
  {
   "cell_type": "code",
   "execution_count": null,
   "metadata": {},
   "outputs": [],
   "source": [
    "### CORRECTION\n",
    "data = pa.read_csv('https://www.labri.fr/perso/zemmari/datasets/salmon_seabass.csv', delimiter=';', decimal='.')\n",
    "data.head()"
   ]
  },
  {
   "cell_type": "code",
   "execution_count": null,
   "metadata": {},
   "outputs": [],
   "source": [
    "### CORRECTION\n",
    "print(data.species.unique())\n",
    "# idem à data[\"species\"].unique()"
   ]
  },
  {
   "cell_type": "markdown",
   "metadata": {},
   "source": [
    "2- Affichez le nombre de valeurs fournies pour chacune des deux classes. On les nommera <code>sizeVTSaumon</code>\n",
    "et <code>sizeVTBar</code>. "
   ]
  },
  {
   "cell_type": "code",
   "execution_count": null,
   "metadata": {},
   "outputs": [],
   "source": [
    "### CORRECTION\n",
    "sizeVTSaumon = len(data[data.species==0]) # ou data[data.species==0].shape[0]\n",
    "sizeVTBar  = len(data[data.species==1])\n",
    "print(sizeVTSaumon)\n",
    "print(sizeVTBar)"
   ]
  },
  {
   "cell_type": "markdown",
   "metadata": {},
   "source": [
    "### Exercice 1. classifieur avec une seule dimension\n",
    "\n",
    "### 1.0 Préalable\n",
    "Dans un premier temps, nous allons considérer un seul descripteur : la longueur <code>width</code> des poissons. "
   ]
  },
  {
   "cell_type": "markdown",
   "metadata": {},
   "source": [
    "a- Mélanger les données."
   ]
  },
  {
   "cell_type": "code",
   "execution_count": null,
   "metadata": {},
   "outputs": [],
   "source": [
    "### CORRECTION\n",
    "data = data.sample(frac=1)\n",
    "data.head()"
   ]
  },
  {
   "cell_type": "markdown",
   "metadata": {},
   "source": [
    "b- Créer deux variables $X$ et $y$ respectivement la longueur du poisson et son espèce"
   ]
  },
  {
   "cell_type": "code",
   "execution_count": null,
   "metadata": {},
   "outputs": [],
   "source": [
    "import matplotlib.pyplot as plt\n",
    "%matplotlib inline"
   ]
  },
  {
   "cell_type": "code",
   "execution_count": null,
   "metadata": {},
   "outputs": [],
   "source": [
    "### CORRECTION\n",
    "X = data.width\n",
    "y = data.species"
   ]
  },
  {
   "cell_type": "markdown",
   "metadata": {},
   "source": [
    "c-  Découper les données en deux parties : 80% pour l'entrainement et 20% pour le test."
   ]
  },
  {
   "cell_type": "code",
   "execution_count": null,
   "metadata": {},
   "outputs": [],
   "source": [
    "from sklearn.model_selection import train_test_split"
   ]
  },
  {
   "cell_type": "code",
   "execution_count": null,
   "metadata": {},
   "outputs": [],
   "source": [
    "### CORRECTION\n",
    "X_train, X_test, y_train , y_test = train_test_split(X, y, test_size=.2)"
   ]
  },
  {
   "cell_type": "markdown",
   "metadata": {},
   "source": [
    "#### 1.1. Classifieur ML\n",
    "\n",
    "a- Calculer les estimateurs non biaisés de la moyenne et de l'écart type pour chacune des espèces de poisson. Attention, il faut travailler sur la portion d'entraînement du dataset.  \n"
   ]
  },
  {
   "cell_type": "code",
   "execution_count": null,
   "metadata": {},
   "outputs": [],
   "source": [
    "import numpy as np"
   ]
  },
  {
   "cell_type": "code",
   "execution_count": null,
   "metadata": {},
   "outputs": [],
   "source": [
    "### CORRECTION\n",
    "X_saumon = X_train[y_train==0]\n",
    "X_bar = X_train[y_train==1]\n",
    "\n",
    "mean_s = np.mean(X_saumon)\n",
    "mean_b = np.mean(X_bar)\n",
    "\n",
    "sigma_s = np.std(X_saumon)\n",
    "sigma_b = np.std(X_bar)"
   ]
  },
  {
   "cell_type": "markdown",
   "metadata": {},
   "source": [
    "b- Dessiner les courbes des lois normales correspondant à la fonction de maximum de vraisemblance. Indiquer la frontière de décision. Quelle est l'espèce prédite d'un poisson de longueur 12 ?"
   ]
  },
  {
   "cell_type": "code",
   "execution_count": null,
   "metadata": {},
   "outputs": [],
   "source": [
    "import scipy.stats"
   ]
  },
  {
   "cell_type": "code",
   "execution_count": null,
   "metadata": {},
   "outputs": [],
   "source": [
    "### CORRECTION\n",
    "x_min, x_max = 0, 20\n",
    "x = np.linspace(x_min, x_max, 100)\n",
    "\n",
    "y_s = scipy.stats.norm.pdf(x,mean_s,sigma_s)\n",
    "y_b = scipy.stats.norm.pdf(x,mean_b,sigma_b)\n",
    "\n",
    "plt.plot(x,y_s, color='r', label='saumon')\n",
    "plt.plot(x,y_b, color='g', label='bar')\n",
    "\n",
    "\n",
    "plt.title('f(l | classe)',fontsize=10)\n",
    "\n",
    "plt.xlabel('length')\n",
    "plt.legend(loc='upper right')\n",
    "plt.grid()\n",
    "plt.show()\n"
   ]
  },
  {
   "cell_type": "markdown",
   "metadata": {},
   "source": [
    "### CORRECTION\n",
    "La frontière de décision est située à ~10. \n",
    "\n",
    "$$f(l=12 \\mid saumon) < f(l=12 \\mid bar)$$\n",
    "\n",
    "$\\Rightarrow$ le poisson est un bar."
   ]
  },
  {
   "cell_type": "markdown",
   "metadata": {},
   "source": [
    "c- Evaluer la qualité du modèle entrainé."
   ]
  },
  {
   "cell_type": "code",
   "execution_count": null,
   "metadata": {},
   "outputs": [],
   "source": [
    "from sklearn.metrics import confusion_matrix, accuracy_score"
   ]
  },
  {
   "cell_type": "code",
   "execution_count": null,
   "metadata": {},
   "outputs": [],
   "source": [
    "### CORRECTION\n",
    "X_test = list(X_test)"
   ]
  },
  {
   "cell_type": "code",
   "execution_count": null,
   "metadata": {},
   "outputs": [],
   "source": [
    "### CORRECTION\n",
    "y_pred = []\n",
    "for i in range(len(X_test)):\n",
    "    if scipy.stats.norm.pdf(X_test[i],mean_s,sigma_s) > scipy.stats.norm.pdf(X_test[i],mean_b,sigma_b):\n",
    "        y_pred.append(0)\n",
    "    else:\n",
    "        y_pred.append(1)\n",
    "\n",
    "cm = confusion_matrix(y_test, y_pred)\n",
    "print(cm)\n",
    "\n",
    "acc = accuracy_score(y_test, y_pred)\n",
    "print('{:.2%}'.format(acc))"
   ]
  },
  {
   "cell_type": "markdown",
   "metadata": {},
   "source": [
    "#### 1.2. Classifieur MAP\n",
    "\n",
    "a- Ecrire une fonction <code>classify()</code> permettant également de classifier les poissons mais en utilisant cette fois un classifieur a posteriori."
   ]
  },
  {
   "cell_type": "code",
   "execution_count": null,
   "metadata": {},
   "outputs": [],
   "source": [
    "### CORRECTION\n",
    "def classify(item): \n",
    "    #Probabilités apriori:\n",
    "    p_saumon = len(X_saumon)/len(X_train)\n",
    "    p_bar = len(X_bar)/len(X_train)\n",
    "    #print(p_saumon) # environ 2/3\n",
    "    #print(p_bar) # environ 1/3\n",
    "    ps = p_saumon * scipy.stats.norm.pdf(item,mean_s,sigma_s)\n",
    "    pb = p_bar * scipy.stats.norm.pdf(item,mean_b,sigma_b)\n",
    "    if ps > pb:\n",
    "        return 0\n",
    "    return 1\n",
    "\n",
    "print(\"classe prédite pour item 0 : \", classify(X_test[0]))"
   ]
  },
  {
   "cell_type": "markdown",
   "metadata": {},
   "source": [
    "b- Evaluer ce classifieur "
   ]
  },
  {
   "cell_type": "code",
   "execution_count": null,
   "metadata": {},
   "outputs": [],
   "source": [
    "### CORRECTION\n",
    "y_pred = [classify(X_test[i]) for i in range(len(X_test))]\n",
    "\n",
    "cm = confusion_matrix(y_test, y_pred)\n",
    "print(cm)\n",
    "\n",
    "acc = accuracy_score(y_test, y_pred)\n",
    "print('{:.2%}'.format(acc))"
   ]
  },
  {
   "cell_type": "markdown",
   "metadata": {},
   "source": [
    "### CORRECTION\n",
    "On classifie plus facilement un poisson dans la classe la plus représentée (saumon), donc on fait moins d'erreur sur les saumons. Par contre on va plus souvent classifier un bar comme saumon.\n"
   ]
  },
  {
   "cell_type": "markdown",
   "metadata": {},
   "source": [
    "### Exercice 2. Classifieur avec deux descripteurs "
   ]
  },
  {
   "cell_type": "markdown",
   "metadata": {},
   "source": [
    "Dans cet exercice, nous allons considérer le dataset dans sa globalité. Nous allons donc baser notre classification sur les deux descripteurs <code>width</code> et <code>lightness</code>.\n",
    "\n",
    "Reprogrammer et tester les deux classifieurs vus dans l'exercice 1. Quel est l'impact du rajout du nouveau descripteur ?"
   ]
  },
  {
   "cell_type": "code",
   "execution_count": null,
   "metadata": {},
   "outputs": [],
   "source": [
    "### CORRECTION\n",
    "data = pa.read_csv('https://www.labri.fr/perso/zemmari/datasets/salmon_seabass.csv', delimiter=';', decimal='.')\n",
    "\n",
    "X = data[['width', 'lightness']]\n",
    "y = data.species\n",
    "\n",
    "X_train, X_test, y_train , y_test = train_test_split(X, y, test_size=.2)\n",
    "\n",
    "X_saumon = X_train[y_train==0]\n",
    "X_bar = X_train[y_train==1]\n",
    "\n",
    "mean_s = np.mean(X_saumon, axis=0)\n",
    "mean_b = np.mean(X_bar, axis=0)\n",
    "\n",
    "sigma_s = np.std(X_saumon)\n",
    "sigma_b = np.std(X_bar)\n",
    "print(\"mean_s : \\n\", mean_s)\n",
    "print(\"sigma_s : \\n\", sigma_s)\n"
   ]
  },
  {
   "cell_type": "code",
   "execution_count": null,
   "metadata": {},
   "outputs": [],
   "source": [
    "### CORRECTION\n",
    "#Classifieur ML :\n",
    "def ml_classify(item):\n",
    "    #print(item)\n",
    "    f_s = scipy.stats.norm.pdf(item[0],mean_s[0],sigma_s[0]) * scipy.stats.norm.pdf(item[0],mean_s[1],sigma_s[1])\n",
    "    f_b = scipy.stats.norm.pdf(item[1],mean_b[0],sigma_b[0]) * scipy.stats.norm.pdf(item[1],mean_b[1],sigma_b[1])\n",
    "    if f_s > f_b:\n",
    "        return 0\n",
    "    return 1"
   ]
  },
  {
   "cell_type": "code",
   "execution_count": null,
   "metadata": {},
   "outputs": [],
   "source": [
    "### CORRECTION\n",
    "X_test = np.array(X_test)\n",
    "ml_classify(X_test[0])"
   ]
  },
  {
   "cell_type": "code",
   "execution_count": null,
   "metadata": {},
   "outputs": [],
   "source": [
    "### CORRECTION\n",
    "y_pred = [ml_classify(X_test[i]) for i in range(len(X_test))]\n",
    "\n",
    "cm = confusion_matrix(y_test, y_pred)\n",
    "print(cm)\n",
    "\n",
    "acc = accuracy_score(y_test, y_pred)\n",
    "print('{:.2%}'.format(acc))"
   ]
  },
  {
   "cell_type": "code",
   "execution_count": null,
   "metadata": {},
   "outputs": [],
   "source": [
    "### CORRECTION\n",
    "#Classifieur MAP :\n",
    "def map_classify(item):\n",
    "    #print(item)\n",
    "    #Probabilités apriori:\n",
    "    p_saumon = len(X_saumon)/len(X_train)\n",
    "    p_bar = len(X_bar)/len(X_train)\n",
    "    f_s = scipy.stats.norm.pdf(item[0],mean_s[0],sigma_s[0]) * scipy.stats.norm.pdf(item[0],mean_s[1],sigma_s[1])\n",
    "    f_b = scipy.stats.norm.pdf(item[1],mean_b[0],sigma_b[0]) * scipy.stats.norm.pdf(item[1],mean_b[1],sigma_b[1])\n",
    "    ps = p_saumon * f_s\n",
    "    pb = p_bar * f_b\n",
    "    if ps > pb:\n",
    "        return 0\n",
    "    return 1"
   ]
  },
  {
   "cell_type": "code",
   "execution_count": null,
   "metadata": {},
   "outputs": [],
   "source": [
    "### CORRECTION\n",
    "y_pred = [map_classify(X_test[i]) for i in range(len(X_test))]\n",
    "\n",
    "cm = confusion_matrix(y_test, y_pred)\n",
    "print(cm)\n",
    "\n",
    "acc = accuracy_score(y_test, y_pred)\n",
    "print('{:.2%}'.format(acc))"
   ]
  },
  {
   "cell_type": "markdown",
   "metadata": {},
   "source": [
    "### Exercice 3. Bayes avec <code>sklearn</code>"
   ]
  },
  {
   "cell_type": "markdown",
   "metadata": {},
   "source": [
    "Comparer vos résultats avec ceux obtenus avec un classifieur de Bayes de la bibliothèque <code>sklearn</code>."
   ]
  },
  {
   "cell_type": "code",
   "execution_count": null,
   "metadata": {},
   "outputs": [],
   "source": [
    "### CORRECTION\n",
    "data = pa.read_csv('https://www.labri.fr/perso/zemmari/datasets/salmon_seabass.csv', delimiter=';', decimal='.')\n",
    "\n",
    "X = data[['width', 'lightness']]\n",
    "y = data.species\n",
    "\n",
    "X_train, X_test, y_train , y_test = train_test_split(X, y, test_size=.2)\n"
   ]
  },
  {
   "cell_type": "code",
   "execution_count": null,
   "metadata": {},
   "outputs": [],
   "source": [
    "from sklearn.naive_bayes import GaussianNB"
   ]
  },
  {
   "cell_type": "code",
   "execution_count": null,
   "metadata": {},
   "outputs": [],
   "source": [
    "### CORRECTION\n",
    "nb = GaussianNB()\n",
    "nb.fit(X_train, y_train)"
   ]
  },
  {
   "cell_type": "code",
   "execution_count": null,
   "metadata": {},
   "outputs": [],
   "source": [
    "### CORRECTION\n",
    "y_pred = nb.predict(X_test)\n",
    "\n",
    "cm = confusion_matrix(y_test, y_pred)\n",
    "print(cm)\n",
    "\n",
    "acc = accuracy_score(y_test, y_pred)\n",
    "print('{:.2%}'.format(acc))"
   ]
  },
  {
   "cell_type": "code",
   "execution_count": null,
   "metadata": {},
   "outputs": [],
   "source": [
    "### CORRECTION\n",
    "nb.get_params()\n"
   ]
  }
 ],
 "metadata": {
  "kernelspec": {
   "display_name": "Python 3 (ipykernel)",
   "language": "python",
   "name": "python3"
  },
  "language_info": {
   "codemirror_mode": {
    "name": "ipython",
    "version": 3
   },
   "file_extension": ".py",
   "mimetype": "text/x-python",
   "name": "python",
   "nbconvert_exporter": "python",
   "pygments_lexer": "ipython3",
   "version": "3.11.0"
  },
  "vscode": {
   "interpreter": {
    "hash": "fd69f43f58546b570e94fd7eba7b65e6bcc7a5bbc4eab0408017d18902915d69"
   }
  }
 },
 "nbformat": 4,
 "nbformat_minor": 2
}
