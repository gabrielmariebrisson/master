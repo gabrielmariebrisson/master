{
 "cells": [
  {
   "cell_type": "markdown",
   "metadata": {},
   "source": [
    "## Université de Bordeaux,  Master Mention Informatique\n",
    "\n",
    "## Intelligence Artificielle\n",
    "\n",
    "### Deep Learning, feuille 1"
   ]
  },
  {
   "cell_type": "markdown",
   "metadata": {},
   "source": [
    "### Présentation\n",
    "\n",
    "Le but de ce premier TD est de vous familiariser avec les réseaux de neurones et leur entraînement. Nous allons passer en revue les éléments de base suivant :\n",
    "\n",
    " - données d'apprentissage, \n",
    " \n",
    " - fonction de perte (loss function)\n",
    " \n",
    " - descente de gradient\n",
    " \n",
    " Pour cela, nous allons utiliser un réseau de neurone (composé d'un seul neurone en fait) pour deux tâches : \n",
    " \n",
    "  - une régression linéaire simple\n",
    "  \n",
    "  - une régression logistique."
   ]
  },
  {
   "cell_type": "markdown",
   "metadata": {},
   "source": [
    "Commençons par importer quelques unes des bibliothèques usuelles :"
   ]
  },
  {
   "cell_type": "code",
   "execution_count": 228,
   "metadata": {},
   "outputs": [],
   "source": [
    "import numpy as np\n",
    "import random as rd\n",
    "import matplotlib.pyplot as plt\n",
    "%matplotlib inline\n",
    "\n",
    "import warnings\n",
    "warnings.simplefilter('ignore')"
   ]
  },
  {
   "cell_type": "markdown",
   "metadata": {},
   "source": [
    "### On génère les données \n",
    "\n",
    "Afin de réaliser une régression linéaire simple, nous allongs générer un nuage de points. Exécutez le code de la cellule suivante :"
   ]
  },
  {
   "cell_type": "code",
   "execution_count": 239,
   "metadata": {},
   "outputs": [
    {
     "data": {
      "text/plain": [
       "<matplotlib.collections.PathCollection at 0x7f170f90cd50>"
      ]
     },
     "execution_count": 239,
     "metadata": {},
     "output_type": "execute_result"
    },
    {
     "data": {
      "image/png": "[encoded data removed]",
      "text/plain": [
       "<Figure size 640x480 with 1 Axes>"
      ]
     },
     "metadata": {},
     "output_type": "display_data"
    }
   ],
   "source": [
    "#Data: \n",
    "def generate(m, sizeNoise, slope, intersect):    \n",
    "    x = [rd.random()*50 + 5 for i in range(m)]\n",
    "    noise = [rd.random() * sizeNoise for i in range(m)]#np.rand(m,1) * sizeNoise\n",
    "    y = [intersect + slope*x[i] + noise[i] for i in range(m)] \n",
    "    return np.array([x]), np.array([y])\n",
    "\n",
    "m = 100\n",
    "sizeNoise = 10\n",
    "a = 0.8\n",
    "b =  20\n",
    "    \n",
    "X, Y = generate(m, sizeNoise, a, b)\n",
    "plt.grid()\n",
    "plt.scatter(X, Y)"
   ]
  },
  {
   "cell_type": "markdown",
   "metadata": {},
   "source": [
    "### Exercice 1. Un neurone :\n",
    "\n",
    "Comme vu en cours, un neurone formel est représenté comme suit : \n",
    "\n",
    "![Un neurone formel (Mc Culloch & Pitts (1943))](img/formal_neuron_s.png)\n",
    "\n",
    "1. Nommez chacun des élements du neurone.\n",
    "\n",
    "2. Ecrivez une fonction <code>neuron(x, w, b, f)</code> permettant d'implémenter ce neurone"
   ]
  },
  {
   "cell_type": "code",
   "execution_count": 240,
   "metadata": {},
   "outputs": [],
   "source": [
    "def neuron(x, w, b, f):\n",
    "    weighted_sum = np.dot(w, x) + b\n",
    "    output = f(weighted_sum)\n",
    "    return output"
   ]
  },
  {
   "cell_type": "markdown",
   "metadata": {},
   "source": [
    "Dans un réseau de neurones, il y a différentes couches (\"layers\") : une couche d'entrée où l'on passe les paramètres d'entrée, la couche de sortie qui affiche le résultat, et les couches cachées qui effectuent des opérations sur les données. Chaque couche est composée de nœuds qui ont un poids (\"weight\"). Les différentes couches sont connectées de telle sorte que chaque neurone de la couche n-1 est relié à chaque neurone de la couche n. Chaque neurone possède également un biais.\n",
    "le neurones s'active en fonction de la fonction d'activation, l'erreur entre le label et le le poid du neurone et calculer par une fonction cout."
   ]
  },
  {
   "cell_type": "markdown",
   "metadata": {},
   "source": [
    "3. Définissez deux fonctions <code>id</code> et <code>sigmoid</code> définies par :\n",
    "$$\n",
    "id(z) = z \\mbox{ et } sigmoid(z) = \\frac{1}{1+ e^{-z}}.\n",
    "$$"
   ]
  },
  {
   "cell_type": "code",
   "execution_count": 241,
   "metadata": {},
   "outputs": [],
   "source": [
    "import numpy as np\n",
    "\n",
    "def sigmoid(x):\n",
    "    return 1 / (1 + e**-x)\n",
    "def id(x):\n",
    "    return x\n"
   ]
  },
  {
   "cell_type": "markdown",
   "metadata": {},
   "source": [
    "4. Testez vos fonctions. L'exécution de la cellule suivante devrait donner le résultat affiché."
   ]
  },
  {
   "cell_type": "code",
   "execution_count": 242,
   "metadata": {
    "scrolled": true
   },
   "outputs": [
    {
     "name": "stdout",
     "output_type": "stream",
     "text": [
      "x:  [[1 2 3]]\n",
      "y_hat:  [2 3 4]\n"
     ]
    }
   ],
   "source": [
    "x = np.array([[1, 2, 3]])\n",
    "y = np.array([1, 0, 1])\n",
    "\n",
    "w = np.array([1])\n",
    "b = [1]\n",
    "y_hat = neuron(x, w, b, id)\n",
    "print('x: ', x)\n",
    "print('y_hat: ', y_hat)"
   ]
  },
  {
   "cell_type": "markdown",
   "metadata": {},
   "source": [
    "### Exercice 2. Régression linéaire : \n",
    "\n",
    "Dans cet exercice, nous allons entraîner un neurone pour réaliser une régression linéaire simple. \n",
    "\n",
    "1. Dessiner le neurone qui sera utilisé. Identifiez bien les paramètres à trouver."
   ]
  },
  {
   "cell_type": "markdown",
   "metadata": {},
   "source": [
    "Il suffit de prendre $p=1$ et $f=id$ dans le neurone formel de la figure ci-dessus. \n",
    "\n",
    "Les paramètres à trouver sont $w$ et $b$. Ils correspondent respectivement à $\\beta_1$ et $\\beta_0$ dans l'expression de la régression linéaire simple (voir votre cours de ACID). "
   ]
  },
  {
   "cell_type": "markdown",
   "metadata": {},
   "source": [
    "1. Ecrivez le code de la fonction <code>loss(y, y_hat)</code> définie comme la moyenne des carrés des écarts : \n",
    "\n",
    "$$\n",
    "loss\\left(y, \\hat{y}\\right) = \\frac 1 {n} \\sum_{i=1}^n \\left(\\hat{y_i} - y_i)\\right)^2. \n",
    "$$"
   ]
  },
  {
   "cell_type": "code",
   "execution_count": 243,
   "metadata": {},
   "outputs": [],
   "source": [
    "def loss(y, y_hat):\n",
    "    return np.mean((y_hat - y)**2)\n"
   ]
  },
  {
   "cell_type": "markdown",
   "metadata": {},
   "source": [
    "2. Calculez le gradient de la fonction ${\\cal L} = loss$ par rapport aux deux variables $w$ et $b$."
   ]
  },
  {
   "cell_type": "code",
   "execution_count": 244,
   "metadata": {},
   "outputs": [
    {
     "name": "stdout",
     "output_type": "stream",
     "text": [
      "6.333333333333333\n"
     ]
    }
   ],
   "source": [
    "print(loss(y,y_hat))"
   ]
  },
  {
   "cell_type": "markdown",
   "metadata": {},
   "source": [
    "3. Ecrivez la focntion <code>gradient(x, y_hat, y)</code> retournant le gradient de la fonction $\\cal L$."
   ]
  },
  {
   "cell_type": "code",
   "execution_count": 245,
   "metadata": {},
   "outputs": [],
   "source": [
    "def gradient(x, y_hat, y):\n",
    "    return np.mean(x*(y_hat - y)), np.mean(y_hat - y)\n"
   ]
  },
  {
   "cell_type": "markdown",
   "metadata": {},
   "source": [
    "4. Ecrivez une fonction <code>train(x, y, nu, epochs)</code> qui réalise une déscente du gradient de la fonction $\\cal L$ afin de trouver les paramètres $w$ et $b$ minimisant la valeur de $\\cal L$. "
   ]
  },
  {
   "cell_type": "code",
   "execution_count": 246,
   "metadata": {},
   "outputs": [],
   "source": [
    "def train(x, y, nu, epochs, w, b):\n",
    "    for i in range (epochs) :\n",
    "        y_hat = neuron(x,w,b,id)\n",
    "        l = loss(y, y_hat)\n",
    "        dw, db = gradient(x, y_hat, y)\n",
    "        w = w - nu* dw\n",
    "        b = b - nu* db\n",
    "        if( i % 1000 == 0):\n",
    "            print(\"i : ,loss:\",i,l)\n",
    "    return w,b"
   ]
  },
  {
   "cell_type": "markdown",
   "metadata": {},
   "source": [
    "5. Entraînez votre neurone. Prenez $0.001$ comme valeur pour le pas d'apprentissage, et 10000 pour le nombre d'epochs."
   ]
  },
  {
   "cell_type": "code",
   "execution_count": 247,
   "metadata": {
    "scrolled": true
   },
   "outputs": [
    {
     "name": "stdout",
     "output_type": "stream",
     "text": [
      "i : ,loss: 0 318.33285527972976\n",
      "i : ,loss: 1000 81.49435010022098\n",
      "i : ,loss: 2000 59.68950324924509\n",
      "i : ,loss: 3000 44.410857919160556\n",
      "i : ,loss: 4000 33.70511874484164\n",
      "i : ,loss: 5000 26.2036126366485\n",
      "i : ,loss: 6000 20.947311042243104\n",
      "i : ,loss: 7000 17.264223132580344\n",
      "i : ,loss: 8000 14.683485268386569\n",
      "i : ,loss: 9000 12.875163532103684\n"
     ]
    }
   ],
   "source": [
    "import numpy as np\n",
    "\n",
    "# Paramètres d'entraînement\n",
    "learning_rate = 0.001\n",
    "num_epochs = 10000\n",
    "# Entraînement du neurone\n",
    "trained_w, trained_b = train(X,Y,learning_rate,num_epochs,w,b)"
   ]
  },
  {
   "cell_type": "markdown",
   "metadata": {},
   "source": [
    "6. Donnez l'équation de la droite de régression obtenue. Ecrivez l'instruction permettant de calculer les valeurs prédites."
   ]
  },
  {
   "cell_type": "code",
   "execution_count": 248,
   "metadata": {},
   "outputs": [
    {
     "name": "stdout",
     "output_type": "stream",
     "text": [
      "Équation de la droite de régression: y = 0.8909106755869649 * x + 21.099809490819542\n"
     ]
    }
   ],
   "source": [
    "# Équation de la droite de régression\n",
    "equation = f'y = {trained_w[0]} * x + {trained_b[0]}'\n",
    "print('Équation de la droite de régression:', equation)\n",
    "y_pred = trained_w * X + trained_b"
   ]
  },
  {
   "cell_type": "markdown",
   "metadata": {},
   "source": [
    "7. Dessinez la droite de régression sur la même figure que le nuage de point."
   ]
  },
  {
   "cell_type": "code",
   "execution_count": 249,
   "metadata": {},
   "outputs": [
    {
     "data": {
      "image/png": "[encoded data removed]",
      "text/plain": [
       "<Figure size 640x480 with 1 Axes>"
      ]
     },
     "metadata": {},
     "output_type": "display_data"
    }
   ],
   "source": [
    "plt.scatter(X, Y, label='Données')  # Nuage de points\n",
    "plt.plot(X, y_pred, color='red')  # Régression linéaire avec l'implémentation du neurone\n",
    "plt.xlabel('X')\n",
    "plt.ylabel('y')\n",
    "plt.legend()\n",
    "plt.show()"
   ]
  },
  {
   "cell_type": "markdown",
   "metadata": {},
   "source": [
    "8. Comparez le résultat obtenu avec la droite donnée par <code>linregress</code> du sous module <code>stats</code> du module <code>scipy</code>."
   ]
  },
  {
   "cell_type": "code",
   "execution_count": 226,
   "metadata": {},
   "outputs": [],
   "source": [
    "from scipy.stats import linregress"
   ]
  },
  {
   "cell_type": "code",
   "execution_count": 227,
   "metadata": {},
   "outputs": [
    {
     "name": "stdout",
     "output_type": "stream",
     "text": [
      "Équation de la droite de régression (scipy): y = 0.79x + 25.53\n"
     ]
    }
   ],
   "source": [
    "slope, intercept, r_value, p_value, std_err = linregress(X.flatten(), Y.flatten())\n",
    "\n",
    "equation_droite_scipy = f'y = {slope:.2f}x + {intercept:.2f}'\n",
    "print(\"Équation de la droite de régression (scipy):\", equation_droite_scipy)"
   ]
  },
  {
   "cell_type": "markdown",
   "metadata": {},
   "source": [
    "### Exercice 3. Régression logistique :\n",
    "\n",
    "Dans cet exercice, nous allons transformer le neurone afin de l'utiliser pour réaliser une classification. Nous allons nous limiter à une classification bianire : les élements appartiennent soit à une classe 0 soit à une classe 1.  "
   ]
  },
  {
   "cell_type": "markdown",
   "metadata": {},
   "source": [
    "1. Comment devons-nous appeler la \"fonction\" <code>neuron</code> pour que le fonction d'activation soit la sigmoid ?"
   ]
  },
  {
   "cell_type": "code",
   "execution_count": 68,
   "metadata": {},
   "outputs": [
    {
     "name": "stdout",
     "output_type": "stream",
     "text": [
      "x:  [[1 2 3]]\n",
      "y_hat:  [0.88079708 0.95257413 0.98201379]\n"
     ]
    }
   ],
   "source": [
    "def sigmoid(x):\n",
    "    return 1 / (1 + e**-x)"
   ]
  },
  {
   "cell_type": "markdown",
   "metadata": {},
   "source": [
    "2. Exécutez la cellule suivante pour générer les données, les découper en deux parties train et test, etc. Observez le résultat de la cellule."
   ]
  },
  {
   "cell_type": "code",
   "execution_count": 69,
   "metadata": {},
   "outputs": [
    {
     "name": "stdout",
     "output_type": "stream",
     "text": [
      "(750, 1)\n",
      "(750,)\n",
      "[0 1]\n"
     ]
    }
   ],
   "source": [
    "from sklearn.datasets import make_classification\n",
    "from sklearn.model_selection import train_test_split\n",
    "\n",
    "X, y = make_classification(n_samples=1000, n_features=1, n_classes=2, \n",
    "                           n_informative=1, n_redundant=0, n_repeated=0,\n",
    "                          n_clusters_per_class=1)\n",
    "\n",
    "X_train, X_test, y_train, y_test = train_test_split(X, y)\n",
    "print(X_train.shape)\n",
    "print(y_train.shape)\n",
    "print(np.unique(y))"
   ]
  },
  {
   "cell_type": "markdown",
   "metadata": {},
   "source": [
    "3. Définissez la nouvelle fonction de perte. Nous allons utiliser la fonction *cross_entropy* vue en cours :\n",
    "\n",
    "$$\n",
    "\\cal L = -\\frac 1 n \\sum_{i=1} y_i\\times \\log\\left(\\hat{y}_i\\right) \n",
    "$$"
   ]
  },
  {
   "cell_type": "code",
   "execution_count": 70,
   "metadata": {},
   "outputs": [],
   "source": []
  },
  {
   "cell_type": "markdown",
   "metadata": {},
   "source": [
    "4. Ecrivez les expressions mathématiques de ce que calcule votre neurone."
   ]
  },
  {
   "cell_type": "code",
   "execution_count": null,
   "metadata": {},
   "outputs": [],
   "source": []
  },
  {
   "cell_type": "markdown",
   "metadata": {},
   "source": [
    "5. Calculez le gradient de $\\cal L$ et écrivez la fonction correspondante"
   ]
  },
  {
   "cell_type": "code",
   "execution_count": null,
   "metadata": {},
   "outputs": [],
   "source": []
  },
  {
   "cell_type": "code",
   "execution_count": 71,
   "metadata": {},
   "outputs": [],
   "source": []
  },
  {
   "cell_type": "markdown",
   "metadata": {},
   "source": [
    "6. Adaptez une fonction <code>train(x, y, nu, epochs)</code> pour réaliser une déscente du gradient de la fonction $\\cal L$ afin de trouver les paramètres $w$ et $b$ minimisant la valeur de $\\cal L$. "
   ]
  },
  {
   "cell_type": "code",
   "execution_count": 72,
   "metadata": {},
   "outputs": [],
   "source": []
  },
  {
   "cell_type": "markdown",
   "metadata": {},
   "source": [
    "7. Exécutez la cellule suivante pour que vos calculs matriciels puissent se faire et entraînez votre neurone."
   ]
  },
  {
   "cell_type": "code",
   "execution_count": null,
   "metadata": {},
   "outputs": [],
   "source": [
    "X_train = np.reshape(X_train, (X_train.shape[1], X_train.shape[0]))\n",
    "print(X_train.shape)\n",
    "print(y_train.shape)\n"
   ]
  },
  {
   "cell_type": "code",
   "execution_count": null,
   "metadata": {},
   "outputs": [],
   "source": []
  },
  {
   "cell_type": "markdown",
   "metadata": {},
   "source": [
    "8. Evaluez votre modèle. Pour cela : "
   ]
  },
  {
   "cell_type": "markdown",
   "metadata": {},
   "source": [
    "8.1. Exécutez la cellule suivante pour formater les données de test."
   ]
  },
  {
   "cell_type": "code",
   "execution_count": 75,
   "metadata": {},
   "outputs": [],
   "source": [
    "X_test = np.reshape(X_test, (X_test.shape[1], X_test.shape[0]))"
   ]
  },
  {
   "cell_type": "markdown",
   "metadata": {},
   "source": [
    "8.2. Appliquez votre neurone aux données de test et observez le résultat obtenu."
   ]
  },
  {
   "cell_type": "code",
   "execution_count": null,
   "metadata": {},
   "outputs": [],
   "source": []
  },
  {
   "cell_type": "markdown",
   "metadata": {},
   "source": [
    "8.3. Transformez les sorties en 0 et 1 : "
   ]
  },
  {
   "cell_type": "code",
   "execution_count": null,
   "metadata": {},
   "outputs": [],
   "source": []
  },
  {
   "cell_type": "markdown",
   "metadata": {},
   "source": [
    "8.4. Evaluez la qualité du modèle obtenu "
   ]
  },
  {
   "cell_type": "code",
   "execution_count": null,
   "metadata": {},
   "outputs": [],
   "source": []
  },
  {
   "cell_type": "code",
   "execution_count": null,
   "metadata": {},
   "outputs": [],
   "source": []
  },
  {
   "cell_type": "code",
   "execution_count": null,
   "metadata": {},
   "outputs": [],
   "source": []
  }
 ],
 "metadata": {
  "kernelspec": {
   "display_name": "Python 3 (ipykernel)",
   "language": "python",
   "name": "python3"
  },
  "language_info": {
   "codemirror_mode": {
    "name": "ipython",
    "version": 3
   },
   "file_extension": ".py",
   "mimetype": "text/x-python",
   "name": "python",
   "nbconvert_exporter": "python",
   "pygments_lexer": "ipython3",
   "version": "3.11.2"
  }
 },
 "nbformat": 4,
 "nbformat_minor": 2
}
