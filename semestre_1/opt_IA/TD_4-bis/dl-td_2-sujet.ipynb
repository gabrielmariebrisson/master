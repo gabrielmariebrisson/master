{
 "cells": [
  {
   "cell_type": "markdown",
   "metadata": {},
   "source": [
    "# Deep Learning\n",
    "\n",
    "## Réseaux de neurones"
   ]
  },
  {
   "cell_type": "markdown",
   "metadata": {},
   "source": [
    "## Exercice 1 (MNIST avec Keras).\n",
    "\n",
    "Exécutez les cellules suivantes et observez ce que vous obtenez."
   ]
  },
  {
   "cell_type": "code",
   "execution_count": 38,
   "metadata": {},
   "outputs": [],
   "source": [
    "import tensorflow as tf\n",
    "import keras\n",
    "import numpy as np\n",
    "import matplotlib\n",
    "import matplotlib.pyplot as plt"
   ]
  },
  {
   "cell_type": "code",
   "execution_count": 39,
   "metadata": {},
   "outputs": [],
   "source": [
    "from keras.datasets import mnist\n",
    "(X_train, y_train), (X_test, y_test) = mnist.load_data()"
   ]
  },
  {
   "cell_type": "code",
   "execution_count": 40,
   "metadata": {},
   "outputs": [
    {
     "name": "stdout",
     "output_type": "stream",
     "text": [
      "X_train shape:  (60000, 28, 28)\n",
      "y_train shape:  (60000,)\n"
     ]
    }
   ],
   "source": [
    "print('X_train shape: ',X_train.shape)\n",
    "print('y_train shape: ',y_train.shape)"
   ]
  },
  {
   "cell_type": "code",
   "execution_count": 41,
   "metadata": {},
   "outputs": [
    {
     "data": {
      "image/png": "[encoded data removed]",
      "text/plain": [
       "<Figure size 640x480 with 1 Axes>"
      ]
     },
     "metadata": {},
     "output_type": "display_data"
    },
    {
     "name": "stdout",
     "output_type": "stream",
     "text": [
      "0\n"
     ]
    }
   ],
   "source": [
    "from matplotlib import pyplot as plt\n",
    "import matplotlib.cm as cm\n",
    "plt.imshow(X_train[1000], cmap=cm.Greys)\n",
    "plt.show()\n",
    "\n",
    "print(y_train[1000])"
   ]
  },
  {
   "cell_type": "code",
   "execution_count": 42,
   "metadata": {},
   "outputs": [
    {
     "name": "stdout",
     "output_type": "stream",
     "text": [
      "784\n"
     ]
    }
   ],
   "source": [
    "X_train = X_train.astype('float32')\n",
    "X_test = X_test.astype('float32')\n",
    "X_train  = X_train / 255\n",
    "X_test  = X_test / 255\n",
    "num_pixels = X_train.shape[1] * X_train.shape[2]\n",
    "print(num_pixels)"
   ]
  },
  {
   "cell_type": "code",
   "execution_count": 43,
   "metadata": {},
   "outputs": [
    {
     "name": "stdout",
     "output_type": "stream",
     "text": [
      "(60000, 10)\n"
     ]
    }
   ],
   "source": [
    "#Si vous travaillez avec tensorflow2, modifiez remplacez les deux lignes suivantes par ce qui suit :\n",
    "#from tensorflow.keras.utils import to_categorical\n",
    "#y_train = to_categorical(y_train)\n",
    "#y_test = to_categorical(y_test)\n",
    "\n",
    "y_train = keras.utils.to_categorical(y_train)\n",
    "y_test = keras.utils.to_categorical(y_test)\n",
    "print (y_train.shape)"
   ]
  },
  {
   "cell_type": "markdown",
   "metadata": {},
   "source": [
    "1. Expliquer, avec une figure, l’architecture du réseau."
   ]
  },
  {
   "cell_type": "markdown",
   "metadata": {},
   "source": [
    "2. Définir, dans le programme, l’architecture de votre réseau."
   ]
  },
  {
   "cell_type": "code",
   "execution_count": 44,
   "metadata": {},
   "outputs": [],
   "source": [
    "from keras.models import Sequential\n",
    "from keras.layers import Dense, Flatten\n",
    "\n",
    "model1= Sequential()\n",
    "model1.add(Flatten(input_shape=(28,28)))\n",
    "model1.add(Dense(10, activation='softmax',kernel_initializer='normal'))\n",
    "model1.compile(loss='categorical_crossentropy',\n",
    "               optimizer='sgd',\n",
    "               metrics=['accuracy'])"
   ]
  },
  {
   "cell_type": "code",
   "execution_count": 45,
   "metadata": {},
   "outputs": [
    {
     "name": "stdout",
     "output_type": "stream",
     "text": [
      "Model: \"sequential_4\"\n",
      "_________________________________________________________________\n",
      " Layer (type)                Output Shape              Param #   \n",
      "=================================================================\n",
      " flatten_4 (Flatten)         (None, 784)               0         \n",
      "                                                                 \n",
      " dense_3 (Dense)             (None, 10)                7850      \n",
      "                                                                 \n",
      "=================================================================\n",
      "Total params: 7850 (30.66 KB)\n",
      "Trainable params: 7850 (30.66 KB)\n",
      "Non-trainable params: 0 (0.00 Byte)\n",
      "_________________________________________________________________\n"
     ]
    }
   ],
   "source": [
    "model1.summary()"
   ]
  },
  {
   "cell_type": "markdown",
   "metadata": {},
   "source": [
    "2. Entrainer et tester le réseau. Changer d’algorithme d’optimisation, de pas d’apprentissage, etc."
   ]
  },
  {
   "cell_type": "code",
   "execution_count": 46,
   "metadata": {},
   "outputs": [
    {
     "name": "stdout",
     "output_type": "stream",
     "text": [
      "Epoch 1/20\n",
      "1875/1875 [==============================] - 4s 2ms/step - loss: 0.7775 - accuracy: 0.8171 - val_loss: 0.4825 - val_accuracy: 0.8801\n",
      "Epoch 2/20\n",
      "1875/1875 [==============================] - 3s 2ms/step - loss: 0.4585 - accuracy: 0.8798 - val_loss: 0.4010 - val_accuracy: 0.8949\n",
      "Epoch 3/20\n",
      "1875/1875 [==============================] - 3s 2ms/step - loss: 0.4052 - accuracy: 0.8908 - val_loss: 0.3681 - val_accuracy: 0.9021\n",
      "Epoch 4/20\n",
      "1875/1875 [==============================] - 4s 2ms/step - loss: 0.3784 - accuracy: 0.8962 - val_loss: 0.3491 - val_accuracy: 0.9073\n",
      "Epoch 5/20\n",
      "1875/1875 [==============================] - 4s 2ms/step - loss: 0.3614 - accuracy: 0.9005 - val_loss: 0.3362 - val_accuracy: 0.9099\n",
      "Epoch 6/20\n",
      "1875/1875 [==============================] - 3s 2ms/step - loss: 0.3495 - accuracy: 0.9030 - val_loss: 0.3271 - val_accuracy: 0.9125\n",
      "Epoch 7/20\n",
      "1875/1875 [==============================] - 3s 2ms/step - loss: 0.3404 - accuracy: 0.9055 - val_loss: 0.3209 - val_accuracy: 0.9135\n",
      "Epoch 8/20\n",
      "1875/1875 [==============================] - 3s 2ms/step - loss: 0.3332 - accuracy: 0.9076 - val_loss: 0.3143 - val_accuracy: 0.9142\n",
      "Epoch 9/20\n",
      "1875/1875 [==============================] - 3s 2ms/step - loss: 0.3272 - accuracy: 0.9093 - val_loss: 0.3104 - val_accuracy: 0.9152\n",
      "Epoch 10/20\n",
      "1875/1875 [==============================] - 4s 2ms/step - loss: 0.3223 - accuracy: 0.9103 - val_loss: 0.3069 - val_accuracy: 0.9159\n",
      "Epoch 11/20\n",
      "1875/1875 [==============================] - 3s 2ms/step - loss: 0.3181 - accuracy: 0.9118 - val_loss: 0.3035 - val_accuracy: 0.9159\n",
      "Epoch 12/20\n",
      "1875/1875 [==============================] - 3s 2ms/step - loss: 0.3144 - accuracy: 0.9125 - val_loss: 0.3008 - val_accuracy: 0.9165\n",
      "Epoch 13/20\n",
      "1875/1875 [==============================] - 3s 2ms/step - loss: 0.3110 - accuracy: 0.9137 - val_loss: 0.2981 - val_accuracy: 0.9169\n",
      "Epoch 14/20\n",
      "1875/1875 [==============================] - 3s 2ms/step - loss: 0.3081 - accuracy: 0.9148 - val_loss: 0.2960 - val_accuracy: 0.9177\n",
      "Epoch 15/20\n",
      "1875/1875 [==============================] - 3s 2ms/step - loss: 0.3055 - accuracy: 0.9152 - val_loss: 0.2952 - val_accuracy: 0.9187\n",
      "Epoch 16/20\n",
      "1875/1875 [==============================] - 4s 2ms/step - loss: 0.3032 - accuracy: 0.9159 - val_loss: 0.2925 - val_accuracy: 0.9196\n",
      "Epoch 17/20\n",
      "1875/1875 [==============================] - 3s 2ms/step - loss: 0.3010 - accuracy: 0.9169 - val_loss: 0.2908 - val_accuracy: 0.9187\n",
      "Epoch 18/20\n",
      "1875/1875 [==============================] - 3s 2ms/step - loss: 0.2990 - accuracy: 0.9172 - val_loss: 0.2900 - val_accuracy: 0.9193\n",
      "Epoch 19/20\n",
      "1875/1875 [==============================] - 4s 2ms/step - loss: 0.2972 - accuracy: 0.9178 - val_loss: 0.2884 - val_accuracy: 0.9192\n",
      "Epoch 20/20\n",
      "1875/1875 [==============================] - 3s 2ms/step - loss: 0.2956 - accuracy: 0.9181 - val_loss: 0.2875 - val_accuracy: 0.9193\n"
     ]
    },
    {
     "data": {
      "text/plain": [
       "<keras.src.callbacks.History at 0x7faf520d6890>"
      ]
     },
     "execution_count": 46,
     "metadata": {},
     "output_type": "execute_result"
    }
   ],
   "source": [
    "epochs =20\n",
    "batch_size= 32 #en fonction du gpu\n",
    "model1.fit(X_train,y_train,\n",
    "           validation_data=(X_test, y_test),\n",
    "           epochs=epochs,\n",
    "           batch_size=batch_size)"
   ]
  },
  {
   "cell_type": "code",
   "execution_count": null,
   "metadata": {},
   "outputs": [],
   "source": [
    "model2= Sequential()\n",
    "model2.add(Flatten(input_shape=(28,28)))\n",
    "model2.add(Dense(10, activation='softmax',kernel_initializer='normal'))\n",
    "model2.compile(loss='categorical_crossentropy',\n",
    "               optimizer='adam',\n",
    "               metrics=['accuracy'])\n",
    "\n",
    "epochs =20\n",
    "batch_size= 32 #en fonction du gpu\n",
    "model2.fit(X_train,y_train,\n",
    "           validation_data=(X_test, y_test),\n",
    "           epochs=epochs,\n",
    "           batch_size=batch_size)"
   ]
  },
  {
   "cell_type": "markdown",
   "metadata": {},
   "source": [
    "4. Ajouter une couche cachée avec 10 neurones, puis avec 64 neurones."
   ]
  },
  {
   "cell_type": "code",
   "execution_count": null,
   "metadata": {},
   "outputs": [],
   "source": [
    "model3= Sequential()\n",
    "model3.add(Flatten(input_shape=(28,28)))\n",
    "model3.add(Dense(10, activation='relu',kernel_initializer='normal'))\n",
    "model3.add(Dense(10, activation='softmax',kernel_initializer='normal'))\n",
    "model3.compile(loss='categorical_crossentropy',\n",
    "               optimizer='adam',\n",
    "               metrics=['accuracy'])\n",
    "\n",
    "epochs =20\n",
    "batch_size= 32 #en fonction du gpu\n",
    "model3.fit(X_train,y_train,\n",
    "           validation_data=(X_test, y_test),\n",
    "           epochs=epochs,\n",
    "           batch_size=batch_size)"
   ]
  },
  {
   "cell_type": "code",
   "execution_count": null,
   "metadata": {},
   "outputs": [],
   "source": [
    "model4= Sequential()\n",
    "model4.add(Flatten(input_shape=(28,28)))\n",
    "model4.add(Dense(64, activation='relu',kernel_initializer='normal'))\n",
    "model4.add(Dense(10, activation='softmax',kernel_initializer='normal'))\n",
    "model4.compile(loss='categorical_crossentropy',\n",
    "               optimizer='adam',\n",
    "               metrics=['accuracy'])\n",
    "\n",
    "epochs =20\n",
    "batch_size= 32 #en fonction du gpu\n",
    "model4.fit(X_train,y_train,\n",
    "           validation_data=(X_test, y_test),\n",
    "           epochs=epochs,\n",
    "           batch_size=batch_size)"
   ]
  },
  {
   "cell_type": "code",
   "execution_count": null,
   "metadata": {},
   "outputs": [],
   "source": []
  },
  {
   "cell_type": "code",
   "execution_count": null,
   "metadata": {},
   "outputs": [],
   "source": []
  },
  {
   "cell_type": "markdown",
   "metadata": {},
   "source": [
    "## Exercice 2 (MNIST avec CNN)\n",
    "\n",
    "Exécutez les instructions suivantes. Prenez le temps de comprendre ce que fait chaqque cellule."
   ]
  },
  {
   "cell_type": "code",
   "execution_count": 49,
   "metadata": {},
   "outputs": [],
   "source": [
    "from keras.datasets import mnist\n",
    "(X_train, y_train), (X_test, y_test) = mnist.load_data()\n",
    "\n",
    "img_rows, img_cols = X_train.shape[1], X_train.shape[2]\n",
    "X_train = X_train.reshape(X_train.shape[0], img_rows, img_cols, 1)\n",
    "X_test = X_test.reshape(X_test.shape[0], img_rows, img_cols, 1)\n",
    "\n",
    "X_train = X_train.astype('float32')\n",
    "X_test = X_test.astype('float32')\n",
    "X_train  = X_train / 255\n",
    "X_test  = X_test / 255\n",
    "\n",
    "num_classes = 10\n",
    "y_train = keras.utils.to_categorical(y_train, num_classes)\n",
    "y_test = keras.utils.to_categorical(y_test, num_classes)"
   ]
  },
  {
   "cell_type": "code",
   "execution_count": 50,
   "metadata": {},
   "outputs": [],
   "source": [
    "#On charge les bibliothèques :\n",
    "from keras.models import Sequential\n",
    "from keras.layers import Flatten, Dense, Conv2D, MaxPooling2D"
   ]
  },
  {
   "cell_type": "markdown",
   "metadata": {},
   "source": [
    "1. Définir un réseau de neurones à convolution avec :\n",
    "\n",
    "– une couche de convolution avec $32$ filters, chacun de taille $3\\times 3$\n",
    "\n",
    "– une couche de maxpooling (pool de taille $2\\times 2$).\n",
    "\n",
    "– un réseau \"fully connected\" à plusieurs couches"
   ]
  },
  {
   "cell_type": "code",
   "execution_count": 53,
   "metadata": {},
   "outputs": [
    {
     "name": "stdout",
     "output_type": "stream",
     "text": [
      "Model: \"sequential_8\"\n",
      "_________________________________________________________________\n",
      " Layer (type)                Output Shape              Param #   \n",
      "=================================================================\n",
      " conv2d_2 (Conv2D)           (None, 26, 26, 32)        320       \n",
      "                                                                 \n",
      " max_pooling2d (MaxPooling2  (None, 13, 13, 32)        0         \n",
      " D)                                                              \n",
      "                                                                 \n",
      " flatten_5 (Flatten)         (None, 5408)              0         \n",
      "                                                                 \n",
      " dense_4 (Dense)             (None, 10)                54090     \n",
      "                                                                 \n",
      "=================================================================\n",
      "Total params: 54410 (212.54 KB)\n",
      "Trainable params: 54410 (212.54 KB)\n",
      "Non-trainable params: 0 (0.00 Byte)\n",
      "_________________________________________________________________\n"
     ]
    }
   ],
   "source": [
    "model5= Sequential()\n",
    "model5.add(Conv2D(32,\n",
    "                  kernel_size=(3,3), \n",
    "                  activation=\"relu\",\n",
    "                  input_shape=(28,28,1)))\n",
    "\n",
    "model5.add(MaxPooling2D(pool_size=(2,2)))\n",
    "model5.add(Flatten())\n",
    "model5.add(Dense(10, activation='softmax',kernel_initializer='normal'))\n",
    "model5.compile(loss='categorical_crossentropy',\n",
    "               optimizer='adam',\n",
    "               metrics=['accuracy'])\n",
    "model5.summary()"
   ]
  },
  {
   "cell_type": "code",
   "execution_count": 54,
   "metadata": {},
   "outputs": [
    {
     "name": "stdout",
     "output_type": "stream",
     "text": [
      "Epoch 1/20\n",
      "1875/1875 [==============================] - 31s 16ms/step - loss: 0.2188 - accuracy: 0.9374 - val_loss: 0.0835 - val_accuracy: 0.9747\n",
      "Epoch 2/20\n",
      "1875/1875 [==============================] - 30s 16ms/step - loss: 0.0782 - accuracy: 0.9770 - val_loss: 0.0668 - val_accuracy: 0.9777\n",
      "Epoch 3/20\n",
      "1875/1875 [==============================] - 30s 16ms/step - loss: 0.0601 - accuracy: 0.9822 - val_loss: 0.0549 - val_accuracy: 0.9821\n",
      "Epoch 4/20\n",
      "1875/1875 [==============================] - 30s 16ms/step - loss: 0.0503 - accuracy: 0.9847 - val_loss: 0.0588 - val_accuracy: 0.9822\n",
      "Epoch 5/20\n",
      "1875/1875 [==============================] - 30s 16ms/step - loss: 0.0431 - accuracy: 0.9869 - val_loss: 0.0511 - val_accuracy: 0.9831\n",
      "Epoch 6/20\n",
      "1875/1875 [==============================] - 30s 16ms/step - loss: 0.0364 - accuracy: 0.9887 - val_loss: 0.0501 - val_accuracy: 0.9838\n",
      "Epoch 7/20\n",
      "1875/1875 [==============================] - 30s 16ms/step - loss: 0.0307 - accuracy: 0.9905 - val_loss: 0.0484 - val_accuracy: 0.9844\n",
      "Epoch 8/20\n",
      "1875/1875 [==============================] - 30s 16ms/step - loss: 0.0262 - accuracy: 0.9923 - val_loss: 0.0542 - val_accuracy: 0.9844\n",
      "Epoch 9/20\n",
      "1875/1875 [==============================] - 30s 16ms/step - loss: 0.0229 - accuracy: 0.9931 - val_loss: 0.0520 - val_accuracy: 0.9843\n",
      "Epoch 10/20\n",
      "1875/1875 [==============================] - 30s 16ms/step - loss: 0.0199 - accuracy: 0.9937 - val_loss: 0.0534 - val_accuracy: 0.9852\n",
      "Epoch 11/20\n",
      "1875/1875 [==============================] - 30s 16ms/step - loss: 0.0168 - accuracy: 0.9953 - val_loss: 0.0560 - val_accuracy: 0.9843\n",
      "Epoch 12/20\n",
      "1875/1875 [==============================] - 30s 16ms/step - loss: 0.0146 - accuracy: 0.9954 - val_loss: 0.0600 - val_accuracy: 0.9837\n",
      "Epoch 13/20\n",
      "1875/1875 [==============================] - 30s 16ms/step - loss: 0.0116 - accuracy: 0.9967 - val_loss: 0.0634 - val_accuracy: 0.9825\n",
      "Epoch 14/20\n",
      "1875/1875 [==============================] - 30s 16ms/step - loss: 0.0112 - accuracy: 0.9966 - val_loss: 0.0646 - val_accuracy: 0.9835\n",
      "Epoch 15/20\n",
      "1875/1875 [==============================] - 30s 16ms/step - loss: 0.0093 - accuracy: 0.9973 - val_loss: 0.0718 - val_accuracy: 0.9823\n",
      "Epoch 16/20\n",
      "1875/1875 [==============================] - 30s 16ms/step - loss: 0.0075 - accuracy: 0.9981 - val_loss: 0.0673 - val_accuracy: 0.9839\n",
      "Epoch 17/20\n",
      "1875/1875 [==============================] - 30s 16ms/step - loss: 0.0068 - accuracy: 0.9981 - val_loss: 0.0688 - val_accuracy: 0.9837\n",
      "Epoch 18/20\n",
      "1875/1875 [==============================] - 30s 16ms/step - loss: 0.0063 - accuracy: 0.9983 - val_loss: 0.0726 - val_accuracy: 0.9838\n",
      "Epoch 19/20\n",
      "1875/1875 [==============================] - 30s 16ms/step - loss: 0.0056 - accuracy: 0.9985 - val_loss: 0.0744 - val_accuracy: 0.9835\n",
      "Epoch 20/20\n",
      "1875/1875 [==============================] - 30s 16ms/step - loss: 0.0046 - accuracy: 0.9988 - val_loss: 0.0767 - val_accuracy: 0.9832\n"
     ]
    },
    {
     "data": {
      "text/plain": [
       "<keras.src.callbacks.History at 0x7faf52057f10>"
      ]
     },
     "execution_count": 54,
     "metadata": {},
     "output_type": "execute_result"
    }
   ],
   "source": [
    "epochs =20\n",
    "batch_size= 32 #en fonction du gpu\n",
    "model5.fit(X_train,y_train,\n",
    "           validation_data=(X_test, y_test),\n",
    "           epochs=epochs,\n",
    "           batch_size=batch_size)"
   ]
  },
  {
   "cell_type": "markdown",
   "metadata": {},
   "source": [
    "2. Entrainer le modèle et le tester."
   ]
  },
  {
   "cell_type": "code",
   "execution_count": null,
   "metadata": {},
   "outputs": [],
   "source": []
  },
  {
   "cell_type": "code",
   "execution_count": null,
   "metadata": {},
   "outputs": [],
   "source": []
  },
  {
   "cell_type": "code",
   "execution_count": null,
   "metadata": {},
   "outputs": [],
   "source": []
  },
  {
   "cell_type": "markdown",
   "metadata": {},
   "source": [
    "3. Choisir les bons hyper-paramètres pour atteindre une précision d’au moins 99%."
   ]
  },
  {
   "cell_type": "code",
   "execution_count": null,
   "metadata": {},
   "outputs": [],
   "source": []
  }
 ],
 "metadata": {
  "kernelspec": {
   "display_name": "Python 3 (ipykernel)",
   "language": "python",
   "name": "python3"
  },
  "language_info": {
   "codemirror_mode": {
    "name": "ipython",
    "version": 3
   },
   "file_extension": ".py",
   "mimetype": "text/x-python",
   "name": "python",
   "nbconvert_exporter": "python",
   "pygments_lexer": "ipython3",
   "version": "3.11.2"
  }
 },
 "nbformat": 4,
 "nbformat_minor": 4
}
